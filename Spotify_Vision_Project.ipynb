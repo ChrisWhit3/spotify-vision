{
  "nbformat": 4,
  "nbformat_minor": 0,
  "metadata": {
    "colab": {
      "name": "Spotify_Vision_Project.ipynb",
      "provenance": [],
      "collapsed_sections": [
        "yn7xuTwEcI4O",
        "bzGWAz2JcTVS",
        "YLaZZjM1jaXz",
        "gfvkeKSxOQN5"
      ]
    },
    "kernelspec": {
      "name": "python3",
      "display_name": "Python 3"
    },
    "language_info": {
      "name": "python"
    }
  },
  "cells": [
    {
      "cell_type": "markdown",
      "metadata": {
        "id": "JwTN6dnqj7yv"
      },
      "source": [
        "Christopher White\n",
        "\n",
        "Professor Filatova\n",
        "\n",
        "CST 3512"
      ]
    },
    {
      "cell_type": "markdown",
      "metadata": {
        "id": "xUD1tr-1UXY8"
      },
      "source": [
        "# Spotify 'Vision' Project - Visualizing Streaming History\n",
        "\n",
        "\n",
        "> This project looks I want to create a summary of the Spotify listening history of my friends, similar to Spotify's yearly 'Wrapped' feature which shows users their year on the platform, including their favorite artists, tracks, playlists, genres... I have gotten my friends' approval and have had them request their past year listening history data from Spotify (pending receipt, should take a week). The data will come in json form.\n",
        "\n",
        "---\n",
        "\n",
        "\n",
        "  Pre-reqs:   \n",
        "* Collect json files from friends of their year long Spotify listening history\n",
        "* Add json file to github repo to use curl command to put into local storage in notebook\n",
        "* Authenticate Spotify API to query top songs/artists for audio features (for plotting)\n",
        "* Create data frames for each friends' listening history\n",
        "\n",
        "\n",
        "---\n",
        "\n",
        "# Objectives:\n",
        "* Find top 10 songs for each friend by sum playtime (turn ms -> minutes/hrs)\n",
        "* Find top 10 artist for each friend by sum playtime (turn ms -> minutes/hrs)\n",
        "* Plot rolling total listening for top songs over year for each friend / plot daily/weekly totals\n",
        "* Plot rolling total listening for top artist over year for each friend / plot daily/weekly totals\n",
        "* Plot total top artists amongst friends / total top songs if there is overlap \n",
        "* Explore audio features of each friends' top songs:      \n",
        "https://developer.spotify.com/documentation/web-api/reference/#/operations/get-several-audio-features\n",
        "  * duration_ms (int)\n",
        "    * \"Duration of the track in milliseconds\". Will use this to calculate how many times a track was listened to (in a day/week) by dividing msPlayed from original json by this duration\n",
        "  * danceability (float, 0.0 - 1.0)\n",
        "    * \"Danceability describes how suitable a track is for dancing based on a combination of musical elements including tempo, rhythm stability, beat strength, and overall regularity. A value of 0.0 is least danceable and 1.0 is most danceable.\"\n",
        "  * energy (float, 0.0 - 1.0)\n",
        "    * \"Energy is a measure from 0.0 to 1.0 and represents a perceptual measure of intensity and activity. Typically, energetic tracks feel fast, loud, and noisy. For example, death metal has high energy, while a Bach prelude scores low on the scale. Perceptual features contributing to this attribute include dynamic range, perceived loudness, timbre, onset rate, and general entropy.\"\n",
        "  * speechiness (float)\n",
        "    * \"Speechiness detects the presence of spoken words in a track. The more exclusively speech-like the recording (e.g. talk show, audio book, poetry), the closer to 1.0 the attribute value. Values above 0.66 describe tracks that are probably made entirely of spoken words. Values between 0.33 and 0.66 describe tracks that may contain both music and speech, either in sections or layered, including such cases as rap music. Values below 0.33 most likely represent music and other non-speech-like tracks.\"\n",
        "  * valence (float, 0.0 - 1.0)\n",
        "    * \"A measure from 0.0 to 1.0 describing the musical positiveness conveyed by a track. Tracks with high valence sound more positive (e.g. happy, cheerful, euphoric), while tracks with low valence sound more negative (e.g. sad, depressed, angry).\"\n",
        "\n",
        "* Plot 'available_market' country code of each friend's top tracks on world map\n",
        "  * Create markers for each song on map (will contain track information)\n",
        "  * Colorcode marker by friend\n",
        "* Plot artist birth place for each top artist on world map\n",
        "\n",
        "\n",
        "number of different distinct artists listened to over time/per week. \n",
        "\n",
        "\n",
        "\n",
        "\n",
        "\n"
      ]
    },
    {
      "cell_type": "markdown",
      "metadata": {
        "id": "iT9WW_uNlz9t"
      },
      "source": [
        "# Process:     \n",
        "Dataframe manipulation:   \n",
        "* Read json files into separate dataframes\n",
        "* Find top 10 highest sum(playtime) group by song for each friend => into list for querying Spotify API\n",
        "* Find top 10 highest sum(playtime) group by artist for each friend => into list\n",
        "* Find intersection of dataframes to look at group top stats\n",
        "\n",
        "Spotify API:    \n",
        "https://developer.spotify.com/documentation/web-api/reference/#/operations/search\n",
        "* Query list of top song names for each friend, using the artist filter to get specific results. obtain spotify URI / ID for track details, country code, genre\n",
        "* Query audio features given list of top songs\n",
        "* Create new columns in dataframes with audio features and country code\n",
        "\n",
        "Geopandas / Folium:    \n",
        "* Get dataframe to plot the world map\n",
        "* Specify starting scale\n",
        "* Specify appearance\n",
        "\n",
        "---\n",
        "\n",
        "# Visualizing:     \n",
        "Pivot tables/Histogram:\n",
        "* Show top 10 artists by playtime (sum playtime, sort descending, limit 10)\n",
        "* Show top 10 songs by playtime\n",
        "\n",
        "Time series Plots:    \n",
        "* Top 5/10 artists playtime over the course of the year\n",
        "* Top songs playtime over the course of the year\n",
        "\n",
        "Scatterplot:    \n",
        "* Show audio features of the top songs (i.e. the cereal plot with color indicating another attribute in addition to x-y)\n",
        "\n",
        "Geo Analysis:\n",
        "* Plot marker on country where the country code == country name    \n",
        "* Create markers for each top song\n",
        "  * Color - correspond to friend\n",
        "  * Track name\n",
        "  * Artist\n",
        "  * Release data\n",
        "  * Total listening time\n",
        "\n"
      ]
    },
    {
      "cell_type": "code",
      "metadata": {
        "id": "CtArLuA3Xmir"
      },
      "source": [
        "import pandas as pd # Import pandas library\n",
        "import numpy as np # Import numpy library\n",
        "import os # Import os library"
      ],
      "execution_count": 28,
      "outputs": []
    },
    {
      "cell_type": "code",
      "metadata": {
        "id": "sWLWC9QnHad4"
      },
      "source": [
        "# Import matplotlib library at first\n",
        "import matplotlib.pyplot as plt\n",
        "%matplotlib inline\n",
        "from matplotlib.pylab import rcParams\n",
        "# Change the size of figure drawn\n",
        "rcParams['figure.figsize'] = (16, 6)\n",
        "\n",
        "plt.rcParams['axes.facecolor'] = 'navy'"
      ],
      "execution_count": 29,
      "outputs": []
    },
    {
      "cell_type": "code",
      "source": [
        "# Clone streaming history data repository into local directory\n",
        "!git clone https://github.com/ChrisWhit3/spotify-vision.git"
      ],
      "metadata": {
        "id": "c7owjPg_zI3C",
        "colab": {
          "base_uri": "https://localhost:8080/"
        },
        "outputId": "8bbd840e-aa30-4fb4-eec6-ef1a22bddebf"
      },
      "execution_count": 30,
      "outputs": [
        {
          "output_type": "stream",
          "name": "stdout",
          "text": [
            "Cloning into 'spotify-vision'...\n",
            "remote: Enumerating objects: 22, done.\u001b[K\n",
            "remote: Counting objects: 100% (22/22), done.\u001b[K\n",
            "remote: Compressing objects: 100% (21/21), done.\u001b[K\n",
            "remote: Total 22 (delta 6), reused 0 (delta 0), pack-reused 0\u001b[K\n",
            "Unpacking objects: 100% (22/22), done.\n"
          ]
        }
      ]
    },
    {
      "cell_type": "markdown",
      "metadata": {
        "id": "yn7xuTwEcI4O"
      },
      "source": [
        "# P1 Listening History Analysis"
      ]
    },
    {
      "cell_type": "code",
      "source": [
        "'''\n",
        "\n",
        "  Function takes the path to the folder containing the streaming history files and creates streaming history dataframe for each person\n",
        "\n",
        "  Takes directory path from total sorted list\n",
        "  Get person number in the form of the string 'Streaming History#_#.json'\n",
        "  Create dictionary with key id and dataframe\n",
        "  \n",
        "'''\n",
        "\n",
        "def create_dataframe_from_streaming_files(directory_path):\n",
        "  \n",
        "  if os.path.isdir(directory_path):\n",
        "    if len(os.listdir(directory_path)) != 0:\n",
        "      #print(sorted(os.listdir(directory_path)))\n",
        "      num_person_files = {}\n",
        "      for file in sorted(os.listdir(directory_path)):\n",
        "        # df_name = file.split(\"_\")\n",
        "        person = int(file.split(\"_\")[0].split('y',1)[1])\n",
        "        #print(person)\n",
        "        if person in num_person_files:\n",
        "          num_person_files[person].append(pd.read_json(f'{directory_path}'+file))\n",
        "        else:\n",
        "          num_person_files[person] = [(pd.read_json(f'{directory_path}'+file))]\n",
        "\n",
        "      #print(num_person_files)\n",
        "      streaming_dataframes = {}\n",
        "      for k,v in num_person_files.items():\n",
        "        streaming_dataframes[k] = pd.concat(v)\n",
        "\n",
        "        streaming_dataframes[k]['endTime']\n",
        "\n",
        "      return streaming_dataframes\n",
        "         # print(v[i])\n",
        "      #    print(f'{directory_path}'+v[i])\n",
        "          #test = pd.read_json(v[i])\n",
        "          #test1 = pd.read_json(f'{directory_path}'+v[i])\n",
        "\n",
        "          #test1\n",
        "          #name = pd.read_json(v[i])\n",
        "          #name\n",
        "      #print(num_person_files)\n",
        "    \n",
        "    else:\n",
        "      return 'directory is empty'\n",
        "\n",
        "  else:\n",
        "    return 'no directory at path'\n",
        "\n",
        "  \n",
        "  \n",
        "      \n",
        "#  for filename in os.listdir(directory):\n",
        "#    print(sorted(filename))\n",
        "\n",
        "  \n",
        "\n",
        "#print(os.path.isdir('spotify-vision/'))\n",
        "\n",
        "# Apply function to path of streaming history folder\n",
        "streaming_dataframes = create_dataframe_from_streaming_files('spotify-vision/streaming_history_data/')"
      ],
      "metadata": {
        "id": "0XOfHXk57lb1"
      },
      "execution_count": 31,
      "outputs": []
    },
    {
      "cell_type": "code",
      "source": [
        "print(streaming_dataframes.items())"
      ],
      "metadata": {
        "id": "gr1wpiAf8wXP",
        "colab": {
          "base_uri": "https://localhost:8080/"
        },
        "outputId": "e4d3e08c-ce59-4238-eec4-62215e93aa70"
      },
      "execution_count": 32,
      "outputs": [
        {
          "output_type": "stream",
          "name": "stdout",
          "text": [
            "dict_items([(0,                endTime  ... msPlayed\n",
            "0     2020-11-30 00:01  ...   205484\n",
            "1     2020-11-30 00:04  ...   181688\n",
            "2     2020-11-30 00:37  ...    65837\n",
            "3     2020-11-30 00:40  ...   181661\n",
            "4     2020-11-30 00:44  ...   247058\n",
            "...                ...  ...      ...\n",
            "1482  2021-11-30 14:20  ...   203288\n",
            "1483  2021-11-30 15:00  ...  2393508\n",
            "1484  2021-11-30 15:00  ...    41730\n",
            "1485  2021-11-30 17:02  ...   565120\n",
            "1486  2021-11-30 19:12  ...   353850\n",
            "\n",
            "[11487 rows x 4 columns]), (1,                endTime  ... msPlayed\n",
            "0     2020-11-07 01:29  ...     6005\n",
            "1     2020-11-29 22:39  ...   199638\n",
            "2     2020-11-30 20:19  ...     2670\n",
            "3     2020-11-30 20:23  ...    12329\n",
            "4     2020-11-30 20:23  ...   207133\n",
            "...                ...  ...      ...\n",
            "2068  2021-11-30 18:35  ...        0\n",
            "2069  2021-11-30 18:35  ...   176160\n",
            "2070  2021-11-30 18:36  ...      812\n",
            "2071  2021-11-30 18:36  ...    45975\n",
            "2072  2021-11-30 18:39  ...   169552\n",
            "\n",
            "[22073 rows x 4 columns]), (2,                endTime       artistName                   trackName  msPlayed\n",
            "0     2020-12-03 00:40  Vampire Weekend                     Walcott    221600\n",
            "1     2020-12-03 00:41  Vampire Weekend                        Bryn     19948\n",
            "2     2020-12-03 03:58  Vampire Weekend                   This Life    192860\n",
            "3     2020-12-03 04:42  Vampire Weekend                   This Life    194082\n",
            "4     2020-12-03 04:46  Vampire Weekend                 Hannah Hunt    248124\n",
            "...                ...              ...                         ...       ...\n",
            "4083  2021-12-02 08:47      Twin Shadow      Saturdays (feat. HAIM)        85\n",
            "4084  2021-12-02 08:47    Local Natives    When Am I Gonna Lose You     31879\n",
            "4085  2021-12-02 08:50      Twin Shadow      Saturdays (feat. HAIM)    205442\n",
            "4086  2021-12-02 08:51    Local Natives    When Am I Gonna Lose You     44010\n",
            "4087  2021-12-02 08:53      Twin Shadow  Sympathy (feat. Rainsford)     91328\n",
            "\n",
            "[4088 rows x 4 columns])])\n"
          ]
        }
      ]
    },
    {
      "cell_type": "code",
      "metadata": {
        "id": "p_tNgDWG0O0h"
      },
      "source": [
        "'''\n",
        "  Function will convert msPlayed column to secPlayed, minPlayed, and hrPlayed columns\n",
        "\n",
        "  Takes in dataframe\n",
        "  Returns dataframe with calculated columns added\n",
        "  --------------------------------------\n",
        "'''\n",
        "def add_ms_conversion_columns(dataframe):\n",
        "  # Convert miliseconds to seconds and save as new seconds played column\n",
        "  dataframe['secPlayed'] = dataframe['msPlayed'] / (1000)\n",
        "\n",
        "  # Convert miliseconds to minutes and save as new minutes played column\n",
        "  dataframe['minPlayed'] = dataframe['msPlayed'] / (1000 * 60)\n",
        "\n",
        "  # Convert miliseconds to minutes and save as new minutes played column\n",
        "  dataframe['hrPlayed'] = dataframe['msPlayed'] / (1000 * 60 * 60)\n",
        "\n",
        "  return dataframe"
      ],
      "execution_count": 34,
      "outputs": []
    },
    {
      "cell_type": "code",
      "metadata": {
        "id": "9O-joIQSKqKK"
      },
      "source": [
        "'''\n",
        "  Function will strip all object datatype column values of leading and trailing whitespace\n",
        "  --------------------------------------\n",
        "'''\n",
        "def strip_column_value_whitespace(df):\n",
        "\n",
        "  # Select columns that have the datatype equal to 'object'\n",
        "  object_cols = df.select_dtypes(object).columns\n",
        "\n",
        "  # Apply function to turn array of columns to numeric datatype\n",
        "  df[object_cols] = df[object_cols].apply(lambda x: x.str.strip())\n",
        "\n",
        "  return df"
      ],
      "execution_count": 35,
      "outputs": []
    },
    {
      "cell_type": "code",
      "source": [
        "'''\n",
        "  For this analysis we would like to only look at tracks\n",
        "\n",
        "  Function will remove podcast listens\n",
        "\n",
        "  Based on observed outlier listen times and user input - future analysis will use Spotify API to remove all listens where type is podcast\n",
        "'''\n",
        "\n",
        "def remove_podcast_entries(df):\n",
        "  list_of_podcasts_to_remove = ['The Daily', 'Call Her Daddy', \n",
        "                                'Comforting Sounds', 'Crime Junkie', \n",
        "                                'Philosophy Bites', 'Pass the Compassion',\n",
        "                                'Conspiracy Theories', 'Keeping Up With Kayla',\n",
        "                                'Today in True Crime', 'Good For You',\n",
        "                                'You\\'re Wrong About', 'The Joe Rogan Experience',\n",
        "                                'Ologies with Alie Ward', 'Hidden Brain',\n",
        "                                'No Stupid Questions', 'Stuff You Should Know',\n",
        "                                'Infamous: The Story of YNW Melly', 'Mythology',\n",
        "                                'The Journal.','MarketFoolery', 'The Big Loop'\n",
        "                                ]\n",
        "  df.drop(df[df['artistName'].isin(list_of_podcasts_to_remove)].index, inplace = True)\n",
        "  \n",
        "  return df\n",
        "\n"
      ],
      "metadata": {
        "id": "Mmq9OpIPa009"
      },
      "execution_count": 36,
      "outputs": []
    },
    {
      "cell_type": "code",
      "source": [
        "'''\n",
        "  Establish a 'Meaningful Listen':\n",
        "\n",
        "  Getting through a verse and a chorus is enough time to feel out a song\n",
        "  (although I may argue for a full listen)  \n",
        "\n",
        "  Remove the listens that are less than 63 seconds (about a third of the average song length)\n",
        "  \n",
        "  Function will return a df containing only rows of 'Meaningful Listens'\n",
        "  --------------------------------------\n",
        "'''\n",
        "def remove_non_meaningful_listens(df):\n",
        "\n",
        "  # Set dataframe to the slice of rows where 'secPlayed' is greater than 63\n",
        "  df.drop(df[df['secPlayed']<63].index, inplace=True)\n",
        "\n",
        "  return df"
      ],
      "metadata": {
        "id": "YRt8uzHTSnIj"
      },
      "execution_count": 37,
      "outputs": []
    },
    {
      "cell_type": "code",
      "source": [
        "\n",
        "# Set datetime column to index and apply cleaning functions to each dataframe\n",
        "for dataframe in streaming_dataframes.values():\n",
        "  try:\n",
        "    dataframe['endTime'] = pd.to_datetime(dataframe['endTime']) # Set 'endTime' column to datetime datatype\n",
        "\n",
        "    dataframe.set_index('endTime', inplace=True) # Set index of dataframe to datetime column\n",
        "    print('made time indexed')\n",
        "    add_ms_conversion_columns(dataframe) # Add secPlayed, minPlayed, and hrPlayed columns from msPlayed\n",
        "    print('added columns')\n",
        "    strip_column_value_whitespace(dataframe) # Remove leading and trailing space from all values in object columns\n",
        "    print('removed whitespace')  \n",
        "    remove_podcast_entries(dataframe) # Remove rows with podcast\n",
        "    print('removed podcasts')  \n",
        "    remove_non_meaningful_listens(dataframe) # Remove rows that are listens less than 63 seconds\n",
        "    print('removed meaningless listens')  \n",
        "    print(f\"Successfully changed to time indexed df:\\n {dataframe.head(5)}\")\n",
        "  except:\n",
        "    print(f'Could not convert to time indexed df, review columns and datatypes: {dataframe.head(5)}')"
      ],
      "metadata": {
        "id": "Ko8MpCuzDo_O",
        "colab": {
          "base_uri": "https://localhost:8080/"
        },
        "outputId": "60155b4d-05d1-4a39-ad42-fc558653d8e9"
      },
      "execution_count": 38,
      "outputs": [
        {
          "output_type": "stream",
          "name": "stdout",
          "text": [
            "made time indexed\n",
            "added columns\n",
            "removed whitespace\n",
            "removed podcasts\n",
            "removed meaningless listens\n",
            "Successfully changed to time indexed df:\n",
            "                         artistName  ...  hrPlayed\n",
            "endTime                             ...          \n",
            "2020-11-30 00:01:00     Juice WRLD  ...  0.057079\n",
            "2020-11-30 00:04:00  The Kid LAROI  ...  0.050469\n",
            "2020-11-30 00:37:00        6ix9ine  ...  0.018288\n",
            "2020-11-30 00:40:00     Juice WRLD  ...  0.050461\n",
            "2020-11-30 00:44:00          Drake  ...  0.068627\n",
            "\n",
            "[5 rows x 6 columns]\n",
            "made time indexed\n",
            "added columns\n",
            "removed whitespace\n",
            "removed podcasts\n",
            "removed meaningless listens\n",
            "Successfully changed to time indexed df:\n",
            "                        artistName  ...  hrPlayed\n",
            "endTime                            ...          \n",
            "2020-11-29 22:39:00   Frank Ocean  ...  0.055455\n",
            "2020-11-30 20:24:00  The Midnight  ...  0.023736\n",
            "2020-11-30 20:30:00       Gryffin  ...  0.058591\n",
            "2020-11-30 20:33:00      Lil Baby  ...  0.059504\n",
            "2020-11-30 20:37:00       Gryffin  ...  0.068932\n",
            "\n",
            "[5 rows x 6 columns]\n",
            "made time indexed\n",
            "added columns\n",
            "removed whitespace\n",
            "removed podcasts\n",
            "removed meaningless listens\n",
            "Successfully changed to time indexed df:\n",
            "                           artistName    trackName  ...  minPlayed  hrPlayed\n",
            "endTime                                            ...                     \n",
            "2020-12-03 00:40:00  Vampire Weekend      Walcott  ...   3.693333  0.061556\n",
            "2020-12-03 03:58:00  Vampire Weekend    This Life  ...   3.214333  0.053572\n",
            "2020-12-03 04:42:00  Vampire Weekend    This Life  ...   3.234700  0.053912\n",
            "2020-12-03 04:46:00  Vampire Weekend  Hannah Hunt  ...   4.135400  0.068923\n",
            "2020-12-04 01:33:00  Vampire Weekend    This Life  ...   4.307650  0.071794\n",
            "\n",
            "[5 rows x 6 columns]\n"
          ]
        }
      ]
    },
    {
      "cell_type": "code",
      "source": [
        "streaming_dataframes[0].dtypes"
      ],
      "metadata": {
        "id": "tXWgSHvwFlqg",
        "colab": {
          "base_uri": "https://localhost:8080/"
        },
        "outputId": "6bb85b6b-b277-412e-8b11-4443ee356a14"
      },
      "execution_count": 39,
      "outputs": [
        {
          "output_type": "execute_result",
          "data": {
            "text/plain": [
              "artistName     object\n",
              "trackName      object\n",
              "msPlayed        int64\n",
              "secPlayed     float64\n",
              "minPlayed     float64\n",
              "hrPlayed      float64\n",
              "dtype: object"
            ]
          },
          "metadata": {},
          "execution_count": 39
        }
      ]
    },
    {
      "cell_type": "code",
      "source": [
        "# Assign df for each key (person) of dictionary\n",
        "# ---------------------------\n",
        "# Person 0\n",
        "p0_listening_history = streaming_dataframes[0]\n",
        "\n",
        "# Person 1\n",
        "p1_listening_history = streaming_dataframes[1]\n",
        "\n",
        "# Person 2\n",
        "p2_listening_history = streaming_dataframes[2]"
      ],
      "metadata": {
        "id": "n6ybfr9-utsY"
      },
      "execution_count": 40,
      "outputs": []
    },
    {
      "cell_type": "code",
      "source": [
        "p0_listening_history.dtypes"
      ],
      "metadata": {
        "id": "B1_NLSscE-qf",
        "colab": {
          "base_uri": "https://localhost:8080/"
        },
        "outputId": "43dfedad-20a4-459c-e572-169856588de0"
      },
      "execution_count": 41,
      "outputs": [
        {
          "output_type": "execute_result",
          "data": {
            "text/plain": [
              "artistName     object\n",
              "trackName      object\n",
              "msPlayed        int64\n",
              "secPlayed     float64\n",
              "minPlayed     float64\n",
              "hrPlayed      float64\n",
              "dtype: object"
            ]
          },
          "metadata": {},
          "execution_count": 41
        }
      ]
    },
    {
      "cell_type": "code",
      "source": [
        "p0_listening_history[p0_listening_history['minPlayed']<1]"
      ],
      "metadata": {
        "id": "HoYHfH8ODmYP",
        "colab": {
          "base_uri": "https://localhost:8080/",
          "height": 81
        },
        "outputId": "99e232dd-0ff1-4373-e465-97127495fb6e"
      },
      "execution_count": 42,
      "outputs": [
        {
          "output_type": "execute_result",
          "data": {
            "text/html": [
              "<div>\n",
              "<style scoped>\n",
              "    .dataframe tbody tr th:only-of-type {\n",
              "        vertical-align: middle;\n",
              "    }\n",
              "\n",
              "    .dataframe tbody tr th {\n",
              "        vertical-align: top;\n",
              "    }\n",
              "\n",
              "    .dataframe thead th {\n",
              "        text-align: right;\n",
              "    }\n",
              "</style>\n",
              "<table border=\"1\" class=\"dataframe\">\n",
              "  <thead>\n",
              "    <tr style=\"text-align: right;\">\n",
              "      <th></th>\n",
              "      <th>artistName</th>\n",
              "      <th>trackName</th>\n",
              "      <th>msPlayed</th>\n",
              "      <th>secPlayed</th>\n",
              "      <th>minPlayed</th>\n",
              "      <th>hrPlayed</th>\n",
              "    </tr>\n",
              "    <tr>\n",
              "      <th>endTime</th>\n",
              "      <th></th>\n",
              "      <th></th>\n",
              "      <th></th>\n",
              "      <th></th>\n",
              "      <th></th>\n",
              "      <th></th>\n",
              "    </tr>\n",
              "  </thead>\n",
              "  <tbody>\n",
              "  </tbody>\n",
              "</table>\n",
              "</div>"
            ],
            "text/plain": [
              "Empty DataFrame\n",
              "Columns: [artistName, trackName, msPlayed, secPlayed, minPlayed, hrPlayed]\n",
              "Index: []"
            ]
          },
          "metadata": {},
          "execution_count": 42
        }
      ]
    },
    {
      "cell_type": "code",
      "source": [
        "pd.pivot_table(p0_listening_history, values='minPlayed',index='artistName', aggfunc=sum, )"
      ],
      "metadata": {
        "colab": {
          "base_uri": "https://localhost:8080/",
          "height": 454
        },
        "id": "_UmvCjAVf50B",
        "outputId": "b6f839b3-50d5-49be-a807-75d29e63a4c6"
      },
      "execution_count": 46,
      "outputs": [
        {
          "output_type": "execute_result",
          "data": {
            "text/html": [
              "<div>\n",
              "<style scoped>\n",
              "    .dataframe tbody tr th:only-of-type {\n",
              "        vertical-align: middle;\n",
              "    }\n",
              "\n",
              "    .dataframe tbody tr th {\n",
              "        vertical-align: top;\n",
              "    }\n",
              "\n",
              "    .dataframe thead th {\n",
              "        text-align: right;\n",
              "    }\n",
              "</style>\n",
              "<table border=\"1\" class=\"dataframe\">\n",
              "  <thead>\n",
              "    <tr style=\"text-align: right;\">\n",
              "      <th></th>\n",
              "      <th>minPlayed</th>\n",
              "    </tr>\n",
              "    <tr>\n",
              "      <th>artistName</th>\n",
              "      <th></th>\n",
              "    </tr>\n",
              "  </thead>\n",
              "  <tbody>\n",
              "    <tr>\n",
              "      <th>$NOT</th>\n",
              "      <td>4.966617</td>\n",
              "    </tr>\n",
              "    <tr>\n",
              "      <th>$uicideboy$</th>\n",
              "      <td>1.831083</td>\n",
              "    </tr>\n",
              "    <tr>\n",
              "      <th>070 Shake</th>\n",
              "      <td>4.586883</td>\n",
              "    </tr>\n",
              "    <tr>\n",
              "      <th>2 Chainz</th>\n",
              "      <td>10.510000</td>\n",
              "    </tr>\n",
              "    <tr>\n",
              "      <th>21 Savage</th>\n",
              "      <td>41.316633</td>\n",
              "    </tr>\n",
              "    <tr>\n",
              "      <th>...</th>\n",
              "      <td>...</td>\n",
              "    </tr>\n",
              "    <tr>\n",
              "      <th>mike.</th>\n",
              "      <td>10.650067</td>\n",
              "    </tr>\n",
              "    <tr>\n",
              "      <th>sadeyes</th>\n",
              "      <td>2.677067</td>\n",
              "    </tr>\n",
              "    <tr>\n",
              "      <th>sobhhï</th>\n",
              "      <td>2.431050</td>\n",
              "    </tr>\n",
              "    <tr>\n",
              "      <th>steve breaux</th>\n",
              "      <td>2.360650</td>\n",
              "    </tr>\n",
              "    <tr>\n",
              "      <th>tobi lou</th>\n",
              "      <td>21.995933</td>\n",
              "    </tr>\n",
              "  </tbody>\n",
              "</table>\n",
              "<p>864 rows × 1 columns</p>\n",
              "</div>"
            ],
            "text/plain": [
              "              minPlayed\n",
              "artistName             \n",
              "$NOT           4.966617\n",
              "$uicideboy$    1.831083\n",
              "070 Shake      4.586883\n",
              "2 Chainz      10.510000\n",
              "21 Savage     41.316633\n",
              "...                 ...\n",
              "mike.         10.650067\n",
              "sadeyes        2.677067\n",
              "sobhhï         2.431050\n",
              "steve breaux   2.360650\n",
              "tobi lou      21.995933\n",
              "\n",
              "[864 rows x 1 columns]"
            ]
          },
          "metadata": {},
          "execution_count": 46
        }
      ]
    },
    {
      "cell_type": "code",
      "source": [
        "# Find top artists for person 0 by total minutes played\n",
        "p0_listening_history.groupby(by='artistName')['minPlayed'].sum().sort_values(ascending=False)[:5]"
      ],
      "metadata": {
        "id": "ye9yJhilCl10",
        "colab": {
          "base_uri": "https://localhost:8080/"
        },
        "outputId": "97621495-f2cb-4aca-a840-f45f2d0722fb"
      },
      "execution_count": 43,
      "outputs": [
        {
          "output_type": "execute_result",
          "data": {
            "text/plain": [
              "artistName\n",
              "blackbear      1036.423067\n",
              "Drake           904.620567\n",
              "Kanye West      633.124917\n",
              "Kehlani         585.065617\n",
              "Jorja Smith     506.047317\n",
              "Name: minPlayed, dtype: float64"
            ]
          },
          "metadata": {},
          "execution_count": 43
        }
      ]
    },
    {
      "cell_type": "code",
      "source": [
        "# Find top tracks for person 0 by total minutes played\n",
        "p0_listening_history.groupby(by='trackName')['minPlayed'].sum().sort_values(ascending=False)[:5]"
      ],
      "metadata": {
        "id": "XWd397apKxWr",
        "colab": {
          "base_uri": "https://localhost:8080/"
        },
        "outputId": "cb4b5cb4-d7d3-46cb-8d0b-0bf48934affe"
      },
      "execution_count": 44,
      "outputs": [
        {
          "output_type": "execute_result",
          "data": {
            "text/plain": [
              "trackName\n",
              "From Time                                                       232.890133\n",
              "I Might Need Security                                           197.837850\n",
              "Got Me (with Ari Lennox & Omen feat. Ty Dolla $ign & Dreezy)    186.256983\n",
              "Made Love First                                                 172.483483\n",
              "Josslyn                                                         165.979067\n",
              "Name: minPlayed, dtype: float64"
            ]
          },
          "metadata": {},
          "execution_count": 44
        }
      ]
    },
    {
      "cell_type": "code",
      "source": [
        "# Find top artists for person 1 by total minutes played\n",
        "p1_listening_history.groupby(by='artistName')['minPlayed'].sum().sort_values(ascending=False)[:5]"
      ],
      "metadata": {
        "id": "_sNQX8pKLWR1"
      },
      "execution_count": null,
      "outputs": []
    },
    {
      "cell_type": "code",
      "source": [
        "# Find top tracks for person 1 by total minutes played\n",
        "p1_listening_history.groupby(by='trackName')['minPlayed'].sum().sort_values(ascending=False)[:5]"
      ],
      "metadata": {
        "id": "tF3Bx9s9LZvX"
      },
      "execution_count": null,
      "outputs": []
    },
    {
      "cell_type": "code",
      "source": [
        "# Find top artists for person 2 by total minutes played\n",
        "p2_listening_history.groupby(by='artistName')['minPlayed'].sum().sort_values(ascending=False)[:5]"
      ],
      "metadata": {
        "id": "bBk3OaF8Lg2W"
      },
      "execution_count": null,
      "outputs": []
    },
    {
      "cell_type": "code",
      "source": [
        "# Find top tracks for person 2 by total minutes played\n",
        "p2_listening_history.groupby(by='trackName')['minPlayed'].sum().sort_values(ascending=False)[:5]"
      ],
      "metadata": {
        "id": "tQuevznWLe9f"
      },
      "execution_count": null,
      "outputs": []
    },
    {
      "cell_type": "code",
      "source": [
        "p2_listening_history[p2_listening_history['secPlayed']<60]"
      ],
      "metadata": {
        "id": "rehq_3ylLyH6"
      },
      "execution_count": null,
      "outputs": []
    },
    {
      "cell_type": "code",
      "source": [
        "# Get total daily listening time series for each person\n",
        "#\n",
        "# Equally spaced by day\n",
        "# Sum minPlayed by day\n",
        "# Fill not available with 0\n",
        "#\n",
        "# ---------------------------\n",
        "# Person 0\n",
        "total_listening_p0 = p0_listening_history.resample('D')['minPlayed'].sum().fillna(0)\n",
        "\n",
        "# Person 1\n",
        "total_listening_p1 = p1_listening_history.resample('D')['minPlayed'].sum().fillna(0)\n",
        "\n",
        "# Person 2\n",
        "total_listening_p2 = p2_listening_history.resample('D')['minPlayed'].sum().fillna(0)\n",
        "\n",
        "print(total_listening_p0,total_listening_p1,total_listening_p2)"
      ],
      "metadata": {
        "id": "4ZCV6LS7ulGb"
      },
      "execution_count": null,
      "outputs": []
    },
    {
      "cell_type": "code",
      "source": [
        "# Plot the daily total minutes listened for person 0\n",
        "ax = total_listening_p0.plot(color='pink')\n",
        "\n",
        "# Plot the weekly average minutes listened\n",
        "total_listening_p0.resample('W').mean().fillna(0).plot(color='white',ax=ax)\n",
        "\n",
        "ax.legend([\"Total daily minutes listened\", \"Weekly average minutes listened\"], facecolor='white')\n",
        "ax.set_ylabel('Minutes Played')\n",
        "ax.set_xlabel('Time')\n",
        "ax.set_title('Person 0 Total Listening')"
      ],
      "metadata": {
        "id": "cN5GRo-76lmZ"
      },
      "execution_count": null,
      "outputs": []
    },
    {
      "cell_type": "code",
      "source": [
        "# Plot the daily total minutes listened for person 1\n",
        "ax = total_listening_p1.plot(color='#1DB964')\n",
        "\n",
        "# Plot the weekly average minutes listened\n",
        "total_listening_p1.resample('W').mean().fillna(0).plot(color='lightgrey',ax=ax)\n",
        "\n",
        "ax.legend([\"Total daily minutes listened\", \"Weekly average minutes listened\"], facecolor='white')\n",
        "ax.set_ylabel('Minutes Played')\n",
        "ax.set_xlabel('Time')\n",
        "ax.set_title('Person 1 Total Listening')"
      ],
      "metadata": {
        "id": "WB_kjRkm_Elh"
      },
      "execution_count": null,
      "outputs": []
    },
    {
      "cell_type": "code",
      "source": [
        "# Plot the daily total minutes listened for person 2\n",
        "ax = total_listening_p2.plot(color='lightblue')\n",
        "\n",
        "# Plot the weekly average minutes listened\n",
        "total_listening_p2.resample('W').mean().fillna(0).plot(color='orange',ax=ax)\n",
        "\n",
        "ax.legend([\"Total daily minutes listened\", \"Weekly average minutes listened\"], facecolor='white')\n",
        "ax.set_ylabel('Minutes Played')\n",
        "ax.set_xlabel('Time')\n",
        "ax.set_title('Person 2 Total Listening')"
      ],
      "metadata": {
        "id": "Pucx7mm3_kjO"
      },
      "execution_count": null,
      "outputs": []
    },
    {
      "cell_type": "code",
      "source": [
        "p2_listening_history.sort_values('minPlayed', ascending=False).drop_duplicates('trackName', keep='first')[:25]"
      ],
      "metadata": {
        "id": "Dzd8NTjxcH08"
      },
      "execution_count": null,
      "outputs": []
    },
    {
      "cell_type": "code",
      "source": [
        "streaming_dataframes[0].resample('H')['msPlayed'].sum()"
      ],
      "metadata": {
        "id": "V7we1UNiEj_f"
      },
      "execution_count": null,
      "outputs": []
    },
    {
      "cell_type": "code",
      "source": [
        "streaming_dataframes[0].dtypes"
      ],
      "metadata": {
        "id": "xFdVVVXoFjYi"
      },
      "execution_count": null,
      "outputs": []
    },
    {
      "cell_type": "code",
      "source": [
        "p0_listening_history['maxListen'] = p0_listening_history[['minPlayed']].max(axis=1)"
      ],
      "metadata": {
        "id": "bf_w40jaAO_V"
      },
      "execution_count": null,
      "outputs": []
    },
    {
      "cell_type": "code",
      "source": [
        "p0_listening_history = p0_listening_history[p0_listening_history['secPlayed']>60]"
      ],
      "metadata": {
        "id": "K51K03XXJLN7"
      },
      "execution_count": null,
      "outputs": []
    },
    {
      "cell_type": "code",
      "source": [
        "p0_listening_history[p0_listening_history['secPlayed']>60]"
      ],
      "metadata": {
        "id": "xwiu_0PfJswN"
      },
      "execution_count": null,
      "outputs": []
    },
    {
      "cell_type": "code",
      "source": [
        "# Draw initial time series and make it transparent\n",
        "ax = p1_listening_history[p1_listening_history['trackName']=='I Might Need Security'].resample('D')['minPlayed'].sum().plot(color='#1DB964', alpha=.9)\n",
        "# Draw montly average values\n",
        "p1_listening_history[p1_listening_history['trackName']=='drivers license'].resample('D')['minPlayed'].sum().plot(color='white', ax=ax)\n",
        "# Draw roling average that takes into account 25 points\n",
        "#p1_listening_history.resample('D')['minPlayed'].sum().plot(color='orange', ax=ax)\n",
        "p1_listening_history[p1_listening_history['trackName']=='From Time'].resample('D')['minPlayed'].sum().plot(color='orange', alpha=.5, ax=ax)\n",
        "## olive.rolling(25).mean().plot(ax=ax)\n",
        "# Specify legend labels\n",
        "ax.legend([\"'I Might Need Security' Daily Minutes Played\", \"'drivers license - Olivia Rodrigo'\", \"'From Time - Drake' Daily Minutes Played\"], facecolor='white')\n",
        "ax.set_ylabel('Minutes Played')\n",
        "ax.set_title('Total Daily Minutes Played for Top 5 Tracks')\n",
        "plt.show()"
      ],
      "metadata": {
        "id": "m1EnHWaaLk2-"
      },
      "execution_count": null,
      "outputs": []
    },
    {
      "cell_type": "code",
      "source": [
        "daily_mins = p0_listening_history.resample('H')['minPlayed'].mean().fillna(0)"
      ],
      "metadata": {
        "id": "DadwPrdEOuaU"
      },
      "execution_count": null,
      "outputs": []
    },
    {
      "cell_type": "code",
      "source": [
        "ax = p0_listening_history.resample('H')['minPlayed'].sum().plot(color='#1DB964', alpha=.9)\n",
        "\n",
        "daily_mins.rolling(10).sum().plot(ax=ax, color='white')\n",
        "\n",
        "ax.set_ylabel('Minutes Played')\n",
        "ax.set_title('Total Daily Minutes Played for Top 5 Tracks')\n",
        "plt.show()"
      ],
      "metadata": {
        "id": "6cQUJl5DJxV2"
      },
      "execution_count": null,
      "outputs": []
    },
    {
      "cell_type": "code",
      "source": [
        "(ax = "
      ],
      "metadata": {
        "id": "GjpEEaFtLO2F"
      },
      "execution_count": null,
      "outputs": []
    },
    {
      "cell_type": "code",
      "source": [
        "p0_listening_history.head(10)"
      ],
      "metadata": {
        "id": "osXB523q6Zax"
      },
      "execution_count": null,
      "outputs": []
    },
    {
      "cell_type": "code",
      "source": [
        "max_listens = p0_listening_history.sort_values('minPlayed', ascending=False).drop_duplicates('trackName', keep='first')\n",
        "\n",
        "max_listens['maxListen'] = max_listens['minPlayed']"
      ],
      "metadata": {
        "id": "Ch7xgRavDFAY"
      },
      "execution_count": null,
      "outputs": []
    },
    {
      "cell_type": "code",
      "source": [
        "max_listens"
      ],
      "metadata": {
        "id": "Z57xMm9QLEz9"
      },
      "execution_count": null,
      "outputs": []
    },
    {
      "cell_type": "code",
      "source": [
        "p0_listening_history.merge(max_listens, how='left', left_on='trackName')\n",
        "\n",
        "p0_listening_history.head()"
      ],
      "metadata": {
        "id": "YUP3H2TlKWTM"
      },
      "execution_count": null,
      "outputs": []
    },
    {
      "cell_type": "code",
      "source": [
        "new = pd.merge(p0_listening_history,max_listens[['artistName','trackName','maxListen']], how='left')"
      ],
      "metadata": {
        "id": "A0eh82u5QS05"
      },
      "execution_count": null,
      "outputs": []
    },
    {
      "cell_type": "code",
      "source": [
        "# df.loc[(df[\"B\"] > 50) & (df[\"C\"] == 900), \"A\"] *= 1000\n",
        "print('Number of listens less than max:\\t',len(new.loc[(new['trackName']=='From Time') & (new['minPlayed']!=new['maxListen'])]),'\\nNumber of listens equal to max:\\t',len(new.loc[(new['trackName']=='From Time') & (new['minPlayed']==new['maxListen'])]),'\\nTotal listens:\\n',len(new.loc[(new['trackName']=='From Time')]))"
      ],
      "metadata": {
        "id": "UNihLoJIR7W4"
      },
      "execution_count": null,
      "outputs": []
    },
    {
      "cell_type": "code",
      "source": [
        "new[new['trackName']=='From Time']"
      ],
      "metadata": {
        "id": "E3PFrFxfcZDg"
      },
      "execution_count": null,
      "outputs": []
    },
    {
      "cell_type": "code",
      "source": [
        "p0_listening_history"
      ],
      "metadata": {
        "id": "l78PtgJUK3dQ"
      },
      "execution_count": null,
      "outputs": []
    },
    {
      "cell_type": "code",
      "source": [
        "top_song_test = p0_listening_history.groupby(by=['trackName','artistName'])['minPlayed'].sum().sort_values(ascending=False)[:100]"
      ],
      "metadata": {
        "id": "Y07DCQLjupkM"
      },
      "execution_count": null,
      "outputs": []
    },
    {
      "cell_type": "code",
      "source": [
        "top_song_test"
      ],
      "metadata": {
        "id": "-ZykIucx6DGa"
      },
      "execution_count": null,
      "outputs": []
    },
    {
      "cell_type": "code",
      "source": [
        "top_song_test"
      ],
      "metadata": {
        "id": "rSASgili9FbR"
      },
      "execution_count": null,
      "outputs": []
    },
    {
      "cell_type": "code",
      "source": [
        "p0_listening_history['minPlayed'].sort_values(ascending=False)[:20]"
      ],
      "metadata": {
        "id": "QkX8B7XTyDO8"
      },
      "execution_count": null,
      "outputs": []
    },
    {
      "cell_type": "code",
      "source": [
        "type(top_song_test)"
      ],
      "metadata": {
        "id": "v5GZQCjwvKPv"
      },
      "execution_count": null,
      "outputs": []
    },
    {
      "cell_type": "code",
      "source": [
        "p0_listening_history "
      ],
      "metadata": {
        "id": "Bjk8ZANDtJk1"
      },
      "execution_count": null,
      "outputs": []
    },
    {
      "cell_type": "code",
      "metadata": {
        "id": "XUZyZ_NCPEfn"
      },
      "source": [
        "\n",
        "p1_listening_history1 = pd.read_json('person1_0.json')\n",
        "\n",
        "p1_listening_history2 = pd.read_json('person1_1.json')"
      ],
      "execution_count": null,
      "outputs": []
    },
    {
      "cell_type": "code",
      "metadata": {
        "id": "xisBUdk0YHXM"
      },
      "source": [
        "p1_listening_history1"
      ],
      "execution_count": null,
      "outputs": []
    },
    {
      "cell_type": "code",
      "metadata": {
        "id": "_vubujjXcFw7"
      },
      "source": [
        "p1_listening_history2"
      ],
      "execution_count": null,
      "outputs": []
    },
    {
      "cell_type": "code",
      "metadata": {
        "id": "V-rJMB5DaOpP"
      },
      "source": [
        "# Concatenate listening history dataframes into single dataframe for analysis\n",
        "p1_listening_history = pd.concat([p1_listening_history1, p1_listening_history2])\n",
        "\n",
        "print(f'The length of the first dataframe:\\t{len(p1_listening_history1)}\\nThe length of the second dataframe:\\t{len(p1_listening_history2)}\\n\\tLength of new dataframe:\\t{len(p1_listening_history)}')"
      ],
      "execution_count": null,
      "outputs": []
    },
    {
      "cell_type": "code",
      "metadata": {
        "id": "kcrHxn9QaoF_"
      },
      "source": [
        "len(p1_listening_history)"
      ],
      "execution_count": null,
      "outputs": []
    },
    {
      "cell_type": "code",
      "metadata": {
        "id": "sFP5vKK8arYb"
      },
      "source": [
        "p1_listening_history.head(5)"
      ],
      "execution_count": null,
      "outputs": []
    },
    {
      "cell_type": "code",
      "metadata": {
        "id": "eqU5hTH-a53z"
      },
      "source": [
        "p1_listening_history.tail(5)"
      ],
      "execution_count": null,
      "outputs": []
    },
    {
      "cell_type": "code",
      "metadata": {
        "id": "p6-LpmUO7CR-"
      },
      "source": [
        "'''\n",
        "  This function will transform a dataframe into time indexed df:\n",
        "\n",
        "  1. Convert 'endTime' column into datetime datatype\n",
        "  2. Set dataframe index to datetime column\n",
        "\n",
        "'''\n",
        "\n",
        "def make_time_indexed(df_to_transform, date_col):\n",
        "  # Convert endTime column to datetime datatype\n",
        "  df_to_transform[f'{date_col}'] = pd.to_datetime(df_to_transform[f'{date_col}'])\n",
        "\n",
        "  # Set the index of dataframe to the datetime column for time series use\n",
        "  df_to_transform.set_index(f'{endTime}', inplace = True)\n",
        "  \n",
        "  return df_to_transform\n",
        "\n"
      ],
      "execution_count": null,
      "outputs": []
    },
    {
      "cell_type": "code",
      "metadata": {
        "id": "LnkAeOQ19AOo"
      },
      "source": [
        "make_time_indexed(p1_listening_history,'endTime')"
      ],
      "execution_count": null,
      "outputs": []
    },
    {
      "cell_type": "code",
      "metadata": {
        "id": "7amNqUVr9Orn"
      },
      "source": [
        "p1_listening_history"
      ],
      "execution_count": null,
      "outputs": []
    },
    {
      "cell_type": "code",
      "metadata": {
        "id": "8EWQuY2bYLjw"
      },
      "source": [
        "p1_listening_history.dtypes"
      ],
      "execution_count": null,
      "outputs": []
    },
    {
      "cell_type": "code",
      "metadata": {
        "id": "0WVw5IBKBF6_"
      },
      "source": [
        "'''\n",
        "  Function to \n",
        "'''"
      ],
      "execution_count": null,
      "outputs": []
    },
    {
      "cell_type": "code",
      "metadata": {
        "id": "j_HOpzDSK0NO"
      },
      "source": [
        "len(p1_listening_history[p1_listening_history['artistName']=='Call Her Daddy']) + len(p1_listening_history[p1_listening_history['artistName']=='The Daily'])\n",
        "#len(test_removing_pods)"
      ],
      "execution_count": null,
      "outputs": []
    },
    {
      "cell_type": "code",
      "source": [
        "p2_listening_history['minPlayed'].sort_values(ascending=False)[:10]"
      ],
      "metadata": {
        "id": "c7nqAw5wbtuo"
      },
      "execution_count": null,
      "outputs": []
    },
    {
      "cell_type": "code",
      "metadata": {
        "id": "TVuFKQ3qXYEL"
      },
      "source": [
        "test_removing_pods = p1_listening_history[~p1_listening_history['artistName'].isin(['Call Her Daddy','The Daily'])]\n",
        "\n",
        "print(len(p1_listening_history), len(test_removing_pods))"
      ],
      "execution_count": null,
      "outputs": []
    },
    {
      "cell_type": "code",
      "metadata": {
        "id": "rlfq7ULlY5wY"
      },
      "source": [
        "pods = p1_listening_history[p1_listening_history['artistName'].isin(['Call Her Daddy','The Daily'])]\n",
        "\n",
        "pods.sort_values(by='minPlayed', ascending=False)"
      ],
      "execution_count": null,
      "outputs": []
    },
    {
      "cell_type": "code",
      "metadata": {
        "id": "NqRmN4kpZAAv"
      },
      "source": [
        "test_removing_pods"
      ],
      "execution_count": null,
      "outputs": []
    },
    {
      "cell_type": "code",
      "metadata": {
        "id": "bMYaUwAZEXD2"
      },
      "source": [
        "test_removing_pods['minPlayed'].resample('H').sum().plot()"
      ],
      "execution_count": null,
      "outputs": []
    },
    {
      "cell_type": "code",
      "metadata": {
        "id": "TwIa27mEZkpV"
      },
      "source": [
        "test_removing_pods['minPlayed'].describe()"
      ],
      "execution_count": null,
      "outputs": []
    },
    {
      "cell_type": "code",
      "metadata": {
        "id": "T7btOaE-Z35m"
      },
      "source": [
        ""
      ],
      "execution_count": null,
      "outputs": []
    },
    {
      "cell_type": "code",
      "metadata": {
        "id": "AWzmPs369UYF"
      },
      "source": [
        "p1_total_listening = p1_listening_history['minPlayed']"
      ],
      "execution_count": null,
      "outputs": []
    },
    {
      "cell_type": "code",
      "metadata": {
        "id": "CDb4CMWUBDg3"
      },
      "source": [
        "p1_total_listening"
      ],
      "execution_count": null,
      "outputs": []
    },
    {
      "cell_type": "code",
      "metadata": {
        "id": "k-8p4DoI9fKA"
      },
      "source": [
        "p1_total_min_listening_hrs = p1_listening_history.resample('H')['minPlayed'].sum()\n",
        "\n",
        "p1_total_listening"
      ],
      "execution_count": null,
      "outputs": []
    },
    {
      "cell_type": "code",
      "metadata": {
        "id": "AH1xEbM0BZki"
      },
      "source": [
        "p1_total_listening.describe()"
      ],
      "execution_count": null,
      "outputs": []
    },
    {
      "cell_type": "code",
      "metadata": {
        "id": "w6J5lFGKrE6T"
      },
      "source": [
        "p1_total_listening.plot()"
      ],
      "execution_count": null,
      "outputs": []
    },
    {
      "cell_type": "code",
      "metadata": {
        "id": "PhP4RtjP_uln"
      },
      "source": [
        "p1_total_listening.query (p1_total_listening.max())"
      ],
      "execution_count": null,
      "outputs": []
    },
    {
      "cell_type": "code",
      "metadata": {
        "id": "-vdCfYjMq5Fh"
      },
      "source": [
        "p1_listening_history = p1_listening_history.fillna(0)\n"
      ],
      "execution_count": null,
      "outputs": []
    },
    {
      "cell_type": "code",
      "metadata": {
        "id": "bVx12mzUrGt2"
      },
      "source": [
        "p1_listening_history.head(20)"
      ],
      "execution_count": null,
      "outputs": []
    },
    {
      "cell_type": "code",
      "metadata": {
        "id": "Wq0p2m4BYTC2"
      },
      "source": [
        "p1_listening_history.artistName.value_counts()"
      ],
      "execution_count": null,
      "outputs": []
    },
    {
      "cell_type": "code",
      "metadata": {
        "id": "cQp60o8ZYh8M"
      },
      "source": [
        "p1_listening_history.trackName.value_counts()[:20]"
      ],
      "execution_count": null,
      "outputs": []
    },
    {
      "cell_type": "code",
      "metadata": {
        "id": "oB_cNRTpTF3U"
      },
      "source": [
        "test = p1_listening_history.trackName.value_counts()[:15]\n",
        "\n",
        "test.plot(kind='barh')\n",
        "\n",
        "for x,y in test.items():\n",
        "  print(f'name:{x}, {y}')"
      ],
      "execution_count": null,
      "outputs": []
    },
    {
      "cell_type": "code",
      "metadata": {
        "id": "oYDC2iDF5tkU"
      },
      "source": [
        "# Show total minutes listened\n",
        "print(f'Total minutes played:\\t{p1_listening_history.minPlayed.sum()}')"
      ],
      "execution_count": null,
      "outputs": []
    },
    {
      "cell_type": "code",
      "metadata": {
        "id": "BsWTlU3qC-NS"
      },
      "source": [
        "top = p1_listening_history[p1_listening_history['trackName']=='I Might Need Security']\n",
        "top"
      ],
      "execution_count": null,
      "outputs": []
    },
    {
      "cell_type": "code",
      "metadata": {
        "id": "9phgMXG1Jwts"
      },
      "source": [
        "top_play = top['minPlayed']\n",
        "\n",
        "top_play.plot()"
      ],
      "execution_count": null,
      "outputs": []
    },
    {
      "cell_type": "code",
      "metadata": {
        "id": "kHBFSpdfDlU2"
      },
      "source": [
        "len(top[top['minPlayed'] > 4])"
      ],
      "execution_count": null,
      "outputs": []
    },
    {
      "cell_type": "code",
      "metadata": {
        "id": "nKFlShPPHg4Z"
      },
      "source": [
        "top[top['minPlayed'] < 4]"
      ],
      "execution_count": null,
      "outputs": []
    },
    {
      "cell_type": "code",
      "metadata": {
        "id": "tTpQTNyvLiHt"
      },
      "source": [
        ""
      ],
      "execution_count": null,
      "outputs": []
    },
    {
      "cell_type": "code",
      "metadata": {
        "id": "fiPabfWVV8OS"
      },
      "source": [
        "# Draw initial time series and make it transparent\n",
        "ax = p1_listening_history[p1_listening_history['trackName']=='I Might Need Security'].resample('D')['minPlayed'].sum().plot(color='#1DB964', alpha=.9)\n",
        "# Draw montly average values\n",
        "p1_listening_history[p1_listening_history['trackName']=='drivers license'].resample('D')['minPlayed'].sum().plot(color='white', ax=ax)\n",
        "# Draw roling average that takes into account 25 points\n",
        "#p1_listening_history.resample('D')['minPlayed'].sum().plot(color='orange', ax=ax)\n",
        "p1_listening_history[p1_listening_history['trackName']=='From Time'].resample('D')['minPlayed'].sum().plot(color='orange', alpha=.5, ax=ax)\n",
        "## olive.rolling(25).mean().plot(ax=ax)\n",
        "# Specify legend labels\n",
        "ax.legend([\"'I Might Need Security' Daily Minutes Played\", \"'drivers license - Olivia Rodrigo'\", \"'From Time - Drake' Daily Minutes Played\"], facecolor='white')\n",
        "ax.set_ylabel('Minutes Played')\n",
        "ax.set_title('Total Daily Minutes Played for Top 5 Tracks')\n",
        "plt.show()"
      ],
      "execution_count": null,
      "outputs": []
    },
    {
      "cell_type": "code",
      "metadata": {
        "id": "yreE5f6BUNQe"
      },
      "source": [
        "topsongplay = p1_listening_history[p1_listening_history['trackName']=='I Might Need Security'].resample('D')['minPlayed'].sum().plot(color='#1DB964')\n",
        "\n",
        "topsongplay"
      ],
      "execution_count": null,
      "outputs": []
    },
    {
      "cell_type": "code",
      "metadata": {
        "id": "4jaTnNC2ToL8"
      },
      "source": [
        "drivers = p1_listening_history[p1_listening_history['trackName']=='drivers license'].resample('D')['minPlayed'].sum().plot()\n",
        "\n",
        "drivers"
      ],
      "execution_count": null,
      "outputs": []
    },
    {
      "cell_type": "code",
      "metadata": {
        "id": "UxwK8mlMVsJR"
      },
      "source": [
        "# Draw initial time series and make it transparent\n",
        "ax = topsongplay\n",
        "# Draw montly average values\n",
        "drivers.plot(ax=ax)\n",
        "# Draw roling average that takes into account 25 points\n",
        "## olive.rolling(25).mean().plot(ax=ax)\n",
        "# Specify legend labels\n",
        "ax.legend([\"daily data\", \"montly average\"])\n",
        "plt.show()"
      ],
      "execution_count": null,
      "outputs": []
    },
    {
      "cell_type": "code",
      "metadata": {
        "id": "ycSa1uMEcOlI"
      },
      "source": [
        "p1_listening_history['artistName'].count()"
      ],
      "execution_count": null,
      "outputs": []
    },
    {
      "cell_type": "code",
      "metadata": {
        "id": "9P-36ep9clvu"
      },
      "source": [
        "olive = p1_listening_history[p1_listening_history['artistName'] == 'Olivia Rodrigo']"
      ],
      "execution_count": null,
      "outputs": []
    },
    {
      "cell_type": "code",
      "metadata": {
        "id": "7KBBYYFzc891"
      },
      "source": [
        "len(olive)"
      ],
      "execution_count": null,
      "outputs": []
    },
    {
      "cell_type": "code",
      "metadata": {
        "id": "0HKi9Sy0_mGy"
      },
      "source": [
        "olive"
      ],
      "execution_count": null,
      "outputs": []
    },
    {
      "cell_type": "code",
      "metadata": {
        "id": "VBsGtz0EIv2c"
      },
      "source": [
        "olive_minplayed.reset_index().plot.scatter(x = 'endTime', y = 'minPlayed')"
      ],
      "execution_count": null,
      "outputs": []
    },
    {
      "cell_type": "code",
      "metadata": {
        "id": "Gn-biCe0GCpN"
      },
      "source": [
        "olive_minplayed = olive['minPlayed']\n",
        "\n",
        "olive_minplayed.fillna(value=0)\n",
        "\n",
        "olive_minplayed"
      ],
      "execution_count": null,
      "outputs": []
    },
    {
      "cell_type": "code",
      "metadata": {
        "id": "n2RiPU2idKA-"
      },
      "source": [
        "olive_minplayed.plot()\n",
        "\n",
        "plt.show()"
      ],
      "execution_count": null,
      "outputs": []
    },
    {
      "cell_type": "code",
      "metadata": {
        "id": "4r99PaT8FJRk"
      },
      "source": [
        "olive_minplayed.resample('W').mean().head(10)"
      ],
      "execution_count": null,
      "outputs": []
    },
    {
      "cell_type": "code",
      "metadata": {
        "id": "v-Wn6mAIHnqu"
      },
      "source": [
        "olive_minplayed.head()"
      ],
      "execution_count": null,
      "outputs": []
    },
    {
      "cell_type": "code",
      "metadata": {
        "id": "332HdZWwIMPj"
      },
      "source": [
        "olive_minplayed.resample('M').sum().plot()"
      ],
      "execution_count": null,
      "outputs": []
    },
    {
      "cell_type": "code",
      "metadata": {
        "id": "paro5710Ks9E"
      },
      "source": [
        "olive_minplayed['2021-04':'2021-06'].resample('D').sum().plot()"
      ],
      "execution_count": null,
      "outputs": []
    },
    {
      "cell_type": "code",
      "metadata": {
        "id": "ybaP_la3LdTQ"
      },
      "source": [
        "p1_listening_history['2021-02'].resample('D')['minPlayed'].sum().plot()"
      ],
      "execution_count": null,
      "outputs": []
    },
    {
      "cell_type": "code",
      "metadata": {
        "id": "nXK0555lMKcc"
      },
      "source": [
        "feb_listening_history = p1_listening_history['2021-02']"
      ],
      "execution_count": null,
      "outputs": []
    },
    {
      "cell_type": "code",
      "metadata": {
        "id": "aHKqbf9bMQHI"
      },
      "source": [
        "feb_listening_history.groupby(by='trackName')['minPlayed'].mean().sort_values()[-20:].plot(kind='barh')"
      ],
      "execution_count": null,
      "outputs": []
    },
    {
      "cell_type": "code",
      "metadata": {
        "id": "3Jw6LfxzNbAa"
      },
      "source": [
        "feb_listening_history.groupby(by='trackName')['minPlayed'].sum().sort_values()[-20:].plot(kind='barh')"
      ],
      "execution_count": null,
      "outputs": []
    },
    {
      "cell_type": "code",
      "metadata": {
        "id": "S2bxAFeJDtg2"
      },
      "source": [
        "# Draw initial time series and make it transparent\n",
        "ax = olive_minplayed.resample('D').sum().plot(alpha=0.25)\n",
        "# Draw montly average values\n",
        "olive_minplayed.resample('M').mean().plot(ax=ax)\n",
        "# Draw roling average that takes into account 25 points\n",
        "## olive.rolling(25).mean().plot(ax=ax)\n",
        "# Specify legend labels\n",
        "ax.legend([\"daily data\", \"montly average\"])\n",
        "plt.show()"
      ],
      "execution_count": null,
      "outputs": []
    },
    {
      "cell_type": "code",
      "metadata": {
        "id": "OP4Bgr29eZYx"
      },
      "source": [
        "p1_listening_history.pivot_table(index='artistName', )"
      ],
      "execution_count": null,
      "outputs": []
    },
    {
      "cell_type": "code",
      "metadata": {
        "id": "7TxA8IE-hbeC"
      },
      "source": [
        "pivot = pd.pivot_table(p1_listening_history, values='msPlayed', aggfunc = 'sum', index='trackName')"
      ],
      "execution_count": null,
      "outputs": []
    },
    {
      "cell_type": "markdown",
      "metadata": {
        "id": "UTKYDs48_Qlz"
      },
      "source": [
        ""
      ]
    },
    {
      "cell_type": "code",
      "metadata": {
        "id": "Ds-GLb36h_RK"
      },
      "source": [
        "pivot"
      ],
      "execution_count": null,
      "outputs": []
    },
    {
      "cell_type": "code",
      "metadata": {
        "id": "tlns26nijE7w"
      },
      "source": [
        "p1_listening_history.sort_values(by='msPlayed', ascending=False)"
      ],
      "execution_count": null,
      "outputs": []
    },
    {
      "cell_type": "code",
      "metadata": {
        "id": "eDGqUbF3pDl5"
      },
      "source": [
        "print(p1_listening_history.groupby(by='trackName'))"
      ],
      "execution_count": null,
      "outputs": []
    },
    {
      "cell_type": "code",
      "metadata": {
        "id": "FKvVrEcJreTh"
      },
      "source": [
        "p1_listening_history[p1_listening_history['trackName']=='From Time']"
      ],
      "execution_count": null,
      "outputs": []
    },
    {
      "cell_type": "code",
      "metadata": {
        "id": "RkvtNk7N5voT"
      },
      "source": [
        "track_playcount = p1_listening_history.groupby(by='artistName')['trackName'].count().sort_values(ascending=True)[-10:]"
      ],
      "execution_count": null,
      "outputs": []
    },
    {
      "cell_type": "code",
      "metadata": {
        "id": "J-ZUTWL3rpuV"
      },
      "source": [
        "artist_timeplayed = p1_listening_history.groupby(by='artistName')['minPlayed'].sum().sort_values(ascending=False)[:15]\n",
        "\n",
        "artist_timeplayed"
      ],
      "execution_count": null,
      "outputs": []
    },
    {
      "cell_type": "code",
      "metadata": {
        "id": "uhsWZO-qMR4X"
      },
      "source": [
        "track_timeplayed = p1_listening_history.groupby(by='trackName')['minPlayed'].sum().sort_values(ascending=False)[:25]\n",
        "\n",
        "track_timeplayed"
      ],
      "execution_count": null,
      "outputs": []
    },
    {
      "cell_type": "code",
      "metadata": {
        "id": "eDskJSidOYbn"
      },
      "source": [
        "blackbear_df = p1_listening_history[p1_listening_history['artistName']=='blackbear']\n",
        "\n",
        "# Total time listening to blackbear\n",
        "blackbear_df.minPlayed.sum()"
      ],
      "execution_count": null,
      "outputs": []
    },
    {
      "cell_type": "code",
      "metadata": {
        "id": "xK2GOd8LPkia"
      },
      "source": [
        "blackbear_df.groupby(by='trackName')['minPlayed'].sum().sort_values()[-5:]"
      ],
      "execution_count": null,
      "outputs": []
    },
    {
      "cell_type": "code",
      "metadata": {
        "id": "z7iAJ0foPEi_"
      },
      "source": [
        "blackbear_df.groupby(by='trackName')['minPlayed'].sum().sort_values()[-5:].plot(kind='barh')"
      ],
      "execution_count": null,
      "outputs": []
    },
    {
      "cell_type": "code",
      "metadata": {
        "id": "a03ZPRaFQlMy"
      },
      "source": [
        "do_play = blackbear_df[blackbear_df['trackName']=='do re mi']['minPlayed']\n",
        "\n",
        "do_play"
      ],
      "execution_count": null,
      "outputs": []
    },
    {
      "cell_type": "code",
      "metadata": {
        "id": "Ul4dNcvXPwfd"
      },
      "source": [
        "blackbear_df[blackbear_df['trackName']=='do re mi']['minPlayed'].plot()"
      ],
      "execution_count": null,
      "outputs": []
    },
    {
      "cell_type": "code",
      "metadata": {
        "id": "Fys_5bTFVIYQ"
      },
      "source": [
        "songs = '''From Time                                                                                               245.844300\n",
        "I Might Need Security                                                                                   224.705183\n",
        "Got Me (with Ari Lennox & Omen feat. Ty Dolla $ign & Dreezy)                                            196.199050\n",
        "Made Love First                                                                                         183.744533\n",
        "Relaxing Sleep Music • Deep Sleeping Music, Relaxing Music, Stress Relief, Meditation Music (Flying)    180.483133\n",
        "Heaven                                                                                                  176.047683\n",
        "Josslyn                                                                                                 175.589317\n",
        "Missed Calls                                                                                            159.818333\n",
        "Bitter (feat. Trevor Daniel)                                                                            159.328333\n",
        "Still Be Friends (feat. Tory Lanez & Tyga)                                                              158.862683\n",
        "Love Lockdown                                                                                           147.644250\n",
        "FUCKING YOUNG / PERFECT (feat. Charlie Wilson, Chaz Bundick, Sydney Bennett & Kali Uchis)               147.153533\n",
        "Don't Watch Me Cry                                                                                      146.042017\n",
        "Hallelujah                                                                                              145.841250\n",
        "RPG (feat. 6lack)                                                                                       144.925250\n",
        "Slow Jamz                                                                                               138.980950\n",
        "do re mi                                                                                                136.358450\n",
        "The Question                                                                                            135.413633\n",
        "Footsteps (feat. Musiq Soulchild)                                                                       133.230900\n",
        "good 4 u  '''\n",
        "\n",
        "f, (ax1, ax2) = plt.subplots(1,2, shareX=True, shareY=True, figsize=(10,10))\n",
        "ax1.plot(p1_listening_history[p1_listening_history['trackName']=='From Time']['minPlayed'])\n",
        "ax1.set_title(\"'From Time' minutes played\")\n",
        "ax2.plot(top_play)\n",
        "ax2.set_title(\"'I Might Need Security' minutes played\")\n",
        "l='''ax3.plot(p1_listening_history[p1_listening_history['trackName']=='Got Me (with Ari Lennox & Omen feat. Ty Dolla $ign & Dreezy)']['minPlayed'])\n",
        "ax3.set_title(\"'Got Me' minutes played\")\n",
        "ax4.plot(p1_listening_history[p1_listening_history['trackName']=='Made Love First']['minPlayed'])\n",
        "ax4.set_title(\"'Made Love First' minutes played\")\n",
        "ax5.plot(p1_listening_history[p1_listening_history['trackName']=='Made Love First']['minPlayed'])\n",
        "ax5.set_title(\"'Made Love First' minutes played\")\n",
        "ax6.plot(p1_listening_history[p1_listening_history['trackName']=='Heaven']['minPlayed'])\n",
        "ax6.set_title(\"'Heaven' minutes played\")\n",
        "ax7.plot(p1_listening_history[p1_listening_history['trackName']=='Josslyn']['minPlayed'])\n",
        "ax7.set_title(\"'Josslyn\")\n",
        "ax8.plot(p1_listening_history[p1_listening_history['trackName']=='Missed Calls']['minPlayed'])\n",
        "ax8.set_title(\"'Missed Calls'\")\n",
        "#ax9.plot(p1_listening_history[p1_listening_history['trackName']=='Bitter (feat. Trevor Daniel)']['minPlayed'])\n",
        "#ax9.set_title(\"'Bitter (feat. Trevor Daniel)' minutes played\")\n",
        "#ax10.plot(p1_listening_history[p1_listening_history['trackName']=='Still Be Friends (feat. Tory Lanez & Tyga) ']['minPlayed'])\n",
        "#ax10.set_title(\"'Still Be Friends (feat. Tory Lanez & Tyga) ' minutes played\")\n",
        "ax11.plot(p1_listening_history[p1_listening_history['trackName']=='Love Lockdown']['minPlayed'])\n",
        "ax11.set_title(\"'Love Lockdown' minutes played\")\n",
        "ax12.plot(p1_listening_history[p1_listening_history['trackName']=='FUCKING YOUNG / PERFECT (feat. Charlie Wilson, Chaz Bundick, Sydney Bennett & Kali Uchis)']['minPlayed'])\n",
        "ax12.set_title(\"'FUCKING YOUNG / PERFECT' minutes played\")\n",
        "ax13.plot(p1_listening_history[p1_listening_history['trackName']==\"Don't Watch Me Cry\"]['minPlayed'])\n",
        "ax13.set_title(\"'Don't Watch Me Cry' minutes played\")\n",
        "ax14.plot(p1_listening_history[p1_listening_history['trackName']=='Hallelujah']['minPlayed'])\n",
        "ax14.set_title(\"'Hallelujah' minutes played\")\n",
        "ax15.plot(p1_listening_history[p1_listening_history['trackName']=='RPG (feat. 6lack)']['minPlayed'])\n",
        "ax15.set_title(\"'RPG (feat. 6lack)' minutes played\")\n",
        "ax16.plot(p1_listening_history[p1_listening_history['trackName']=='Slow Jamz']['minPlayed'])\n",
        "ax16.set_title(\"'Slow Jamz' minutes played\")\n",
        "ax17.plot(do_play)\n",
        "ax17.set_title(\"'do re mi' minutes played\")\n",
        "ax18.plot(p1_listening_history[p1_listening_history['trackName']=='The Question']['minPlayed'])\n",
        "ax18.set_title(\"'The Question' minutes played\")\n",
        "ax19.plot(p1_listening_history[p1_listening_history['trackName']=='Footsteps (feat. Musiq Soulchild)']['minPlayed'])\n",
        "ax19.set_title(\"'Footsteps (feat. Musiq Soulchild)' minutes played\")\n",
        "ax20.plot(p1_listening_history[p1_listening_history['trackName']=='good 4 u']['minPlayed'])\n",
        "ax20.set_title(\"'good 4 u' minutes played\")'''\n"
      ],
      "execution_count": null,
      "outputs": []
    },
    {
      "cell_type": "code",
      "metadata": {
        "id": "lph2DGefQgJy"
      },
      "source": [
        "songs = '''I Might Need Security                                67\n",
        "Missed Calls                                                    60\n",
        "Made Love First                                                 59\n",
        "Bitter (feat. Trevor Daniel)                                    58\n",
        "Josslyn                                                         58\n",
        "Purple Lamborghini (with Rick Ross)                             58\n",
        "Don't Watch Me Cry                                              57\n",
        "Blueberry Faygo                                                 57\n",
        "ROCKSTAR (feat. Roddy Ricch)                                    56\n",
        "Got Me (with Ari Lennox & Omen feat. Ty Dolla $ign & Dreezy)    53\n",
        "Still Be Friends (feat. Tory Lanez & Tyga)                      53\n",
        "Heaven                                                          52\n",
        "Juicy                                                           52\n",
        "From Time                                                       50\n",
        "good 4 u                                                        49'''"
      ],
      "execution_count": null,
      "outputs": []
    },
    {
      "cell_type": "code",
      "metadata": {
        "id": "sakUitMzTBw8"
      },
      "source": [
        "import matplotlib.pyplot as plt\n",
        "plt.rcParams['axes.facecolor'] = 'navy'"
      ],
      "execution_count": null,
      "outputs": []
    },
    {
      "cell_type": "code",
      "metadata": {
        "id": "pNBh4W7X6b8V"
      },
      "source": [
        "track_playcount_bar = track_playcount.plot(kind='barh', color='#1DB964')\n",
        "\n",
        "track_playcount_bar"
      ],
      "execution_count": null,
      "outputs": []
    },
    {
      "cell_type": "code",
      "metadata": {
        "id": "GNTb99BtuSU4"
      },
      "source": [
        "artist_timeplayed.sort_values().plot(kind='barh', color='#1DB964')"
      ],
      "execution_count": null,
      "outputs": []
    },
    {
      "cell_type": "code",
      "metadata": {
        "id": "_P7SXasutZaP"
      },
      "source": [
        "track_timeplayed = p1_listening_history.groupby(by='trackName')['msPlayed'].sum().sort_values(ascending=False)[:15]\n",
        "\n",
        "track_plays_bar = track_plays.plot(kind='barh', color='#1DB964')\n",
        "\n",
        "track_plays_bar"
      ],
      "execution_count": null,
      "outputs": []
    },
    {
      "cell_type": "code",
      "metadata": {
        "id": "uJeUVzCk-DqH"
      },
      "source": [
        "p1_listening_history[p1_listening_history['artistName']=='blackbear'].minPlayed.sum()"
      ],
      "execution_count": null,
      "outputs": []
    },
    {
      "cell_type": "code",
      "metadata": {
        "id": "cz4G2XdQsr4q"
      },
      "source": [
        "p1_listening_history[p1_listening_history['trackName']=='good 4 u'].minPlayed.sum()"
      ],
      "execution_count": null,
      "outputs": []
    },
    {
      "cell_type": "code",
      "metadata": {
        "id": "QraG15yHcJju"
      },
      "source": [
        "p1_listening_history[p1_listening_history['trackName']=='I Might Need Security'].minPlayed.sum()"
      ],
      "execution_count": null,
      "outputs": []
    },
    {
      "cell_type": "code",
      "metadata": {
        "id": "fppyS3TZpm3P"
      },
      "source": [
        "track_timeplayed = p1_listening_history.groupby(by='trackName')['minPlayed'].sum().sort_values(ascending=False)[:15]"
      ],
      "execution_count": null,
      "outputs": []
    },
    {
      "cell_type": "code",
      "metadata": {
        "id": "Jt6AE9_8uoFS"
      },
      "source": [
        "track_timeplayed.plot(kind='barh')"
      ],
      "execution_count": null,
      "outputs": []
    },
    {
      "cell_type": "code",
      "metadata": {
        "id": "7INkivygqtmj"
      },
      "source": [
        "olive.groupby(by='trackName')['msPlayed'].sum().sort_values(ascending=False)[:15]"
      ],
      "execution_count": null,
      "outputs": []
    },
    {
      "cell_type": "markdown",
      "metadata": {
        "id": "98A6uc29vCKR"
      },
      "source": [
        "* Add 'start time' to dataframe by subtracting msPlayed from 'endtime'\n",
        "* Add columns for minPlayed, secPlayed, timesPlayed\n",
        "* Change 'startTime' and 'endTime' to datetime datatypes\n",
        "\n",
        "Need Spotify API\n",
        "* Add 'contentType' (track, podcast etc.) column\n",
        "* Add audio features columns\n"
      ]
    },
    {
      "cell_type": "code",
      "metadata": {
        "id": "8Z0J6ibRwC_y"
      },
      "source": [
        "p1_listening_history['endTime'] = pd.to_datetime(p1_listening_history['endTime'])"
      ],
      "execution_count": null,
      "outputs": []
    },
    {
      "cell_type": "code",
      "metadata": {
        "id": "_H5zgBAGzxFs"
      },
      "source": [
        "p1_listening_history.dtypes"
      ],
      "execution_count": null,
      "outputs": []
    },
    {
      "cell_type": "code",
      "metadata": {
        "id": "Jqclzf6kzzdI"
      },
      "source": [
        "p1_listening_history.head(2)"
      ],
      "execution_count": null,
      "outputs": []
    },
    {
      "cell_type": "code",
      "metadata": {
        "id": "2nSVFe3H0cMq"
      },
      "source": [
        ""
      ],
      "execution_count": null,
      "outputs": []
    },
    {
      "cell_type": "code",
      "metadata": {
        "id": "xN6wQKxP2LNP"
      },
      "source": [
        "p1_listening_history['secPlayed'] = pd.Timestamp(p1_listening_history['secPlayed'], unit='s')"
      ],
      "execution_count": null,
      "outputs": []
    },
    {
      "cell_type": "code",
      "metadata": {
        "id": "9JzFXaJw2O3I"
      },
      "source": [
        ""
      ],
      "execution_count": null,
      "outputs": []
    },
    {
      "cell_type": "code",
      "metadata": {
        "id": "fVDdFwO31rD0"
      },
      "source": [
        "p1_listening_history[['minPlayed','secPlayed']] = pd.to_datetime(p1_listening_history[['minPlayed','secPlayed']])"
      ],
      "execution_count": null,
      "outputs": []
    },
    {
      "cell_type": "code",
      "metadata": {
        "id": "PU8cgm660oXx"
      },
      "source": [
        "p1_listening_history['startTime'] = p1_listening_history['endTime'] - p1_listening_history['minPlayed']"
      ],
      "execution_count": null,
      "outputs": []
    },
    {
      "cell_type": "markdown",
      "metadata": {
        "id": "qiSeIRm0enei"
      },
      "source": [
        "Progress notes:    \n",
        "- blackbear df \n",
        "- found number of plays for top song 'I might' to be when listened to whole song\n",
        "  - need to check if this applies to all songs\n",
        "\n",
        "- plotted top 20 total minutes played"
      ]
    },
    {
      "cell_type": "markdown",
      "metadata": {
        "id": "bzGWAz2JcTVS"
      },
      "source": [
        "# P2 Listening History * Exploratory purposes only *"
      ]
    },
    {
      "cell_type": "code",
      "metadata": {
        "id": "i5hREB0dI9it"
      },
      "source": [
        "p2_listening_history1, p2_listening_history2, p2_listening_history3 = pd.read_json('StreamingHistory0.json'), pd.read_json('StreamingHistory1.json'), pd.read_json('StreamingHistory2.json')\n",
        "\n",
        "p2_listening_history1"
      ],
      "execution_count": null,
      "outputs": []
    },
    {
      "cell_type": "code",
      "metadata": {
        "id": "oe-4Cne6XtOa"
      },
      "source": [
        "p2_listening_history2"
      ],
      "execution_count": null,
      "outputs": []
    },
    {
      "cell_type": "code",
      "metadata": {
        "id": "TDRTYqOwYNgY"
      },
      "source": [
        "p2_listening_history3"
      ],
      "execution_count": null,
      "outputs": []
    },
    {
      "cell_type": "code",
      "metadata": {
        "id": "09nAFd7_Ykdn"
      },
      "source": [
        "# Concatenate listening history dataframes into single dataframe for analysis\n",
        "p2_listening_history = pd.concat([p2_listening_history1, p2_listening_history2, p2_listening_history3])\n",
        "\n",
        "print(f'The length of the first dataframe:\\t{len(p2_listening_history1)}\\nThe length of the second dataframe:\\t{len(p2_listening_history2)}\\nThe length of the third dataframe:\\t{len(p2_listening_history3)}\\n\\tLength of new dataframe:\\t{len(p2_listening_history)}')"
      ],
      "execution_count": null,
      "outputs": []
    },
    {
      "cell_type": "code",
      "metadata": {
        "id": "6uDPO1AxZEEY"
      },
      "source": [
        "p2_listening_history.dtypes"
      ],
      "execution_count": null,
      "outputs": []
    },
    {
      "cell_type": "code",
      "metadata": {
        "id": "59UDbf4FZdQ2"
      },
      "source": [
        "# Change endtime to datetime datatype\n",
        "p2_listening_history['endTime'] = pd.to_datetime(p2_listening_history['endTime'])\n",
        "\n",
        "# Set index of dataframe to datetime column\n",
        "p2_listening_history.set_index('endTime', inplace=True)"
      ],
      "execution_count": null,
      "outputs": []
    },
    {
      "cell_type": "code",
      "metadata": {
        "id": "KJxRDgsUaCP2"
      },
      "source": [
        "# Add columns for seconds and minutes played\n",
        "p2_listening_history['secPlayed'], p2_listening_history['minPlayed'] = p2_listening_history['msPlayed'] / (1000), p2_listening_history['msPlayed'] / (60*1000)\n",
        "\n",
        "p2_listening_history"
      ],
      "execution_count": null,
      "outputs": []
    },
    {
      "cell_type": "code",
      "metadata": {
        "id": "XKCjdTgvgmzu"
      },
      "source": [
        "p2_listening_history.dtypes"
      ],
      "execution_count": null,
      "outputs": []
    },
    {
      "cell_type": "code",
      "metadata": {
        "id": "mQ61cyescg8F"
      },
      "source": [
        "p2_listening_history.trackName.value_counts()"
      ],
      "execution_count": null,
      "outputs": []
    },
    {
      "cell_type": "code",
      "metadata": {
        "id": "QPtxro2xTQlx"
      },
      "source": [
        "p2_listening_history['minPlayed'].min()"
      ],
      "execution_count": null,
      "outputs": []
    },
    {
      "cell_type": "code",
      "metadata": {
        "id": "tgd2FdiOcrrp"
      },
      "source": [
        "p2_listening_history.groupby(by=['trackName','artistName','minPlayed'])['minPlayed'].sum().sort_values(ascending=False)[:20]"
      ],
      "execution_count": null,
      "outputs": []
    },
    {
      "cell_type": "code",
      "metadata": {
        "id": "wlkhQEUfdVup"
      },
      "source": [
        "p2_listening_history.groupby(by='artistName')['minPlayed'].sum().sort_values(ascending=False)[:10]"
      ],
      "execution_count": null,
      "outputs": []
    },
    {
      "cell_type": "code",
      "metadata": {
        "id": "MbL98ULUF3I7"
      },
      "source": [
        ""
      ],
      "execution_count": null,
      "outputs": []
    },
    {
      "cell_type": "code",
      "metadata": {
        "id": "JT378IGyeyE6"
      },
      "source": [
        "top_song = p2_listening_history[p2_listening_history['trackName']== \"Take Kare (feat. Lil Baby & Lil Durk)\"].resample('W')['minPlayed']\n",
        "\n",
        "top_song.plot()"
      ],
      "execution_count": null,
      "outputs": []
    },
    {
      "cell_type": "code",
      "metadata": {
        "id": "q7mv2qwCmLVT"
      },
      "source": [
        "p2_listening_history[p2_listening_history['trackName']== \"What’s Next\"].resample('W')['minPlayed'].plot()"
      ],
      "execution_count": null,
      "outputs": []
    },
    {
      "cell_type": "code",
      "metadata": {
        "id": "jn_NRvmalpa4"
      },
      "source": [
        "p2_listening_history[p2_listening_history['trackName']== \"Take Kare (feat. Lil Baby & Lil Durk)\"]"
      ],
      "execution_count": null,
      "outputs": []
    },
    {
      "cell_type": "code",
      "metadata": {
        "id": "Hbo6dG3cfq8p"
      },
      "source": [
        "p2_listening_history[p2_listening_history['trackName']== \"Take Kare (feat. Lil Baby & Lil Durk)\"]['minPlayed'].plot()"
      ],
      "execution_count": null,
      "outputs": []
    },
    {
      "cell_type": "code",
      "metadata": {
        "id": "sbzm3lacuDJC"
      },
      "source": [
        ""
      ],
      "execution_count": null,
      "outputs": []
    },
    {
      "cell_type": "markdown",
      "metadata": {
        "id": "YLaZZjM1jaXz"
      },
      "source": [
        "# P3 Listening History * Exploratory purposes only *"
      ]
    },
    {
      "cell_type": "code",
      "metadata": {
        "id": "n7n_N2UdjfiQ"
      },
      "source": [
        "# Import listening history\n",
        "p3_history = pd.read_json('p2_listening history.json')\n",
        "\n",
        "p3_history.head()"
      ],
      "execution_count": null,
      "outputs": []
    },
    {
      "cell_type": "code",
      "metadata": {
        "id": "8i5JCvtlkTuZ"
      },
      "source": [
        "p3_history['artistName'].value_counts()"
      ],
      "execution_count": null,
      "outputs": []
    },
    {
      "cell_type": "code",
      "metadata": {
        "id": "12-Gfo1tkjj3"
      },
      "source": [
        "p3_history.dtypes"
      ],
      "execution_count": null,
      "outputs": []
    },
    {
      "cell_type": "code",
      "metadata": {
        "id": "yCsXKeyJknsU"
      },
      "source": [
        "p3_history['endTime'] = pd.to_datetime(p3_history['endTime'])\n",
        "\n",
        "p3_history.set_index('endTime', inplace=True)\n",
        "\n",
        "p3_history.head()"
      ],
      "execution_count": null,
      "outputs": []
    },
    {
      "cell_type": "code",
      "metadata": {
        "id": "ZplOU3KDlfiK"
      },
      "source": [
        "p3_history['secPlayed'], p3_history['minPlayed'] = p3_history['msPlayed'] / 1000 , p3_history['msPlayed'] / (1000*60)\n",
        "\n",
        "p3_history"
      ],
      "execution_count": null,
      "outputs": []
    },
    {
      "cell_type": "code",
      "metadata": {
        "id": "Bfocg3Ebk-gE"
      },
      "source": [
        "p3_history.groupby('artistName')['minPlayed'].sum().sort_values(ascending=False)[:10]"
      ],
      "execution_count": null,
      "outputs": []
    },
    {
      "cell_type": "code",
      "metadata": {
        "id": "JVOZN1c3xtBM"
      },
      "source": [
        "p3_history['minPlayed'].sum()"
      ],
      "execution_count": null,
      "outputs": []
    },
    {
      "cell_type": "code",
      "metadata": {
        "id": "y7NQr3DHybpE"
      },
      "source": [
        "p3_vamp = p3_history[p3_history['artistName']=='Vampire Weekend'].resample('D')['minPlayed'].sum()\n",
        "\n",
        "p3_vamp.plot(color='#1DB964')"
      ],
      "execution_count": null,
      "outputs": []
    },
    {
      "cell_type": "code",
      "metadata": {
        "id": "d18zEH2asaxV"
      },
      "source": [
        "p3_top = p3_history[p3_history['artistName']=='Cage The Elephant']\n",
        "\n",
        "p3_top"
      ],
      "execution_count": null,
      "outputs": []
    },
    {
      "cell_type": "code",
      "metadata": {
        "id": "k0yEzE-lsra-"
      },
      "source": [
        "ax = p3_history[p3_history['artistName']=='Lost Frequencies'].resample('D')['minPlayed'].sum().plot(color='#1DB964')\n",
        "\n",
        "p3_top.resample('D')['minPlayed'].sum().plot(ax=ax, color='white')\n",
        "\n",
        "p3_vamp.plot(ax=ax, color='orange')\n",
        "\n",
        "ax.legend(['Lost Frequencies', 'Cage The Elephant', 'Vampire Weekend'], facecolor='white')\n",
        "ax.set_ylabel('minutes listened per day')"
      ],
      "execution_count": null,
      "outputs": []
    },
    {
      "cell_type": "code",
      "metadata": {
        "id": "0Blh3w2Bl-li"
      },
      "source": [
        "p3_history['minPlayed'].sum()"
      ],
      "execution_count": null,
      "outputs": []
    },
    {
      "cell_type": "code",
      "metadata": {
        "id": "ym_IQ4B5mPU9"
      },
      "source": [
        "len(p3_history)"
      ],
      "execution_count": null,
      "outputs": []
    },
    {
      "cell_type": "code",
      "metadata": {
        "id": "qZNFnHqZoARi"
      },
      "source": [
        "p3_history"
      ],
      "execution_count": null,
      "outputs": []
    },
    {
      "cell_type": "code",
      "metadata": {
        "id": "IHx8N5LImRIl"
      },
      "source": [
        "p3_total_listening = p3_history.resample('D').sum()\n",
        "\n",
        "p3_total_listening"
      ],
      "execution_count": null,
      "outputs": []
    },
    {
      "cell_type": "code",
      "metadata": {
        "id": "-LSlfPOsrV3M"
      },
      "source": [
        "p3_listening = p3_history.resample('D')"
      ],
      "execution_count": null,
      "outputs": []
    },
    {
      "cell_type": "code",
      "metadata": {
        "id": "ByIuXVW8rZj7"
      },
      "source": [
        "p3_listening.head()"
      ],
      "execution_count": null,
      "outputs": []
    },
    {
      "cell_type": "code",
      "metadata": {
        "id": "EpfxyTVgoJQT"
      },
      "source": [
        "p3_total_listening.plot(color='#1DB964')"
      ],
      "execution_count": null,
      "outputs": []
    },
    {
      "cell_type": "markdown",
      "metadata": {
        "id": "gfvkeKSxOQN5"
      },
      "source": [
        "# Spotify API Setup * Exploratory purposes only *"
      ]
    },
    {
      "cell_type": "code",
      "metadata": {
        "id": "0AYfTOmpM-Qm",
        "colab": {
          "base_uri": "https://localhost:8080/"
        },
        "outputId": "5890e8a4-970e-4a9f-afee-48e6ce0e8c32"
      },
      "source": [
        "pip install spotipy --upgrade"
      ],
      "execution_count": 1,
      "outputs": [
        {
          "output_type": "stream",
          "name": "stdout",
          "text": [
            "Collecting spotipy\n",
            "  Downloading spotipy-2.19.0-py3-none-any.whl (27 kB)\n",
            "Collecting urllib3>=1.26.0\n",
            "  Downloading urllib3-1.26.7-py2.py3-none-any.whl (138 kB)\n",
            "\u001b[?25l\r\u001b[K     |██▍                             | 10 kB 13.4 MB/s eta 0:00:01\r\u001b[K     |████▊                           | 20 kB 15.2 MB/s eta 0:00:01\r\u001b[K     |███████                         | 30 kB 15.6 MB/s eta 0:00:01\r\u001b[K     |█████████▌                      | 40 kB 16.3 MB/s eta 0:00:01\r\u001b[K     |███████████▉                    | 51 kB 18.8 MB/s eta 0:00:01\r\u001b[K     |██████████████▏                 | 61 kB 20.3 MB/s eta 0:00:01\r\u001b[K     |████████████████▌               | 71 kB 21.4 MB/s eta 0:00:01\r\u001b[K     |███████████████████             | 81 kB 19.0 MB/s eta 0:00:01\r\u001b[K     |█████████████████████▎          | 92 kB 20.1 MB/s eta 0:00:01\r\u001b[K     |███████████████████████▋        | 102 kB 21.6 MB/s eta 0:00:01\r\u001b[K     |██████████████████████████      | 112 kB 21.6 MB/s eta 0:00:01\r\u001b[K     |████████████████████████████▍   | 122 kB 21.6 MB/s eta 0:00:01\r\u001b[K     |██████████████████████████████▊ | 133 kB 21.6 MB/s eta 0:00:01\r\u001b[K     |████████████████████████████████| 138 kB 21.6 MB/s \n",
            "\u001b[?25hRequirement already satisfied: six>=1.15.0 in /usr/local/lib/python3.7/dist-packages (from spotipy) (1.15.0)\n",
            "Collecting requests>=2.25.0\n",
            "  Downloading requests-2.26.0-py2.py3-none-any.whl (62 kB)\n",
            "\u001b[K     |████████████████████████████████| 62 kB 500 kB/s \n",
            "\u001b[?25hRequirement already satisfied: certifi>=2017.4.17 in /usr/local/lib/python3.7/dist-packages (from requests>=2.25.0->spotipy) (2021.10.8)\n",
            "Requirement already satisfied: charset-normalizer~=2.0.0 in /usr/local/lib/python3.7/dist-packages (from requests>=2.25.0->spotipy) (2.0.8)\n",
            "Requirement already satisfied: idna<4,>=2.5 in /usr/local/lib/python3.7/dist-packages (from requests>=2.25.0->spotipy) (2.10)\n",
            "Installing collected packages: urllib3, requests, spotipy\n",
            "  Attempting uninstall: urllib3\n",
            "    Found existing installation: urllib3 1.24.3\n",
            "    Uninstalling urllib3-1.24.3:\n",
            "      Successfully uninstalled urllib3-1.24.3\n",
            "  Attempting uninstall: requests\n",
            "    Found existing installation: requests 2.23.0\n",
            "    Uninstalling requests-2.23.0:\n",
            "      Successfully uninstalled requests-2.23.0\n",
            "\u001b[31mERROR: pip's dependency resolver does not currently take into account all the packages that are installed. This behaviour is the source of the following dependency conflicts.\n",
            "google-colab 1.0.0 requires requests~=2.23.0, but you have requests 2.26.0 which is incompatible.\n",
            "datascience 0.10.6 requires folium==0.2.1, but you have folium 0.8.3 which is incompatible.\u001b[0m\n",
            "Successfully installed requests-2.26.0 spotipy-2.19.0 urllib3-1.26.7\n"
          ]
        }
      ]
    },
    {
      "cell_type": "code",
      "metadata": {
        "id": "2s3L33NpHTR_"
      },
      "source": [
        "!pip3 install python-dotenv"
      ],
      "execution_count": null,
      "outputs": []
    },
    {
      "cell_type": "code",
      "metadata": {
        "id": "P4haoHukNKoz"
      },
      "source": [
        "# Set environment variables\n",
        "os.environ['SPOTIPY_CLIENT_ID'] = '0adb1b33e8f949c891735a609a07470c'\n",
        "os.environ['SPOTIPY_CLIENT_SECRET'] = '4476308c95d54775826231eb0e4cd621'\n",
        "\n",
        "# Get environment variables\n",
        "CLIENT_ID = os.getenv('SPOTIPY_CLIENT_ID')\n",
        "CLIENT_SECRET = os.environ.get('SPOTIPY_CLIENT_SECRET')"
      ],
      "execution_count": 5,
      "outputs": []
    },
    {
      "cell_type": "code",
      "metadata": {
        "id": "cpyOIKLKOO10"
      },
      "source": [
        "import spotipy\n",
        "from spotipy.oauth2 import SpotifyClientCredentials\n",
        "\n",
        "auth_manager = SpotifyClientCredentials()\n",
        "\n",
        "sp = spotipy.Spotify(auth_manager=auth_manager)"
      ],
      "execution_count": 6,
      "outputs": []
    },
    {
      "cell_type": "code",
      "metadata": {
        "id": "GOyMwgUgw5rP"
      },
      "source": [
        " "
      ],
      "execution_count": null,
      "outputs": []
    },
    {
      "cell_type": "code",
      "metadata": {
        "id": "0NjgiFvHXbvZ"
      },
      "source": [
        "results = sp.search('artist:Drake', limit=1)"
      ],
      "execution_count": 7,
      "outputs": []
    },
    {
      "cell_type": "code",
      "source": [
        "hi"
      ],
      "metadata": {
        "colab": {
          "base_uri": "https://localhost:8080/"
        },
        "id": "RhlFZ2Y9dpj6",
        "outputId": "8e856b8a-5ac7-48cf-d782-3338a0fa7ecb"
      },
      "execution_count": 20,
      "outputs": [
        {
          "output_type": "execute_result",
          "data": {
            "text/plain": [
              "{'tracks': {'href': 'https://api.spotify.com/v1/search?query=From+Time&type=track&offset=0&limit=1',\n",
              "  'items': [{'album': {'album_type': 'album',\n",
              "     'artists': [{'external_urls': {'spotify': 'https://open.spotify.com/artist/3TVXtAsR1Inumwj472S9r4'},\n",
              "       'href': 'https://api.spotify.com/v1/artists/3TVXtAsR1Inumwj472S9r4',\n",
              "       'id': '3TVXtAsR1Inumwj472S9r4',\n",
              "       'name': 'Drake',\n",
              "       'type': 'artist',\n",
              "       'uri': 'spotify:artist:3TVXtAsR1Inumwj472S9r4'}],\n",
              "     'available_markets': ['AD',\n",
              "      'AE',\n",
              "      'AG',\n",
              "      'AL',\n",
              "      'AM',\n",
              "      'AO',\n",
              "      'AR',\n",
              "      'AT',\n",
              "      'AU',\n",
              "      'AZ',\n",
              "      'BA',\n",
              "      'BB',\n",
              "      'BE',\n",
              "      'BF',\n",
              "      'BG',\n",
              "      'BH',\n",
              "      'BI',\n",
              "      'BJ',\n",
              "      'BN',\n",
              "      'BO',\n",
              "      'BR',\n",
              "      'BS',\n",
              "      'BT',\n",
              "      'BW',\n",
              "      'BY',\n",
              "      'BZ',\n",
              "      'CA',\n",
              "      'CD',\n",
              "      'CG',\n",
              "      'CH',\n",
              "      'CI',\n",
              "      'CL',\n",
              "      'CM',\n",
              "      'CO',\n",
              "      'CR',\n",
              "      'CV',\n",
              "      'CY',\n",
              "      'CZ',\n",
              "      'DE',\n",
              "      'DJ',\n",
              "      'DK',\n",
              "      'DM',\n",
              "      'DO',\n",
              "      'DZ',\n",
              "      'EC',\n",
              "      'EE',\n",
              "      'EG',\n",
              "      'ES',\n",
              "      'FI',\n",
              "      'FJ',\n",
              "      'FM',\n",
              "      'FR',\n",
              "      'GA',\n",
              "      'GB',\n",
              "      'GD',\n",
              "      'GH',\n",
              "      'GM',\n",
              "      'GN',\n",
              "      'GQ',\n",
              "      'GR',\n",
              "      'GT',\n",
              "      'GW',\n",
              "      'GY',\n",
              "      'HK',\n",
              "      'HN',\n",
              "      'HR',\n",
              "      'HU',\n",
              "      'ID',\n",
              "      'IE',\n",
              "      'IL',\n",
              "      'IN',\n",
              "      'IQ',\n",
              "      'IS',\n",
              "      'IT',\n",
              "      'JM',\n",
              "      'JO',\n",
              "      'KE',\n",
              "      'KG',\n",
              "      'KH',\n",
              "      'KI',\n",
              "      'KM',\n",
              "      'KN',\n",
              "      'KR',\n",
              "      'KW',\n",
              "      'KZ',\n",
              "      'LA',\n",
              "      'LB',\n",
              "      'LC',\n",
              "      'LI',\n",
              "      'LK',\n",
              "      'LR',\n",
              "      'LS',\n",
              "      'LT',\n",
              "      'LU',\n",
              "      'LV',\n",
              "      'LY',\n",
              "      'MA',\n",
              "      'MC',\n",
              "      'MD',\n",
              "      'ME',\n",
              "      'MG',\n",
              "      'MH',\n",
              "      'MK',\n",
              "      'ML',\n",
              "      'MN',\n",
              "      'MO',\n",
              "      'MR',\n",
              "      'MT',\n",
              "      'MU',\n",
              "      'MV',\n",
              "      'MW',\n",
              "      'MX',\n",
              "      'MY',\n",
              "      'MZ',\n",
              "      'NA',\n",
              "      'NE',\n",
              "      'NG',\n",
              "      'NI',\n",
              "      'NL',\n",
              "      'NO',\n",
              "      'NP',\n",
              "      'NR',\n",
              "      'NZ',\n",
              "      'OM',\n",
              "      'PA',\n",
              "      'PE',\n",
              "      'PG',\n",
              "      'PH',\n",
              "      'PK',\n",
              "      'PL',\n",
              "      'PS',\n",
              "      'PT',\n",
              "      'PW',\n",
              "      'PY',\n",
              "      'QA',\n",
              "      'RO',\n",
              "      'RS',\n",
              "      'RU',\n",
              "      'RW',\n",
              "      'SA',\n",
              "      'SB',\n",
              "      'SC',\n",
              "      'SG',\n",
              "      'SI',\n",
              "      'SK',\n",
              "      'SL',\n",
              "      'SN',\n",
              "      'SR',\n",
              "      'ST',\n",
              "      'SV',\n",
              "      'SZ',\n",
              "      'TD',\n",
              "      'TG',\n",
              "      'TH',\n",
              "      'TJ',\n",
              "      'TL',\n",
              "      'TN',\n",
              "      'TO',\n",
              "      'TR',\n",
              "      'TT',\n",
              "      'TV',\n",
              "      'TW',\n",
              "      'TZ',\n",
              "      'UA',\n",
              "      'UG',\n",
              "      'US',\n",
              "      'UY',\n",
              "      'UZ',\n",
              "      'VC',\n",
              "      'VE',\n",
              "      'VN',\n",
              "      'WS',\n",
              "      'XK',\n",
              "      'ZA',\n",
              "      'ZM',\n",
              "      'ZW'],\n",
              "     'external_urls': {'spotify': 'https://open.spotify.com/album/1XslIirSxfAhhxRdn4Li9t'},\n",
              "     'href': 'https://api.spotify.com/v1/albums/1XslIirSxfAhhxRdn4Li9t',\n",
              "     'id': '1XslIirSxfAhhxRdn4Li9t',\n",
              "     'images': [{'height': 640,\n",
              "       'url': 'https://i.scdn.co/image/ab67616d0000b273a90d170c61fb7d063d47161d',\n",
              "       'width': 640},\n",
              "      {'height': 300,\n",
              "       'url': 'https://i.scdn.co/image/ab67616d00001e02a90d170c61fb7d063d47161d',\n",
              "       'width': 300},\n",
              "      {'height': 64,\n",
              "       'url': 'https://i.scdn.co/image/ab67616d00004851a90d170c61fb7d063d47161d',\n",
              "       'width': 64}],\n",
              "     'name': 'Nothing Was The Same',\n",
              "     'release_date': '2013-01-01',\n",
              "     'release_date_precision': 'day',\n",
              "     'total_tracks': 13,\n",
              "     'type': 'album',\n",
              "     'uri': 'spotify:album:1XslIirSxfAhhxRdn4Li9t'},\n",
              "    'artists': [{'external_urls': {'spotify': 'https://open.spotify.com/artist/3TVXtAsR1Inumwj472S9r4'},\n",
              "      'href': 'https://api.spotify.com/v1/artists/3TVXtAsR1Inumwj472S9r4',\n",
              "      'id': '3TVXtAsR1Inumwj472S9r4',\n",
              "      'name': 'Drake',\n",
              "      'type': 'artist',\n",
              "      'uri': 'spotify:artist:3TVXtAsR1Inumwj472S9r4'},\n",
              "     {'external_urls': {'spotify': 'https://open.spotify.com/artist/5ZS223C6JyBfXasXxrRqOk'},\n",
              "      'href': 'https://api.spotify.com/v1/artists/5ZS223C6JyBfXasXxrRqOk',\n",
              "      'id': '5ZS223C6JyBfXasXxrRqOk',\n",
              "      'name': 'Jhené Aiko',\n",
              "      'type': 'artist',\n",
              "      'uri': 'spotify:artist:5ZS223C6JyBfXasXxrRqOk'}],\n",
              "    'available_markets': ['AD',\n",
              "     'AE',\n",
              "     'AG',\n",
              "     'AL',\n",
              "     'AM',\n",
              "     'AO',\n",
              "     'AR',\n",
              "     'AT',\n",
              "     'AU',\n",
              "     'AZ',\n",
              "     'BA',\n",
              "     'BB',\n",
              "     'BE',\n",
              "     'BF',\n",
              "     'BG',\n",
              "     'BH',\n",
              "     'BI',\n",
              "     'BJ',\n",
              "     'BN',\n",
              "     'BO',\n",
              "     'BR',\n",
              "     'BS',\n",
              "     'BT',\n",
              "     'BW',\n",
              "     'BY',\n",
              "     'BZ',\n",
              "     'CA',\n",
              "     'CD',\n",
              "     'CG',\n",
              "     'CH',\n",
              "     'CI',\n",
              "     'CL',\n",
              "     'CM',\n",
              "     'CO',\n",
              "     'CR',\n",
              "     'CV',\n",
              "     'CY',\n",
              "     'CZ',\n",
              "     'DE',\n",
              "     'DJ',\n",
              "     'DK',\n",
              "     'DM',\n",
              "     'DO',\n",
              "     'DZ',\n",
              "     'EC',\n",
              "     'EE',\n",
              "     'EG',\n",
              "     'ES',\n",
              "     'FI',\n",
              "     'FJ',\n",
              "     'FM',\n",
              "     'FR',\n",
              "     'GA',\n",
              "     'GB',\n",
              "     'GD',\n",
              "     'GH',\n",
              "     'GM',\n",
              "     'GN',\n",
              "     'GQ',\n",
              "     'GR',\n",
              "     'GT',\n",
              "     'GW',\n",
              "     'GY',\n",
              "     'HK',\n",
              "     'HN',\n",
              "     'HR',\n",
              "     'HU',\n",
              "     'ID',\n",
              "     'IE',\n",
              "     'IL',\n",
              "     'IN',\n",
              "     'IQ',\n",
              "     'IS',\n",
              "     'IT',\n",
              "     'JM',\n",
              "     'JO',\n",
              "     'KE',\n",
              "     'KG',\n",
              "     'KH',\n",
              "     'KI',\n",
              "     'KM',\n",
              "     'KN',\n",
              "     'KR',\n",
              "     'KW',\n",
              "     'KZ',\n",
              "     'LA',\n",
              "     'LB',\n",
              "     'LC',\n",
              "     'LI',\n",
              "     'LK',\n",
              "     'LR',\n",
              "     'LS',\n",
              "     'LT',\n",
              "     'LU',\n",
              "     'LV',\n",
              "     'LY',\n",
              "     'MA',\n",
              "     'MC',\n",
              "     'MD',\n",
              "     'ME',\n",
              "     'MG',\n",
              "     'MH',\n",
              "     'MK',\n",
              "     'ML',\n",
              "     'MN',\n",
              "     'MO',\n",
              "     'MR',\n",
              "     'MT',\n",
              "     'MU',\n",
              "     'MV',\n",
              "     'MW',\n",
              "     'MX',\n",
              "     'MY',\n",
              "     'MZ',\n",
              "     'NA',\n",
              "     'NE',\n",
              "     'NG',\n",
              "     'NI',\n",
              "     'NL',\n",
              "     'NO',\n",
              "     'NP',\n",
              "     'NR',\n",
              "     'NZ',\n",
              "     'OM',\n",
              "     'PA',\n",
              "     'PE',\n",
              "     'PG',\n",
              "     'PH',\n",
              "     'PK',\n",
              "     'PL',\n",
              "     'PS',\n",
              "     'PT',\n",
              "     'PW',\n",
              "     'PY',\n",
              "     'QA',\n",
              "     'RO',\n",
              "     'RS',\n",
              "     'RU',\n",
              "     'RW',\n",
              "     'SA',\n",
              "     'SB',\n",
              "     'SC',\n",
              "     'SG',\n",
              "     'SI',\n",
              "     'SK',\n",
              "     'SL',\n",
              "     'SN',\n",
              "     'SR',\n",
              "     'ST',\n",
              "     'SV',\n",
              "     'SZ',\n",
              "     'TD',\n",
              "     'TG',\n",
              "     'TH',\n",
              "     'TJ',\n",
              "     'TL',\n",
              "     'TN',\n",
              "     'TO',\n",
              "     'TR',\n",
              "     'TT',\n",
              "     'TV',\n",
              "     'TW',\n",
              "     'TZ',\n",
              "     'UA',\n",
              "     'UG',\n",
              "     'US',\n",
              "     'UY',\n",
              "     'UZ',\n",
              "     'VC',\n",
              "     'VE',\n",
              "     'VN',\n",
              "     'WS',\n",
              "     'XK',\n",
              "     'ZA',\n",
              "     'ZM',\n",
              "     'ZW'],\n",
              "    'disc_number': 1,\n",
              "    'duration_ms': 322160,\n",
              "    'explicit': True,\n",
              "    'external_ids': {'isrc': 'USCM51300744'},\n",
              "    'external_urls': {'spotify': 'https://open.spotify.com/track/0GaBIpyHvytM1UBYmqXu08'},\n",
              "    'href': 'https://api.spotify.com/v1/tracks/0GaBIpyHvytM1UBYmqXu08',\n",
              "    'id': '0GaBIpyHvytM1UBYmqXu08',\n",
              "    'is_local': False,\n",
              "    'name': 'From Time',\n",
              "    'popularity': 69,\n",
              "    'preview_url': None,\n",
              "    'track_number': 7,\n",
              "    'type': 'track',\n",
              "    'uri': 'spotify:track:0GaBIpyHvytM1UBYmqXu08'}],\n",
              "  'limit': 1,\n",
              "  'next': 'https://api.spotify.com/v1/search?query=From+Time&type=track&offset=1&limit=1',\n",
              "  'offset': 0,\n",
              "  'previous': None,\n",
              "  'total': 10001}}"
            ]
          },
          "metadata": {},
          "execution_count": 20
        }
      ]
    },
    {
      "cell_type": "code",
      "metadata": {
        "id": "D5IVBOLQZVXf",
        "colab": {
          "base_uri": "https://localhost:8080/",
          "height": 34
        },
        "outputId": "f030cbec-0edf-4b83-f6ba-699db165f3bb"
      },
      "source": [
        "hi = sp.search('track:From Time artist:Drake', type='track', limit=1)\n",
        "hi['tracks']['items'][0]['id']"
      ],
      "execution_count": 27,
      "outputs": [
        {
          "output_type": "execute_result",
          "data": {
            "application/vnd.google.colaboratory.intrinsic+json": {
              "type": "string"
            },
            "text/plain": [
              "'0GaBIpyHvytM1UBYmqXu08'"
            ]
          },
          "metadata": {},
          "execution_count": 27
        }
      ]
    },
    {
      "cell_type": "code",
      "source": [
        "hi['tracks']['items'][0]['artists'][0]['name']"
      ],
      "metadata": {
        "colab": {
          "base_uri": "https://localhost:8080/",
          "height": 34
        },
        "id": "JEmO8st9dMGt",
        "outputId": "0580d683-06d4-4885-a8b6-3d720f9a72d0"
      },
      "execution_count": 24,
      "outputs": [
        {
          "output_type": "execute_result",
          "data": {
            "application/vnd.google.colaboratory.intrinsic+json": {
              "type": "string"
            },
            "text/plain": [
              "'Drake'"
            ]
          },
          "metadata": {},
          "execution_count": 24
        }
      ]
    },
    {
      "cell_type": "code",
      "source": [
        "def get_spotify_track_id(tracks, artists):\n",
        "  \n",
        "  # For each track, use the search \n",
        "  for track in tracks:\n",
        "    result = sp.search(track, limit = 3)\n",
        "\n"
      ],
      "metadata": {
        "id": "8JSP8KnMeB_n"
      },
      "execution_count": null,
      "outputs": []
    },
    {
      "cell_type": "code",
      "metadata": {
        "id": "66V4R2BNanQE",
        "colab": {
          "base_uri": "https://localhost:8080/"
        },
        "outputId": "fd06fcd2-75fb-4530-c4ed-3596788fb02b"
      },
      "source": [
        "audio_F = sp.audio_features(tracks=['3EApebexZ7YqDIqw2EMTDh'])\n",
        "\n",
        "duration, dance, speechiness, valence = audio_F[0]['duration_ms'], audio_F[0]['danceability'], audio_F[0]['speechiness'], audio_F[0]['valence']\n",
        "\n",
        "print(duration, dance, speechiness, valence)"
      ],
      "execution_count": 15,
      "outputs": [
        {
          "output_type": "stream",
          "name": "stdout",
          "text": [
            "240640 0.514 0.408 0.287\n"
          ]
        }
      ]
    },
    {
      "cell_type": "code",
      "metadata": {
        "id": "2x48pmGnaKbx"
      },
      "source": [
        "hi"
      ],
      "execution_count": null,
      "outputs": []
    },
    {
      "cell_type": "code",
      "metadata": {
        "id": "XvkiA3EjZ0SB"
      },
      "source": [
        "hi['tracks']['items'][0]['duration_ms']"
      ],
      "execution_count": null,
      "outputs": []
    },
    {
      "cell_type": "code",
      "metadata": {
        "id": "qzsY5It-X_2P"
      },
      "source": [
        "(results['tracks']['items'][0]['album']['artists'][0]['id']"
      ],
      "execution_count": null,
      "outputs": []
    },
    {
      "cell_type": "code",
      "metadata": {
        "id": "QVB-NKP9YtzU"
      },
      "source": [
        "sp.artist('1anyVhU62p31KFi8MEzkbf')"
      ],
      "execution_count": null,
      "outputs": []
    },
    {
      "cell_type": "code",
      "metadata": {
        "id": "w992lbe-tnqZ"
      },
      "source": [
        "from dotenv import load_dotenv"
      ],
      "execution_count": null,
      "outputs": []
    },
    {
      "cell_type": "code",
      "metadata": {
        "id": "u7cuNcJAMmoN"
      },
      "source": [
        "load_dotenv()"
      ],
      "execution_count": null,
      "outputs": []
    },
    {
      "cell_type": "code",
      "metadata": {
        "id": "Y3ERc5S6sTzc"
      },
      "source": [
        "# magics for import statements\n",
        "%load_ext dotenv\n",
        "%dotenv"
      ],
      "execution_count": null,
      "outputs": []
    },
    {
      "cell_type": "code",
      "metadata": {
        "id": "M-fSFS7YJHUI"
      },
      "source": [
        "print(CLIENT_ID, CLIENT_SECRET)"
      ],
      "execution_count": null,
      "outputs": []
    },
    {
      "cell_type": "code",
      "source": [
        ""
      ],
      "metadata": {
        "id": "3YEEYGf-IQls"
      },
      "execution_count": null,
      "outputs": []
    },
    {
      "cell_type": "markdown",
      "source": [
        "# World Map Visualization of Top Song Artists' Origin (Ready to run)"
      ],
      "metadata": {
        "id": "6NMu0pFbIR15"
      }
    },
    {
      "cell_type": "code",
      "source": [
        "# Import the beautifulsoup \n",
        "# and request libraries of python.\n",
        "import requests\n",
        "import bs4\n",
        "import regex as re"
      ],
      "metadata": {
        "id": "aTIqg0bQdnk_"
      },
      "execution_count": null,
      "outputs": []
    },
    {
      "cell_type": "code",
      "source": [
        "# Import folium for map and marker\n",
        "import folium"
      ],
      "metadata": {
        "id": "GxwR3asJIfdj"
      },
      "execution_count": null,
      "outputs": []
    },
    {
      "cell_type": "code",
      "source": [
        "# Import simplemaps world csv into dataframe\n",
        "# df contains information for cities around the world, including lat/long for mapping\n",
        "world_cities = pd.read_csv('/content/spotify-vision/simplemaps_world_cities/worldcities.csv')\n",
        "\n",
        "world_cities.head()\n"
      ],
      "metadata": {
        "id": "glEEmPoDI2sN"
      },
      "execution_count": null,
      "outputs": []
    },
    {
      "cell_type": "code",
      "source": [
        "world_cities[world_cities['city'] == 'Thousand Oaks']"
      ],
      "metadata": {
        "id": "winBXKAwNfv8"
      },
      "execution_count": null,
      "outputs": []
    },
    {
      "cell_type": "code",
      "source": [
        "\n",
        "# Dictionary of artist birthplace lat/long of top songs for mappinng\n",
        "locations_artist = {'artist': ['Drake','Jorja Smith','Olivia O\\'Brien', 'blackbear','Kanye West', 'Drake', 'Porter Robinson', 'Young Thug', 'DaBaby', 'YNW Melly', 'Cage The Elephant', 'Lost Frequencies', 'Vampire Weekend', 'Nora En Pure', 'Bo Burnham'],\n",
        "                    'person': [0, 0, 0, 0, 0, 1,1,1,1,1,2,2,2,2,2 ]}\n",
        "\n",
        "location_df = pd.DataFrame.from_dict(locations_artist)"
      ],
      "metadata": {
        "id": "i9NctKIiM7DJ"
      },
      "execution_count": null,
      "outputs": []
    },
    {
      "cell_type": "code",
      "source": [
        "location_df"
      ],
      "metadata": {
        "id": "32PcePNWPgQb"
      },
      "execution_count": null,
      "outputs": []
    },
    {
      "cell_type": "code",
      "source": [
        "def get_artist_location(artist_name):\n",
        "  # Make two strings with default google search URL\n",
        "  # 'https://google.com/search?q=' and\n",
        "  # our customized search keyword.\n",
        "  # Concatenate them\n",
        "  text = f'{artist_name} artist'\n",
        "\n",
        "  url = 'https://google.com/search?q=' + text\n",
        "      \n",
        "    # Fetch the URL data using requests.get(url),\n",
        "    # store it in a variable, request_result.\n",
        "  request_result=requests.get( url )\n",
        "      \n",
        "    # Creating soup from the fetched request\n",
        "  soup = bs4.BeautifulSoup(request_result.text,\n",
        "                            \"html.parser\")\n",
        "\n",
        "    # Finding span of specific class that contains Wiki information for birth place identifying \n",
        "  origin = soup.find_all(\"span\" , class_=\"XLloXe AP7Wnd\")\n",
        "\n",
        "  # Find pattern of 'City, State(or Country)'\n",
        "  location_pattern = re.compile(r'(([A-Z][a-z]*\\s*)+)\\s*,\\s*([A-Z][a-z]*)')\n",
        "\n",
        "  # For each text in list of span, convert tags to text and search pattern. If search is not none, return City group of pattern\n",
        "  for text in origin:\n",
        "    text = text.text\n",
        "    location = re.search(location_pattern,text)\n",
        "    if location is not None:\n",
        "      return location.group(1)\n",
        "    "
      ],
      "metadata": {
        "id": "3g4OtWjnm1WN"
      },
      "execution_count": null,
      "outputs": []
    },
    {
      "cell_type": "code",
      "source": [
        "# \n",
        "locations = []\n",
        "for index, row in location_df.iterrows():\n",
        "  artist_location = get_artist_location(row['artist']) \n",
        "  print(artist_location)\n",
        "  locations.append(artist_location)\n",
        "print(locations)"
      ],
      "metadata": {
        "id": "pobrL-ZqnYzi"
      },
      "execution_count": null,
      "outputs": []
    },
    {
      "cell_type": "code",
      "source": [
        "location_df['city'] = locations"
      ],
      "metadata": {
        "id": "fyjRhbtzOrja"
      },
      "execution_count": null,
      "outputs": []
    },
    {
      "cell_type": "code",
      "source": [
        "artist_locations = location_df.merge(world_cities, how='left', on='city')"
      ],
      "metadata": {
        "id": "0fGlF5jTPuKH"
      },
      "execution_count": null,
      "outputs": []
    },
    {
      "cell_type": "code",
      "source": [
        "artist_locations.dropna(subset=['lat','lng'], inplace=True)\n",
        "\n",
        "artist_locations"
      ],
      "metadata": {
        "id": "bRB0EIl6QGRJ"
      },
      "execution_count": null,
      "outputs": []
    },
    {
      "cell_type": "code",
      "source": [
        "map = folium.Map(location=[artist_locations['lat'].mean(), \n",
        "                           artist_locations[\"lng\"].mean()], \n",
        "                 zoom_start=3, control_scale=True)\n",
        "\n",
        "folium.TileLayer('stamentoner').add_to(map)\n",
        "\n",
        "for index, location_info in artist_locations.iterrows():\n",
        "  if location_info.person == 0:\n",
        "    type_color = 'blue'\n",
        "  elif location_info.person == 1:\n",
        "    type_color = 'pink'\n",
        "  else:\n",
        "    type_color = 'lightgreen'\n",
        "  folium.Marker([location_info[\"lat\"], location_info[\"lng\"]], popup=f'City,County:\\t{location_info[\"city\"]},{location_info[\"country\"]}\\nArtist: {location_info[\"artist\"]}', icon=folium.Icon(color=f'{type_color}')).add_to(map)\n",
        "\n",
        "map"
      ],
      "metadata": {
        "id": "RDbqSG1DI15l"
      },
      "execution_count": null,
      "outputs": []
    },
    {
      "cell_type": "code",
      "source": [
        "text = 'olivia o\\'brien artist'\n",
        "\n",
        "url = 'https://google.com/search?q=' + text\n",
        "    \n",
        "  # Fetch the URL data using requests.get(url),\n",
        "  # store it in a variable, request_result.\n",
        "request_result=requests.get( url )\n",
        "    \n",
        "  # Creating soup from the fetched request\n",
        "soup = bs4.BeautifulSoup(request_result.text,\n",
        "                          \"html.parser\")\n",
        "\n",
        "  # Finding temperature in Celsius.\n",
        "  # The temperature is stored inside the class \"BNeawe\". \n",
        "origin = soup.find_all(\"span\" , class_=\"XLloXe AP7Wnd\")\n",
        "\n",
        "location_pattern = re.compile(r'(([A-Z][a-z]*\\s*)+)\\s*,\\s*([A-Z][a-z]*)')\n",
        "  #city = origin.split(sep=',')[0]\n",
        "\n",
        "for text in origin:\n",
        "  text = text.text\n",
        "  location = re.search(location_pattern,text)\n",
        "  if location is not None:\n",
        "    print(location.group())"
      ],
      "metadata": {
        "id": "LiduBcuEwcUU"
      },
      "execution_count": null,
      "outputs": []
    },
    {
      "cell_type": "code",
      "source": [
        "()"
      ],
      "metadata": {
        "id": "lKl8oC48xK_i"
      },
      "execution_count": null,
      "outputs": []
    },
    {
      "cell_type": "code",
      "source": [
        "get_artist_location('olivia o\\'brien') "
      ],
      "metadata": {
        "id": "Fw0FamcGrkqI"
      },
      "execution_count": null,
      "outputs": []
    },
    {
      "cell_type": "code",
      "source": [
        "get_artist_location('blackbear') "
      ],
      "metadata": {
        "id": "BlZVAENsrFDI"
      },
      "execution_count": null,
      "outputs": []
    },
    {
      "cell_type": "code",
      "source": [
        "location_pd"
      ],
      "metadata": {
        "id": "eQZH8S8prair"
      },
      "execution_count": null,
      "outputs": []
    },
    {
      "cell_type": "markdown",
      "source": [
        "\n",
        "\n",
        "# Discussion\n",
        "\n",
        "- Would like to explore the skipping behavior\n",
        "- "
      ],
      "metadata": {
        "id": "LKvTcjG543Jj"
      }
    }
  ]
}