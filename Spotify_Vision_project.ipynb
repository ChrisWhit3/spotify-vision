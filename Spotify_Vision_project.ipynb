{
  "nbformat": 4,
  "nbformat_minor": 0,
  "metadata": {
    "colab": {
      "name": "Spotify_Vision_project.ipynb",
      "provenance": [],
      "collapsed_sections": [
        "yn7xuTwEcI4O",
        "6NMu0pFbIR15",
        "gfvkeKSxOQN5",
        "bzGWAz2JcTVS",
        "YLaZZjM1jaXz"
      ]
    },
    "kernelspec": {
      "name": "python3",
      "display_name": "Python 3"
    },
    "language_info": {
      "name": "python"
    }
  },
  "cells": [
    {
      "cell_type": "markdown",
      "metadata": {
        "id": "JwTN6dnqj7yv"
      },
      "source": [
        "Christopher White\n",
        "\n",
        "Professor Filatova\n",
        "\n",
        "CST 3512\n",
        "\n",
        "11 November 2021"
      ]
    },
    {
      "cell_type": "markdown",
      "metadata": {
        "id": "xUD1tr-1UXY8"
      },
      "source": [
        "# Spotify project - 'Wrapped' Replica\n",
        "\n",
        "\n",
        "> I want to create a summary of the Spotify listening history of my friends, similar to Spotify's yearly 'Wrapped' feature which shows users their year on the platform, including their favorite artists, tracks, playlists, genres... I have gotten my friends' approval and have had them request their past year listening history data from Spotify (pending receipt, should take a week). The data will come in json form.\n",
        "\n",
        "---\n",
        "\n",
        "\n",
        "  Pre-reqs:   \n",
        "* Collect json files from friends on their year long Spotify listening history\n",
        "* Add json file to github repo to use curl command to put into local storage in notebook\n",
        "* Authenticate Spotify API to query top songs/artists for audio features (for plotting) and country code (for geo analysis)\n",
        "* Create data frames for each friends' listening history\n",
        "\n",
        "\n",
        "\n",
        "---\n",
        "\n",
        "# Objectives:\n",
        "* Find top 10 songs for each friend by sum playtime (turn ms -> minutes/hrs)\n",
        "* Find top 10 artist for each friend by sum playtime (turn ms -> minutes/hrs)\n",
        "* Plot rolling total listening for top songs over year for each friend / plot daily/weekly totals\n",
        "* Plot rolling total listening for top artist over year for each friend / plot daily/weekly totals\n",
        "* Plot total top artists amongst friends / total top songs if there is overlap \n",
        "* Explore audio features of each friends' top songs:      \n",
        "https://developer.spotify.com/documentation/web-api/reference/#/operations/get-several-audio-features\n",
        "  * duration_ms (int)\n",
        "    * \"Duration of the track in milliseconds\". Will use this to calculate how many times a track was listened to (in a day/week) by dividing msPlayed from original json by this duration\n",
        "  * danceability (float, 0.0 - 1.0)\n",
        "    * \"Danceability describes how suitable a track is for dancing based on a combination of musical elements including tempo, rhythm stability, beat strength, and overall regularity. A value of 0.0 is least danceable and 1.0 is most danceable.\"\n",
        "  * energy (float, 0.0 - 1.0)\n",
        "    * \"Energy is a measure from 0.0 to 1.0 and represents a perceptual measure of intensity and activity. Typically, energetic tracks feel fast, loud, and noisy. For example, death metal has high energy, while a Bach prelude scores low on the scale. Perceptual features contributing to this attribute include dynamic range, perceived loudness, timbre, onset rate, and general entropy.\"\n",
        "  * speechiness (float)\n",
        "    * \"Speechiness detects the presence of spoken words in a track. The more exclusively speech-like the recording (e.g. talk show, audio book, poetry), the closer to 1.0 the attribute value. Values above 0.66 describe tracks that are probably made entirely of spoken words. Values between 0.33 and 0.66 describe tracks that may contain both music and speech, either in sections or layered, including such cases as rap music. Values below 0.33 most likely represent music and other non-speech-like tracks.\"\n",
        "  * valence (float, 0.0 - 1.0)\n",
        "    * \"A measure from 0.0 to 1.0 describing the musical positiveness conveyed by a track. Tracks with high valence sound more positive (e.g. happy, cheerful, euphoric), while tracks with low valence sound more negative (e.g. sad, depressed, angry).\"\n",
        "\n",
        "* Plot 'available_market' country code of each friend's top tracks on world map\n",
        "  * Create markers for each song on map (will contain track information)\n",
        "  * Colorcode marker by friend\n",
        "* Plot artist birth place for each top artist on world map\n",
        "\n",
        "\n",
        "number of different distinct artists listened to over time/per week. \n",
        "\n",
        "\n",
        "\n",
        "\n",
        "\n"
      ]
    },
    {
      "cell_type": "markdown",
      "metadata": {
        "id": "iT9WW_uNlz9t"
      },
      "source": [
        "# Process:     \n",
        "Dataframe manipulation:   \n",
        "* Read json files into separate dataframes\n",
        "* Find top 10 highest sum(playtime) group by song for each friend => into list for querying Spotify API\n",
        "* Find top 10 highest sum(playtime) group by artist for each friend => into list\n",
        "* Find intersection of dataframes to look at group top stats\n",
        "\n",
        "Spotify API:    \n",
        "https://developer.spotify.com/documentation/web-api/reference/#/operations/search\n",
        "* Query list of top song names for each friend, using the artist filter to get specific results. obtain spotify URI / ID for track details, country code, genre\n",
        "* Query audio features given list of top songs\n",
        "* Create new columns in dataframes with audio features and country code\n",
        "\n",
        "Geopandas / Folium:    \n",
        "* Get dataframe to plot the world map\n",
        "* Specify starting scale\n",
        "* Specify appearance\n",
        "\n",
        "---\n",
        "\n",
        "# Visualizing:     \n",
        "Pivot tables/Histogram:\n",
        "* Show top 10 artists by playtime (sum playtime, sort descending, limit 10)\n",
        "* Show top 10 songs by playtime\n",
        "\n",
        "Time series Plots:    \n",
        "* Top 5/10 artists playtime over the course of the year\n",
        "* Top songs playtime over the course of the year\n",
        "\n",
        "Scatterplot:    \n",
        "* Show audio features of the top songs (i.e. the cereal plot with color indicating another attribute in addition to x-y)\n",
        "\n",
        "Geo Analysis:\n",
        "* Plot marker on country where the country code == country name    \n",
        "* Create markers for each top song\n",
        "  * Color - correspond to friend\n",
        "  * Track name\n",
        "  * Artist\n",
        "  * Release data\n",
        "  * Total listening time\n",
        "\n"
      ]
    },
    {
      "cell_type": "code",
      "source": [
        "!pip3 install requests"
      ],
      "metadata": {
        "colab": {
          "base_uri": "https://localhost:8080/"
        },
        "id": "FTXsesDQHByg",
        "outputId": "ab8e31ef-981b-498f-fded-dd48c83bba5a"
      },
      "execution_count": 19,
      "outputs": [
        {
          "output_type": "stream",
          "name": "stdout",
          "text": [
            "Requirement already satisfied: requests in /usr/local/lib/python3.7/dist-packages (2.26.0)\n",
            "Requirement already satisfied: urllib3<1.27,>=1.21.1 in /usr/local/lib/python3.7/dist-packages (from requests) (1.26.7)\n",
            "Requirement already satisfied: certifi>=2017.4.17 in /usr/local/lib/python3.7/dist-packages (from requests) (2021.10.8)\n",
            "Requirement already satisfied: charset-normalizer~=2.0.0 in /usr/local/lib/python3.7/dist-packages (from requests) (2.0.8)\n",
            "Requirement already satisfied: idna<4,>=2.5 in /usr/local/lib/python3.7/dist-packages (from requests) (2.10)\n"
          ]
        }
      ]
    },
    {
      "cell_type": "code",
      "metadata": {
        "id": "CtArLuA3Xmir"
      },
      "source": [
        "import pandas as pd # Import pandas library\n",
        "import numpy as np # Import numpy library\n",
        "import os # Import os library"
      ],
      "execution_count": 12,
      "outputs": []
    },
    {
      "cell_type": "code",
      "metadata": {
        "id": "sWLWC9QnHad4"
      },
      "source": [
        "# Import matplotlib library at first\n",
        "import matplotlib.pyplot as plt\n",
        "%matplotlib inline\n",
        "from matplotlib.pylab import rcParams\n",
        "# Change the size of figure drawn\n",
        "rcParams['figure.figsize'] = (16, 6)\n",
        "\n",
        "plt.rcParams['axes.facecolor'] = 'navy'"
      ],
      "execution_count": 50,
      "outputs": []
    },
    {
      "cell_type": "code",
      "source": [
        "# Clone streaming history data repository into local directory\n",
        "!git clone https://github.com/ChrisWhit3/spotify-vision.git"
      ],
      "metadata": {
        "id": "c7owjPg_zI3C",
        "colab": {
          "base_uri": "https://localhost:8080/"
        },
        "outputId": "5031b4b6-5ea2-4fd7-da5f-2da12d93c55c"
      },
      "execution_count": 11,
      "outputs": [
        {
          "output_type": "stream",
          "name": "stdout",
          "text": [
            "fatal: destination path 'spotify-vision' already exists and is not an empty directory.\n"
          ]
        }
      ]
    },
    {
      "cell_type": "markdown",
      "metadata": {
        "id": "yn7xuTwEcI4O"
      },
      "source": [
        "# P1 Listening History Analysis"
      ]
    },
    {
      "cell_type": "code",
      "source": [
        "'''\n",
        "\n",
        "  Function takes the path to the folder containing the streaming history files and creates streaming history dataframe for each person\n",
        "\n",
        "  Takes directory path from total sorted list\n",
        "  Get person number in the form of the string 'Streaming History#_#.json'\n",
        "  Create dictionary with key id and dataframe\n",
        "  \n",
        "'''\n",
        "\n",
        "def create_dataframe_from_streaming_files(directory_path):\n",
        "  \n",
        "  if os.path.isdir(directory_path):\n",
        "    if len(os.listdir(directory_path)) != 0:\n",
        "      #print(sorted(os.listdir(directory_path)))\n",
        "      num_person_files = {}\n",
        "      for file in sorted(os.listdir(directory_path)):\n",
        "        # df_name = file.split(\"_\")\n",
        "        person = int(file.split(\"_\")[0].split('y',1)[1])\n",
        "        #print(person)\n",
        "        if person in num_person_files:\n",
        "          num_person_files[person].append(pd.read_json(f'{directory_path}'+file))\n",
        "        else:\n",
        "          num_person_files[person] = [(pd.read_json(f'{directory_path}'+file))]\n",
        "\n",
        "      #print(num_person_files)\n",
        "      streaming_dataframes = {}\n",
        "      for k,v in num_person_files.items():\n",
        "        streaming_dataframes[k] = pd.concat(v)\n",
        "\n",
        "        streaming_dataframes[k]['endTime']\n",
        "\n",
        "      return streaming_dataframes\n",
        "         # print(v[i])\n",
        "      #    print(f'{directory_path}'+v[i])\n",
        "          #test = pd.read_json(v[i])\n",
        "          #test1 = pd.read_json(f'{directory_path}'+v[i])\n",
        "\n",
        "          #test1\n",
        "          #name = pd.read_json(v[i])\n",
        "          #name\n",
        "      #print(num_person_files)\n",
        "    \n",
        "    else:\n",
        "      return 'directory is empty'\n",
        "\n",
        "  else:\n",
        "    return 'no directory at path'\n",
        "\n",
        "  \n",
        "  \n",
        "      \n",
        "#  for filename in os.listdir(directory):\n",
        "#    print(sorted(filename))\n",
        "\n",
        "  \n",
        "\n",
        "#print(os.path.isdir('spotify-vision/'))\n",
        "\n",
        "# Apply function to path of streaming history folder\n",
        "streaming_dataframes = create_dataframe_from_streaming_files('spotify-vision/streaming_history_data/')"
      ],
      "metadata": {
        "id": "0XOfHXk57lb1"
      },
      "execution_count": 29,
      "outputs": []
    },
    {
      "cell_type": "code",
      "source": [
        "print(streaming_dataframes.items())"
      ],
      "metadata": {
        "id": "gr1wpiAf8wXP",
        "colab": {
          "base_uri": "https://localhost:8080/"
        },
        "outputId": "1cdc1fc2-71e0-47e1-f002-1a07eada114e"
      },
      "execution_count": 30,
      "outputs": [
        {
          "output_type": "stream",
          "name": "stdout",
          "text": [
            "dict_items([(0,                endTime  ... msPlayed\n",
            "0     2020-11-30 00:01  ...   205484\n",
            "1     2020-11-30 00:04  ...   181688\n",
            "2     2020-11-30 00:37  ...    65837\n",
            "3     2020-11-30 00:40  ...   181661\n",
            "4     2020-11-30 00:44  ...   247058\n",
            "...                ...  ...      ...\n",
            "1482  2021-11-30 14:20  ...   203288\n",
            "1483  2021-11-30 15:00  ...  2393508\n",
            "1484  2021-11-30 15:00  ...    41730\n",
            "1485  2021-11-30 17:02  ...   565120\n",
            "1486  2021-11-30 19:12  ...   353850\n",
            "\n",
            "[11487 rows x 4 columns]), (1,                endTime  ... msPlayed\n",
            "0     2020-11-07 01:29  ...     6005\n",
            "1     2020-11-29 22:39  ...   199638\n",
            "2     2020-11-30 20:19  ...     2670\n",
            "3     2020-11-30 20:23  ...    12329\n",
            "4     2020-11-30 20:23  ...   207133\n",
            "...                ...  ...      ...\n",
            "2068  2021-11-30 18:35  ...        0\n",
            "2069  2021-11-30 18:35  ...   176160\n",
            "2070  2021-11-30 18:36  ...      812\n",
            "2071  2021-11-30 18:36  ...    45975\n",
            "2072  2021-11-30 18:39  ...   169552\n",
            "\n",
            "[22073 rows x 4 columns]), (2,                endTime       artistName                   trackName  msPlayed\n",
            "0     2020-12-03 00:40  Vampire Weekend                     Walcott    221600\n",
            "1     2020-12-03 00:41  Vampire Weekend                        Bryn     19948\n",
            "2     2020-12-03 03:58  Vampire Weekend                   This Life    192860\n",
            "3     2020-12-03 04:42  Vampire Weekend                   This Life    194082\n",
            "4     2020-12-03 04:46  Vampire Weekend                 Hannah Hunt    248124\n",
            "...                ...              ...                         ...       ...\n",
            "4083  2021-12-02 08:47      Twin Shadow      Saturdays (feat. HAIM)        85\n",
            "4084  2021-12-02 08:47    Local Natives    When Am I Gonna Lose You     31879\n",
            "4085  2021-12-02 08:50      Twin Shadow      Saturdays (feat. HAIM)    205442\n",
            "4086  2021-12-02 08:51    Local Natives    When Am I Gonna Lose You     44010\n",
            "4087  2021-12-02 08:53      Twin Shadow  Sympathy (feat. Rainsford)     91328\n",
            "\n",
            "[4088 rows x 4 columns])])\n"
          ]
        }
      ]
    },
    {
      "cell_type": "code",
      "metadata": {
        "id": "p_tNgDWG0O0h"
      },
      "source": [
        "'''\n",
        "  Function will convert msPlayed column to secPlayed, minPlayed, and hrPlayed columns\n",
        "\n",
        "  Takes in dataframe\n",
        "  Returns dataframe with calculated columns added\n",
        "  --------------------------------------\n",
        "'''\n",
        "def add_ms_conversion_columns(dataframe):\n",
        "  # Convert miliseconds to seconds and save as new seconds played column\n",
        "  dataframe['secPlayed'] = dataframe['msPlayed'] / (1000)\n",
        "\n",
        "  # Convert miliseconds to minutes and save as new minutes played column\n",
        "  dataframe['minPlayed'] = dataframe['msPlayed'] / (1000 * 60)\n",
        "\n",
        "  # Convert miliseconds to minutes and save as new minutes played column\n",
        "  dataframe['hrPlayed'] = dataframe['msPlayed'] / (1000 * 60 * 60)\n",
        "\n",
        "  return dataframe"
      ],
      "execution_count": 32,
      "outputs": []
    },
    {
      "cell_type": "code",
      "metadata": {
        "id": "9O-joIQSKqKK"
      },
      "source": [
        "'''\n",
        "  Function will strip all object datatype column values of leading and trailing whitespace\n",
        "  --------------------------------------\n",
        "'''\n",
        "def strip_column_value_whitespace(df):\n",
        "\n",
        "  # Select columns that have the datatype equal to 'object'\n",
        "  object_cols = df.select_dtypes(object).columns\n",
        "\n",
        "  # Apply function to turn array of columns to numeric datatype\n",
        "  df[object_cols] = df[object_cols].apply(lambda x: x.str.strip())\n",
        "\n",
        "  return df"
      ],
      "execution_count": 33,
      "outputs": []
    },
    {
      "cell_type": "code",
      "source": [
        "'''\n",
        "  For this analysis we would like to only look at tracks\n",
        "\n",
        "  Function will remove podcast listens\n",
        "\n",
        "  Based on observed outlier listen times and user input - future analysis will use Spotify API to remove all listens where type is podcast\n",
        "'''\n",
        "\n",
        "def remove_podcast_entries(df):\n",
        "  list_of_podcasts_to_remove = ['The Daily', 'Call Her Daddy', \n",
        "                                'Comforting Sounds', 'Crime Junkie', \n",
        "                                'Philosophy Bites', 'Pass the Compassion',\n",
        "                                'Conspiracy Theories', 'Keeping Up With Kayla',\n",
        "                                'Today in True Crime', 'Good For You',\n",
        "                                'You\\'re Wrong About', 'The Joe Rogan Experience',\n",
        "                                'Ologies with Alie Ward', 'Hidden Brain',\n",
        "                                'No Stupid Questions', 'Stuff You Should Know',\n",
        "                                'Infamous: The Story of YNW Melly', 'Mythology',\n",
        "                                'The Journal.','MarketFoolery', 'The Big Loop'\n",
        "                                ]\n",
        "  df.drop(df[df['artistName'].isin(list_of_podcasts_to_remove)].index, inplace = True)\n",
        "  \n",
        "  return df\n",
        "\n"
      ],
      "metadata": {
        "id": "Mmq9OpIPa009"
      },
      "execution_count": 34,
      "outputs": []
    },
    {
      "cell_type": "code",
      "source": [
        "'''\n",
        "  Establish a 'Meaningful Listen':\n",
        "\n",
        "  Getting through a verse and a chorus is enough time to feel out a song\n",
        "  (although I may argue for a full listen)  \n",
        "\n",
        "  Remove the listens that are less than 63 seconds (about a third of the average song length)\n",
        "  \n",
        "  Function will return a df containing only rows of 'Meaningful Listens'\n",
        "  --------------------------------------\n",
        "'''\n",
        "def remove_non_meaningful_listens(df):\n",
        "\n",
        "  # Set dataframe to the slice of rows where 'secPlayed' is greater than 63\n",
        "  df.drop(df[df['secPlayed']<63].index, inplace=True)\n",
        "\n",
        "  return df"
      ],
      "metadata": {
        "id": "YRt8uzHTSnIj"
      },
      "execution_count": 35,
      "outputs": []
    },
    {
      "cell_type": "code",
      "source": [
        "\n",
        "# Set datetime column to index and apply cleaning functions to each dataframe\n",
        "for dataframe in streaming_dataframes.values():\n",
        "  try:\n",
        "    dataframe['endTime'] = pd.to_datetime(dataframe['endTime']) # Set 'endTime' column to datetime datatype\n",
        "\n",
        "    dataframe.set_index('endTime', inplace=True) # Set index of dataframe to datetime column\n",
        "    print('made time indexed')\n",
        "    add_ms_conversion_columns(dataframe) # Add secPlayed, minPlayed, and hrPlayed columns from msPlayed\n",
        "    print('added columns')\n",
        "    strip_column_value_whitespace(dataframe) # Remove leading and trailing space from all values in object columns\n",
        "    print('removed whitespace')  \n",
        "    remove_podcast_entries(dataframe) # Remove rows with podcast\n",
        "    print('removed podcasts')  \n",
        "    remove_non_meaningful_listens(dataframe) # Remove rows that are listens less than 63 seconds\n",
        "    print('removed meaningless listens')  \n",
        "    print(f\"Successfully changed to time indexed df:\\n {dataframe.head(5)}\")\n",
        "  except:\n",
        "    print(f'Could not convert to time indexed df, review columns and datatypes: {dataframe.head(5)}')"
      ],
      "metadata": {
        "id": "Ko8MpCuzDo_O",
        "colab": {
          "base_uri": "https://localhost:8080/"
        },
        "outputId": "6f12c4e7-58bd-4ca1-bb7b-3ef508e82de6"
      },
      "execution_count": 36,
      "outputs": [
        {
          "output_type": "stream",
          "name": "stdout",
          "text": [
            "made time indexed\n",
            "added columns\n",
            "removed whitespace\n",
            "removed podcasts\n",
            "removed meaningless listens\n",
            "Successfully changed to time indexed df:\n",
            "                         artistName  ...  hrPlayed\n",
            "endTime                             ...          \n",
            "2020-11-30 00:01:00     Juice WRLD  ...  0.057079\n",
            "2020-11-30 00:04:00  The Kid LAROI  ...  0.050469\n",
            "2020-11-30 00:37:00        6ix9ine  ...  0.018288\n",
            "2020-11-30 00:40:00     Juice WRLD  ...  0.050461\n",
            "2020-11-30 00:44:00          Drake  ...  0.068627\n",
            "\n",
            "[5 rows x 6 columns]\n",
            "made time indexed\n",
            "added columns\n",
            "removed whitespace\n",
            "removed podcasts\n",
            "removed meaningless listens\n",
            "Successfully changed to time indexed df:\n",
            "                        artistName  ...  hrPlayed\n",
            "endTime                            ...          \n",
            "2020-11-29 22:39:00   Frank Ocean  ...  0.055455\n",
            "2020-11-30 20:24:00  The Midnight  ...  0.023736\n",
            "2020-11-30 20:30:00       Gryffin  ...  0.058591\n",
            "2020-11-30 20:33:00      Lil Baby  ...  0.059504\n",
            "2020-11-30 20:37:00       Gryffin  ...  0.068932\n",
            "\n",
            "[5 rows x 6 columns]\n",
            "made time indexed\n",
            "added columns\n",
            "removed whitespace\n",
            "removed podcasts\n",
            "removed meaningless listens\n",
            "Successfully changed to time indexed df:\n",
            "                           artistName    trackName  ...  minPlayed  hrPlayed\n",
            "endTime                                            ...                     \n",
            "2020-12-03 00:40:00  Vampire Weekend      Walcott  ...   3.693333  0.061556\n",
            "2020-12-03 03:58:00  Vampire Weekend    This Life  ...   3.214333  0.053572\n",
            "2020-12-03 04:42:00  Vampire Weekend    This Life  ...   3.234700  0.053912\n",
            "2020-12-03 04:46:00  Vampire Weekend  Hannah Hunt  ...   4.135400  0.068923\n",
            "2020-12-04 01:33:00  Vampire Weekend    This Life  ...   4.307650  0.071794\n",
            "\n",
            "[5 rows x 6 columns]\n"
          ]
        }
      ]
    },
    {
      "cell_type": "code",
      "source": [
        "streaming_dataframes[0].dtypes"
      ],
      "metadata": {
        "id": "tXWgSHvwFlqg",
        "colab": {
          "base_uri": "https://localhost:8080/"
        },
        "outputId": "cd207298-05d8-45cb-9f38-285114fb1dde"
      },
      "execution_count": 37,
      "outputs": [
        {
          "output_type": "execute_result",
          "data": {
            "text/plain": [
              "artistName     object\n",
              "trackName      object\n",
              "msPlayed        int64\n",
              "secPlayed     float64\n",
              "minPlayed     float64\n",
              "hrPlayed      float64\n",
              "dtype: object"
            ]
          },
          "metadata": {},
          "execution_count": 37
        }
      ]
    },
    {
      "cell_type": "code",
      "source": [
        "# Assign df for each key (person) of dictionary\n",
        "# ---------------------------\n",
        "# Person 0\n",
        "p0_listening_history = streaming_dataframes[0]\n",
        "\n",
        "# Person 1\n",
        "p1_listening_history = streaming_dataframes[1]\n",
        "\n",
        "# Person 2\n",
        "p2_listening_history = streaming_dataframes[2]"
      ],
      "metadata": {
        "id": "n6ybfr9-utsY"
      },
      "execution_count": 38,
      "outputs": []
    },
    {
      "cell_type": "code",
      "source": [
        "p0_listening_history.dtypes"
      ],
      "metadata": {
        "id": "B1_NLSscE-qf",
        "colab": {
          "base_uri": "https://localhost:8080/"
        },
        "outputId": "bc6972ed-6f6f-47a1-db49-b337ce484952"
      },
      "execution_count": 39,
      "outputs": [
        {
          "output_type": "execute_result",
          "data": {
            "text/plain": [
              "artistName     object\n",
              "trackName      object\n",
              "msPlayed        int64\n",
              "secPlayed     float64\n",
              "minPlayed     float64\n",
              "hrPlayed      float64\n",
              "dtype: object"
            ]
          },
          "metadata": {},
          "execution_count": 39
        }
      ]
    },
    {
      "cell_type": "code",
      "source": [
        "p0_listening_history[p0_listening_history['minPlayed']<1]"
      ],
      "metadata": {
        "id": "HoYHfH8ODmYP",
        "colab": {
          "base_uri": "https://localhost:8080/",
          "height": 81
        },
        "outputId": "3d023298-7736-4cca-a1e0-8c81d3235f9b"
      },
      "execution_count": 40,
      "outputs": [
        {
          "output_type": "execute_result",
          "data": {
            "text/html": [
              "<div>\n",
              "<style scoped>\n",
              "    .dataframe tbody tr th:only-of-type {\n",
              "        vertical-align: middle;\n",
              "    }\n",
              "\n",
              "    .dataframe tbody tr th {\n",
              "        vertical-align: top;\n",
              "    }\n",
              "\n",
              "    .dataframe thead th {\n",
              "        text-align: right;\n",
              "    }\n",
              "</style>\n",
              "<table border=\"1\" class=\"dataframe\">\n",
              "  <thead>\n",
              "    <tr style=\"text-align: right;\">\n",
              "      <th></th>\n",
              "      <th>artistName</th>\n",
              "      <th>trackName</th>\n",
              "      <th>msPlayed</th>\n",
              "      <th>secPlayed</th>\n",
              "      <th>minPlayed</th>\n",
              "      <th>hrPlayed</th>\n",
              "    </tr>\n",
              "    <tr>\n",
              "      <th>endTime</th>\n",
              "      <th></th>\n",
              "      <th></th>\n",
              "      <th></th>\n",
              "      <th></th>\n",
              "      <th></th>\n",
              "      <th></th>\n",
              "    </tr>\n",
              "  </thead>\n",
              "  <tbody>\n",
              "  </tbody>\n",
              "</table>\n",
              "</div>"
            ],
            "text/plain": [
              "Empty DataFrame\n",
              "Columns: [artistName, trackName, msPlayed, secPlayed, minPlayed, hrPlayed]\n",
              "Index: []"
            ]
          },
          "metadata": {},
          "execution_count": 40
        }
      ]
    },
    {
      "cell_type": "code",
      "source": [
        "# Find top artists for person 0 by total minutes played\n",
        "p0_listening_history.groupby(by='artistName')['minPlayed'].sum().sort_values(ascending=False)[:5]"
      ],
      "metadata": {
        "id": "ye9yJhilCl10",
        "colab": {
          "base_uri": "https://localhost:8080/"
        },
        "outputId": "c94930a2-c981-44e0-ce10-506b9d823f33"
      },
      "execution_count": 41,
      "outputs": [
        {
          "output_type": "execute_result",
          "data": {
            "text/plain": [
              "artistName\n",
              "blackbear      1036.423067\n",
              "Drake           904.620567\n",
              "Kanye West      633.124917\n",
              "Kehlani         585.065617\n",
              "Jorja Smith     506.047317\n",
              "Name: minPlayed, dtype: float64"
            ]
          },
          "metadata": {},
          "execution_count": 41
        }
      ]
    },
    {
      "cell_type": "code",
      "source": [
        "# Find top tracks for person 0 by total minutes played\n",
        "p0_listening_history.groupby(by='trackName')['minPlayed'].sum().sort_values(ascending=False)[:5]"
      ],
      "metadata": {
        "id": "XWd397apKxWr",
        "colab": {
          "base_uri": "https://localhost:8080/"
        },
        "outputId": "fb855c7e-975b-4e75-9d3d-2303dcb3007b"
      },
      "execution_count": 42,
      "outputs": [
        {
          "output_type": "execute_result",
          "data": {
            "text/plain": [
              "trackName\n",
              "From Time                                                       232.890133\n",
              "I Might Need Security                                           197.837850\n",
              "Got Me (with Ari Lennox & Omen feat. Ty Dolla $ign & Dreezy)    186.256983\n",
              "Made Love First                                                 172.483483\n",
              "Josslyn                                                         165.979067\n",
              "Name: minPlayed, dtype: float64"
            ]
          },
          "metadata": {},
          "execution_count": 42
        }
      ]
    },
    {
      "cell_type": "code",
      "source": [
        "# Find top artists for person 1 by total minutes played\n",
        "p1_listening_history.groupby(by='artistName')['minPlayed'].sum().sort_values(ascending=False)[:5]"
      ],
      "metadata": {
        "id": "_sNQX8pKLWR1",
        "colab": {
          "base_uri": "https://localhost:8080/"
        },
        "outputId": "9825bacd-797a-442f-f05b-98f7c42e99e8"
      },
      "execution_count": 43,
      "outputs": [
        {
          "output_type": "execute_result",
          "data": {
            "text/plain": [
              "artistName\n",
              "Porter Robinson    789.444750\n",
              "Drake              753.647867\n",
              "Young Thug         624.920700\n",
              "DaBaby             624.233150\n",
              "YNW Melly          618.575383\n",
              "Name: minPlayed, dtype: float64"
            ]
          },
          "metadata": {},
          "execution_count": 43
        }
      ]
    },
    {
      "cell_type": "code",
      "source": [
        "# Find top tracks for person 1 by total minutes played\n",
        "p1_listening_history.groupby(by='trackName')['minPlayed'].sum().sort_values(ascending=False)[:5]"
      ],
      "metadata": {
        "id": "tF3Bx9s9LZvX",
        "colab": {
          "base_uri": "https://localhost:8080/"
        },
        "outputId": "7a0388e0-0fee-4991-ee01-6d73a30908f5"
      },
      "execution_count": 44,
      "outputs": [
        {
          "output_type": "execute_result",
          "data": {
            "text/plain": [
              "trackName\n",
              "Take Kare (feat. Lil Baby & Lil Durk)    181.713317\n",
              "Me Too                                   136.665617\n",
              "What’s Next                              128.014450\n",
              "SYLVIA (feat. 2forwOyNE)                 121.373033\n",
              "Masterpiece                              113.668267\n",
              "Name: minPlayed, dtype: float64"
            ]
          },
          "metadata": {},
          "execution_count": 44
        }
      ]
    },
    {
      "cell_type": "code",
      "source": [
        "# Find top artists for person 2 by total minutes played\n",
        "p2_listening_history.groupby(by='artistName')['minPlayed'].sum().sort_values(ascending=False)[:5]"
      ],
      "metadata": {
        "id": "bBk3OaF8Lg2W",
        "colab": {
          "base_uri": "https://localhost:8080/"
        },
        "outputId": "ba6c8f8c-3469-4de3-e71d-079b963bda20"
      },
      "execution_count": 45,
      "outputs": [
        {
          "output_type": "execute_result",
          "data": {
            "text/plain": [
              "artistName\n",
              "Cage The Elephant    703.511667\n",
              "Lost Frequencies     676.419117\n",
              "Vampire Weekend      620.063500\n",
              "Nora En Pure         605.825583\n",
              "Bo Burnham           545.488550\n",
              "Name: minPlayed, dtype: float64"
            ]
          },
          "metadata": {},
          "execution_count": 45
        }
      ]
    },
    {
      "cell_type": "code",
      "source": [
        "# Find top tracks for person 2 by total minutes played\n",
        "p2_listening_history.groupby(by='trackName')['minPlayed'].sum().sort_values(ascending=False)[:5]"
      ],
      "metadata": {
        "id": "tQuevznWLe9f",
        "colab": {
          "base_uri": "https://localhost:8080/"
        },
        "outputId": "c4551bf6-5361-4792-fd17-91886459d002"
      },
      "execution_count": 46,
      "outputs": [
        {
          "output_type": "execute_result",
          "data": {
            "text/plain": [
              "trackName\n",
              "How Long?                                  131.762033\n",
              "I Know The End                              97.099233\n",
              "Comedy                                      85.013650\n",
              "Electricity (feat. Dua Lipa) - MK Remix     79.827400\n",
              "Tears In Your Eyes                          77.990233\n",
              "Name: minPlayed, dtype: float64"
            ]
          },
          "metadata": {},
          "execution_count": 46
        }
      ]
    },
    {
      "cell_type": "code",
      "source": [
        "p2_listening_history[p2_listening_history['secPlayed']<60]"
      ],
      "metadata": {
        "id": "rehq_3ylLyH6",
        "colab": {
          "base_uri": "https://localhost:8080/",
          "height": 81
        },
        "outputId": "635ec65c-115f-4519-8a93-2d215f5c328a"
      },
      "execution_count": 47,
      "outputs": [
        {
          "output_type": "execute_result",
          "data": {
            "text/html": [
              "<div>\n",
              "<style scoped>\n",
              "    .dataframe tbody tr th:only-of-type {\n",
              "        vertical-align: middle;\n",
              "    }\n",
              "\n",
              "    .dataframe tbody tr th {\n",
              "        vertical-align: top;\n",
              "    }\n",
              "\n",
              "    .dataframe thead th {\n",
              "        text-align: right;\n",
              "    }\n",
              "</style>\n",
              "<table border=\"1\" class=\"dataframe\">\n",
              "  <thead>\n",
              "    <tr style=\"text-align: right;\">\n",
              "      <th></th>\n",
              "      <th>artistName</th>\n",
              "      <th>trackName</th>\n",
              "      <th>msPlayed</th>\n",
              "      <th>secPlayed</th>\n",
              "      <th>minPlayed</th>\n",
              "      <th>hrPlayed</th>\n",
              "    </tr>\n",
              "    <tr>\n",
              "      <th>endTime</th>\n",
              "      <th></th>\n",
              "      <th></th>\n",
              "      <th></th>\n",
              "      <th></th>\n",
              "      <th></th>\n",
              "      <th></th>\n",
              "    </tr>\n",
              "  </thead>\n",
              "  <tbody>\n",
              "  </tbody>\n",
              "</table>\n",
              "</div>"
            ],
            "text/plain": [
              "Empty DataFrame\n",
              "Columns: [artistName, trackName, msPlayed, secPlayed, minPlayed, hrPlayed]\n",
              "Index: []"
            ]
          },
          "metadata": {},
          "execution_count": 47
        }
      ]
    },
    {
      "cell_type": "code",
      "source": [
        "# Get total daily listening time series for each person\n",
        "#\n",
        "# Equally spaced by day\n",
        "# Sum minPlayed by day\n",
        "# Fill not available with 0\n",
        "#\n",
        "# ---------------------------\n",
        "# Person 0\n",
        "total_listening_p0 = p0_listening_history.resample('D')['minPlayed'].sum().fillna(0)\n",
        "\n",
        "# Person 1\n",
        "total_listening_p1 = p1_listening_history.resample('D')['minPlayed'].sum().fillna(0)\n",
        "\n",
        "# Person 2\n",
        "total_listening_p2 = p2_listening_history.resample('D')['minPlayed'].sum().fillna(0)\n",
        "\n",
        "print(total_listening_p0,total_listening_p1,total_listening_p2)"
      ],
      "metadata": {
        "id": "4ZCV6LS7ulGb",
        "colab": {
          "base_uri": "https://localhost:8080/"
        },
        "outputId": "3d7f344b-25a1-47c2-d7a1-e113138678ae"
      },
      "execution_count": 48,
      "outputs": [
        {
          "output_type": "stream",
          "name": "stdout",
          "text": [
            "endTime\n",
            "2020-11-30    118.970217\n",
            "2020-12-01     95.416067\n",
            "2020-12-02    107.384667\n",
            "2020-12-03    179.100300\n",
            "2020-12-04    125.717450\n",
            "                 ...    \n",
            "2021-11-26      0.000000\n",
            "2021-11-27      7.321967\n",
            "2021-11-28    120.457683\n",
            "2021-11-29     12.583100\n",
            "2021-11-30     91.965167\n",
            "Freq: D, Name: minPlayed, Length: 366, dtype: float64 endTime\n",
            "2020-11-29      3.327300\n",
            "2020-11-30     13.924750\n",
            "2020-12-01     65.623483\n",
            "2020-12-02    108.834583\n",
            "2020-12-03     20.943150\n",
            "                 ...    \n",
            "2021-11-26     62.777833\n",
            "2021-11-27     12.586550\n",
            "2021-11-28      0.000000\n",
            "2021-11-29     86.100433\n",
            "2021-11-30     31.229700\n",
            "Freq: D, Name: minPlayed, Length: 367, dtype: float64 endTime\n",
            "2020-12-03     14.277767\n",
            "2020-12-04    135.939300\n",
            "2020-12-05     31.083350\n",
            "2020-12-06      0.000000\n",
            "2020-12-07    117.715083\n",
            "                 ...    \n",
            "2021-11-28      0.000000\n",
            "2021-11-29      0.000000\n",
            "2021-11-30      0.000000\n",
            "2021-12-01      0.000000\n",
            "2021-12-02      8.370200\n",
            "Freq: D, Name: minPlayed, Length: 365, dtype: float64\n"
          ]
        }
      ]
    },
    {
      "cell_type": "code",
      "source": [
        "# Plot the daily total minutes listened for person 0\n",
        "ax = total_listening_p0.plot(color='pink')\n",
        "\n",
        "# Plot the weekly average minutes listened\n",
        "total_listening_p0.resample('W').mean().fillna(0).plot(color='white',ax=ax)\n",
        "\n",
        "ax.legend([\"Total daily minutes listened\", \"Weekly average minutes listened\"], facecolor='white')\n",
        "ax.set_ylabel('Minutes Played')\n",
        "ax.set_xlabel('Time')\n",
        "ax.set_title('Person 0 Total Listening')"
      ],
      "metadata": {
        "id": "cN5GRo-76lmZ",
        "colab": {
          "base_uri": "https://localhost:8080/",
          "height": 433
        },
        "outputId": "119cdf40-c6ea-4161-bdb0-99c701aa4fc9"
      },
      "execution_count": 51,
      "outputs": [
        {
          "output_type": "execute_result",
          "data": {
            "text/plain": [
              "Text(0.5, 1.0, 'Person 0 Total Listening')"
            ]
          },
          "metadata": {},
          "execution_count": 51
        },
        {
          "output_type": "display_data",
          "data": {
            "image/png": "[encoded data removed]",
            "text/plain": [
              "<Figure size 1152x432 with 1 Axes>"
            ]
          },
          "metadata": {
            "needs_background": "light"
          }
        }
      ]
    },
    {
      "cell_type": "code",
      "source": [
        "# Plot the daily total minutes listened for person 1\n",
        "ax = total_listening_p1.plot(color='#1DB964')\n",
        "\n",
        "# Plot the weekly average minutes listened\n",
        "total_listening_p1.resample('W').mean().fillna(0).plot(color='lightgrey',ax=ax)\n",
        "\n",
        "ax.legend([\"Total daily minutes listened\", \"Weekly average minutes listened\"], facecolor='white')\n",
        "ax.set_ylabel('Minutes Played')\n",
        "ax.set_xlabel('Time')\n",
        "ax.set_title('Person 1 Total Listening')"
      ],
      "metadata": {
        "id": "WB_kjRkm_Elh",
        "colab": {
          "base_uri": "https://localhost:8080/",
          "height": 433
        },
        "outputId": "30dca3e1-d3b1-4cfa-8262-71902ffbe96f"
      },
      "execution_count": 52,
      "outputs": [
        {
          "output_type": "execute_result",
          "data": {
            "text/plain": [
              "Text(0.5, 1.0, 'Person 1 Total Listening')"
            ]
          },
          "metadata": {},
          "execution_count": 52
        },
        {
          "output_type": "display_data",
          "data": {
            "image/png": "[encoded data removed]",
            "text/plain": [
              "<Figure size 1152x432 with 1 Axes>"
            ]
          },
          "metadata": {
            "needs_background": "light"
          }
        }
      ]
    },
    {
      "cell_type": "code",
      "source": [
        "# Plot the daily total minutes listened for person 2\n",
        "ax = total_listening_p2.plot(color='lightblue')\n",
        "\n",
        "# Plot the weekly average minutes listened\n",
        "total_listening_p2.resample('W').mean().fillna(0).plot(color='orange',ax=ax)\n",
        "\n",
        "ax.legend([\"Total daily minutes listened\", \"Weekly average minutes listened\"], facecolor='white')\n",
        "ax.set_ylabel('Minutes Played')\n",
        "ax.set_xlabel('Time')\n",
        "ax.set_title('Person 2 Total Listening')"
      ],
      "metadata": {
        "id": "Pucx7mm3_kjO",
        "colab": {
          "base_uri": "https://localhost:8080/",
          "height": 433
        },
        "outputId": "e502f2bc-bd57-48ed-d084-9b28a0297ce6"
      },
      "execution_count": 53,
      "outputs": [
        {
          "output_type": "execute_result",
          "data": {
            "text/plain": [
              "Text(0.5, 1.0, 'Person 2 Total Listening')"
            ]
          },
          "metadata": {},
          "execution_count": 53
        },
        {
          "output_type": "display_data",
          "data": {
            "image/png": "[encoded data removed]",
            "text/plain": [
              "<Figure size 1152x432 with 1 Axes>"
            ]
          },
          "metadata": {
            "needs_background": "light"
          }
        }
      ]
    },
    {
      "cell_type": "code",
      "source": [
        "p2_listening_history.sort_values('minPlayed', ascending=False).drop_duplicates('trackName', keep='first')[:25]"
      ],
      "metadata": {
        "id": "Dzd8NTjxcH08"
      },
      "execution_count": null,
      "outputs": []
    },
    {
      "cell_type": "code",
      "source": [
        "streaming_dataframes[0].resample('H')['msPlayed'].sum()"
      ],
      "metadata": {
        "id": "V7we1UNiEj_f"
      },
      "execution_count": null,
      "outputs": []
    },
    {
      "cell_type": "code",
      "source": [
        "streaming_dataframes[0].dtypes"
      ],
      "metadata": {
        "id": "xFdVVVXoFjYi"
      },
      "execution_count": null,
      "outputs": []
    },
    {
      "cell_type": "code",
      "source": [
        "p0_listening_history['maxListen'] = p0_listening_history[['minPlayed']].max(axis=1)"
      ],
      "metadata": {
        "id": "bf_w40jaAO_V"
      },
      "execution_count": null,
      "outputs": []
    },
    {
      "cell_type": "code",
      "source": [
        "p0_listening_history = p0_listening_history[p0_listening_history['secPlayed']>60]"
      ],
      "metadata": {
        "id": "K51K03XXJLN7"
      },
      "execution_count": null,
      "outputs": []
    },
    {
      "cell_type": "code",
      "source": [
        "p0_listening_history[p0_listening_history['secPlayed']>60]"
      ],
      "metadata": {
        "id": "xwiu_0PfJswN"
      },
      "execution_count": null,
      "outputs": []
    },
    {
      "cell_type": "code",
      "source": [
        "# Draw initial time series and make it transparent\n",
        "ax = p1_listening_history[p1_listening_history['trackName']=='I Might Need Security'].resample('D')['minPlayed'].sum().plot(color='#1DB964', alpha=.9)\n",
        "# Draw montly average values\n",
        "p1_listening_history[p1_listening_history['trackName']=='drivers license'].resample('D')['minPlayed'].sum().plot(color='white', ax=ax)\n",
        "# Draw roling average that takes into account 25 points\n",
        "#p1_listening_history.resample('D')['minPlayed'].sum().plot(color='orange', ax=ax)\n",
        "p1_listening_history[p1_listening_history['trackName']=='From Time'].resample('D')['minPlayed'].sum().plot(color='orange', alpha=.5, ax=ax)\n",
        "## olive.rolling(25).mean().plot(ax=ax)\n",
        "# Specify legend labels\n",
        "ax.legend([\"'I Might Need Security' Daily Minutes Played\", \"'drivers license - Olivia Rodrigo'\", \"'From Time - Drake' Daily Minutes Played\"], facecolor='white')\n",
        "ax.set_ylabel('Minutes Played')\n",
        "ax.set_title('Total Daily Minutes Played for Top 5 Tracks')\n",
        "plt.show()"
      ],
      "metadata": {
        "id": "m1EnHWaaLk2-"
      },
      "execution_count": null,
      "outputs": []
    },
    {
      "cell_type": "code",
      "source": [
        "daily_mins = p0_listening_history.resample('H')['minPlayed'].mean().fillna(0)"
      ],
      "metadata": {
        "id": "DadwPrdEOuaU"
      },
      "execution_count": null,
      "outputs": []
    },
    {
      "cell_type": "code",
      "source": [
        "ax = p0_listening_history.resample('H')['minPlayed'].sum().plot(color='#1DB964', alpha=.9)\n",
        "\n",
        "daily_mins.rolling(10).sum().plot(ax=ax, color='white')\n",
        "\n",
        "ax.set_ylabel('Minutes Played')\n",
        "ax.set_title('Total Daily Minutes Played for Top 5 Tracks')\n",
        "plt.show()"
      ],
      "metadata": {
        "id": "6cQUJl5DJxV2"
      },
      "execution_count": null,
      "outputs": []
    },
    {
      "cell_type": "code",
      "source": [
        "(ax = "
      ],
      "metadata": {
        "id": "GjpEEaFtLO2F"
      },
      "execution_count": null,
      "outputs": []
    },
    {
      "cell_type": "code",
      "source": [
        "p0_listening_history.head(10)"
      ],
      "metadata": {
        "id": "osXB523q6Zax"
      },
      "execution_count": null,
      "outputs": []
    },
    {
      "cell_type": "code",
      "source": [
        "max_listens = p0_listening_history.sort_values('minPlayed', ascending=False).drop_duplicates('trackName', keep='first')\n",
        "\n",
        "max_listens['maxListen'] = max_listens['minPlayed']"
      ],
      "metadata": {
        "id": "Ch7xgRavDFAY"
      },
      "execution_count": null,
      "outputs": []
    },
    {
      "cell_type": "code",
      "source": [
        "max_listens"
      ],
      "metadata": {
        "id": "Z57xMm9QLEz9"
      },
      "execution_count": null,
      "outputs": []
    },
    {
      "cell_type": "code",
      "source": [
        "p0_listening_history.merge(max_listens, how='left', left_on='trackName')\n",
        "\n",
        "p0_listening_history.head()"
      ],
      "metadata": {
        "id": "YUP3H2TlKWTM"
      },
      "execution_count": null,
      "outputs": []
    },
    {
      "cell_type": "code",
      "source": [
        "new = pd.merge(p0_listening_history,max_listens[['artistName','trackName','maxListen']], how='left')"
      ],
      "metadata": {
        "id": "A0eh82u5QS05"
      },
      "execution_count": null,
      "outputs": []
    },
    {
      "cell_type": "code",
      "source": [
        "# df.loc[(df[\"B\"] > 50) & (df[\"C\"] == 900), \"A\"] *= 1000\n",
        "print('Number of listens less than max:\\t',len(new.loc[(new['trackName']=='From Time') & (new['minPlayed']!=new['maxListen'])]),'\\nNumber of listens equal to max:\\t',len(new.loc[(new['trackName']=='From Time') & (new['minPlayed']==new['maxListen'])]),'\\nTotal listens:\\n',len(new.loc[(new['trackName']=='From Time')]))"
      ],
      "metadata": {
        "id": "UNihLoJIR7W4"
      },
      "execution_count": null,
      "outputs": []
    },
    {
      "cell_type": "code",
      "source": [
        "new[new['trackName']=='From Time']"
      ],
      "metadata": {
        "id": "E3PFrFxfcZDg"
      },
      "execution_count": null,
      "outputs": []
    },
    {
      "cell_type": "code",
      "source": [
        "p0_listening_history"
      ],
      "metadata": {
        "id": "l78PtgJUK3dQ"
      },
      "execution_count": null,
      "outputs": []
    },
    {
      "cell_type": "code",
      "source": [
        "top_song_test = p0_listening_history.groupby(by=['trackName','artistName'])['minPlayed'].sum().sort_values(ascending=False)[:100]"
      ],
      "metadata": {
        "id": "Y07DCQLjupkM"
      },
      "execution_count": null,
      "outputs": []
    },
    {
      "cell_type": "code",
      "source": [
        "top_song_test"
      ],
      "metadata": {
        "id": "-ZykIucx6DGa"
      },
      "execution_count": null,
      "outputs": []
    },
    {
      "cell_type": "code",
      "source": [
        "top_song_test"
      ],
      "metadata": {
        "id": "rSASgili9FbR"
      },
      "execution_count": null,
      "outputs": []
    },
    {
      "cell_type": "code",
      "source": [
        "p0_listening_history['minPlayed'].sort_values(ascending=False)[:20]"
      ],
      "metadata": {
        "id": "QkX8B7XTyDO8"
      },
      "execution_count": null,
      "outputs": []
    },
    {
      "cell_type": "code",
      "source": [
        "type(top_song_test)"
      ],
      "metadata": {
        "id": "v5GZQCjwvKPv"
      },
      "execution_count": null,
      "outputs": []
    },
    {
      "cell_type": "code",
      "source": [
        "p0_listening_history "
      ],
      "metadata": {
        "id": "Bjk8ZANDtJk1"
      },
      "execution_count": null,
      "outputs": []
    },
    {
      "cell_type": "code",
      "metadata": {
        "id": "XUZyZ_NCPEfn"
      },
      "source": [
        "\n",
        "p1_listening_history1 = pd.read_json('person1_0.json')\n",
        "\n",
        "p1_listening_history2 = pd.read_json('person1_1.json')"
      ],
      "execution_count": null,
      "outputs": []
    },
    {
      "cell_type": "code",
      "metadata": {
        "id": "xisBUdk0YHXM"
      },
      "source": [
        "p1_listening_history1"
      ],
      "execution_count": null,
      "outputs": []
    },
    {
      "cell_type": "code",
      "metadata": {
        "id": "_vubujjXcFw7"
      },
      "source": [
        "p1_listening_history2"
      ],
      "execution_count": null,
      "outputs": []
    },
    {
      "cell_type": "code",
      "metadata": {
        "id": "V-rJMB5DaOpP"
      },
      "source": [
        "# Concatenate listening history dataframes into single dataframe for analysis\n",
        "p1_listening_history = pd.concat([p1_listening_history1, p1_listening_history2])\n",
        "\n",
        "print(f'The length of the first dataframe:\\t{len(p1_listening_history1)}\\nThe length of the second dataframe:\\t{len(p1_listening_history2)}\\n\\tLength of new dataframe:\\t{len(p1_listening_history)}')"
      ],
      "execution_count": null,
      "outputs": []
    },
    {
      "cell_type": "code",
      "metadata": {
        "id": "kcrHxn9QaoF_"
      },
      "source": [
        "len(p1_listening_history)"
      ],
      "execution_count": null,
      "outputs": []
    },
    {
      "cell_type": "code",
      "metadata": {
        "id": "sFP5vKK8arYb"
      },
      "source": [
        "p1_listening_history.head(5)"
      ],
      "execution_count": null,
      "outputs": []
    },
    {
      "cell_type": "code",
      "metadata": {
        "id": "eqU5hTH-a53z"
      },
      "source": [
        "p1_listening_history.tail(5)"
      ],
      "execution_count": null,
      "outputs": []
    },
    {
      "cell_type": "code",
      "metadata": {
        "id": "p6-LpmUO7CR-"
      },
      "source": [
        "'''\n",
        "  This function will transform a dataframe into time indexed df:\n",
        "\n",
        "  1. Convert 'endTime' column into datetime datatype\n",
        "  2. Set dataframe index to datetime column\n",
        "\n",
        "'''\n",
        "\n",
        "def make_time_indexed(df_to_transform, date_col):\n",
        "  # Convert endTime column to datetime datatype\n",
        "  df_to_transform[f'{date_col}'] = pd.to_datetime(df_to_transform[f'{date_col}'])\n",
        "\n",
        "  # Set the index of dataframe to the datetime column for time series use\n",
        "  df_to_transform.set_index(f'{endTime}', inplace = True)\n",
        "  \n",
        "  return df_to_transform\n",
        "\n"
      ],
      "execution_count": null,
      "outputs": []
    },
    {
      "cell_type": "code",
      "metadata": {
        "id": "LnkAeOQ19AOo"
      },
      "source": [
        "make_time_indexed(p1_listening_history,'endTime')"
      ],
      "execution_count": null,
      "outputs": []
    },
    {
      "cell_type": "code",
      "metadata": {
        "id": "7amNqUVr9Orn"
      },
      "source": [
        "p1_listening_history"
      ],
      "execution_count": null,
      "outputs": []
    },
    {
      "cell_type": "code",
      "metadata": {
        "id": "8EWQuY2bYLjw"
      },
      "source": [
        "p1_listening_history.dtypes"
      ],
      "execution_count": null,
      "outputs": []
    },
    {
      "cell_type": "code",
      "metadata": {
        "id": "0WVw5IBKBF6_"
      },
      "source": [
        "'''\n",
        "  Function to \n",
        "'''"
      ],
      "execution_count": null,
      "outputs": []
    },
    {
      "cell_type": "code",
      "metadata": {
        "id": "j_HOpzDSK0NO"
      },
      "source": [
        "len(p1_listening_history[p1_listening_history['artistName']=='Call Her Daddy']) + len(p1_listening_history[p1_listening_history['artistName']=='The Daily'])\n",
        "#len(test_removing_pods)"
      ],
      "execution_count": null,
      "outputs": []
    },
    {
      "cell_type": "code",
      "source": [
        "p2_listening_history['minPlayed'].sort_values(ascending=False)[:10]"
      ],
      "metadata": {
        "id": "c7nqAw5wbtuo"
      },
      "execution_count": null,
      "outputs": []
    },
    {
      "cell_type": "code",
      "metadata": {
        "id": "TVuFKQ3qXYEL"
      },
      "source": [
        "test_removing_pods = p1_listening_history[~p1_listening_history['artistName'].isin(['Call Her Daddy','The Daily'])]\n",
        "\n",
        "print(len(p1_listening_history), len(test_removing_pods))"
      ],
      "execution_count": null,
      "outputs": []
    },
    {
      "cell_type": "code",
      "metadata": {
        "id": "rlfq7ULlY5wY"
      },
      "source": [
        "pods = p1_listening_history[p1_listening_history['artistName'].isin(['Call Her Daddy','The Daily'])]\n",
        "\n",
        "pods.sort_values(by='minPlayed', ascending=False)"
      ],
      "execution_count": null,
      "outputs": []
    },
    {
      "cell_type": "code",
      "metadata": {
        "id": "NqRmN4kpZAAv"
      },
      "source": [
        "test_removing_pods"
      ],
      "execution_count": null,
      "outputs": []
    },
    {
      "cell_type": "code",
      "metadata": {
        "id": "bMYaUwAZEXD2"
      },
      "source": [
        "test_removing_pods['minPlayed'].resample('H').sum().plot()"
      ],
      "execution_count": null,
      "outputs": []
    },
    {
      "cell_type": "code",
      "metadata": {
        "id": "TwIa27mEZkpV"
      },
      "source": [
        "test_removing_pods['minPlayed'].describe()"
      ],
      "execution_count": null,
      "outputs": []
    },
    {
      "cell_type": "code",
      "metadata": {
        "id": "T7btOaE-Z35m"
      },
      "source": [
        ""
      ],
      "execution_count": null,
      "outputs": []
    },
    {
      "cell_type": "code",
      "metadata": {
        "id": "AWzmPs369UYF"
      },
      "source": [
        "p1_total_listening = p1_listening_history['minPlayed']"
      ],
      "execution_count": null,
      "outputs": []
    },
    {
      "cell_type": "code",
      "metadata": {
        "id": "CDb4CMWUBDg3"
      },
      "source": [
        "p1_total_listening"
      ],
      "execution_count": null,
      "outputs": []
    },
    {
      "cell_type": "code",
      "metadata": {
        "id": "k-8p4DoI9fKA"
      },
      "source": [
        "p1_total_min_listening_hrs = p1_listening_history.resample('H')['minPlayed'].sum()\n",
        "\n",
        "p1_total_listening"
      ],
      "execution_count": null,
      "outputs": []
    },
    {
      "cell_type": "code",
      "metadata": {
        "id": "AH1xEbM0BZki"
      },
      "source": [
        "p1_total_listening.describe()"
      ],
      "execution_count": null,
      "outputs": []
    },
    {
      "cell_type": "code",
      "metadata": {
        "id": "w6J5lFGKrE6T"
      },
      "source": [
        "p1_total_listening.plot()"
      ],
      "execution_count": null,
      "outputs": []
    },
    {
      "cell_type": "code",
      "metadata": {
        "id": "PhP4RtjP_uln"
      },
      "source": [
        "p1_total_listening.query (p1_total_listening.max())"
      ],
      "execution_count": null,
      "outputs": []
    },
    {
      "cell_type": "code",
      "metadata": {
        "id": "-vdCfYjMq5Fh"
      },
      "source": [
        "p1_listening_history = p1_listening_history.fillna(0)\n"
      ],
      "execution_count": null,
      "outputs": []
    },
    {
      "cell_type": "code",
      "metadata": {
        "id": "bVx12mzUrGt2"
      },
      "source": [
        "p1_listening_history.head(20)"
      ],
      "execution_count": null,
      "outputs": []
    },
    {
      "cell_type": "code",
      "metadata": {
        "id": "Wq0p2m4BYTC2"
      },
      "source": [
        "p1_listening_history.artistName.value_counts()"
      ],
      "execution_count": null,
      "outputs": []
    },
    {
      "cell_type": "code",
      "metadata": {
        "id": "cQp60o8ZYh8M"
      },
      "source": [
        "p1_listening_history.trackName.value_counts()[:20]"
      ],
      "execution_count": null,
      "outputs": []
    },
    {
      "cell_type": "code",
      "metadata": {
        "id": "oB_cNRTpTF3U"
      },
      "source": [
        "test = p1_listening_history.trackName.value_counts()[:15]\n",
        "\n",
        "test.plot(kind='barh')\n",
        "\n",
        "for x,y in test.items():\n",
        "  print(f'name:{x}, {y}')"
      ],
      "execution_count": null,
      "outputs": []
    },
    {
      "cell_type": "code",
      "metadata": {
        "id": "oYDC2iDF5tkU"
      },
      "source": [
        "# Show total minutes listened\n",
        "print(f'Total minutes played:\\t{p1_listening_history.minPlayed.sum()}')"
      ],
      "execution_count": null,
      "outputs": []
    },
    {
      "cell_type": "code",
      "metadata": {
        "id": "BsWTlU3qC-NS"
      },
      "source": [
        "top = p1_listening_history[p1_listening_history['trackName']=='I Might Need Security']\n",
        "top"
      ],
      "execution_count": null,
      "outputs": []
    },
    {
      "cell_type": "code",
      "metadata": {
        "id": "9phgMXG1Jwts"
      },
      "source": [
        "top_play = top['minPlayed']\n",
        "\n",
        "top_play.plot()"
      ],
      "execution_count": null,
      "outputs": []
    },
    {
      "cell_type": "code",
      "metadata": {
        "id": "kHBFSpdfDlU2"
      },
      "source": [
        "len(top[top['minPlayed'] > 4])"
      ],
      "execution_count": null,
      "outputs": []
    },
    {
      "cell_type": "code",
      "metadata": {
        "id": "nKFlShPPHg4Z"
      },
      "source": [
        "top[top['minPlayed'] < 4]"
      ],
      "execution_count": null,
      "outputs": []
    },
    {
      "cell_type": "code",
      "metadata": {
        "id": "tTpQTNyvLiHt"
      },
      "source": [
        ""
      ],
      "execution_count": null,
      "outputs": []
    },
    {
      "cell_type": "code",
      "metadata": {
        "id": "fiPabfWVV8OS"
      },
      "source": [
        "# Draw initial time series and make it transparent\n",
        "ax = p1_listening_history[p1_listening_history['trackName']=='I Might Need Security'].resample('D')['minPlayed'].sum().plot(color='#1DB964', alpha=.9)\n",
        "# Draw montly average values\n",
        "p1_listening_history[p1_listening_history['trackName']=='drivers license'].resample('D')['minPlayed'].sum().plot(color='white', ax=ax)\n",
        "# Draw roling average that takes into account 25 points\n",
        "#p1_listening_history.resample('D')['minPlayed'].sum().plot(color='orange', ax=ax)\n",
        "p1_listening_history[p1_listening_history['trackName']=='From Time'].resample('D')['minPlayed'].sum().plot(color='orange', alpha=.5, ax=ax)\n",
        "## olive.rolling(25).mean().plot(ax=ax)\n",
        "# Specify legend labels\n",
        "ax.legend([\"'I Might Need Security' Daily Minutes Played\", \"'drivers license - Olivia Rodrigo'\", \"'From Time - Drake' Daily Minutes Played\"], facecolor='white')\n",
        "ax.set_ylabel('Minutes Played')\n",
        "ax.set_title('Total Daily Minutes Played for Top 5 Tracks')\n",
        "plt.show()"
      ],
      "execution_count": null,
      "outputs": []
    },
    {
      "cell_type": "code",
      "metadata": {
        "id": "yreE5f6BUNQe"
      },
      "source": [
        "topsongplay = p1_listening_history[p1_listening_history['trackName']=='I Might Need Security'].resample('D')['minPlayed'].sum().plot(color='#1DB964')\n",
        "\n",
        "topsongplay"
      ],
      "execution_count": null,
      "outputs": []
    },
    {
      "cell_type": "code",
      "metadata": {
        "id": "4jaTnNC2ToL8"
      },
      "source": [
        "drivers = p1_listening_history[p1_listening_history['trackName']=='drivers license'].resample('D')['minPlayed'].sum().plot()\n",
        "\n",
        "drivers"
      ],
      "execution_count": null,
      "outputs": []
    },
    {
      "cell_type": "code",
      "metadata": {
        "id": "UxwK8mlMVsJR"
      },
      "source": [
        "# Draw initial time series and make it transparent\n",
        "ax = topsongplay\n",
        "# Draw montly average values\n",
        "drivers.plot(ax=ax)\n",
        "# Draw roling average that takes into account 25 points\n",
        "## olive.rolling(25).mean().plot(ax=ax)\n",
        "# Specify legend labels\n",
        "ax.legend([\"daily data\", \"montly average\"])\n",
        "plt.show()"
      ],
      "execution_count": null,
      "outputs": []
    },
    {
      "cell_type": "code",
      "metadata": {
        "id": "ycSa1uMEcOlI"
      },
      "source": [
        "p1_listening_history['artistName'].count()"
      ],
      "execution_count": null,
      "outputs": []
    },
    {
      "cell_type": "code",
      "metadata": {
        "id": "9P-36ep9clvu"
      },
      "source": [
        "olive = p1_listening_history[p1_listening_history['artistName'] == 'Olivia Rodrigo']"
      ],
      "execution_count": null,
      "outputs": []
    },
    {
      "cell_type": "code",
      "metadata": {
        "id": "7KBBYYFzc891"
      },
      "source": [
        "len(olive)"
      ],
      "execution_count": null,
      "outputs": []
    },
    {
      "cell_type": "code",
      "metadata": {
        "id": "0HKi9Sy0_mGy"
      },
      "source": [
        "olive"
      ],
      "execution_count": null,
      "outputs": []
    },
    {
      "cell_type": "code",
      "metadata": {
        "id": "VBsGtz0EIv2c"
      },
      "source": [
        "olive_minplayed.reset_index().plot.scatter(x = 'endTime', y = 'minPlayed')"
      ],
      "execution_count": null,
      "outputs": []
    },
    {
      "cell_type": "code",
      "metadata": {
        "id": "Gn-biCe0GCpN"
      },
      "source": [
        "olive_minplayed = olive['minPlayed']\n",
        "\n",
        "olive_minplayed.fillna(value=0)\n",
        "\n",
        "olive_minplayed"
      ],
      "execution_count": null,
      "outputs": []
    },
    {
      "cell_type": "code",
      "metadata": {
        "id": "n2RiPU2idKA-"
      },
      "source": [
        "olive_minplayed.plot()\n",
        "\n",
        "plt.show()"
      ],
      "execution_count": null,
      "outputs": []
    },
    {
      "cell_type": "code",
      "metadata": {
        "id": "4r99PaT8FJRk"
      },
      "source": [
        "olive_minplayed.resample('W').mean().head(10)"
      ],
      "execution_count": null,
      "outputs": []
    },
    {
      "cell_type": "code",
      "metadata": {
        "id": "v-Wn6mAIHnqu"
      },
      "source": [
        "olive_minplayed.head()"
      ],
      "execution_count": null,
      "outputs": []
    },
    {
      "cell_type": "code",
      "metadata": {
        "id": "332HdZWwIMPj"
      },
      "source": [
        "olive_minplayed.resample('M').sum().plot()"
      ],
      "execution_count": null,
      "outputs": []
    },
    {
      "cell_type": "code",
      "metadata": {
        "id": "paro5710Ks9E"
      },
      "source": [
        "olive_minplayed['2021-04':'2021-06'].resample('D').sum().plot()"
      ],
      "execution_count": null,
      "outputs": []
    },
    {
      "cell_type": "code",
      "metadata": {
        "id": "ybaP_la3LdTQ"
      },
      "source": [
        "p1_listening_history['2021-02'].resample('D')['minPlayed'].sum().plot()"
      ],
      "execution_count": null,
      "outputs": []
    },
    {
      "cell_type": "code",
      "metadata": {
        "id": "nXK0555lMKcc"
      },
      "source": [
        "feb_listening_history = p1_listening_history['2021-02']"
      ],
      "execution_count": null,
      "outputs": []
    },
    {
      "cell_type": "code",
      "metadata": {
        "id": "aHKqbf9bMQHI"
      },
      "source": [
        "feb_listening_history.groupby(by='trackName')['minPlayed'].mean().sort_values()[-20:].plot(kind='barh')"
      ],
      "execution_count": null,
      "outputs": []
    },
    {
      "cell_type": "code",
      "metadata": {
        "id": "3Jw6LfxzNbAa"
      },
      "source": [
        "feb_listening_history.groupby(by='trackName')['minPlayed'].sum().sort_values()[-20:].plot(kind='barh')"
      ],
      "execution_count": null,
      "outputs": []
    },
    {
      "cell_type": "code",
      "metadata": {
        "id": "S2bxAFeJDtg2"
      },
      "source": [
        "# Draw initial time series and make it transparent\n",
        "ax = olive_minplayed.resample('D').sum().plot(alpha=0.25)\n",
        "# Draw montly average values\n",
        "olive_minplayed.resample('M').mean().plot(ax=ax)\n",
        "# Draw roling average that takes into account 25 points\n",
        "## olive.rolling(25).mean().plot(ax=ax)\n",
        "# Specify legend labels\n",
        "ax.legend([\"daily data\", \"montly average\"])\n",
        "plt.show()"
      ],
      "execution_count": null,
      "outputs": []
    },
    {
      "cell_type": "code",
      "metadata": {
        "id": "OP4Bgr29eZYx"
      },
      "source": [
        "p1_listening_history.pivot_table(index='artistName', )"
      ],
      "execution_count": null,
      "outputs": []
    },
    {
      "cell_type": "code",
      "metadata": {
        "id": "7TxA8IE-hbeC"
      },
      "source": [
        "pivot = pd.pivot_table(p1_listening_history, values='msPlayed', aggfunc = 'sum', index='trackName')"
      ],
      "execution_count": null,
      "outputs": []
    },
    {
      "cell_type": "markdown",
      "metadata": {
        "id": "UTKYDs48_Qlz"
      },
      "source": [
        ""
      ]
    },
    {
      "cell_type": "code",
      "metadata": {
        "id": "Ds-GLb36h_RK"
      },
      "source": [
        "pivot"
      ],
      "execution_count": null,
      "outputs": []
    },
    {
      "cell_type": "code",
      "metadata": {
        "id": "tlns26nijE7w"
      },
      "source": [
        "p1_listening_history.sort_values(by='msPlayed', ascending=False)"
      ],
      "execution_count": null,
      "outputs": []
    },
    {
      "cell_type": "code",
      "metadata": {
        "id": "eDGqUbF3pDl5"
      },
      "source": [
        "print(p1_listening_history.groupby(by='trackName'))"
      ],
      "execution_count": null,
      "outputs": []
    },
    {
      "cell_type": "code",
      "metadata": {
        "id": "FKvVrEcJreTh"
      },
      "source": [
        "p1_listening_history[p1_listening_history['trackName']=='From Time']"
      ],
      "execution_count": null,
      "outputs": []
    },
    {
      "cell_type": "code",
      "metadata": {
        "id": "RkvtNk7N5voT"
      },
      "source": [
        "track_playcount = p1_listening_history.groupby(by='artistName')['trackName'].count().sort_values(ascending=True)[-10:]"
      ],
      "execution_count": null,
      "outputs": []
    },
    {
      "cell_type": "code",
      "metadata": {
        "id": "J-ZUTWL3rpuV"
      },
      "source": [
        "artist_timeplayed = p1_listening_history.groupby(by='artistName')['minPlayed'].sum().sort_values(ascending=False)[:15]\n",
        "\n",
        "artist_timeplayed"
      ],
      "execution_count": null,
      "outputs": []
    },
    {
      "cell_type": "code",
      "metadata": {
        "id": "uhsWZO-qMR4X"
      },
      "source": [
        "track_timeplayed = p1_listening_history.groupby(by='trackName')['minPlayed'].sum().sort_values(ascending=False)[:25]\n",
        "\n",
        "track_timeplayed"
      ],
      "execution_count": null,
      "outputs": []
    },
    {
      "cell_type": "code",
      "metadata": {
        "id": "eDskJSidOYbn"
      },
      "source": [
        "blackbear_df = p1_listening_history[p1_listening_history['artistName']=='blackbear']\n",
        "\n",
        "# Total time listening to blackbear\n",
        "blackbear_df.minPlayed.sum()"
      ],
      "execution_count": null,
      "outputs": []
    },
    {
      "cell_type": "code",
      "metadata": {
        "id": "xK2GOd8LPkia"
      },
      "source": [
        "blackbear_df.groupby(by='trackName')['minPlayed'].sum().sort_values()[-5:]"
      ],
      "execution_count": null,
      "outputs": []
    },
    {
      "cell_type": "code",
      "metadata": {
        "id": "z7iAJ0foPEi_"
      },
      "source": [
        "blackbear_df.groupby(by='trackName')['minPlayed'].sum().sort_values()[-5:].plot(kind='barh')"
      ],
      "execution_count": null,
      "outputs": []
    },
    {
      "cell_type": "code",
      "metadata": {
        "id": "a03ZPRaFQlMy"
      },
      "source": [
        "do_play = blackbear_df[blackbear_df['trackName']=='do re mi']['minPlayed']\n",
        "\n",
        "do_play"
      ],
      "execution_count": null,
      "outputs": []
    },
    {
      "cell_type": "code",
      "metadata": {
        "id": "Ul4dNcvXPwfd"
      },
      "source": [
        "blackbear_df[blackbear_df['trackName']=='do re mi']['minPlayed'].plot()"
      ],
      "execution_count": null,
      "outputs": []
    },
    {
      "cell_type": "code",
      "metadata": {
        "id": "Fys_5bTFVIYQ"
      },
      "source": [
        "songs = '''From Time                                                                                               245.844300\n",
        "I Might Need Security                                                                                   224.705183\n",
        "Got Me (with Ari Lennox & Omen feat. Ty Dolla $ign & Dreezy)                                            196.199050\n",
        "Made Love First                                                                                         183.744533\n",
        "Relaxing Sleep Music • Deep Sleeping Music, Relaxing Music, Stress Relief, Meditation Music (Flying)    180.483133\n",
        "Heaven                                                                                                  176.047683\n",
        "Josslyn                                                                                                 175.589317\n",
        "Missed Calls                                                                                            159.818333\n",
        "Bitter (feat. Trevor Daniel)                                                                            159.328333\n",
        "Still Be Friends (feat. Tory Lanez & Tyga)                                                              158.862683\n",
        "Love Lockdown                                                                                           147.644250\n",
        "FUCKING YOUNG / PERFECT (feat. Charlie Wilson, Chaz Bundick, Sydney Bennett & Kali Uchis)               147.153533\n",
        "Don't Watch Me Cry                                                                                      146.042017\n",
        "Hallelujah                                                                                              145.841250\n",
        "RPG (feat. 6lack)                                                                                       144.925250\n",
        "Slow Jamz                                                                                               138.980950\n",
        "do re mi                                                                                                136.358450\n",
        "The Question                                                                                            135.413633\n",
        "Footsteps (feat. Musiq Soulchild)                                                                       133.230900\n",
        "good 4 u  '''\n",
        "\n",
        "f, (ax1, ax2) = plt.subplots(1,2, shareX=True, shareY=True, figsize=(10,10))\n",
        "ax1.plot(p1_listening_history[p1_listening_history['trackName']=='From Time']['minPlayed'])\n",
        "ax1.set_title(\"'From Time' minutes played\")\n",
        "ax2.plot(top_play)\n",
        "ax2.set_title(\"'I Might Need Security' minutes played\")\n",
        "l='''ax3.plot(p1_listening_history[p1_listening_history['trackName']=='Got Me (with Ari Lennox & Omen feat. Ty Dolla $ign & Dreezy)']['minPlayed'])\n",
        "ax3.set_title(\"'Got Me' minutes played\")\n",
        "ax4.plot(p1_listening_history[p1_listening_history['trackName']=='Made Love First']['minPlayed'])\n",
        "ax4.set_title(\"'Made Love First' minutes played\")\n",
        "ax5.plot(p1_listening_history[p1_listening_history['trackName']=='Made Love First']['minPlayed'])\n",
        "ax5.set_title(\"'Made Love First' minutes played\")\n",
        "ax6.plot(p1_listening_history[p1_listening_history['trackName']=='Heaven']['minPlayed'])\n",
        "ax6.set_title(\"'Heaven' minutes played\")\n",
        "ax7.plot(p1_listening_history[p1_listening_history['trackName']=='Josslyn']['minPlayed'])\n",
        "ax7.set_title(\"'Josslyn\")\n",
        "ax8.plot(p1_listening_history[p1_listening_history['trackName']=='Missed Calls']['minPlayed'])\n",
        "ax8.set_title(\"'Missed Calls'\")\n",
        "#ax9.plot(p1_listening_history[p1_listening_history['trackName']=='Bitter (feat. Trevor Daniel)']['minPlayed'])\n",
        "#ax9.set_title(\"'Bitter (feat. Trevor Daniel)' minutes played\")\n",
        "#ax10.plot(p1_listening_history[p1_listening_history['trackName']=='Still Be Friends (feat. Tory Lanez & Tyga) ']['minPlayed'])\n",
        "#ax10.set_title(\"'Still Be Friends (feat. Tory Lanez & Tyga) ' minutes played\")\n",
        "ax11.plot(p1_listening_history[p1_listening_history['trackName']=='Love Lockdown']['minPlayed'])\n",
        "ax11.set_title(\"'Love Lockdown' minutes played\")\n",
        "ax12.plot(p1_listening_history[p1_listening_history['trackName']=='FUCKING YOUNG / PERFECT (feat. Charlie Wilson, Chaz Bundick, Sydney Bennett & Kali Uchis)']['minPlayed'])\n",
        "ax12.set_title(\"'FUCKING YOUNG / PERFECT' minutes played\")\n",
        "ax13.plot(p1_listening_history[p1_listening_history['trackName']==\"Don't Watch Me Cry\"]['minPlayed'])\n",
        "ax13.set_title(\"'Don't Watch Me Cry' minutes played\")\n",
        "ax14.plot(p1_listening_history[p1_listening_history['trackName']=='Hallelujah']['minPlayed'])\n",
        "ax14.set_title(\"'Hallelujah' minutes played\")\n",
        "ax15.plot(p1_listening_history[p1_listening_history['trackName']=='RPG (feat. 6lack)']['minPlayed'])\n",
        "ax15.set_title(\"'RPG (feat. 6lack)' minutes played\")\n",
        "ax16.plot(p1_listening_history[p1_listening_history['trackName']=='Slow Jamz']['minPlayed'])\n",
        "ax16.set_title(\"'Slow Jamz' minutes played\")\n",
        "ax17.plot(do_play)\n",
        "ax17.set_title(\"'do re mi' minutes played\")\n",
        "ax18.plot(p1_listening_history[p1_listening_history['trackName']=='The Question']['minPlayed'])\n",
        "ax18.set_title(\"'The Question' minutes played\")\n",
        "ax19.plot(p1_listening_history[p1_listening_history['trackName']=='Footsteps (feat. Musiq Soulchild)']['minPlayed'])\n",
        "ax19.set_title(\"'Footsteps (feat. Musiq Soulchild)' minutes played\")\n",
        "ax20.plot(p1_listening_history[p1_listening_history['trackName']=='good 4 u']['minPlayed'])\n",
        "ax20.set_title(\"'good 4 u' minutes played\")'''\n"
      ],
      "execution_count": null,
      "outputs": []
    },
    {
      "cell_type": "code",
      "metadata": {
        "id": "lph2DGefQgJy"
      },
      "source": [
        "songs = '''I Might Need Security                                67\n",
        "Missed Calls                                                    60\n",
        "Made Love First                                                 59\n",
        "Bitter (feat. Trevor Daniel)                                    58\n",
        "Josslyn                                                         58\n",
        "Purple Lamborghini (with Rick Ross)                             58\n",
        "Don't Watch Me Cry                                              57\n",
        "Blueberry Faygo                                                 57\n",
        "ROCKSTAR (feat. Roddy Ricch)                                    56\n",
        "Got Me (with Ari Lennox & Omen feat. Ty Dolla $ign & Dreezy)    53\n",
        "Still Be Friends (feat. Tory Lanez & Tyga)                      53\n",
        "Heaven                                                          52\n",
        "Juicy                                                           52\n",
        "From Time                                                       50\n",
        "good 4 u                                                        49'''"
      ],
      "execution_count": null,
      "outputs": []
    },
    {
      "cell_type": "code",
      "metadata": {
        "id": "sakUitMzTBw8"
      },
      "source": [
        "import matplotlib.pyplot as plt\n",
        "plt.rcParams['axes.facecolor'] = 'navy'"
      ],
      "execution_count": null,
      "outputs": []
    },
    {
      "cell_type": "code",
      "metadata": {
        "id": "pNBh4W7X6b8V"
      },
      "source": [
        "track_playcount_bar = track_playcount.plot(kind='barh', color='#1DB964')\n",
        "\n",
        "track_playcount_bar"
      ],
      "execution_count": null,
      "outputs": []
    },
    {
      "cell_type": "code",
      "metadata": {
        "id": "GNTb99BtuSU4"
      },
      "source": [
        "artist_timeplayed.sort_values().plot(kind='barh', color='#1DB964')"
      ],
      "execution_count": null,
      "outputs": []
    },
    {
      "cell_type": "code",
      "metadata": {
        "id": "_P7SXasutZaP"
      },
      "source": [
        "track_timeplayed = p1_listening_history.groupby(by='trackName')['msPlayed'].sum().sort_values(ascending=False)[:15]\n",
        "\n",
        "track_plays_bar = track_plays.plot(kind='barh', color='#1DB964')\n",
        "\n",
        "track_plays_bar"
      ],
      "execution_count": null,
      "outputs": []
    },
    {
      "cell_type": "code",
      "metadata": {
        "id": "uJeUVzCk-DqH"
      },
      "source": [
        "p1_listening_history[p1_listening_history['artistName']=='blackbear'].minPlayed.sum()"
      ],
      "execution_count": null,
      "outputs": []
    },
    {
      "cell_type": "code",
      "metadata": {
        "id": "cz4G2XdQsr4q"
      },
      "source": [
        "p1_listening_history[p1_listening_history['trackName']=='good 4 u'].minPlayed.sum()"
      ],
      "execution_count": null,
      "outputs": []
    },
    {
      "cell_type": "code",
      "metadata": {
        "id": "QraG15yHcJju"
      },
      "source": [
        "p1_listening_history[p1_listening_history['trackName']=='I Might Need Security'].minPlayed.sum()"
      ],
      "execution_count": null,
      "outputs": []
    },
    {
      "cell_type": "code",
      "metadata": {
        "id": "fppyS3TZpm3P"
      },
      "source": [
        "track_timeplayed = p1_listening_history.groupby(by='trackName')['minPlayed'].sum().sort_values(ascending=False)[:15]"
      ],
      "execution_count": null,
      "outputs": []
    },
    {
      "cell_type": "code",
      "metadata": {
        "id": "Jt6AE9_8uoFS"
      },
      "source": [
        "track_timeplayed.plot(kind='barh')"
      ],
      "execution_count": null,
      "outputs": []
    },
    {
      "cell_type": "code",
      "metadata": {
        "id": "7INkivygqtmj"
      },
      "source": [
        "olive.groupby(by='trackName')['msPlayed'].sum().sort_values(ascending=False)[:15]"
      ],
      "execution_count": null,
      "outputs": []
    },
    {
      "cell_type": "markdown",
      "metadata": {
        "id": "98A6uc29vCKR"
      },
      "source": [
        "* Add 'start time' to dataframe by subtracting msPlayed from 'endtime'\n",
        "* Add columns for minPlayed, secPlayed, timesPlayed\n",
        "* Change 'startTime' and 'endTime' to datetime datatypes\n",
        "\n",
        "Need Spotify API\n",
        "* Add 'contentType' (track, podcast etc.) column\n",
        "* Add audio features columns\n"
      ]
    },
    {
      "cell_type": "code",
      "metadata": {
        "id": "8Z0J6ibRwC_y"
      },
      "source": [
        "p1_listening_history['endTime'] = pd.to_datetime(p1_listening_history['endTime'])"
      ],
      "execution_count": null,
      "outputs": []
    },
    {
      "cell_type": "code",
      "metadata": {
        "id": "_H5zgBAGzxFs"
      },
      "source": [
        "p1_listening_history.dtypes"
      ],
      "execution_count": null,
      "outputs": []
    },
    {
      "cell_type": "code",
      "metadata": {
        "id": "Jqclzf6kzzdI"
      },
      "source": [
        "p1_listening_history.head(2)"
      ],
      "execution_count": null,
      "outputs": []
    },
    {
      "cell_type": "code",
      "metadata": {
        "id": "2nSVFe3H0cMq"
      },
      "source": [
        ""
      ],
      "execution_count": null,
      "outputs": []
    },
    {
      "cell_type": "code",
      "metadata": {
        "id": "xN6wQKxP2LNP"
      },
      "source": [
        "p1_listening_history['secPlayed'] = pd.Timestamp(p1_listening_history['secPlayed'], unit='s')"
      ],
      "execution_count": null,
      "outputs": []
    },
    {
      "cell_type": "code",
      "metadata": {
        "id": "9JzFXaJw2O3I"
      },
      "source": [
        ""
      ],
      "execution_count": null,
      "outputs": []
    },
    {
      "cell_type": "code",
      "metadata": {
        "id": "fVDdFwO31rD0"
      },
      "source": [
        "p1_listening_history[['minPlayed','secPlayed']] = pd.to_datetime(p1_listening_history[['minPlayed','secPlayed']])"
      ],
      "execution_count": null,
      "outputs": []
    },
    {
      "cell_type": "code",
      "metadata": {
        "id": "PU8cgm660oXx"
      },
      "source": [
        "p1_listening_history['startTime'] = p1_listening_history['endTime'] - p1_listening_history['minPlayed']"
      ],
      "execution_count": null,
      "outputs": []
    },
    {
      "cell_type": "markdown",
      "metadata": {
        "id": "qiSeIRm0enei"
      },
      "source": [
        "Progress notes:    \n",
        "- blackbear df \n",
        "- found number of plays for top song 'I might' to be when listened to whole song\n",
        "  - need to check if this applies to all songs\n",
        "\n",
        "- plotted top 20 total minutes played"
      ]
    },
    {
      "cell_type": "markdown",
      "source": [
        "# World Map Visualization of Top Song Artists' Origin (Ready to run)"
      ],
      "metadata": {
        "id": "6NMu0pFbIR15"
      }
    },
    {
      "cell_type": "code",
      "source": [
        "# Import the beautifulsoup \n",
        "# and request libraries of python.\n",
        "import requests\n",
        "import bs4\n",
        "import regex as re"
      ],
      "metadata": {
        "id": "aTIqg0bQdnk_"
      },
      "execution_count": 54,
      "outputs": []
    },
    {
      "cell_type": "code",
      "source": [
        "# Import folium for map and marker\n",
        "import folium"
      ],
      "metadata": {
        "id": "GxwR3asJIfdj"
      },
      "execution_count": 9,
      "outputs": []
    },
    {
      "cell_type": "code",
      "source": [
        "# Import simplemaps world csv into dataframe\n",
        "# df contains information for cities around the world, including lat/long for mapping\n",
        "world_cities = pd.read_csv('/content/spotify-vision/simplemaps_world_cities/worldcities.csv')\n",
        "\n",
        "world_cities.head()\n"
      ],
      "metadata": {
        "id": "glEEmPoDI2sN",
        "colab": {
          "base_uri": "https://localhost:8080/",
          "height": 206
        },
        "outputId": "38fdc0c2-8087-4983-a31f-20a3ac79be7d"
      },
      "execution_count": 13,
      "outputs": [
        {
          "output_type": "execute_result",
          "data": {
            "text/html": [
              "<div>\n",
              "<style scoped>\n",
              "    .dataframe tbody tr th:only-of-type {\n",
              "        vertical-align: middle;\n",
              "    }\n",
              "\n",
              "    .dataframe tbody tr th {\n",
              "        vertical-align: top;\n",
              "    }\n",
              "\n",
              "    .dataframe thead th {\n",
              "        text-align: right;\n",
              "    }\n",
              "</style>\n",
              "<table border=\"1\" class=\"dataframe\">\n",
              "  <thead>\n",
              "    <tr style=\"text-align: right;\">\n",
              "      <th></th>\n",
              "      <th>city</th>\n",
              "      <th>city_ascii</th>\n",
              "      <th>lat</th>\n",
              "      <th>lng</th>\n",
              "      <th>country</th>\n",
              "      <th>iso2</th>\n",
              "      <th>iso3</th>\n",
              "      <th>admin_name</th>\n",
              "      <th>capital</th>\n",
              "      <th>population</th>\n",
              "      <th>id</th>\n",
              "    </tr>\n",
              "  </thead>\n",
              "  <tbody>\n",
              "    <tr>\n",
              "      <th>0</th>\n",
              "      <td>Tokyo</td>\n",
              "      <td>Tokyo</td>\n",
              "      <td>35.6897</td>\n",
              "      <td>139.6922</td>\n",
              "      <td>Japan</td>\n",
              "      <td>JP</td>\n",
              "      <td>JPN</td>\n",
              "      <td>Tōkyō</td>\n",
              "      <td>primary</td>\n",
              "      <td>37977000.0</td>\n",
              "      <td>1392685764</td>\n",
              "    </tr>\n",
              "    <tr>\n",
              "      <th>1</th>\n",
              "      <td>Jakarta</td>\n",
              "      <td>Jakarta</td>\n",
              "      <td>-6.2146</td>\n",
              "      <td>106.8451</td>\n",
              "      <td>Indonesia</td>\n",
              "      <td>ID</td>\n",
              "      <td>IDN</td>\n",
              "      <td>Jakarta</td>\n",
              "      <td>primary</td>\n",
              "      <td>34540000.0</td>\n",
              "      <td>1360771077</td>\n",
              "    </tr>\n",
              "    <tr>\n",
              "      <th>2</th>\n",
              "      <td>Delhi</td>\n",
              "      <td>Delhi</td>\n",
              "      <td>28.6600</td>\n",
              "      <td>77.2300</td>\n",
              "      <td>India</td>\n",
              "      <td>IN</td>\n",
              "      <td>IND</td>\n",
              "      <td>Delhi</td>\n",
              "      <td>admin</td>\n",
              "      <td>29617000.0</td>\n",
              "      <td>1356872604</td>\n",
              "    </tr>\n",
              "    <tr>\n",
              "      <th>3</th>\n",
              "      <td>Mumbai</td>\n",
              "      <td>Mumbai</td>\n",
              "      <td>18.9667</td>\n",
              "      <td>72.8333</td>\n",
              "      <td>India</td>\n",
              "      <td>IN</td>\n",
              "      <td>IND</td>\n",
              "      <td>Mahārāshtra</td>\n",
              "      <td>admin</td>\n",
              "      <td>23355000.0</td>\n",
              "      <td>1356226629</td>\n",
              "    </tr>\n",
              "    <tr>\n",
              "      <th>4</th>\n",
              "      <td>Manila</td>\n",
              "      <td>Manila</td>\n",
              "      <td>14.6000</td>\n",
              "      <td>120.9833</td>\n",
              "      <td>Philippines</td>\n",
              "      <td>PH</td>\n",
              "      <td>PHL</td>\n",
              "      <td>Manila</td>\n",
              "      <td>primary</td>\n",
              "      <td>23088000.0</td>\n",
              "      <td>1608618140</td>\n",
              "    </tr>\n",
              "  </tbody>\n",
              "</table>\n",
              "</div>"
            ],
            "text/plain": [
              "      city city_ascii      lat  ...  capital  population          id\n",
              "0    Tokyo      Tokyo  35.6897  ...  primary  37977000.0  1392685764\n",
              "1  Jakarta    Jakarta  -6.2146  ...  primary  34540000.0  1360771077\n",
              "2    Delhi      Delhi  28.6600  ...    admin  29617000.0  1356872604\n",
              "3   Mumbai     Mumbai  18.9667  ...    admin  23355000.0  1356226629\n",
              "4   Manila     Manila  14.6000  ...  primary  23088000.0  1608618140\n",
              "\n",
              "[5 rows x 11 columns]"
            ]
          },
          "metadata": {},
          "execution_count": 13
        }
      ]
    },
    {
      "cell_type": "code",
      "source": [
        "world_cities[world_cities['city'] == 'Thousand Oaks']"
      ],
      "metadata": {
        "id": "winBXKAwNfv8",
        "colab": {
          "base_uri": "https://localhost:8080/",
          "height": 81
        },
        "outputId": "d5e6b726-2d7e-464b-af6e-cea799a3757f"
      },
      "execution_count": 7,
      "outputs": [
        {
          "output_type": "execute_result",
          "data": {
            "text/html": [
              "<div>\n",
              "<style scoped>\n",
              "    .dataframe tbody tr th:only-of-type {\n",
              "        vertical-align: middle;\n",
              "    }\n",
              "\n",
              "    .dataframe tbody tr th {\n",
              "        vertical-align: top;\n",
              "    }\n",
              "\n",
              "    .dataframe thead th {\n",
              "        text-align: right;\n",
              "    }\n",
              "</style>\n",
              "<table border=\"1\" class=\"dataframe\">\n",
              "  <thead>\n",
              "    <tr style=\"text-align: right;\">\n",
              "      <th></th>\n",
              "      <th>city</th>\n",
              "      <th>city_ascii</th>\n",
              "      <th>lat</th>\n",
              "      <th>lng</th>\n",
              "      <th>country</th>\n",
              "      <th>iso2</th>\n",
              "      <th>iso3</th>\n",
              "      <th>admin_name</th>\n",
              "      <th>capital</th>\n",
              "      <th>population</th>\n",
              "      <th>id</th>\n",
              "    </tr>\n",
              "  </thead>\n",
              "  <tbody>\n",
              "    <tr>\n",
              "      <th>2681</th>\n",
              "      <td>Thousand Oaks</td>\n",
              "      <td>Thousand Oaks</td>\n",
              "      <td>34.1914</td>\n",
              "      <td>-118.8755</td>\n",
              "      <td>United States</td>\n",
              "      <td>US</td>\n",
              "      <td>USA</td>\n",
              "      <td>California</td>\n",
              "      <td>NaN</td>\n",
              "      <td>215029.0</td>\n",
              "      <td>1840021844</td>\n",
              "    </tr>\n",
              "  </tbody>\n",
              "</table>\n",
              "</div>"
            ],
            "text/plain": [
              "               city     city_ascii      lat  ...  capital population          id\n",
              "2681  Thousand Oaks  Thousand Oaks  34.1914  ...      NaN   215029.0  1840021844\n",
              "\n",
              "[1 rows x 11 columns]"
            ]
          },
          "metadata": {},
          "execution_count": 7
        }
      ]
    },
    {
      "cell_type": "code",
      "source": [
        "\n",
        "# Dictionary of artist birthplace lat/long of top songs for mappinng\n",
        "locations_artist = {'artist': ['Drake','Jorja Smith','Olivia O\\'Brien', 'blackbear','Kanye West', 'Drake', 'Porter Robinson', 'Young Thug', 'DaBaby', 'YNW Melly', 'Cage The Elephant', 'Lost Frequencies', 'Vampire Weekend', 'Nora En Pure', 'Bo Burnham'],\n",
        "                    'person': [0, 0, 0, 0, 0, 1,1,1,1,1,2,2,2,2,2 ]}\n",
        "\n",
        "location_df = pd.DataFrame.from_dict(locations_artist)"
      ],
      "metadata": {
        "id": "i9NctKIiM7DJ"
      },
      "execution_count": 14,
      "outputs": []
    },
    {
      "cell_type": "code",
      "source": [
        "location_df"
      ],
      "metadata": {
        "id": "32PcePNWPgQb",
        "colab": {
          "base_uri": "https://localhost:8080/",
          "height": 520
        },
        "outputId": "b8e4fa9c-90c4-455f-ed64-759b1a7f7108"
      },
      "execution_count": 15,
      "outputs": [
        {
          "output_type": "execute_result",
          "data": {
            "text/html": [
              "<div>\n",
              "<style scoped>\n",
              "    .dataframe tbody tr th:only-of-type {\n",
              "        vertical-align: middle;\n",
              "    }\n",
              "\n",
              "    .dataframe tbody tr th {\n",
              "        vertical-align: top;\n",
              "    }\n",
              "\n",
              "    .dataframe thead th {\n",
              "        text-align: right;\n",
              "    }\n",
              "</style>\n",
              "<table border=\"1\" class=\"dataframe\">\n",
              "  <thead>\n",
              "    <tr style=\"text-align: right;\">\n",
              "      <th></th>\n",
              "      <th>artist</th>\n",
              "      <th>person</th>\n",
              "    </tr>\n",
              "  </thead>\n",
              "  <tbody>\n",
              "    <tr>\n",
              "      <th>0</th>\n",
              "      <td>Drake</td>\n",
              "      <td>0</td>\n",
              "    </tr>\n",
              "    <tr>\n",
              "      <th>1</th>\n",
              "      <td>Jorja Smith</td>\n",
              "      <td>0</td>\n",
              "    </tr>\n",
              "    <tr>\n",
              "      <th>2</th>\n",
              "      <td>Olivia O'Brien</td>\n",
              "      <td>0</td>\n",
              "    </tr>\n",
              "    <tr>\n",
              "      <th>3</th>\n",
              "      <td>blackbear</td>\n",
              "      <td>0</td>\n",
              "    </tr>\n",
              "    <tr>\n",
              "      <th>4</th>\n",
              "      <td>Kanye West</td>\n",
              "      <td>0</td>\n",
              "    </tr>\n",
              "    <tr>\n",
              "      <th>5</th>\n",
              "      <td>Drake</td>\n",
              "      <td>1</td>\n",
              "    </tr>\n",
              "    <tr>\n",
              "      <th>6</th>\n",
              "      <td>Porter Robinson</td>\n",
              "      <td>1</td>\n",
              "    </tr>\n",
              "    <tr>\n",
              "      <th>7</th>\n",
              "      <td>Young Thug</td>\n",
              "      <td>1</td>\n",
              "    </tr>\n",
              "    <tr>\n",
              "      <th>8</th>\n",
              "      <td>DaBaby</td>\n",
              "      <td>1</td>\n",
              "    </tr>\n",
              "    <tr>\n",
              "      <th>9</th>\n",
              "      <td>YNW Melly</td>\n",
              "      <td>1</td>\n",
              "    </tr>\n",
              "    <tr>\n",
              "      <th>10</th>\n",
              "      <td>Cage The Elephant</td>\n",
              "      <td>2</td>\n",
              "    </tr>\n",
              "    <tr>\n",
              "      <th>11</th>\n",
              "      <td>Lost Frequencies</td>\n",
              "      <td>2</td>\n",
              "    </tr>\n",
              "    <tr>\n",
              "      <th>12</th>\n",
              "      <td>Vampire Weekend</td>\n",
              "      <td>2</td>\n",
              "    </tr>\n",
              "    <tr>\n",
              "      <th>13</th>\n",
              "      <td>Nora En Pure</td>\n",
              "      <td>2</td>\n",
              "    </tr>\n",
              "    <tr>\n",
              "      <th>14</th>\n",
              "      <td>Bo Burnham</td>\n",
              "      <td>2</td>\n",
              "    </tr>\n",
              "  </tbody>\n",
              "</table>\n",
              "</div>"
            ],
            "text/plain": [
              "               artist  person\n",
              "0               Drake       0\n",
              "1         Jorja Smith       0\n",
              "2      Olivia O'Brien       0\n",
              "3           blackbear       0\n",
              "4          Kanye West       0\n",
              "5               Drake       1\n",
              "6     Porter Robinson       1\n",
              "7          Young Thug       1\n",
              "8              DaBaby       1\n",
              "9           YNW Melly       1\n",
              "10  Cage The Elephant       2\n",
              "11   Lost Frequencies       2\n",
              "12    Vampire Weekend       2\n",
              "13       Nora En Pure       2\n",
              "14         Bo Burnham       2"
            ]
          },
          "metadata": {},
          "execution_count": 15
        }
      ]
    },
    {
      "cell_type": "code",
      "source": [
        "def get_artist_location(artist_name):\n",
        "  # Make two strings with default google search URL\n",
        "  # 'https://google.com/search?q=' and\n",
        "  # our customized search keyword.\n",
        "  # Concatenate them\n",
        "  text = f'{artist_name} artist'\n",
        "\n",
        "  url = 'https://google.com/search?q=' + text\n",
        "      \n",
        "    # Fetch the URL data using requests.get(url),\n",
        "    # store it in a variable, request_result.\n",
        "  request_result=requests.get( url )\n",
        "      \n",
        "    # Creating soup from the fetched request\n",
        "  soup = bs4.BeautifulSoup(request_result.text,\n",
        "                            \"html.parser\")\n",
        "\n",
        "    # Finding span of specific class that contains Wiki information for birth place identifying \n",
        "  origin = soup.find_all(\"span\" , class_=\"XLloXe AP7Wnd\")\n",
        "\n",
        "  # Find pattern of 'City, State(or Country)'\n",
        "  location_pattern = re.compile(r'(([A-Z][a-z]*\\s*)+)\\s*,\\s*([A-Z][a-z]*)')\n",
        "\n",
        "  # For each text in list of span, convert tags to text and search pattern. If search is not none, return City group of pattern\n",
        "  for text in origin:\n",
        "    text = text.text\n",
        "    location = re.search(location_pattern,text)\n",
        "    if location is not None:\n",
        "      return location.group(1)\n",
        "    "
      ],
      "metadata": {
        "id": "3g4OtWjnm1WN"
      },
      "execution_count": 16,
      "outputs": []
    },
    {
      "cell_type": "code",
      "source": [
        "# \n",
        "locations = []\n",
        "for index, row in location_df.iterrows():\n",
        "  artist_location = get_artist_location(row['artist']) \n",
        "  print(artist_location)\n",
        "  locations.append(artist_location)\n",
        "print(locations)"
      ],
      "metadata": {
        "id": "pobrL-ZqnYzi",
        "colab": {
          "base_uri": "https://localhost:8080/"
        },
        "outputId": "0a7019d2-1823-407a-8eaa-b3326e7b0e38"
      },
      "execution_count": 22,
      "outputs": [
        {
          "output_type": "stream",
          "name": "stdout",
          "text": [
            "Toronto\n",
            "Walsall\n",
            "Thousand Oaks\n",
            "Daytona Beach\n",
            "Atlanta\n",
            "Toronto\n",
            "Atlanta\n",
            "Sylvan Hills\n",
            "None\n",
            "Gifford\n",
            "Bowling Green\n",
            "Brussels\n",
            "New York\n",
            "Johannesburg\n",
            "Hamilton\n",
            "['Toronto', 'Walsall', 'Thousand Oaks', 'Daytona Beach', 'Atlanta', 'Toronto', 'Atlanta', 'Sylvan Hills', None, 'Gifford', 'Bowling Green', 'Brussels', 'New York', 'Johannesburg', 'Hamilton']\n"
          ]
        }
      ]
    },
    {
      "cell_type": "code",
      "source": [
        "location_df['city'] = locations"
      ],
      "metadata": {
        "id": "fyjRhbtzOrja"
      },
      "execution_count": 12,
      "outputs": []
    },
    {
      "cell_type": "code",
      "source": [
        "artist_locations = location_df.merge(world_cities, how='left', on='city')"
      ],
      "metadata": {
        "id": "0fGlF5jTPuKH"
      },
      "execution_count": 13,
      "outputs": []
    },
    {
      "cell_type": "code",
      "source": [
        "artist_locations.dropna(subset=['lat','lng'], inplace=True)\n",
        "\n",
        "artist_locations"
      ],
      "metadata": {
        "id": "bRB0EIl6QGRJ",
        "colab": {
          "base_uri": "https://localhost:8080/",
          "height": 1000
        },
        "outputId": "8cdab967-9c7b-4654-9ef8-00b3344306cf"
      },
      "execution_count": 14,
      "outputs": [
        {
          "output_type": "execute_result",
          "data": {
            "text/html": [
              "<div>\n",
              "<style scoped>\n",
              "    .dataframe tbody tr th:only-of-type {\n",
              "        vertical-align: middle;\n",
              "    }\n",
              "\n",
              "    .dataframe tbody tr th {\n",
              "        vertical-align: top;\n",
              "    }\n",
              "\n",
              "    .dataframe thead th {\n",
              "        text-align: right;\n",
              "    }\n",
              "</style>\n",
              "<table border=\"1\" class=\"dataframe\">\n",
              "  <thead>\n",
              "    <tr style=\"text-align: right;\">\n",
              "      <th></th>\n",
              "      <th>artist</th>\n",
              "      <th>person</th>\n",
              "      <th>city</th>\n",
              "      <th>city_ascii</th>\n",
              "      <th>lat</th>\n",
              "      <th>lng</th>\n",
              "      <th>country</th>\n",
              "      <th>iso2</th>\n",
              "      <th>iso3</th>\n",
              "      <th>admin_name</th>\n",
              "      <th>capital</th>\n",
              "      <th>population</th>\n",
              "      <th>id</th>\n",
              "    </tr>\n",
              "  </thead>\n",
              "  <tbody>\n",
              "    <tr>\n",
              "      <th>0</th>\n",
              "      <td>Drake</td>\n",
              "      <td>0</td>\n",
              "      <td>Toronto</td>\n",
              "      <td>Toronto</td>\n",
              "      <td>43.7417</td>\n",
              "      <td>-79.3733</td>\n",
              "      <td>Canada</td>\n",
              "      <td>CA</td>\n",
              "      <td>CAN</td>\n",
              "      <td>Ontario</td>\n",
              "      <td>NaN</td>\n",
              "      <td>5429524.0</td>\n",
              "      <td>1.124280e+09</td>\n",
              "    </tr>\n",
              "    <tr>\n",
              "      <th>1</th>\n",
              "      <td>Jorja Smith</td>\n",
              "      <td>0</td>\n",
              "      <td>Walsall</td>\n",
              "      <td>Walsall</td>\n",
              "      <td>52.5800</td>\n",
              "      <td>-1.9800</td>\n",
              "      <td>United Kingdom</td>\n",
              "      <td>GB</td>\n",
              "      <td>GBR</td>\n",
              "      <td>Walsall</td>\n",
              "      <td>NaN</td>\n",
              "      <td>67594.0</td>\n",
              "      <td>1.826656e+09</td>\n",
              "    </tr>\n",
              "    <tr>\n",
              "      <th>2</th>\n",
              "      <td>Olivia O'Brien</td>\n",
              "      <td>0</td>\n",
              "      <td>Thousand Oaks</td>\n",
              "      <td>Thousand Oaks</td>\n",
              "      <td>34.1914</td>\n",
              "      <td>-118.8755</td>\n",
              "      <td>United States</td>\n",
              "      <td>US</td>\n",
              "      <td>USA</td>\n",
              "      <td>California</td>\n",
              "      <td>NaN</td>\n",
              "      <td>215029.0</td>\n",
              "      <td>1.840022e+09</td>\n",
              "    </tr>\n",
              "    <tr>\n",
              "      <th>3</th>\n",
              "      <td>blackbear</td>\n",
              "      <td>0</td>\n",
              "      <td>Daytona Beach</td>\n",
              "      <td>Daytona Beach</td>\n",
              "      <td>29.1994</td>\n",
              "      <td>-81.0982</td>\n",
              "      <td>United States</td>\n",
              "      <td>US</td>\n",
              "      <td>USA</td>\n",
              "      <td>Florida</td>\n",
              "      <td>NaN</td>\n",
              "      <td>69186.0</td>\n",
              "      <td>1.840015e+09</td>\n",
              "    </tr>\n",
              "    <tr>\n",
              "      <th>4</th>\n",
              "      <td>Kanye West</td>\n",
              "      <td>0</td>\n",
              "      <td>Atlanta</td>\n",
              "      <td>Atlanta</td>\n",
              "      <td>33.7627</td>\n",
              "      <td>-84.4224</td>\n",
              "      <td>United States</td>\n",
              "      <td>US</td>\n",
              "      <td>USA</td>\n",
              "      <td>Georgia</td>\n",
              "      <td>admin</td>\n",
              "      <td>5449398.0</td>\n",
              "      <td>1.840014e+09</td>\n",
              "    </tr>\n",
              "    <tr>\n",
              "      <th>5</th>\n",
              "      <td>Kanye West</td>\n",
              "      <td>0</td>\n",
              "      <td>Atlanta</td>\n",
              "      <td>Atlanta</td>\n",
              "      <td>33.1136</td>\n",
              "      <td>-94.1672</td>\n",
              "      <td>United States</td>\n",
              "      <td>US</td>\n",
              "      <td>USA</td>\n",
              "      <td>Texas</td>\n",
              "      <td>NaN</td>\n",
              "      <td>5526.0</td>\n",
              "      <td>1.840019e+09</td>\n",
              "    </tr>\n",
              "    <tr>\n",
              "      <th>6</th>\n",
              "      <td>Drake</td>\n",
              "      <td>1</td>\n",
              "      <td>Toronto</td>\n",
              "      <td>Toronto</td>\n",
              "      <td>43.7417</td>\n",
              "      <td>-79.3733</td>\n",
              "      <td>Canada</td>\n",
              "      <td>CA</td>\n",
              "      <td>CAN</td>\n",
              "      <td>Ontario</td>\n",
              "      <td>NaN</td>\n",
              "      <td>5429524.0</td>\n",
              "      <td>1.124280e+09</td>\n",
              "    </tr>\n",
              "    <tr>\n",
              "      <th>7</th>\n",
              "      <td>Porter Robinson</td>\n",
              "      <td>1</td>\n",
              "      <td>Atlanta</td>\n",
              "      <td>Atlanta</td>\n",
              "      <td>33.7627</td>\n",
              "      <td>-84.4224</td>\n",
              "      <td>United States</td>\n",
              "      <td>US</td>\n",
              "      <td>USA</td>\n",
              "      <td>Georgia</td>\n",
              "      <td>admin</td>\n",
              "      <td>5449398.0</td>\n",
              "      <td>1.840014e+09</td>\n",
              "    </tr>\n",
              "    <tr>\n",
              "      <th>8</th>\n",
              "      <td>Porter Robinson</td>\n",
              "      <td>1</td>\n",
              "      <td>Atlanta</td>\n",
              "      <td>Atlanta</td>\n",
              "      <td>33.1136</td>\n",
              "      <td>-94.1672</td>\n",
              "      <td>United States</td>\n",
              "      <td>US</td>\n",
              "      <td>USA</td>\n",
              "      <td>Texas</td>\n",
              "      <td>NaN</td>\n",
              "      <td>5526.0</td>\n",
              "      <td>1.840019e+09</td>\n",
              "    </tr>\n",
              "    <tr>\n",
              "      <th>10</th>\n",
              "      <td>DaBaby</td>\n",
              "      <td>1</td>\n",
              "      <td>Cleveland</td>\n",
              "      <td>Cleveland</td>\n",
              "      <td>41.4767</td>\n",
              "      <td>-81.6804</td>\n",
              "      <td>United States</td>\n",
              "      <td>US</td>\n",
              "      <td>USA</td>\n",
              "      <td>Ohio</td>\n",
              "      <td>NaN</td>\n",
              "      <td>1710093.0</td>\n",
              "      <td>1.840001e+09</td>\n",
              "    </tr>\n",
              "    <tr>\n",
              "      <th>11</th>\n",
              "      <td>DaBaby</td>\n",
              "      <td>1</td>\n",
              "      <td>Cleveland</td>\n",
              "      <td>Cleveland</td>\n",
              "      <td>35.1817</td>\n",
              "      <td>-84.8707</td>\n",
              "      <td>United States</td>\n",
              "      <td>US</td>\n",
              "      <td>USA</td>\n",
              "      <td>Tennessee</td>\n",
              "      <td>NaN</td>\n",
              "      <td>73596.0</td>\n",
              "      <td>1.840015e+09</td>\n",
              "    </tr>\n",
              "    <tr>\n",
              "      <th>12</th>\n",
              "      <td>DaBaby</td>\n",
              "      <td>1</td>\n",
              "      <td>Cleveland</td>\n",
              "      <td>Cleveland</td>\n",
              "      <td>33.7440</td>\n",
              "      <td>-90.7285</td>\n",
              "      <td>United States</td>\n",
              "      <td>US</td>\n",
              "      <td>USA</td>\n",
              "      <td>Mississippi</td>\n",
              "      <td>NaN</td>\n",
              "      <td>14114.0</td>\n",
              "      <td>1.840015e+09</td>\n",
              "    </tr>\n",
              "    <tr>\n",
              "      <th>13</th>\n",
              "      <td>DaBaby</td>\n",
              "      <td>1</td>\n",
              "      <td>Cleveland</td>\n",
              "      <td>Cleveland</td>\n",
              "      <td>30.3374</td>\n",
              "      <td>-95.0931</td>\n",
              "      <td>United States</td>\n",
              "      <td>US</td>\n",
              "      <td>USA</td>\n",
              "      <td>Texas</td>\n",
              "      <td>NaN</td>\n",
              "      <td>10690.0</td>\n",
              "      <td>1.840020e+09</td>\n",
              "    </tr>\n",
              "    <tr>\n",
              "      <th>14</th>\n",
              "      <td>DaBaby</td>\n",
              "      <td>1</td>\n",
              "      <td>Cleveland</td>\n",
              "      <td>Cleveland</td>\n",
              "      <td>34.5971</td>\n",
              "      <td>-83.7621</td>\n",
              "      <td>United States</td>\n",
              "      <td>US</td>\n",
              "      <td>USA</td>\n",
              "      <td>Georgia</td>\n",
              "      <td>NaN</td>\n",
              "      <td>5372.0</td>\n",
              "      <td>1.840015e+09</td>\n",
              "    </tr>\n",
              "    <tr>\n",
              "      <th>15</th>\n",
              "      <td>YNW Melly</td>\n",
              "      <td>1</td>\n",
              "      <td>Gifford</td>\n",
              "      <td>Gifford</td>\n",
              "      <td>27.6747</td>\n",
              "      <td>-80.4102</td>\n",
              "      <td>United States</td>\n",
              "      <td>US</td>\n",
              "      <td>USA</td>\n",
              "      <td>Florida</td>\n",
              "      <td>NaN</td>\n",
              "      <td>10479.0</td>\n",
              "      <td>1.840014e+09</td>\n",
              "    </tr>\n",
              "    <tr>\n",
              "      <th>16</th>\n",
              "      <td>Cage The Elephant</td>\n",
              "      <td>2</td>\n",
              "      <td>Bowling Green</td>\n",
              "      <td>Bowling Green</td>\n",
              "      <td>36.9719</td>\n",
              "      <td>-86.4373</td>\n",
              "      <td>United States</td>\n",
              "      <td>US</td>\n",
              "      <td>USA</td>\n",
              "      <td>Kentucky</td>\n",
              "      <td>NaN</td>\n",
              "      <td>95135.0</td>\n",
              "      <td>1.840013e+09</td>\n",
              "    </tr>\n",
              "    <tr>\n",
              "      <th>17</th>\n",
              "      <td>Cage The Elephant</td>\n",
              "      <td>2</td>\n",
              "      <td>Bowling Green</td>\n",
              "      <td>Bowling Green</td>\n",
              "      <td>41.3773</td>\n",
              "      <td>-83.6500</td>\n",
              "      <td>United States</td>\n",
              "      <td>US</td>\n",
              "      <td>USA</td>\n",
              "      <td>Ohio</td>\n",
              "      <td>NaN</td>\n",
              "      <td>32249.0</td>\n",
              "      <td>1.840001e+09</td>\n",
              "    </tr>\n",
              "    <tr>\n",
              "      <th>18</th>\n",
              "      <td>Cage The Elephant</td>\n",
              "      <td>2</td>\n",
              "      <td>Bowling Green</td>\n",
              "      <td>Bowling Green</td>\n",
              "      <td>39.3447</td>\n",
              "      <td>-91.2032</td>\n",
              "      <td>United States</td>\n",
              "      <td>US</td>\n",
              "      <td>USA</td>\n",
              "      <td>Missouri</td>\n",
              "      <td>NaN</td>\n",
              "      <td>5608.0</td>\n",
              "      <td>1.840007e+09</td>\n",
              "    </tr>\n",
              "    <tr>\n",
              "      <th>19</th>\n",
              "      <td>Lost Frequencies</td>\n",
              "      <td>2</td>\n",
              "      <td>Brussels</td>\n",
              "      <td>Brussels</td>\n",
              "      <td>50.8333</td>\n",
              "      <td>4.3333</td>\n",
              "      <td>Belgium</td>\n",
              "      <td>BE</td>\n",
              "      <td>BEL</td>\n",
              "      <td>Brussels-Capital Region</td>\n",
              "      <td>primary</td>\n",
              "      <td>1743000.0</td>\n",
              "      <td>1.056470e+09</td>\n",
              "    </tr>\n",
              "    <tr>\n",
              "      <th>20</th>\n",
              "      <td>Vampire Weekend</td>\n",
              "      <td>2</td>\n",
              "      <td>New York</td>\n",
              "      <td>New York</td>\n",
              "      <td>40.6943</td>\n",
              "      <td>-73.9249</td>\n",
              "      <td>United States</td>\n",
              "      <td>US</td>\n",
              "      <td>USA</td>\n",
              "      <td>New York</td>\n",
              "      <td>NaN</td>\n",
              "      <td>18713220.0</td>\n",
              "      <td>1.840034e+09</td>\n",
              "    </tr>\n",
              "    <tr>\n",
              "      <th>21</th>\n",
              "      <td>Nora En Pure</td>\n",
              "      <td>2</td>\n",
              "      <td>Johannesburg</td>\n",
              "      <td>Johannesburg</td>\n",
              "      <td>-26.2044</td>\n",
              "      <td>28.0416</td>\n",
              "      <td>South Africa</td>\n",
              "      <td>ZA</td>\n",
              "      <td>ZAF</td>\n",
              "      <td>Gauteng</td>\n",
              "      <td>admin</td>\n",
              "      <td>4434827.0</td>\n",
              "      <td>1.710551e+09</td>\n",
              "    </tr>\n",
              "    <tr>\n",
              "      <th>22</th>\n",
              "      <td>Bo Burnham</td>\n",
              "      <td>2</td>\n",
              "      <td>Hamilton</td>\n",
              "      <td>Hamilton</td>\n",
              "      <td>32.2942</td>\n",
              "      <td>-64.7839</td>\n",
              "      <td>Bermuda</td>\n",
              "      <td>BM</td>\n",
              "      <td>BMU</td>\n",
              "      <td>Hamilton</td>\n",
              "      <td>primary</td>\n",
              "      <td>52320.0</td>\n",
              "      <td>1.060000e+09</td>\n",
              "    </tr>\n",
              "    <tr>\n",
              "      <th>23</th>\n",
              "      <td>Bo Burnham</td>\n",
              "      <td>2</td>\n",
              "      <td>Hamilton</td>\n",
              "      <td>Hamilton</td>\n",
              "      <td>43.2567</td>\n",
              "      <td>-79.8692</td>\n",
              "      <td>Canada</td>\n",
              "      <td>CA</td>\n",
              "      <td>CAN</td>\n",
              "      <td>Ontario</td>\n",
              "      <td>NaN</td>\n",
              "      <td>693645.0</td>\n",
              "      <td>1.124567e+09</td>\n",
              "    </tr>\n",
              "    <tr>\n",
              "      <th>24</th>\n",
              "      <td>Bo Burnham</td>\n",
              "      <td>2</td>\n",
              "      <td>Hamilton</td>\n",
              "      <td>Hamilton</td>\n",
              "      <td>-37.7833</td>\n",
              "      <td>175.2833</td>\n",
              "      <td>New Zealand</td>\n",
              "      <td>NZ</td>\n",
              "      <td>NZL</td>\n",
              "      <td>Waikato</td>\n",
              "      <td>admin</td>\n",
              "      <td>169300.0</td>\n",
              "      <td>1.554873e+09</td>\n",
              "    </tr>\n",
              "    <tr>\n",
              "      <th>25</th>\n",
              "      <td>Bo Burnham</td>\n",
              "      <td>2</td>\n",
              "      <td>Hamilton</td>\n",
              "      <td>Hamilton</td>\n",
              "      <td>55.7770</td>\n",
              "      <td>-4.0390</td>\n",
              "      <td>United Kingdom</td>\n",
              "      <td>GB</td>\n",
              "      <td>GBR</td>\n",
              "      <td>South Lanarkshire</td>\n",
              "      <td>NaN</td>\n",
              "      <td>54230.0</td>\n",
              "      <td>1.826693e+09</td>\n",
              "    </tr>\n",
              "    <tr>\n",
              "      <th>26</th>\n",
              "      <td>Bo Burnham</td>\n",
              "      <td>2</td>\n",
              "      <td>Hamilton</td>\n",
              "      <td>Hamilton</td>\n",
              "      <td>40.2046</td>\n",
              "      <td>-74.6765</td>\n",
              "      <td>United States</td>\n",
              "      <td>US</td>\n",
              "      <td>USA</td>\n",
              "      <td>New Jersey</td>\n",
              "      <td>NaN</td>\n",
              "      <td>87424.0</td>\n",
              "      <td>1.840056e+09</td>\n",
              "    </tr>\n",
              "    <tr>\n",
              "      <th>27</th>\n",
              "      <td>Bo Burnham</td>\n",
              "      <td>2</td>\n",
              "      <td>Hamilton</td>\n",
              "      <td>Hamilton</td>\n",
              "      <td>39.3938</td>\n",
              "      <td>-84.5653</td>\n",
              "      <td>United States</td>\n",
              "      <td>US</td>\n",
              "      <td>USA</td>\n",
              "      <td>Ohio</td>\n",
              "      <td>NaN</td>\n",
              "      <td>62082.0</td>\n",
              "      <td>1.840004e+09</td>\n",
              "    </tr>\n",
              "    <tr>\n",
              "      <th>28</th>\n",
              "      <td>Bo Burnham</td>\n",
              "      <td>2</td>\n",
              "      <td>Hamilton</td>\n",
              "      <td>Hamilton</td>\n",
              "      <td>39.9432</td>\n",
              "      <td>-77.7327</td>\n",
              "      <td>United States</td>\n",
              "      <td>US</td>\n",
              "      <td>USA</td>\n",
              "      <td>Pennsylvania</td>\n",
              "      <td>NaN</td>\n",
              "      <td>11097.0</td>\n",
              "      <td>1.840147e+09</td>\n",
              "    </tr>\n",
              "    <tr>\n",
              "      <th>29</th>\n",
              "      <td>Bo Burnham</td>\n",
              "      <td>2</td>\n",
              "      <td>Hamilton</td>\n",
              "      <td>Hamilton</td>\n",
              "      <td>-37.7333</td>\n",
              "      <td>142.0167</td>\n",
              "      <td>Australia</td>\n",
              "      <td>AU</td>\n",
              "      <td>AUS</td>\n",
              "      <td>Victoria</td>\n",
              "      <td>NaN</td>\n",
              "      <td>9974.0</td>\n",
              "      <td>1.036700e+09</td>\n",
              "    </tr>\n",
              "    <tr>\n",
              "      <th>30</th>\n",
              "      <td>Bo Burnham</td>\n",
              "      <td>2</td>\n",
              "      <td>Hamilton</td>\n",
              "      <td>Hamilton</td>\n",
              "      <td>40.9333</td>\n",
              "      <td>-75.2844</td>\n",
              "      <td>United States</td>\n",
              "      <td>US</td>\n",
              "      <td>USA</td>\n",
              "      <td>Pennsylvania</td>\n",
              "      <td>NaN</td>\n",
              "      <td>8866.0</td>\n",
              "      <td>1.840145e+09</td>\n",
              "    </tr>\n",
              "    <tr>\n",
              "      <th>31</th>\n",
              "      <td>Bo Burnham</td>\n",
              "      <td>2</td>\n",
              "      <td>Hamilton</td>\n",
              "      <td>Hamilton</td>\n",
              "      <td>42.6267</td>\n",
              "      <td>-70.8580</td>\n",
              "      <td>United States</td>\n",
              "      <td>US</td>\n",
              "      <td>USA</td>\n",
              "      <td>Massachusetts</td>\n",
              "      <td>NaN</td>\n",
              "      <td>8031.0</td>\n",
              "      <td>1.840070e+09</td>\n",
              "    </tr>\n",
              "    <tr>\n",
              "      <th>32</th>\n",
              "      <td>Bo Burnham</td>\n",
              "      <td>2</td>\n",
              "      <td>Hamilton</td>\n",
              "      <td>Hamilton</td>\n",
              "      <td>46.2527</td>\n",
              "      <td>-114.1598</td>\n",
              "      <td>United States</td>\n",
              "      <td>US</td>\n",
              "      <td>USA</td>\n",
              "      <td>Montana</td>\n",
              "      <td>NaN</td>\n",
              "      <td>6964.0</td>\n",
              "      <td>1.840020e+09</td>\n",
              "    </tr>\n",
              "    <tr>\n",
              "      <th>33</th>\n",
              "      <td>Bo Burnham</td>\n",
              "      <td>2</td>\n",
              "      <td>Hamilton</td>\n",
              "      <td>Hamilton</td>\n",
              "      <td>34.1346</td>\n",
              "      <td>-87.9755</td>\n",
              "      <td>United States</td>\n",
              "      <td>US</td>\n",
              "      <td>USA</td>\n",
              "      <td>Alabama</td>\n",
              "      <td>NaN</td>\n",
              "      <td>6606.0</td>\n",
              "      <td>1.840004e+09</td>\n",
              "    </tr>\n",
              "    <tr>\n",
              "      <th>34</th>\n",
              "      <td>Bo Burnham</td>\n",
              "      <td>2</td>\n",
              "      <td>Hamilton</td>\n",
              "      <td>Hamilton</td>\n",
              "      <td>42.7897</td>\n",
              "      <td>-75.4940</td>\n",
              "      <td>United States</td>\n",
              "      <td>US</td>\n",
              "      <td>USA</td>\n",
              "      <td>New York</td>\n",
              "      <td>NaN</td>\n",
              "      <td>6472.0</td>\n",
              "      <td>1.840004e+09</td>\n",
              "    </tr>\n",
              "  </tbody>\n",
              "</table>\n",
              "</div>"
            ],
            "text/plain": [
              "               artist  person           city  ...  capital  population            id\n",
              "0               Drake       0        Toronto  ...      NaN   5429524.0  1.124280e+09\n",
              "1         Jorja Smith       0        Walsall  ...      NaN     67594.0  1.826656e+09\n",
              "2      Olivia O'Brien       0  Thousand Oaks  ...      NaN    215029.0  1.840022e+09\n",
              "3           blackbear       0  Daytona Beach  ...      NaN     69186.0  1.840015e+09\n",
              "4          Kanye West       0        Atlanta  ...    admin   5449398.0  1.840014e+09\n",
              "5          Kanye West       0        Atlanta  ...      NaN      5526.0  1.840019e+09\n",
              "6               Drake       1        Toronto  ...      NaN   5429524.0  1.124280e+09\n",
              "7     Porter Robinson       1        Atlanta  ...    admin   5449398.0  1.840014e+09\n",
              "8     Porter Robinson       1        Atlanta  ...      NaN      5526.0  1.840019e+09\n",
              "10             DaBaby       1      Cleveland  ...      NaN   1710093.0  1.840001e+09\n",
              "11             DaBaby       1      Cleveland  ...      NaN     73596.0  1.840015e+09\n",
              "12             DaBaby       1      Cleveland  ...      NaN     14114.0  1.840015e+09\n",
              "13             DaBaby       1      Cleveland  ...      NaN     10690.0  1.840020e+09\n",
              "14             DaBaby       1      Cleveland  ...      NaN      5372.0  1.840015e+09\n",
              "15          YNW Melly       1        Gifford  ...      NaN     10479.0  1.840014e+09\n",
              "16  Cage The Elephant       2  Bowling Green  ...      NaN     95135.0  1.840013e+09\n",
              "17  Cage The Elephant       2  Bowling Green  ...      NaN     32249.0  1.840001e+09\n",
              "18  Cage The Elephant       2  Bowling Green  ...      NaN      5608.0  1.840007e+09\n",
              "19   Lost Frequencies       2       Brussels  ...  primary   1743000.0  1.056470e+09\n",
              "20    Vampire Weekend       2       New York  ...      NaN  18713220.0  1.840034e+09\n",
              "21       Nora En Pure       2   Johannesburg  ...    admin   4434827.0  1.710551e+09\n",
              "22         Bo Burnham       2       Hamilton  ...  primary     52320.0  1.060000e+09\n",
              "23         Bo Burnham       2       Hamilton  ...      NaN    693645.0  1.124567e+09\n",
              "24         Bo Burnham       2       Hamilton  ...    admin    169300.0  1.554873e+09\n",
              "25         Bo Burnham       2       Hamilton  ...      NaN     54230.0  1.826693e+09\n",
              "26         Bo Burnham       2       Hamilton  ...      NaN     87424.0  1.840056e+09\n",
              "27         Bo Burnham       2       Hamilton  ...      NaN     62082.0  1.840004e+09\n",
              "28         Bo Burnham       2       Hamilton  ...      NaN     11097.0  1.840147e+09\n",
              "29         Bo Burnham       2       Hamilton  ...      NaN      9974.0  1.036700e+09\n",
              "30         Bo Burnham       2       Hamilton  ...      NaN      8866.0  1.840145e+09\n",
              "31         Bo Burnham       2       Hamilton  ...      NaN      8031.0  1.840070e+09\n",
              "32         Bo Burnham       2       Hamilton  ...      NaN      6964.0  1.840020e+09\n",
              "33         Bo Burnham       2       Hamilton  ...      NaN      6606.0  1.840004e+09\n",
              "34         Bo Burnham       2       Hamilton  ...      NaN      6472.0  1.840004e+09\n",
              "\n",
              "[34 rows x 13 columns]"
            ]
          },
          "metadata": {},
          "execution_count": 14
        }
      ]
    },
    {
      "cell_type": "code",
      "source": [
        "map = folium.Map(location=[artist_locations['lat'].mean(), \n",
        "                           artist_locations[\"lng\"].mean()], \n",
        "                 zoom_start=3, control_scale=True)\n",
        "\n",
        "folium.TileLayer('stamentoner').add_to(map)\n",
        "\n",
        "for index, location_info in artist_locations.iterrows():\n",
        "  if location_info.person == 0:\n",
        "    type_color = 'blue'\n",
        "  elif location_info.person == 1:\n",
        "    type_color = 'pink'\n",
        "  else:\n",
        "    type_color = 'lightgreen'\n",
        "  folium.Marker([location_info[\"lat\"], location_info[\"lng\"]], popup=f'City,County:\\t{location_info[\"city\"]},{location_info[\"country\"]}\\nArtist: {location_info[\"artist\"]}', icon=folium.Icon(color=f'{type_color}')).add_to(map)\n",
        "\n",
        "map"
      ],
      "metadata": {
        "id": "RDbqSG1DI15l",
        "colab": {
          "base_uri": "https://localhost:8080/",
          "height": 914
        },
        "outputId": "1659e19e-59ed-4dd7-cd94-173bbaf6621f"
      },
      "execution_count": 15,
      "outputs": [
        {
          "output_type": "execute_result",
          "data": {
            "text/html": [
              "<div style=\"width:100%;\"><div style=\"position:relative;width:100%;height:0;padding-bottom:60%;\"><span style=\"color:#565656\">Make this Notebook Trusted to load map: File -> Trust Notebook</span><iframe src=\"about:blank\" style=\"position:absolute;width:100%;height:100%;left:0;top:0;border:none !important;\" data-html=%3C%21DOCTYPE%20html%3E%0A%3Chead%3E%20%20%20%20%0A%20%20%20%20%3Cmeta%20http-equiv%3D%22content-type%22%20content%3D%22text/html%3B%20charset%3DUTF-8%22%20/%3E%0A%20%20%20%20%3Cscript%3EL_PREFER_CANVAS%3Dfalse%3B%20L_NO_TOUCH%3Dfalse%3B%20L_DISABLE_3D%3Dfalse%3B%3C/script%3E%0A%20%20%20%20%3Cscript%20src%3D%22https%3A//cdn.jsdelivr.net/npm/leaflet%401.4.0/dist/leaflet.js%22%3E%3C/script%3E%0A%20%20%20%20%3Cscript%20src%3D%22https%3A//code.jquery.com/jquery-1.12.4.min.js%22%3E%3C/script%3E%0A%20%20%20%20%3Cscript%20src%3D%22https%3A//maxcdn.bootstrapcdn.com/bootstrap/3.2.0/js/bootstrap.min.js%22%3E%3C/script%3E%0A%20%20%20%20%3Cscript%20src%3D%22https%3A//cdnjs.cloudflare.com/ajax/libs/Leaflet.awesome-markers/2.0.2/leaflet.awesome-markers.js%22%3E%3C/script%3E%0A%20%20%20%20%3Clink%20rel%3D%22stylesheet%22%20href%3D%22https%3A//cdn.jsdelivr.net/npm/leaflet%401.4.0/dist/leaflet.css%22/%3E%0A%20%20%20%20%3Clink%20rel%3D%22stylesheet%22%20href%3D%22https%3A//maxcdn.bootstrapcdn.com/bootstrap/3.2.0/css/bootstrap.min.css%22/%3E%0A%20%20%20%20%3Clink%20rel%3D%22stylesheet%22%20href%3D%22https%3A//maxcdn.bootstrapcdn.com/bootstrap/3.2.0/css/bootstrap-theme.min.css%22/%3E%0A%20%20%20%20%3Clink%20rel%3D%22stylesheet%22%20href%3D%22https%3A//maxcdn.bootstrapcdn.com/font-awesome/4.6.3/css/font-awesome.min.css%22/%3E%0A%20%20%20%20%3Clink%20rel%3D%22stylesheet%22%20href%3D%22https%3A//cdnjs.cloudflare.com/ajax/libs/Leaflet.awesome-markers/2.0.2/leaflet.awesome-markers.css%22/%3E%0A%20%20%20%20%3Clink%20rel%3D%22stylesheet%22%20href%3D%22https%3A//rawcdn.githack.com/python-visualization/folium/master/folium/templates/leaflet.awesome.rotate.css%22/%3E%0A%20%20%20%20%3Cstyle%3Ehtml%2C%20body%20%7Bwidth%3A%20100%25%3Bheight%3A%20100%25%3Bmargin%3A%200%3Bpadding%3A%200%3B%7D%3C/style%3E%0A%20%20%20%20%3Cstyle%3E%23map%20%7Bposition%3Aabsolute%3Btop%3A0%3Bbottom%3A0%3Bright%3A0%3Bleft%3A0%3B%7D%3C/style%3E%0A%20%20%20%20%0A%20%20%20%20%3Cmeta%20name%3D%22viewport%22%20content%3D%22width%3Ddevice-width%2C%0A%20%20%20%20%20%20%20%20initial-scale%3D1.0%2C%20maximum-scale%3D1.0%2C%20user-scalable%3Dno%22%20/%3E%0A%20%20%20%20%3Cstyle%3E%23map_a591deab366e42a98cfe33158d8d9737%20%7B%0A%20%20%20%20%20%20%20%20position%3A%20relative%3B%0A%20%20%20%20%20%20%20%20width%3A%20100.0%25%3B%0A%20%20%20%20%20%20%20%20height%3A%20100.0%25%3B%0A%20%20%20%20%20%20%20%20left%3A%200.0%25%3B%0A%20%20%20%20%20%20%20%20top%3A%200.0%25%3B%0A%20%20%20%20%20%20%20%20%7D%0A%20%20%20%20%3C/style%3E%0A%3C/head%3E%0A%3Cbody%3E%20%20%20%20%0A%20%20%20%20%0A%20%20%20%20%3Cdiv%20class%3D%22folium-map%22%20id%3D%22map_a591deab366e42a98cfe33158d8d9737%22%20%3E%3C/div%3E%0A%3C/body%3E%0A%3Cscript%3E%20%20%20%20%0A%20%20%20%20%0A%20%20%20%20%0A%20%20%20%20%20%20%20%20var%20bounds%20%3D%20null%3B%0A%20%20%20%20%0A%0A%20%20%20%20var%20map_a591deab366e42a98cfe33158d8d9737%20%3D%20L.map%28%0A%20%20%20%20%20%20%20%20%27map_a591deab366e42a98cfe33158d8d9737%27%2C%20%7B%0A%20%20%20%20%20%20%20%20center%3A%20%5B32.509570588235306%2C%20-59.68833235294117%5D%2C%0A%20%20%20%20%20%20%20%20zoom%3A%203%2C%0A%20%20%20%20%20%20%20%20maxBounds%3A%20bounds%2C%0A%20%20%20%20%20%20%20%20layers%3A%20%5B%5D%2C%0A%20%20%20%20%20%20%20%20worldCopyJump%3A%20false%2C%0A%20%20%20%20%20%20%20%20crs%3A%20L.CRS.EPSG3857%2C%0A%20%20%20%20%20%20%20%20zoomControl%3A%20true%2C%0A%20%20%20%20%20%20%20%20%7D%29%3B%0AL.control.scale%28%29.addTo%28map_a591deab366e42a98cfe33158d8d9737%29%3B%0A%0A%20%20%20%20%0A%20%20%20%20var%20tile_layer_ada122964efa4e85bfe7fe1f05d9a816%20%3D%20L.tileLayer%28%0A%20%20%20%20%20%20%20%20%27https%3A//%7Bs%7D.tile.openstreetmap.org/%7Bz%7D/%7Bx%7D/%7By%7D.png%27%2C%0A%20%20%20%20%20%20%20%20%7B%0A%20%20%20%20%20%20%20%20%22attribution%22%3A%20null%2C%0A%20%20%20%20%20%20%20%20%22detectRetina%22%3A%20false%2C%0A%20%20%20%20%20%20%20%20%22maxNativeZoom%22%3A%2018%2C%0A%20%20%20%20%20%20%20%20%22maxZoom%22%3A%2018%2C%0A%20%20%20%20%20%20%20%20%22minZoom%22%3A%200%2C%0A%20%20%20%20%20%20%20%20%22noWrap%22%3A%20false%2C%0A%20%20%20%20%20%20%20%20%22opacity%22%3A%201%2C%0A%20%20%20%20%20%20%20%20%22subdomains%22%3A%20%22abc%22%2C%0A%20%20%20%20%20%20%20%20%22tms%22%3A%20false%0A%7D%29.addTo%28map_a591deab366e42a98cfe33158d8d9737%29%3B%0A%20%20%20%20var%20tile_layer_6d0fb7ceacb646ce85ffdce6aa351c56%20%3D%20L.tileLayer%28%0A%20%20%20%20%20%20%20%20%27https%3A//stamen-tiles-%7Bs%7D.a.ssl.fastly.net/toner/%7Bz%7D/%7Bx%7D/%7By%7D.png%27%2C%0A%20%20%20%20%20%20%20%20%7B%0A%20%20%20%20%20%20%20%20%22attribution%22%3A%20null%2C%0A%20%20%20%20%20%20%20%20%22detectRetina%22%3A%20false%2C%0A%20%20%20%20%20%20%20%20%22maxNativeZoom%22%3A%2018%2C%0A%20%20%20%20%20%20%20%20%22maxZoom%22%3A%2018%2C%0A%20%20%20%20%20%20%20%20%22minZoom%22%3A%200%2C%0A%20%20%20%20%20%20%20%20%22noWrap%22%3A%20false%2C%0A%20%20%20%20%20%20%20%20%22opacity%22%3A%201%2C%0A%20%20%20%20%20%20%20%20%22subdomains%22%3A%20%22abc%22%2C%0A%20%20%20%20%20%20%20%20%22tms%22%3A%20false%0A%7D%29.addTo%28map_a591deab366e42a98cfe33158d8d9737%29%3B%0A%20%20%20%20%0A%20%20%20%20%20%20%20%20var%20marker_d636f5633eb04f168add33fbac09dcc0%20%3D%20L.marker%28%0A%20%20%20%20%20%20%20%20%20%20%20%20%5B43.7417%2C%20-79.3733%5D%2C%0A%20%20%20%20%20%20%20%20%20%20%20%20%7B%0A%20%20%20%20%20%20%20%20%20%20%20%20%20%20%20%20icon%3A%20new%20L.Icon.Default%28%29%2C%0A%20%20%20%20%20%20%20%20%20%20%20%20%20%20%20%20%7D%0A%20%20%20%20%20%20%20%20%20%20%20%20%29.addTo%28map_a591deab366e42a98cfe33158d8d9737%29%3B%0A%20%20%20%20%20%20%20%20%0A%20%20%20%20%0A%0A%20%20%20%20%20%20%20%20%20%20%20%20%20%20%20%20var%20icon_0ba58948d18f4593b29bacf6ea9b1741%20%3D%20L.AwesomeMarkers.icon%28%7B%0A%20%20%20%20%20%20%20%20%20%20%20%20%20%20%20%20%20%20%20%20icon%3A%20%27info-sign%27%2C%0A%20%20%20%20%20%20%20%20%20%20%20%20%20%20%20%20%20%20%20%20iconColor%3A%20%27white%27%2C%0A%20%20%20%20%20%20%20%20%20%20%20%20%20%20%20%20%20%20%20%20markerColor%3A%20%27blue%27%2C%0A%20%20%20%20%20%20%20%20%20%20%20%20%20%20%20%20%20%20%20%20prefix%3A%20%27glyphicon%27%2C%0A%20%20%20%20%20%20%20%20%20%20%20%20%20%20%20%20%20%20%20%20extraClasses%3A%20%27fa-rotate-0%27%0A%20%20%20%20%20%20%20%20%20%20%20%20%20%20%20%20%20%20%20%20%7D%29%3B%0A%20%20%20%20%20%20%20%20%20%20%20%20%20%20%20%20marker_d636f5633eb04f168add33fbac09dcc0.setIcon%28icon_0ba58948d18f4593b29bacf6ea9b1741%29%3B%0A%20%20%20%20%20%20%20%20%20%20%20%20%0A%20%20%20%20%0A%20%20%20%20%20%20%20%20%20%20%20%20var%20popup_0d2764487a6348329a93568ea2bd289c%20%3D%20L.popup%28%7BmaxWidth%3A%20%27100%25%27%0A%20%20%20%20%20%20%20%20%20%20%20%20%0A%20%20%20%20%20%20%20%20%20%20%20%20%7D%29%3B%0A%0A%20%20%20%20%20%20%20%20%20%20%20%20%0A%20%20%20%20%20%20%20%20%20%20%20%20%20%20%20%20var%20html_d25749b072b240808baa5025cb91b3e2%20%3D%20%24%28%60%3Cdiv%20id%3D%22html_d25749b072b240808baa5025cb91b3e2%22%20style%3D%22width%3A%20100.0%25%3B%20height%3A%20100.0%25%3B%22%3ECity%2CCounty%3A%09Toronto%2CCanada%20Artist%3A%20Drake%3C/div%3E%60%29%5B0%5D%3B%0A%20%20%20%20%20%20%20%20%20%20%20%20%20%20%20%20popup_0d2764487a6348329a93568ea2bd289c.setContent%28html_d25749b072b240808baa5025cb91b3e2%29%3B%0A%20%20%20%20%20%20%20%20%20%20%20%20%0A%0A%20%20%20%20%20%20%20%20%20%20%20%20marker_d636f5633eb04f168add33fbac09dcc0.bindPopup%28popup_0d2764487a6348329a93568ea2bd289c%29%0A%20%20%20%20%20%20%20%20%20%20%20%20%3B%0A%0A%20%20%20%20%20%20%20%20%20%20%20%20%0A%20%20%20%20%20%20%20%20%0A%20%20%20%20%0A%20%20%20%20%20%20%20%20var%20marker_1c1ff53acc2a41cc9cdd5f9b5ed11109%20%3D%20L.marker%28%0A%20%20%20%20%20%20%20%20%20%20%20%20%5B52.58%2C%20-1.98%5D%2C%0A%20%20%20%20%20%20%20%20%20%20%20%20%7B%0A%20%20%20%20%20%20%20%20%20%20%20%20%20%20%20%20icon%3A%20new%20L.Icon.Default%28%29%2C%0A%20%20%20%20%20%20%20%20%20%20%20%20%20%20%20%20%7D%0A%20%20%20%20%20%20%20%20%20%20%20%20%29.addTo%28map_a591deab366e42a98cfe33158d8d9737%29%3B%0A%20%20%20%20%20%20%20%20%0A%20%20%20%20%0A%0A%20%20%20%20%20%20%20%20%20%20%20%20%20%20%20%20var%20icon_96824f4538bb40f390f50d3a5e5d8a79%20%3D%20L.AwesomeMarkers.icon%28%7B%0A%20%20%20%20%20%20%20%20%20%20%20%20%20%20%20%20%20%20%20%20icon%3A%20%27info-sign%27%2C%0A%20%20%20%20%20%20%20%20%20%20%20%20%20%20%20%20%20%20%20%20iconColor%3A%20%27white%27%2C%0A%20%20%20%20%20%20%20%20%20%20%20%20%20%20%20%20%20%20%20%20markerColor%3A%20%27blue%27%2C%0A%20%20%20%20%20%20%20%20%20%20%20%20%20%20%20%20%20%20%20%20prefix%3A%20%27glyphicon%27%2C%0A%20%20%20%20%20%20%20%20%20%20%20%20%20%20%20%20%20%20%20%20extraClasses%3A%20%27fa-rotate-0%27%0A%20%20%20%20%20%20%20%20%20%20%20%20%20%20%20%20%20%20%20%20%7D%29%3B%0A%20%20%20%20%20%20%20%20%20%20%20%20%20%20%20%20marker_1c1ff53acc2a41cc9cdd5f9b5ed11109.setIcon%28icon_96824f4538bb40f390f50d3a5e5d8a79%29%3B%0A%20%20%20%20%20%20%20%20%20%20%20%20%0A%20%20%20%20%0A%20%20%20%20%20%20%20%20%20%20%20%20var%20popup_e71b69d9b75e48e989011f83f9c372ac%20%3D%20L.popup%28%7BmaxWidth%3A%20%27100%25%27%0A%20%20%20%20%20%20%20%20%20%20%20%20%0A%20%20%20%20%20%20%20%20%20%20%20%20%7D%29%3B%0A%0A%20%20%20%20%20%20%20%20%20%20%20%20%0A%20%20%20%20%20%20%20%20%20%20%20%20%20%20%20%20var%20html_9d7a401a7a074b318e3ff991263ec88d%20%3D%20%24%28%60%3Cdiv%20id%3D%22html_9d7a401a7a074b318e3ff991263ec88d%22%20style%3D%22width%3A%20100.0%25%3B%20height%3A%20100.0%25%3B%22%3ECity%2CCounty%3A%09Walsall%2CUnited%20Kingdom%20Artist%3A%20Jorja%20Smith%3C/div%3E%60%29%5B0%5D%3B%0A%20%20%20%20%20%20%20%20%20%20%20%20%20%20%20%20popup_e71b69d9b75e48e989011f83f9c372ac.setContent%28html_9d7a401a7a074b318e3ff991263ec88d%29%3B%0A%20%20%20%20%20%20%20%20%20%20%20%20%0A%0A%20%20%20%20%20%20%20%20%20%20%20%20marker_1c1ff53acc2a41cc9cdd5f9b5ed11109.bindPopup%28popup_e71b69d9b75e48e989011f83f9c372ac%29%0A%20%20%20%20%20%20%20%20%20%20%20%20%3B%0A%0A%20%20%20%20%20%20%20%20%20%20%20%20%0A%20%20%20%20%20%20%20%20%0A%20%20%20%20%0A%20%20%20%20%20%20%20%20var%20marker_89ffc3a2d5e444f09607ef0756e7f933%20%3D%20L.marker%28%0A%20%20%20%20%20%20%20%20%20%20%20%20%5B34.1914%2C%20-118.8755%5D%2C%0A%20%20%20%20%20%20%20%20%20%20%20%20%7B%0A%20%20%20%20%20%20%20%20%20%20%20%20%20%20%20%20icon%3A%20new%20L.Icon.Default%28%29%2C%0A%20%20%20%20%20%20%20%20%20%20%20%20%20%20%20%20%7D%0A%20%20%20%20%20%20%20%20%20%20%20%20%29.addTo%28map_a591deab366e42a98cfe33158d8d9737%29%3B%0A%20%20%20%20%20%20%20%20%0A%20%20%20%20%0A%0A%20%20%20%20%20%20%20%20%20%20%20%20%20%20%20%20var%20icon_e26ee35f0c1246c0b5613ef877dcdaab%20%3D%20L.AwesomeMarkers.icon%28%7B%0A%20%20%20%20%20%20%20%20%20%20%20%20%20%20%20%20%20%20%20%20icon%3A%20%27info-sign%27%2C%0A%20%20%20%20%20%20%20%20%20%20%20%20%20%20%20%20%20%20%20%20iconColor%3A%20%27white%27%2C%0A%20%20%20%20%20%20%20%20%20%20%20%20%20%20%20%20%20%20%20%20markerColor%3A%20%27blue%27%2C%0A%20%20%20%20%20%20%20%20%20%20%20%20%20%20%20%20%20%20%20%20prefix%3A%20%27glyphicon%27%2C%0A%20%20%20%20%20%20%20%20%20%20%20%20%20%20%20%20%20%20%20%20extraClasses%3A%20%27fa-rotate-0%27%0A%20%20%20%20%20%20%20%20%20%20%20%20%20%20%20%20%20%20%20%20%7D%29%3B%0A%20%20%20%20%20%20%20%20%20%20%20%20%20%20%20%20marker_89ffc3a2d5e444f09607ef0756e7f933.setIcon%28icon_e26ee35f0c1246c0b5613ef877dcdaab%29%3B%0A%20%20%20%20%20%20%20%20%20%20%20%20%0A%20%20%20%20%0A%20%20%20%20%20%20%20%20%20%20%20%20var%20popup_c606d07c5f184168977b5399728075eb%20%3D%20L.popup%28%7BmaxWidth%3A%20%27100%25%27%0A%20%20%20%20%20%20%20%20%20%20%20%20%0A%20%20%20%20%20%20%20%20%20%20%20%20%7D%29%3B%0A%0A%20%20%20%20%20%20%20%20%20%20%20%20%0A%20%20%20%20%20%20%20%20%20%20%20%20%20%20%20%20var%20html_aeb7133c9674462fb86271fae17b8486%20%3D%20%24%28%60%3Cdiv%20id%3D%22html_aeb7133c9674462fb86271fae17b8486%22%20style%3D%22width%3A%20100.0%25%3B%20height%3A%20100.0%25%3B%22%3ECity%2CCounty%3A%09Thousand%20Oaks%2CUnited%20States%20Artist%3A%20Olivia%20O%27Brien%3C/div%3E%60%29%5B0%5D%3B%0A%20%20%20%20%20%20%20%20%20%20%20%20%20%20%20%20popup_c606d07c5f184168977b5399728075eb.setContent%28html_aeb7133c9674462fb86271fae17b8486%29%3B%0A%20%20%20%20%20%20%20%20%20%20%20%20%0A%0A%20%20%20%20%20%20%20%20%20%20%20%20marker_89ffc3a2d5e444f09607ef0756e7f933.bindPopup%28popup_c606d07c5f184168977b5399728075eb%29%0A%20%20%20%20%20%20%20%20%20%20%20%20%3B%0A%0A%20%20%20%20%20%20%20%20%20%20%20%20%0A%20%20%20%20%20%20%20%20%0A%20%20%20%20%0A%20%20%20%20%20%20%20%20var%20marker_d434b998f8a1406fb450df7331593422%20%3D%20L.marker%28%0A%20%20%20%20%20%20%20%20%20%20%20%20%5B29.1994%2C%20-81.0982%5D%2C%0A%20%20%20%20%20%20%20%20%20%20%20%20%7B%0A%20%20%20%20%20%20%20%20%20%20%20%20%20%20%20%20icon%3A%20new%20L.Icon.Default%28%29%2C%0A%20%20%20%20%20%20%20%20%20%20%20%20%20%20%20%20%7D%0A%20%20%20%20%20%20%20%20%20%20%20%20%29.addTo%28map_a591deab366e42a98cfe33158d8d9737%29%3B%0A%20%20%20%20%20%20%20%20%0A%20%20%20%20%0A%0A%20%20%20%20%20%20%20%20%20%20%20%20%20%20%20%20var%20icon_c2172729493a4493a57a01d688d48ce8%20%3D%20L.AwesomeMarkers.icon%28%7B%0A%20%20%20%20%20%20%20%20%20%20%20%20%20%20%20%20%20%20%20%20icon%3A%20%27info-sign%27%2C%0A%20%20%20%20%20%20%20%20%20%20%20%20%20%20%20%20%20%20%20%20iconColor%3A%20%27white%27%2C%0A%20%20%20%20%20%20%20%20%20%20%20%20%20%20%20%20%20%20%20%20markerColor%3A%20%27blue%27%2C%0A%20%20%20%20%20%20%20%20%20%20%20%20%20%20%20%20%20%20%20%20prefix%3A%20%27glyphicon%27%2C%0A%20%20%20%20%20%20%20%20%20%20%20%20%20%20%20%20%20%20%20%20extraClasses%3A%20%27fa-rotate-0%27%0A%20%20%20%20%20%20%20%20%20%20%20%20%20%20%20%20%20%20%20%20%7D%29%3B%0A%20%20%20%20%20%20%20%20%20%20%20%20%20%20%20%20marker_d434b998f8a1406fb450df7331593422.setIcon%28icon_c2172729493a4493a57a01d688d48ce8%29%3B%0A%20%20%20%20%20%20%20%20%20%20%20%20%0A%20%20%20%20%0A%20%20%20%20%20%20%20%20%20%20%20%20var%20popup_65b2e54fb4ac46e1b38dcc9357964b29%20%3D%20L.popup%28%7BmaxWidth%3A%20%27100%25%27%0A%20%20%20%20%20%20%20%20%20%20%20%20%0A%20%20%20%20%20%20%20%20%20%20%20%20%7D%29%3B%0A%0A%20%20%20%20%20%20%20%20%20%20%20%20%0A%20%20%20%20%20%20%20%20%20%20%20%20%20%20%20%20var%20html_a69f683fe6ca4d3c9fd0d2b5360ca4dd%20%3D%20%24%28%60%3Cdiv%20id%3D%22html_a69f683fe6ca4d3c9fd0d2b5360ca4dd%22%20style%3D%22width%3A%20100.0%25%3B%20height%3A%20100.0%25%3B%22%3ECity%2CCounty%3A%09Daytona%20Beach%2CUnited%20States%20Artist%3A%20blackbear%3C/div%3E%60%29%5B0%5D%3B%0A%20%20%20%20%20%20%20%20%20%20%20%20%20%20%20%20popup_65b2e54fb4ac46e1b38dcc9357964b29.setContent%28html_a69f683fe6ca4d3c9fd0d2b5360ca4dd%29%3B%0A%20%20%20%20%20%20%20%20%20%20%20%20%0A%0A%20%20%20%20%20%20%20%20%20%20%20%20marker_d434b998f8a1406fb450df7331593422.bindPopup%28popup_65b2e54fb4ac46e1b38dcc9357964b29%29%0A%20%20%20%20%20%20%20%20%20%20%20%20%3B%0A%0A%20%20%20%20%20%20%20%20%20%20%20%20%0A%20%20%20%20%20%20%20%20%0A%20%20%20%20%0A%20%20%20%20%20%20%20%20var%20marker_05f07fd839944556ad4e2cc3f6418e62%20%3D%20L.marker%28%0A%20%20%20%20%20%20%20%20%20%20%20%20%5B33.7627%2C%20-84.4224%5D%2C%0A%20%20%20%20%20%20%20%20%20%20%20%20%7B%0A%20%20%20%20%20%20%20%20%20%20%20%20%20%20%20%20icon%3A%20new%20L.Icon.Default%28%29%2C%0A%20%20%20%20%20%20%20%20%20%20%20%20%20%20%20%20%7D%0A%20%20%20%20%20%20%20%20%20%20%20%20%29.addTo%28map_a591deab366e42a98cfe33158d8d9737%29%3B%0A%20%20%20%20%20%20%20%20%0A%20%20%20%20%0A%0A%20%20%20%20%20%20%20%20%20%20%20%20%20%20%20%20var%20icon_4fecab035c154a35925fd8a9fc7ae334%20%3D%20L.AwesomeMarkers.icon%28%7B%0A%20%20%20%20%20%20%20%20%20%20%20%20%20%20%20%20%20%20%20%20icon%3A%20%27info-sign%27%2C%0A%20%20%20%20%20%20%20%20%20%20%20%20%20%20%20%20%20%20%20%20iconColor%3A%20%27white%27%2C%0A%20%20%20%20%20%20%20%20%20%20%20%20%20%20%20%20%20%20%20%20markerColor%3A%20%27blue%27%2C%0A%20%20%20%20%20%20%20%20%20%20%20%20%20%20%20%20%20%20%20%20prefix%3A%20%27glyphicon%27%2C%0A%20%20%20%20%20%20%20%20%20%20%20%20%20%20%20%20%20%20%20%20extraClasses%3A%20%27fa-rotate-0%27%0A%20%20%20%20%20%20%20%20%20%20%20%20%20%20%20%20%20%20%20%20%7D%29%3B%0A%20%20%20%20%20%20%20%20%20%20%20%20%20%20%20%20marker_05f07fd839944556ad4e2cc3f6418e62.setIcon%28icon_4fecab035c154a35925fd8a9fc7ae334%29%3B%0A%20%20%20%20%20%20%20%20%20%20%20%20%0A%20%20%20%20%0A%20%20%20%20%20%20%20%20%20%20%20%20var%20popup_bf04ccb17c074f22b6c0b9bbcce1c687%20%3D%20L.popup%28%7BmaxWidth%3A%20%27100%25%27%0A%20%20%20%20%20%20%20%20%20%20%20%20%0A%20%20%20%20%20%20%20%20%20%20%20%20%7D%29%3B%0A%0A%20%20%20%20%20%20%20%20%20%20%20%20%0A%20%20%20%20%20%20%20%20%20%20%20%20%20%20%20%20var%20html_7b222b374f9f4fb99e2426c61aec8a97%20%3D%20%24%28%60%3Cdiv%20id%3D%22html_7b222b374f9f4fb99e2426c61aec8a97%22%20style%3D%22width%3A%20100.0%25%3B%20height%3A%20100.0%25%3B%22%3ECity%2CCounty%3A%09Atlanta%2CUnited%20States%20Artist%3A%20Kanye%20West%3C/div%3E%60%29%5B0%5D%3B%0A%20%20%20%20%20%20%20%20%20%20%20%20%20%20%20%20popup_bf04ccb17c074f22b6c0b9bbcce1c687.setContent%28html_7b222b374f9f4fb99e2426c61aec8a97%29%3B%0A%20%20%20%20%20%20%20%20%20%20%20%20%0A%0A%20%20%20%20%20%20%20%20%20%20%20%20marker_05f07fd839944556ad4e2cc3f6418e62.bindPopup%28popup_bf04ccb17c074f22b6c0b9bbcce1c687%29%0A%20%20%20%20%20%20%20%20%20%20%20%20%3B%0A%0A%20%20%20%20%20%20%20%20%20%20%20%20%0A%20%20%20%20%20%20%20%20%0A%20%20%20%20%0A%20%20%20%20%20%20%20%20var%20marker_bdc0a3459e77405f97471b09d6c8292e%20%3D%20L.marker%28%0A%20%20%20%20%20%20%20%20%20%20%20%20%5B33.1136%2C%20-94.1672%5D%2C%0A%20%20%20%20%20%20%20%20%20%20%20%20%7B%0A%20%20%20%20%20%20%20%20%20%20%20%20%20%20%20%20icon%3A%20new%20L.Icon.Default%28%29%2C%0A%20%20%20%20%20%20%20%20%20%20%20%20%20%20%20%20%7D%0A%20%20%20%20%20%20%20%20%20%20%20%20%29.addTo%28map_a591deab366e42a98cfe33158d8d9737%29%3B%0A%20%20%20%20%20%20%20%20%0A%20%20%20%20%0A%0A%20%20%20%20%20%20%20%20%20%20%20%20%20%20%20%20var%20icon_28cbe64114fa4c6f832082137f15d327%20%3D%20L.AwesomeMarkers.icon%28%7B%0A%20%20%20%20%20%20%20%20%20%20%20%20%20%20%20%20%20%20%20%20icon%3A%20%27info-sign%27%2C%0A%20%20%20%20%20%20%20%20%20%20%20%20%20%20%20%20%20%20%20%20iconColor%3A%20%27white%27%2C%0A%20%20%20%20%20%20%20%20%20%20%20%20%20%20%20%20%20%20%20%20markerColor%3A%20%27blue%27%2C%0A%20%20%20%20%20%20%20%20%20%20%20%20%20%20%20%20%20%20%20%20prefix%3A%20%27glyphicon%27%2C%0A%20%20%20%20%20%20%20%20%20%20%20%20%20%20%20%20%20%20%20%20extraClasses%3A%20%27fa-rotate-0%27%0A%20%20%20%20%20%20%20%20%20%20%20%20%20%20%20%20%20%20%20%20%7D%29%3B%0A%20%20%20%20%20%20%20%20%20%20%20%20%20%20%20%20marker_bdc0a3459e77405f97471b09d6c8292e.setIcon%28icon_28cbe64114fa4c6f832082137f15d327%29%3B%0A%20%20%20%20%20%20%20%20%20%20%20%20%0A%20%20%20%20%0A%20%20%20%20%20%20%20%20%20%20%20%20var%20popup_dc7d677180cd47d4b4b57220ade3d3be%20%3D%20L.popup%28%7BmaxWidth%3A%20%27100%25%27%0A%20%20%20%20%20%20%20%20%20%20%20%20%0A%20%20%20%20%20%20%20%20%20%20%20%20%7D%29%3B%0A%0A%20%20%20%20%20%20%20%20%20%20%20%20%0A%20%20%20%20%20%20%20%20%20%20%20%20%20%20%20%20var%20html_ef9d34f7ed0448389e61945d44778402%20%3D%20%24%28%60%3Cdiv%20id%3D%22html_ef9d34f7ed0448389e61945d44778402%22%20style%3D%22width%3A%20100.0%25%3B%20height%3A%20100.0%25%3B%22%3ECity%2CCounty%3A%09Atlanta%2CUnited%20States%20Artist%3A%20Kanye%20West%3C/div%3E%60%29%5B0%5D%3B%0A%20%20%20%20%20%20%20%20%20%20%20%20%20%20%20%20popup_dc7d677180cd47d4b4b57220ade3d3be.setContent%28html_ef9d34f7ed0448389e61945d44778402%29%3B%0A%20%20%20%20%20%20%20%20%20%20%20%20%0A%0A%20%20%20%20%20%20%20%20%20%20%20%20marker_bdc0a3459e77405f97471b09d6c8292e.bindPopup%28popup_dc7d677180cd47d4b4b57220ade3d3be%29%0A%20%20%20%20%20%20%20%20%20%20%20%20%3B%0A%0A%20%20%20%20%20%20%20%20%20%20%20%20%0A%20%20%20%20%20%20%20%20%0A%20%20%20%20%0A%20%20%20%20%20%20%20%20var%20marker_cfd42f932c02494fbda8ae78cb2aec86%20%3D%20L.marker%28%0A%20%20%20%20%20%20%20%20%20%20%20%20%5B43.7417%2C%20-79.3733%5D%2C%0A%20%20%20%20%20%20%20%20%20%20%20%20%7B%0A%20%20%20%20%20%20%20%20%20%20%20%20%20%20%20%20icon%3A%20new%20L.Icon.Default%28%29%2C%0A%20%20%20%20%20%20%20%20%20%20%20%20%20%20%20%20%7D%0A%20%20%20%20%20%20%20%20%20%20%20%20%29.addTo%28map_a591deab366e42a98cfe33158d8d9737%29%3B%0A%20%20%20%20%20%20%20%20%0A%20%20%20%20%0A%0A%20%20%20%20%20%20%20%20%20%20%20%20%20%20%20%20var%20icon_bc1823b804a24e8ab09a76ab8f22cc25%20%3D%20L.AwesomeMarkers.icon%28%7B%0A%20%20%20%20%20%20%20%20%20%20%20%20%20%20%20%20%20%20%20%20icon%3A%20%27info-sign%27%2C%0A%20%20%20%20%20%20%20%20%20%20%20%20%20%20%20%20%20%20%20%20iconColor%3A%20%27white%27%2C%0A%20%20%20%20%20%20%20%20%20%20%20%20%20%20%20%20%20%20%20%20markerColor%3A%20%27pink%27%2C%0A%20%20%20%20%20%20%20%20%20%20%20%20%20%20%20%20%20%20%20%20prefix%3A%20%27glyphicon%27%2C%0A%20%20%20%20%20%20%20%20%20%20%20%20%20%20%20%20%20%20%20%20extraClasses%3A%20%27fa-rotate-0%27%0A%20%20%20%20%20%20%20%20%20%20%20%20%20%20%20%20%20%20%20%20%7D%29%3B%0A%20%20%20%20%20%20%20%20%20%20%20%20%20%20%20%20marker_cfd42f932c02494fbda8ae78cb2aec86.setIcon%28icon_bc1823b804a24e8ab09a76ab8f22cc25%29%3B%0A%20%20%20%20%20%20%20%20%20%20%20%20%0A%20%20%20%20%0A%20%20%20%20%20%20%20%20%20%20%20%20var%20popup_449abe28c3c344199d69ea7894e33bc1%20%3D%20L.popup%28%7BmaxWidth%3A%20%27100%25%27%0A%20%20%20%20%20%20%20%20%20%20%20%20%0A%20%20%20%20%20%20%20%20%20%20%20%20%7D%29%3B%0A%0A%20%20%20%20%20%20%20%20%20%20%20%20%0A%20%20%20%20%20%20%20%20%20%20%20%20%20%20%20%20var%20html_c3ec2979d6a0442ca56a2813cf8cffcc%20%3D%20%24%28%60%3Cdiv%20id%3D%22html_c3ec2979d6a0442ca56a2813cf8cffcc%22%20style%3D%22width%3A%20100.0%25%3B%20height%3A%20100.0%25%3B%22%3ECity%2CCounty%3A%09Toronto%2CCanada%20Artist%3A%20Drake%3C/div%3E%60%29%5B0%5D%3B%0A%20%20%20%20%20%20%20%20%20%20%20%20%20%20%20%20popup_449abe28c3c344199d69ea7894e33bc1.setContent%28html_c3ec2979d6a0442ca56a2813cf8cffcc%29%3B%0A%20%20%20%20%20%20%20%20%20%20%20%20%0A%0A%20%20%20%20%20%20%20%20%20%20%20%20marker_cfd42f932c02494fbda8ae78cb2aec86.bindPopup%28popup_449abe28c3c344199d69ea7894e33bc1%29%0A%20%20%20%20%20%20%20%20%20%20%20%20%3B%0A%0A%20%20%20%20%20%20%20%20%20%20%20%20%0A%20%20%20%20%20%20%20%20%0A%20%20%20%20%0A%20%20%20%20%20%20%20%20var%20marker_1a618bc63c8b47ce80f0bae9a67c23b7%20%3D%20L.marker%28%0A%20%20%20%20%20%20%20%20%20%20%20%20%5B33.7627%2C%20-84.4224%5D%2C%0A%20%20%20%20%20%20%20%20%20%20%20%20%7B%0A%20%20%20%20%20%20%20%20%20%20%20%20%20%20%20%20icon%3A%20new%20L.Icon.Default%28%29%2C%0A%20%20%20%20%20%20%20%20%20%20%20%20%20%20%20%20%7D%0A%20%20%20%20%20%20%20%20%20%20%20%20%29.addTo%28map_a591deab366e42a98cfe33158d8d9737%29%3B%0A%20%20%20%20%20%20%20%20%0A%20%20%20%20%0A%0A%20%20%20%20%20%20%20%20%20%20%20%20%20%20%20%20var%20icon_0b847fcdfebb41ec990e4652ca4a6390%20%3D%20L.AwesomeMarkers.icon%28%7B%0A%20%20%20%20%20%20%20%20%20%20%20%20%20%20%20%20%20%20%20%20icon%3A%20%27info-sign%27%2C%0A%20%20%20%20%20%20%20%20%20%20%20%20%20%20%20%20%20%20%20%20iconColor%3A%20%27white%27%2C%0A%20%20%20%20%20%20%20%20%20%20%20%20%20%20%20%20%20%20%20%20markerColor%3A%20%27pink%27%2C%0A%20%20%20%20%20%20%20%20%20%20%20%20%20%20%20%20%20%20%20%20prefix%3A%20%27glyphicon%27%2C%0A%20%20%20%20%20%20%20%20%20%20%20%20%20%20%20%20%20%20%20%20extraClasses%3A%20%27fa-rotate-0%27%0A%20%20%20%20%20%20%20%20%20%20%20%20%20%20%20%20%20%20%20%20%7D%29%3B%0A%20%20%20%20%20%20%20%20%20%20%20%20%20%20%20%20marker_1a618bc63c8b47ce80f0bae9a67c23b7.setIcon%28icon_0b847fcdfebb41ec990e4652ca4a6390%29%3B%0A%20%20%20%20%20%20%20%20%20%20%20%20%0A%20%20%20%20%0A%20%20%20%20%20%20%20%20%20%20%20%20var%20popup_ec71496998a140c598a9763a56f4052e%20%3D%20L.popup%28%7BmaxWidth%3A%20%27100%25%27%0A%20%20%20%20%20%20%20%20%20%20%20%20%0A%20%20%20%20%20%20%20%20%20%20%20%20%7D%29%3B%0A%0A%20%20%20%20%20%20%20%20%20%20%20%20%0A%20%20%20%20%20%20%20%20%20%20%20%20%20%20%20%20var%20html_e8c7d1179dfc4249b726c240ee69c98f%20%3D%20%24%28%60%3Cdiv%20id%3D%22html_e8c7d1179dfc4249b726c240ee69c98f%22%20style%3D%22width%3A%20100.0%25%3B%20height%3A%20100.0%25%3B%22%3ECity%2CCounty%3A%09Atlanta%2CUnited%20States%20Artist%3A%20Porter%20Robinson%3C/div%3E%60%29%5B0%5D%3B%0A%20%20%20%20%20%20%20%20%20%20%20%20%20%20%20%20popup_ec71496998a140c598a9763a56f4052e.setContent%28html_e8c7d1179dfc4249b726c240ee69c98f%29%3B%0A%20%20%20%20%20%20%20%20%20%20%20%20%0A%0A%20%20%20%20%20%20%20%20%20%20%20%20marker_1a618bc63c8b47ce80f0bae9a67c23b7.bindPopup%28popup_ec71496998a140c598a9763a56f4052e%29%0A%20%20%20%20%20%20%20%20%20%20%20%20%3B%0A%0A%20%20%20%20%20%20%20%20%20%20%20%20%0A%20%20%20%20%20%20%20%20%0A%20%20%20%20%0A%20%20%20%20%20%20%20%20var%20marker_bd2f5fd5e2814105918f85314d35cc76%20%3D%20L.marker%28%0A%20%20%20%20%20%20%20%20%20%20%20%20%5B33.1136%2C%20-94.1672%5D%2C%0A%20%20%20%20%20%20%20%20%20%20%20%20%7B%0A%20%20%20%20%20%20%20%20%20%20%20%20%20%20%20%20icon%3A%20new%20L.Icon.Default%28%29%2C%0A%20%20%20%20%20%20%20%20%20%20%20%20%20%20%20%20%7D%0A%20%20%20%20%20%20%20%20%20%20%20%20%29.addTo%28map_a591deab366e42a98cfe33158d8d9737%29%3B%0A%20%20%20%20%20%20%20%20%0A%20%20%20%20%0A%0A%20%20%20%20%20%20%20%20%20%20%20%20%20%20%20%20var%20icon_f93a5a2c00144b798098dba44a7a989f%20%3D%20L.AwesomeMarkers.icon%28%7B%0A%20%20%20%20%20%20%20%20%20%20%20%20%20%20%20%20%20%20%20%20icon%3A%20%27info-sign%27%2C%0A%20%20%20%20%20%20%20%20%20%20%20%20%20%20%20%20%20%20%20%20iconColor%3A%20%27white%27%2C%0A%20%20%20%20%20%20%20%20%20%20%20%20%20%20%20%20%20%20%20%20markerColor%3A%20%27pink%27%2C%0A%20%20%20%20%20%20%20%20%20%20%20%20%20%20%20%20%20%20%20%20prefix%3A%20%27glyphicon%27%2C%0A%20%20%20%20%20%20%20%20%20%20%20%20%20%20%20%20%20%20%20%20extraClasses%3A%20%27fa-rotate-0%27%0A%20%20%20%20%20%20%20%20%20%20%20%20%20%20%20%20%20%20%20%20%7D%29%3B%0A%20%20%20%20%20%20%20%20%20%20%20%20%20%20%20%20marker_bd2f5fd5e2814105918f85314d35cc76.setIcon%28icon_f93a5a2c00144b798098dba44a7a989f%29%3B%0A%20%20%20%20%20%20%20%20%20%20%20%20%0A%20%20%20%20%0A%20%20%20%20%20%20%20%20%20%20%20%20var%20popup_9a4b999bb8074ee383969a217f662301%20%3D%20L.popup%28%7BmaxWidth%3A%20%27100%25%27%0A%20%20%20%20%20%20%20%20%20%20%20%20%0A%20%20%20%20%20%20%20%20%20%20%20%20%7D%29%3B%0A%0A%20%20%20%20%20%20%20%20%20%20%20%20%0A%20%20%20%20%20%20%20%20%20%20%20%20%20%20%20%20var%20html_d78d54411439402a930cde9b9f1dcd76%20%3D%20%24%28%60%3Cdiv%20id%3D%22html_d78d54411439402a930cde9b9f1dcd76%22%20style%3D%22width%3A%20100.0%25%3B%20height%3A%20100.0%25%3B%22%3ECity%2CCounty%3A%09Atlanta%2CUnited%20States%20Artist%3A%20Porter%20Robinson%3C/div%3E%60%29%5B0%5D%3B%0A%20%20%20%20%20%20%20%20%20%20%20%20%20%20%20%20popup_9a4b999bb8074ee383969a217f662301.setContent%28html_d78d54411439402a930cde9b9f1dcd76%29%3B%0A%20%20%20%20%20%20%20%20%20%20%20%20%0A%0A%20%20%20%20%20%20%20%20%20%20%20%20marker_bd2f5fd5e2814105918f85314d35cc76.bindPopup%28popup_9a4b999bb8074ee383969a217f662301%29%0A%20%20%20%20%20%20%20%20%20%20%20%20%3B%0A%0A%20%20%20%20%20%20%20%20%20%20%20%20%0A%20%20%20%20%20%20%20%20%0A%20%20%20%20%0A%20%20%20%20%20%20%20%20var%20marker_586020889c184e7ebde8b6d3ea0ce184%20%3D%20L.marker%28%0A%20%20%20%20%20%20%20%20%20%20%20%20%5B41.4767%2C%20-81.6804%5D%2C%0A%20%20%20%20%20%20%20%20%20%20%20%20%7B%0A%20%20%20%20%20%20%20%20%20%20%20%20%20%20%20%20icon%3A%20new%20L.Icon.Default%28%29%2C%0A%20%20%20%20%20%20%20%20%20%20%20%20%20%20%20%20%7D%0A%20%20%20%20%20%20%20%20%20%20%20%20%29.addTo%28map_a591deab366e42a98cfe33158d8d9737%29%3B%0A%20%20%20%20%20%20%20%20%0A%20%20%20%20%0A%0A%20%20%20%20%20%20%20%20%20%20%20%20%20%20%20%20var%20icon_93b8e5a938e447a9bbe5fa3ea5f94bc7%20%3D%20L.AwesomeMarkers.icon%28%7B%0A%20%20%20%20%20%20%20%20%20%20%20%20%20%20%20%20%20%20%20%20icon%3A%20%27info-sign%27%2C%0A%20%20%20%20%20%20%20%20%20%20%20%20%20%20%20%20%20%20%20%20iconColor%3A%20%27white%27%2C%0A%20%20%20%20%20%20%20%20%20%20%20%20%20%20%20%20%20%20%20%20markerColor%3A%20%27pink%27%2C%0A%20%20%20%20%20%20%20%20%20%20%20%20%20%20%20%20%20%20%20%20prefix%3A%20%27glyphicon%27%2C%0A%20%20%20%20%20%20%20%20%20%20%20%20%20%20%20%20%20%20%20%20extraClasses%3A%20%27fa-rotate-0%27%0A%20%20%20%20%20%20%20%20%20%20%20%20%20%20%20%20%20%20%20%20%7D%29%3B%0A%20%20%20%20%20%20%20%20%20%20%20%20%20%20%20%20marker_586020889c184e7ebde8b6d3ea0ce184.setIcon%28icon_93b8e5a938e447a9bbe5fa3ea5f94bc7%29%3B%0A%20%20%20%20%20%20%20%20%20%20%20%20%0A%20%20%20%20%0A%20%20%20%20%20%20%20%20%20%20%20%20var%20popup_5c0187aba3584a7aa78b02a9020f287d%20%3D%20L.popup%28%7BmaxWidth%3A%20%27100%25%27%0A%20%20%20%20%20%20%20%20%20%20%20%20%0A%20%20%20%20%20%20%20%20%20%20%20%20%7D%29%3B%0A%0A%20%20%20%20%20%20%20%20%20%20%20%20%0A%20%20%20%20%20%20%20%20%20%20%20%20%20%20%20%20var%20html_755b6d8f500441d28dcfc42137169af9%20%3D%20%24%28%60%3Cdiv%20id%3D%22html_755b6d8f500441d28dcfc42137169af9%22%20style%3D%22width%3A%20100.0%25%3B%20height%3A%20100.0%25%3B%22%3ECity%2CCounty%3A%09Cleveland%2CUnited%20States%20Artist%3A%20DaBaby%3C/div%3E%60%29%5B0%5D%3B%0A%20%20%20%20%20%20%20%20%20%20%20%20%20%20%20%20popup_5c0187aba3584a7aa78b02a9020f287d.setContent%28html_755b6d8f500441d28dcfc42137169af9%29%3B%0A%20%20%20%20%20%20%20%20%20%20%20%20%0A%0A%20%20%20%20%20%20%20%20%20%20%20%20marker_586020889c184e7ebde8b6d3ea0ce184.bindPopup%28popup_5c0187aba3584a7aa78b02a9020f287d%29%0A%20%20%20%20%20%20%20%20%20%20%20%20%3B%0A%0A%20%20%20%20%20%20%20%20%20%20%20%20%0A%20%20%20%20%20%20%20%20%0A%20%20%20%20%0A%20%20%20%20%20%20%20%20var%20marker_c68ff6a53e094ad3a37b2fc9a254a4cb%20%3D%20L.marker%28%0A%20%20%20%20%20%20%20%20%20%20%20%20%5B35.1817%2C%20-84.8707%5D%2C%0A%20%20%20%20%20%20%20%20%20%20%20%20%7B%0A%20%20%20%20%20%20%20%20%20%20%20%20%20%20%20%20icon%3A%20new%20L.Icon.Default%28%29%2C%0A%20%20%20%20%20%20%20%20%20%20%20%20%20%20%20%20%7D%0A%20%20%20%20%20%20%20%20%20%20%20%20%29.addTo%28map_a591deab366e42a98cfe33158d8d9737%29%3B%0A%20%20%20%20%20%20%20%20%0A%20%20%20%20%0A%0A%20%20%20%20%20%20%20%20%20%20%20%20%20%20%20%20var%20icon_05ba6753a7304cbfa93b4327308c4326%20%3D%20L.AwesomeMarkers.icon%28%7B%0A%20%20%20%20%20%20%20%20%20%20%20%20%20%20%20%20%20%20%20%20icon%3A%20%27info-sign%27%2C%0A%20%20%20%20%20%20%20%20%20%20%20%20%20%20%20%20%20%20%20%20iconColor%3A%20%27white%27%2C%0A%20%20%20%20%20%20%20%20%20%20%20%20%20%20%20%20%20%20%20%20markerColor%3A%20%27pink%27%2C%0A%20%20%20%20%20%20%20%20%20%20%20%20%20%20%20%20%20%20%20%20prefix%3A%20%27glyphicon%27%2C%0A%20%20%20%20%20%20%20%20%20%20%20%20%20%20%20%20%20%20%20%20extraClasses%3A%20%27fa-rotate-0%27%0A%20%20%20%20%20%20%20%20%20%20%20%20%20%20%20%20%20%20%20%20%7D%29%3B%0A%20%20%20%20%20%20%20%20%20%20%20%20%20%20%20%20marker_c68ff6a53e094ad3a37b2fc9a254a4cb.setIcon%28icon_05ba6753a7304cbfa93b4327308c4326%29%3B%0A%20%20%20%20%20%20%20%20%20%20%20%20%0A%20%20%20%20%0A%20%20%20%20%20%20%20%20%20%20%20%20var%20popup_8132cf30c80144a790f95114627ea8de%20%3D%20L.popup%28%7BmaxWidth%3A%20%27100%25%27%0A%20%20%20%20%20%20%20%20%20%20%20%20%0A%20%20%20%20%20%20%20%20%20%20%20%20%7D%29%3B%0A%0A%20%20%20%20%20%20%20%20%20%20%20%20%0A%20%20%20%20%20%20%20%20%20%20%20%20%20%20%20%20var%20html_43ce38d52b5d44ffb707475d4fd73f3e%20%3D%20%24%28%60%3Cdiv%20id%3D%22html_43ce38d52b5d44ffb707475d4fd73f3e%22%20style%3D%22width%3A%20100.0%25%3B%20height%3A%20100.0%25%3B%22%3ECity%2CCounty%3A%09Cleveland%2CUnited%20States%20Artist%3A%20DaBaby%3C/div%3E%60%29%5B0%5D%3B%0A%20%20%20%20%20%20%20%20%20%20%20%20%20%20%20%20popup_8132cf30c80144a790f95114627ea8de.setContent%28html_43ce38d52b5d44ffb707475d4fd73f3e%29%3B%0A%20%20%20%20%20%20%20%20%20%20%20%20%0A%0A%20%20%20%20%20%20%20%20%20%20%20%20marker_c68ff6a53e094ad3a37b2fc9a254a4cb.bindPopup%28popup_8132cf30c80144a790f95114627ea8de%29%0A%20%20%20%20%20%20%20%20%20%20%20%20%3B%0A%0A%20%20%20%20%20%20%20%20%20%20%20%20%0A%20%20%20%20%20%20%20%20%0A%20%20%20%20%0A%20%20%20%20%20%20%20%20var%20marker_19a1d396ab954850a4dd320d588561be%20%3D%20L.marker%28%0A%20%20%20%20%20%20%20%20%20%20%20%20%5B33.744%2C%20-90.7285%5D%2C%0A%20%20%20%20%20%20%20%20%20%20%20%20%7B%0A%20%20%20%20%20%20%20%20%20%20%20%20%20%20%20%20icon%3A%20new%20L.Icon.Default%28%29%2C%0A%20%20%20%20%20%20%20%20%20%20%20%20%20%20%20%20%7D%0A%20%20%20%20%20%20%20%20%20%20%20%20%29.addTo%28map_a591deab366e42a98cfe33158d8d9737%29%3B%0A%20%20%20%20%20%20%20%20%0A%20%20%20%20%0A%0A%20%20%20%20%20%20%20%20%20%20%20%20%20%20%20%20var%20icon_be61a195d9be4f6e878dce2fd939feec%20%3D%20L.AwesomeMarkers.icon%28%7B%0A%20%20%20%20%20%20%20%20%20%20%20%20%20%20%20%20%20%20%20%20icon%3A%20%27info-sign%27%2C%0A%20%20%20%20%20%20%20%20%20%20%20%20%20%20%20%20%20%20%20%20iconColor%3A%20%27white%27%2C%0A%20%20%20%20%20%20%20%20%20%20%20%20%20%20%20%20%20%20%20%20markerColor%3A%20%27pink%27%2C%0A%20%20%20%20%20%20%20%20%20%20%20%20%20%20%20%20%20%20%20%20prefix%3A%20%27glyphicon%27%2C%0A%20%20%20%20%20%20%20%20%20%20%20%20%20%20%20%20%20%20%20%20extraClasses%3A%20%27fa-rotate-0%27%0A%20%20%20%20%20%20%20%20%20%20%20%20%20%20%20%20%20%20%20%20%7D%29%3B%0A%20%20%20%20%20%20%20%20%20%20%20%20%20%20%20%20marker_19a1d396ab954850a4dd320d588561be.setIcon%28icon_be61a195d9be4f6e878dce2fd939feec%29%3B%0A%20%20%20%20%20%20%20%20%20%20%20%20%0A%20%20%20%20%0A%20%20%20%20%20%20%20%20%20%20%20%20var%20popup_b1054fb041aa4b3295853d64a98302e5%20%3D%20L.popup%28%7BmaxWidth%3A%20%27100%25%27%0A%20%20%20%20%20%20%20%20%20%20%20%20%0A%20%20%20%20%20%20%20%20%20%20%20%20%7D%29%3B%0A%0A%20%20%20%20%20%20%20%20%20%20%20%20%0A%20%20%20%20%20%20%20%20%20%20%20%20%20%20%20%20var%20html_04810a9e5b67427c9e9b30884b72cb5f%20%3D%20%24%28%60%3Cdiv%20id%3D%22html_04810a9e5b67427c9e9b30884b72cb5f%22%20style%3D%22width%3A%20100.0%25%3B%20height%3A%20100.0%25%3B%22%3ECity%2CCounty%3A%09Cleveland%2CUnited%20States%20Artist%3A%20DaBaby%3C/div%3E%60%29%5B0%5D%3B%0A%20%20%20%20%20%20%20%20%20%20%20%20%20%20%20%20popup_b1054fb041aa4b3295853d64a98302e5.setContent%28html_04810a9e5b67427c9e9b30884b72cb5f%29%3B%0A%20%20%20%20%20%20%20%20%20%20%20%20%0A%0A%20%20%20%20%20%20%20%20%20%20%20%20marker_19a1d396ab954850a4dd320d588561be.bindPopup%28popup_b1054fb041aa4b3295853d64a98302e5%29%0A%20%20%20%20%20%20%20%20%20%20%20%20%3B%0A%0A%20%20%20%20%20%20%20%20%20%20%20%20%0A%20%20%20%20%20%20%20%20%0A%20%20%20%20%0A%20%20%20%20%20%20%20%20var%20marker_2e214983ae174f64acabecfe9d49908e%20%3D%20L.marker%28%0A%20%20%20%20%20%20%20%20%20%20%20%20%5B30.3374%2C%20-95.0931%5D%2C%0A%20%20%20%20%20%20%20%20%20%20%20%20%7B%0A%20%20%20%20%20%20%20%20%20%20%20%20%20%20%20%20icon%3A%20new%20L.Icon.Default%28%29%2C%0A%20%20%20%20%20%20%20%20%20%20%20%20%20%20%20%20%7D%0A%20%20%20%20%20%20%20%20%20%20%20%20%29.addTo%28map_a591deab366e42a98cfe33158d8d9737%29%3B%0A%20%20%20%20%20%20%20%20%0A%20%20%20%20%0A%0A%20%20%20%20%20%20%20%20%20%20%20%20%20%20%20%20var%20icon_421c7e35882e4f628fc651102d61d11b%20%3D%20L.AwesomeMarkers.icon%28%7B%0A%20%20%20%20%20%20%20%20%20%20%20%20%20%20%20%20%20%20%20%20icon%3A%20%27info-sign%27%2C%0A%20%20%20%20%20%20%20%20%20%20%20%20%20%20%20%20%20%20%20%20iconColor%3A%20%27white%27%2C%0A%20%20%20%20%20%20%20%20%20%20%20%20%20%20%20%20%20%20%20%20markerColor%3A%20%27pink%27%2C%0A%20%20%20%20%20%20%20%20%20%20%20%20%20%20%20%20%20%20%20%20prefix%3A%20%27glyphicon%27%2C%0A%20%20%20%20%20%20%20%20%20%20%20%20%20%20%20%20%20%20%20%20extraClasses%3A%20%27fa-rotate-0%27%0A%20%20%20%20%20%20%20%20%20%20%20%20%20%20%20%20%20%20%20%20%7D%29%3B%0A%20%20%20%20%20%20%20%20%20%20%20%20%20%20%20%20marker_2e214983ae174f64acabecfe9d49908e.setIcon%28icon_421c7e35882e4f628fc651102d61d11b%29%3B%0A%20%20%20%20%20%20%20%20%20%20%20%20%0A%20%20%20%20%0A%20%20%20%20%20%20%20%20%20%20%20%20var%20popup_c29c343fa993471ebac710845bf86a27%20%3D%20L.popup%28%7BmaxWidth%3A%20%27100%25%27%0A%20%20%20%20%20%20%20%20%20%20%20%20%0A%20%20%20%20%20%20%20%20%20%20%20%20%7D%29%3B%0A%0A%20%20%20%20%20%20%20%20%20%20%20%20%0A%20%20%20%20%20%20%20%20%20%20%20%20%20%20%20%20var%20html_aa60d2b334664347af9f1e83dc37c36e%20%3D%20%24%28%60%3Cdiv%20id%3D%22html_aa60d2b334664347af9f1e83dc37c36e%22%20style%3D%22width%3A%20100.0%25%3B%20height%3A%20100.0%25%3B%22%3ECity%2CCounty%3A%09Cleveland%2CUnited%20States%20Artist%3A%20DaBaby%3C/div%3E%60%29%5B0%5D%3B%0A%20%20%20%20%20%20%20%20%20%20%20%20%20%20%20%20popup_c29c343fa993471ebac710845bf86a27.setContent%28html_aa60d2b334664347af9f1e83dc37c36e%29%3B%0A%20%20%20%20%20%20%20%20%20%20%20%20%0A%0A%20%20%20%20%20%20%20%20%20%20%20%20marker_2e214983ae174f64acabecfe9d49908e.bindPopup%28popup_c29c343fa993471ebac710845bf86a27%29%0A%20%20%20%20%20%20%20%20%20%20%20%20%3B%0A%0A%20%20%20%20%20%20%20%20%20%20%20%20%0A%20%20%20%20%20%20%20%20%0A%20%20%20%20%0A%20%20%20%20%20%20%20%20var%20marker_8394ce10aa0642dc83f8504b7876dd50%20%3D%20L.marker%28%0A%20%20%20%20%20%20%20%20%20%20%20%20%5B34.5971%2C%20-83.7621%5D%2C%0A%20%20%20%20%20%20%20%20%20%20%20%20%7B%0A%20%20%20%20%20%20%20%20%20%20%20%20%20%20%20%20icon%3A%20new%20L.Icon.Default%28%29%2C%0A%20%20%20%20%20%20%20%20%20%20%20%20%20%20%20%20%7D%0A%20%20%20%20%20%20%20%20%20%20%20%20%29.addTo%28map_a591deab366e42a98cfe33158d8d9737%29%3B%0A%20%20%20%20%20%20%20%20%0A%20%20%20%20%0A%0A%20%20%20%20%20%20%20%20%20%20%20%20%20%20%20%20var%20icon_bca976397a53421dbf3da47c3ff6104d%20%3D%20L.AwesomeMarkers.icon%28%7B%0A%20%20%20%20%20%20%20%20%20%20%20%20%20%20%20%20%20%20%20%20icon%3A%20%27info-sign%27%2C%0A%20%20%20%20%20%20%20%20%20%20%20%20%20%20%20%20%20%20%20%20iconColor%3A%20%27white%27%2C%0A%20%20%20%20%20%20%20%20%20%20%20%20%20%20%20%20%20%20%20%20markerColor%3A%20%27pink%27%2C%0A%20%20%20%20%20%20%20%20%20%20%20%20%20%20%20%20%20%20%20%20prefix%3A%20%27glyphicon%27%2C%0A%20%20%20%20%20%20%20%20%20%20%20%20%20%20%20%20%20%20%20%20extraClasses%3A%20%27fa-rotate-0%27%0A%20%20%20%20%20%20%20%20%20%20%20%20%20%20%20%20%20%20%20%20%7D%29%3B%0A%20%20%20%20%20%20%20%20%20%20%20%20%20%20%20%20marker_8394ce10aa0642dc83f8504b7876dd50.setIcon%28icon_bca976397a53421dbf3da47c3ff6104d%29%3B%0A%20%20%20%20%20%20%20%20%20%20%20%20%0A%20%20%20%20%0A%20%20%20%20%20%20%20%20%20%20%20%20var%20popup_b12fa160547445d4824324ee28ce5d98%20%3D%20L.popup%28%7BmaxWidth%3A%20%27100%25%27%0A%20%20%20%20%20%20%20%20%20%20%20%20%0A%20%20%20%20%20%20%20%20%20%20%20%20%7D%29%3B%0A%0A%20%20%20%20%20%20%20%20%20%20%20%20%0A%20%20%20%20%20%20%20%20%20%20%20%20%20%20%20%20var%20html_20ba19e3e3f44655b318181d8443effe%20%3D%20%24%28%60%3Cdiv%20id%3D%22html_20ba19e3e3f44655b318181d8443effe%22%20style%3D%22width%3A%20100.0%25%3B%20height%3A%20100.0%25%3B%22%3ECity%2CCounty%3A%09Cleveland%2CUnited%20States%20Artist%3A%20DaBaby%3C/div%3E%60%29%5B0%5D%3B%0A%20%20%20%20%20%20%20%20%20%20%20%20%20%20%20%20popup_b12fa160547445d4824324ee28ce5d98.setContent%28html_20ba19e3e3f44655b318181d8443effe%29%3B%0A%20%20%20%20%20%20%20%20%20%20%20%20%0A%0A%20%20%20%20%20%20%20%20%20%20%20%20marker_8394ce10aa0642dc83f8504b7876dd50.bindPopup%28popup_b12fa160547445d4824324ee28ce5d98%29%0A%20%20%20%20%20%20%20%20%20%20%20%20%3B%0A%0A%20%20%20%20%20%20%20%20%20%20%20%20%0A%20%20%20%20%20%20%20%20%0A%20%20%20%20%0A%20%20%20%20%20%20%20%20var%20marker_de5a5603b5e24f769a094424efa986a0%20%3D%20L.marker%28%0A%20%20%20%20%20%20%20%20%20%20%20%20%5B27.6747%2C%20-80.4102%5D%2C%0A%20%20%20%20%20%20%20%20%20%20%20%20%7B%0A%20%20%20%20%20%20%20%20%20%20%20%20%20%20%20%20icon%3A%20new%20L.Icon.Default%28%29%2C%0A%20%20%20%20%20%20%20%20%20%20%20%20%20%20%20%20%7D%0A%20%20%20%20%20%20%20%20%20%20%20%20%29.addTo%28map_a591deab366e42a98cfe33158d8d9737%29%3B%0A%20%20%20%20%20%20%20%20%0A%20%20%20%20%0A%0A%20%20%20%20%20%20%20%20%20%20%20%20%20%20%20%20var%20icon_fd489220cf444a988555c67ea88bf5e7%20%3D%20L.AwesomeMarkers.icon%28%7B%0A%20%20%20%20%20%20%20%20%20%20%20%20%20%20%20%20%20%20%20%20icon%3A%20%27info-sign%27%2C%0A%20%20%20%20%20%20%20%20%20%20%20%20%20%20%20%20%20%20%20%20iconColor%3A%20%27white%27%2C%0A%20%20%20%20%20%20%20%20%20%20%20%20%20%20%20%20%20%20%20%20markerColor%3A%20%27pink%27%2C%0A%20%20%20%20%20%20%20%20%20%20%20%20%20%20%20%20%20%20%20%20prefix%3A%20%27glyphicon%27%2C%0A%20%20%20%20%20%20%20%20%20%20%20%20%20%20%20%20%20%20%20%20extraClasses%3A%20%27fa-rotate-0%27%0A%20%20%20%20%20%20%20%20%20%20%20%20%20%20%20%20%20%20%20%20%7D%29%3B%0A%20%20%20%20%20%20%20%20%20%20%20%20%20%20%20%20marker_de5a5603b5e24f769a094424efa986a0.setIcon%28icon_fd489220cf444a988555c67ea88bf5e7%29%3B%0A%20%20%20%20%20%20%20%20%20%20%20%20%0A%20%20%20%20%0A%20%20%20%20%20%20%20%20%20%20%20%20var%20popup_4041847262aa45b993f39524f2b2cda2%20%3D%20L.popup%28%7BmaxWidth%3A%20%27100%25%27%0A%20%20%20%20%20%20%20%20%20%20%20%20%0A%20%20%20%20%20%20%20%20%20%20%20%20%7D%29%3B%0A%0A%20%20%20%20%20%20%20%20%20%20%20%20%0A%20%20%20%20%20%20%20%20%20%20%20%20%20%20%20%20var%20html_ddf1ba246dad4fabb7c7165cb290415a%20%3D%20%24%28%60%3Cdiv%20id%3D%22html_ddf1ba246dad4fabb7c7165cb290415a%22%20style%3D%22width%3A%20100.0%25%3B%20height%3A%20100.0%25%3B%22%3ECity%2CCounty%3A%09Gifford%2CUnited%20States%20Artist%3A%20YNW%20Melly%3C/div%3E%60%29%5B0%5D%3B%0A%20%20%20%20%20%20%20%20%20%20%20%20%20%20%20%20popup_4041847262aa45b993f39524f2b2cda2.setContent%28html_ddf1ba246dad4fabb7c7165cb290415a%29%3B%0A%20%20%20%20%20%20%20%20%20%20%20%20%0A%0A%20%20%20%20%20%20%20%20%20%20%20%20marker_de5a5603b5e24f769a094424efa986a0.bindPopup%28popup_4041847262aa45b993f39524f2b2cda2%29%0A%20%20%20%20%20%20%20%20%20%20%20%20%3B%0A%0A%20%20%20%20%20%20%20%20%20%20%20%20%0A%20%20%20%20%20%20%20%20%0A%20%20%20%20%0A%20%20%20%20%20%20%20%20var%20marker_c75cc75653f041ec915e4b83ba079111%20%3D%20L.marker%28%0A%20%20%20%20%20%20%20%20%20%20%20%20%5B36.9719%2C%20-86.4373%5D%2C%0A%20%20%20%20%20%20%20%20%20%20%20%20%7B%0A%20%20%20%20%20%20%20%20%20%20%20%20%20%20%20%20icon%3A%20new%20L.Icon.Default%28%29%2C%0A%20%20%20%20%20%20%20%20%20%20%20%20%20%20%20%20%7D%0A%20%20%20%20%20%20%20%20%20%20%20%20%29.addTo%28map_a591deab366e42a98cfe33158d8d9737%29%3B%0A%20%20%20%20%20%20%20%20%0A%20%20%20%20%0A%0A%20%20%20%20%20%20%20%20%20%20%20%20%20%20%20%20var%20icon_7070b61717574efdbc30768855d1e229%20%3D%20L.AwesomeMarkers.icon%28%7B%0A%20%20%20%20%20%20%20%20%20%20%20%20%20%20%20%20%20%20%20%20icon%3A%20%27info-sign%27%2C%0A%20%20%20%20%20%20%20%20%20%20%20%20%20%20%20%20%20%20%20%20iconColor%3A%20%27white%27%2C%0A%20%20%20%20%20%20%20%20%20%20%20%20%20%20%20%20%20%20%20%20markerColor%3A%20%27lightgreen%27%2C%0A%20%20%20%20%20%20%20%20%20%20%20%20%20%20%20%20%20%20%20%20prefix%3A%20%27glyphicon%27%2C%0A%20%20%20%20%20%20%20%20%20%20%20%20%20%20%20%20%20%20%20%20extraClasses%3A%20%27fa-rotate-0%27%0A%20%20%20%20%20%20%20%20%20%20%20%20%20%20%20%20%20%20%20%20%7D%29%3B%0A%20%20%20%20%20%20%20%20%20%20%20%20%20%20%20%20marker_c75cc75653f041ec915e4b83ba079111.setIcon%28icon_7070b61717574efdbc30768855d1e229%29%3B%0A%20%20%20%20%20%20%20%20%20%20%20%20%0A%20%20%20%20%0A%20%20%20%20%20%20%20%20%20%20%20%20var%20popup_937df437ee0c42ca8d7afcb69af7be25%20%3D%20L.popup%28%7BmaxWidth%3A%20%27100%25%27%0A%20%20%20%20%20%20%20%20%20%20%20%20%0A%20%20%20%20%20%20%20%20%20%20%20%20%7D%29%3B%0A%0A%20%20%20%20%20%20%20%20%20%20%20%20%0A%20%20%20%20%20%20%20%20%20%20%20%20%20%20%20%20var%20html_d246c86c170f446882de9729140a253f%20%3D%20%24%28%60%3Cdiv%20id%3D%22html_d246c86c170f446882de9729140a253f%22%20style%3D%22width%3A%20100.0%25%3B%20height%3A%20100.0%25%3B%22%3ECity%2CCounty%3A%09Bowling%20Green%2CUnited%20States%20Artist%3A%20Cage%20The%20Elephant%3C/div%3E%60%29%5B0%5D%3B%0A%20%20%20%20%20%20%20%20%20%20%20%20%20%20%20%20popup_937df437ee0c42ca8d7afcb69af7be25.setContent%28html_d246c86c170f446882de9729140a253f%29%3B%0A%20%20%20%20%20%20%20%20%20%20%20%20%0A%0A%20%20%20%20%20%20%20%20%20%20%20%20marker_c75cc75653f041ec915e4b83ba079111.bindPopup%28popup_937df437ee0c42ca8d7afcb69af7be25%29%0A%20%20%20%20%20%20%20%20%20%20%20%20%3B%0A%0A%20%20%20%20%20%20%20%20%20%20%20%20%0A%20%20%20%20%20%20%20%20%0A%20%20%20%20%0A%20%20%20%20%20%20%20%20var%20marker_bc31c32be40b4551ace5b4581f309bad%20%3D%20L.marker%28%0A%20%20%20%20%20%20%20%20%20%20%20%20%5B41.3773%2C%20-83.65%5D%2C%0A%20%20%20%20%20%20%20%20%20%20%20%20%7B%0A%20%20%20%20%20%20%20%20%20%20%20%20%20%20%20%20icon%3A%20new%20L.Icon.Default%28%29%2C%0A%20%20%20%20%20%20%20%20%20%20%20%20%20%20%20%20%7D%0A%20%20%20%20%20%20%20%20%20%20%20%20%29.addTo%28map_a591deab366e42a98cfe33158d8d9737%29%3B%0A%20%20%20%20%20%20%20%20%0A%20%20%20%20%0A%0A%20%20%20%20%20%20%20%20%20%20%20%20%20%20%20%20var%20icon_0f42a8a2e35d43db81c1230dc8de7a22%20%3D%20L.AwesomeMarkers.icon%28%7B%0A%20%20%20%20%20%20%20%20%20%20%20%20%20%20%20%20%20%20%20%20icon%3A%20%27info-sign%27%2C%0A%20%20%20%20%20%20%20%20%20%20%20%20%20%20%20%20%20%20%20%20iconColor%3A%20%27white%27%2C%0A%20%20%20%20%20%20%20%20%20%20%20%20%20%20%20%20%20%20%20%20markerColor%3A%20%27lightgreen%27%2C%0A%20%20%20%20%20%20%20%20%20%20%20%20%20%20%20%20%20%20%20%20prefix%3A%20%27glyphicon%27%2C%0A%20%20%20%20%20%20%20%20%20%20%20%20%20%20%20%20%20%20%20%20extraClasses%3A%20%27fa-rotate-0%27%0A%20%20%20%20%20%20%20%20%20%20%20%20%20%20%20%20%20%20%20%20%7D%29%3B%0A%20%20%20%20%20%20%20%20%20%20%20%20%20%20%20%20marker_bc31c32be40b4551ace5b4581f309bad.setIcon%28icon_0f42a8a2e35d43db81c1230dc8de7a22%29%3B%0A%20%20%20%20%20%20%20%20%20%20%20%20%0A%20%20%20%20%0A%20%20%20%20%20%20%20%20%20%20%20%20var%20popup_819b680712624ae6954a472e6d1fd958%20%3D%20L.popup%28%7BmaxWidth%3A%20%27100%25%27%0A%20%20%20%20%20%20%20%20%20%20%20%20%0A%20%20%20%20%20%20%20%20%20%20%20%20%7D%29%3B%0A%0A%20%20%20%20%20%20%20%20%20%20%20%20%0A%20%20%20%20%20%20%20%20%20%20%20%20%20%20%20%20var%20html_6eb6ef51ce93466188ee247d7146aa26%20%3D%20%24%28%60%3Cdiv%20id%3D%22html_6eb6ef51ce93466188ee247d7146aa26%22%20style%3D%22width%3A%20100.0%25%3B%20height%3A%20100.0%25%3B%22%3ECity%2CCounty%3A%09Bowling%20Green%2CUnited%20States%20Artist%3A%20Cage%20The%20Elephant%3C/div%3E%60%29%5B0%5D%3B%0A%20%20%20%20%20%20%20%20%20%20%20%20%20%20%20%20popup_819b680712624ae6954a472e6d1fd958.setContent%28html_6eb6ef51ce93466188ee247d7146aa26%29%3B%0A%20%20%20%20%20%20%20%20%20%20%20%20%0A%0A%20%20%20%20%20%20%20%20%20%20%20%20marker_bc31c32be40b4551ace5b4581f309bad.bindPopup%28popup_819b680712624ae6954a472e6d1fd958%29%0A%20%20%20%20%20%20%20%20%20%20%20%20%3B%0A%0A%20%20%20%20%20%20%20%20%20%20%20%20%0A%20%20%20%20%20%20%20%20%0A%20%20%20%20%0A%20%20%20%20%20%20%20%20var%20marker_ec065459f7864163ab27811a666dc396%20%3D%20L.marker%28%0A%20%20%20%20%20%20%20%20%20%20%20%20%5B39.3447%2C%20-91.2032%5D%2C%0A%20%20%20%20%20%20%20%20%20%20%20%20%7B%0A%20%20%20%20%20%20%20%20%20%20%20%20%20%20%20%20icon%3A%20new%20L.Icon.Default%28%29%2C%0A%20%20%20%20%20%20%20%20%20%20%20%20%20%20%20%20%7D%0A%20%20%20%20%20%20%20%20%20%20%20%20%29.addTo%28map_a591deab366e42a98cfe33158d8d9737%29%3B%0A%20%20%20%20%20%20%20%20%0A%20%20%20%20%0A%0A%20%20%20%20%20%20%20%20%20%20%20%20%20%20%20%20var%20icon_4e73de1a23914c44ac469e12795e9190%20%3D%20L.AwesomeMarkers.icon%28%7B%0A%20%20%20%20%20%20%20%20%20%20%20%20%20%20%20%20%20%20%20%20icon%3A%20%27info-sign%27%2C%0A%20%20%20%20%20%20%20%20%20%20%20%20%20%20%20%20%20%20%20%20iconColor%3A%20%27white%27%2C%0A%20%20%20%20%20%20%20%20%20%20%20%20%20%20%20%20%20%20%20%20markerColor%3A%20%27lightgreen%27%2C%0A%20%20%20%20%20%20%20%20%20%20%20%20%20%20%20%20%20%20%20%20prefix%3A%20%27glyphicon%27%2C%0A%20%20%20%20%20%20%20%20%20%20%20%20%20%20%20%20%20%20%20%20extraClasses%3A%20%27fa-rotate-0%27%0A%20%20%20%20%20%20%20%20%20%20%20%20%20%20%20%20%20%20%20%20%7D%29%3B%0A%20%20%20%20%20%20%20%20%20%20%20%20%20%20%20%20marker_ec065459f7864163ab27811a666dc396.setIcon%28icon_4e73de1a23914c44ac469e12795e9190%29%3B%0A%20%20%20%20%20%20%20%20%20%20%20%20%0A%20%20%20%20%0A%20%20%20%20%20%20%20%20%20%20%20%20var%20popup_38227c6d88ec47b1b6de9b3a43f4c517%20%3D%20L.popup%28%7BmaxWidth%3A%20%27100%25%27%0A%20%20%20%20%20%20%20%20%20%20%20%20%0A%20%20%20%20%20%20%20%20%20%20%20%20%7D%29%3B%0A%0A%20%20%20%20%20%20%20%20%20%20%20%20%0A%20%20%20%20%20%20%20%20%20%20%20%20%20%20%20%20var%20html_e3f0388199964cf992acbb6b818b3865%20%3D%20%24%28%60%3Cdiv%20id%3D%22html_e3f0388199964cf992acbb6b818b3865%22%20style%3D%22width%3A%20100.0%25%3B%20height%3A%20100.0%25%3B%22%3ECity%2CCounty%3A%09Bowling%20Green%2CUnited%20States%20Artist%3A%20Cage%20The%20Elephant%3C/div%3E%60%29%5B0%5D%3B%0A%20%20%20%20%20%20%20%20%20%20%20%20%20%20%20%20popup_38227c6d88ec47b1b6de9b3a43f4c517.setContent%28html_e3f0388199964cf992acbb6b818b3865%29%3B%0A%20%20%20%20%20%20%20%20%20%20%20%20%0A%0A%20%20%20%20%20%20%20%20%20%20%20%20marker_ec065459f7864163ab27811a666dc396.bindPopup%28popup_38227c6d88ec47b1b6de9b3a43f4c517%29%0A%20%20%20%20%20%20%20%20%20%20%20%20%3B%0A%0A%20%20%20%20%20%20%20%20%20%20%20%20%0A%20%20%20%20%20%20%20%20%0A%20%20%20%20%0A%20%20%20%20%20%20%20%20var%20marker_cd5e6b5f4a3a4caca3c3f66128eeca9d%20%3D%20L.marker%28%0A%20%20%20%20%20%20%20%20%20%20%20%20%5B50.8333%2C%204.3333%5D%2C%0A%20%20%20%20%20%20%20%20%20%20%20%20%7B%0A%20%20%20%20%20%20%20%20%20%20%20%20%20%20%20%20icon%3A%20new%20L.Icon.Default%28%29%2C%0A%20%20%20%20%20%20%20%20%20%20%20%20%20%20%20%20%7D%0A%20%20%20%20%20%20%20%20%20%20%20%20%29.addTo%28map_a591deab366e42a98cfe33158d8d9737%29%3B%0A%20%20%20%20%20%20%20%20%0A%20%20%20%20%0A%0A%20%20%20%20%20%20%20%20%20%20%20%20%20%20%20%20var%20icon_d539ef2ae30d49d1a6c9ed210ff86a6c%20%3D%20L.AwesomeMarkers.icon%28%7B%0A%20%20%20%20%20%20%20%20%20%20%20%20%20%20%20%20%20%20%20%20icon%3A%20%27info-sign%27%2C%0A%20%20%20%20%20%20%20%20%20%20%20%20%20%20%20%20%20%20%20%20iconColor%3A%20%27white%27%2C%0A%20%20%20%20%20%20%20%20%20%20%20%20%20%20%20%20%20%20%20%20markerColor%3A%20%27lightgreen%27%2C%0A%20%20%20%20%20%20%20%20%20%20%20%20%20%20%20%20%20%20%20%20prefix%3A%20%27glyphicon%27%2C%0A%20%20%20%20%20%20%20%20%20%20%20%20%20%20%20%20%20%20%20%20extraClasses%3A%20%27fa-rotate-0%27%0A%20%20%20%20%20%20%20%20%20%20%20%20%20%20%20%20%20%20%20%20%7D%29%3B%0A%20%20%20%20%20%20%20%20%20%20%20%20%20%20%20%20marker_cd5e6b5f4a3a4caca3c3f66128eeca9d.setIcon%28icon_d539ef2ae30d49d1a6c9ed210ff86a6c%29%3B%0A%20%20%20%20%20%20%20%20%20%20%20%20%0A%20%20%20%20%0A%20%20%20%20%20%20%20%20%20%20%20%20var%20popup_a03cc74ac4724908827a78090dd18104%20%3D%20L.popup%28%7BmaxWidth%3A%20%27100%25%27%0A%20%20%20%20%20%20%20%20%20%20%20%20%0A%20%20%20%20%20%20%20%20%20%20%20%20%7D%29%3B%0A%0A%20%20%20%20%20%20%20%20%20%20%20%20%0A%20%20%20%20%20%20%20%20%20%20%20%20%20%20%20%20var%20html_66862de13fd74631a291b50c6db4a54a%20%3D%20%24%28%60%3Cdiv%20id%3D%22html_66862de13fd74631a291b50c6db4a54a%22%20style%3D%22width%3A%20100.0%25%3B%20height%3A%20100.0%25%3B%22%3ECity%2CCounty%3A%09Brussels%2CBelgium%20Artist%3A%20Lost%20Frequencies%3C/div%3E%60%29%5B0%5D%3B%0A%20%20%20%20%20%20%20%20%20%20%20%20%20%20%20%20popup_a03cc74ac4724908827a78090dd18104.setContent%28html_66862de13fd74631a291b50c6db4a54a%29%3B%0A%20%20%20%20%20%20%20%20%20%20%20%20%0A%0A%20%20%20%20%20%20%20%20%20%20%20%20marker_cd5e6b5f4a3a4caca3c3f66128eeca9d.bindPopup%28popup_a03cc74ac4724908827a78090dd18104%29%0A%20%20%20%20%20%20%20%20%20%20%20%20%3B%0A%0A%20%20%20%20%20%20%20%20%20%20%20%20%0A%20%20%20%20%20%20%20%20%0A%20%20%20%20%0A%20%20%20%20%20%20%20%20var%20marker_f27cd566944b48fea27033951f7a1e8c%20%3D%20L.marker%28%0A%20%20%20%20%20%20%20%20%20%20%20%20%5B40.6943%2C%20-73.9249%5D%2C%0A%20%20%20%20%20%20%20%20%20%20%20%20%7B%0A%20%20%20%20%20%20%20%20%20%20%20%20%20%20%20%20icon%3A%20new%20L.Icon.Default%28%29%2C%0A%20%20%20%20%20%20%20%20%20%20%20%20%20%20%20%20%7D%0A%20%20%20%20%20%20%20%20%20%20%20%20%29.addTo%28map_a591deab366e42a98cfe33158d8d9737%29%3B%0A%20%20%20%20%20%20%20%20%0A%20%20%20%20%0A%0A%20%20%20%20%20%20%20%20%20%20%20%20%20%20%20%20var%20icon_83a6b71981174152b24e53e979e81a4d%20%3D%20L.AwesomeMarkers.icon%28%7B%0A%20%20%20%20%20%20%20%20%20%20%20%20%20%20%20%20%20%20%20%20icon%3A%20%27info-sign%27%2C%0A%20%20%20%20%20%20%20%20%20%20%20%20%20%20%20%20%20%20%20%20iconColor%3A%20%27white%27%2C%0A%20%20%20%20%20%20%20%20%20%20%20%20%20%20%20%20%20%20%20%20markerColor%3A%20%27lightgreen%27%2C%0A%20%20%20%20%20%20%20%20%20%20%20%20%20%20%20%20%20%20%20%20prefix%3A%20%27glyphicon%27%2C%0A%20%20%20%20%20%20%20%20%20%20%20%20%20%20%20%20%20%20%20%20extraClasses%3A%20%27fa-rotate-0%27%0A%20%20%20%20%20%20%20%20%20%20%20%20%20%20%20%20%20%20%20%20%7D%29%3B%0A%20%20%20%20%20%20%20%20%20%20%20%20%20%20%20%20marker_f27cd566944b48fea27033951f7a1e8c.setIcon%28icon_83a6b71981174152b24e53e979e81a4d%29%3B%0A%20%20%20%20%20%20%20%20%20%20%20%20%0A%20%20%20%20%0A%20%20%20%20%20%20%20%20%20%20%20%20var%20popup_c4cb979dcd664d0ba0f04bfff80678b1%20%3D%20L.popup%28%7BmaxWidth%3A%20%27100%25%27%0A%20%20%20%20%20%20%20%20%20%20%20%20%0A%20%20%20%20%20%20%20%20%20%20%20%20%7D%29%3B%0A%0A%20%20%20%20%20%20%20%20%20%20%20%20%0A%20%20%20%20%20%20%20%20%20%20%20%20%20%20%20%20var%20html_d5277260d873432d826f69030f8fad67%20%3D%20%24%28%60%3Cdiv%20id%3D%22html_d5277260d873432d826f69030f8fad67%22%20style%3D%22width%3A%20100.0%25%3B%20height%3A%20100.0%25%3B%22%3ECity%2CCounty%3A%09New%20York%2CUnited%20States%20Artist%3A%20Vampire%20Weekend%3C/div%3E%60%29%5B0%5D%3B%0A%20%20%20%20%20%20%20%20%20%20%20%20%20%20%20%20popup_c4cb979dcd664d0ba0f04bfff80678b1.setContent%28html_d5277260d873432d826f69030f8fad67%29%3B%0A%20%20%20%20%20%20%20%20%20%20%20%20%0A%0A%20%20%20%20%20%20%20%20%20%20%20%20marker_f27cd566944b48fea27033951f7a1e8c.bindPopup%28popup_c4cb979dcd664d0ba0f04bfff80678b1%29%0A%20%20%20%20%20%20%20%20%20%20%20%20%3B%0A%0A%20%20%20%20%20%20%20%20%20%20%20%20%0A%20%20%20%20%20%20%20%20%0A%20%20%20%20%0A%20%20%20%20%20%20%20%20var%20marker_0b592bb1f3cb43a08d94f5f2db7a3fde%20%3D%20L.marker%28%0A%20%20%20%20%20%20%20%20%20%20%20%20%5B-26.2044%2C%2028.0416%5D%2C%0A%20%20%20%20%20%20%20%20%20%20%20%20%7B%0A%20%20%20%20%20%20%20%20%20%20%20%20%20%20%20%20icon%3A%20new%20L.Icon.Default%28%29%2C%0A%20%20%20%20%20%20%20%20%20%20%20%20%20%20%20%20%7D%0A%20%20%20%20%20%20%20%20%20%20%20%20%29.addTo%28map_a591deab366e42a98cfe33158d8d9737%29%3B%0A%20%20%20%20%20%20%20%20%0A%20%20%20%20%0A%0A%20%20%20%20%20%20%20%20%20%20%20%20%20%20%20%20var%20icon_e45f7057d726488e8d884dccfcd915db%20%3D%20L.AwesomeMarkers.icon%28%7B%0A%20%20%20%20%20%20%20%20%20%20%20%20%20%20%20%20%20%20%20%20icon%3A%20%27info-sign%27%2C%0A%20%20%20%20%20%20%20%20%20%20%20%20%20%20%20%20%20%20%20%20iconColor%3A%20%27white%27%2C%0A%20%20%20%20%20%20%20%20%20%20%20%20%20%20%20%20%20%20%20%20markerColor%3A%20%27lightgreen%27%2C%0A%20%20%20%20%20%20%20%20%20%20%20%20%20%20%20%20%20%20%20%20prefix%3A%20%27glyphicon%27%2C%0A%20%20%20%20%20%20%20%20%20%20%20%20%20%20%20%20%20%20%20%20extraClasses%3A%20%27fa-rotate-0%27%0A%20%20%20%20%20%20%20%20%20%20%20%20%20%20%20%20%20%20%20%20%7D%29%3B%0A%20%20%20%20%20%20%20%20%20%20%20%20%20%20%20%20marker_0b592bb1f3cb43a08d94f5f2db7a3fde.setIcon%28icon_e45f7057d726488e8d884dccfcd915db%29%3B%0A%20%20%20%20%20%20%20%20%20%20%20%20%0A%20%20%20%20%0A%20%20%20%20%20%20%20%20%20%20%20%20var%20popup_34f4ec3fb2c14f33836916477f42e3df%20%3D%20L.popup%28%7BmaxWidth%3A%20%27100%25%27%0A%20%20%20%20%20%20%20%20%20%20%20%20%0A%20%20%20%20%20%20%20%20%20%20%20%20%7D%29%3B%0A%0A%20%20%20%20%20%20%20%20%20%20%20%20%0A%20%20%20%20%20%20%20%20%20%20%20%20%20%20%20%20var%20html_4fdc47f931044f4c959354a043772108%20%3D%20%24%28%60%3Cdiv%20id%3D%22html_4fdc47f931044f4c959354a043772108%22%20style%3D%22width%3A%20100.0%25%3B%20height%3A%20100.0%25%3B%22%3ECity%2CCounty%3A%09Johannesburg%2CSouth%20Africa%20Artist%3A%20Nora%20En%20Pure%3C/div%3E%60%29%5B0%5D%3B%0A%20%20%20%20%20%20%20%20%20%20%20%20%20%20%20%20popup_34f4ec3fb2c14f33836916477f42e3df.setContent%28html_4fdc47f931044f4c959354a043772108%29%3B%0A%20%20%20%20%20%20%20%20%20%20%20%20%0A%0A%20%20%20%20%20%20%20%20%20%20%20%20marker_0b592bb1f3cb43a08d94f5f2db7a3fde.bindPopup%28popup_34f4ec3fb2c14f33836916477f42e3df%29%0A%20%20%20%20%20%20%20%20%20%20%20%20%3B%0A%0A%20%20%20%20%20%20%20%20%20%20%20%20%0A%20%20%20%20%20%20%20%20%0A%20%20%20%20%0A%20%20%20%20%20%20%20%20var%20marker_51651ee429ca4e8f810a9a2d7cd2bd0f%20%3D%20L.marker%28%0A%20%20%20%20%20%20%20%20%20%20%20%20%5B32.2942%2C%20-64.7839%5D%2C%0A%20%20%20%20%20%20%20%20%20%20%20%20%7B%0A%20%20%20%20%20%20%20%20%20%20%20%20%20%20%20%20icon%3A%20new%20L.Icon.Default%28%29%2C%0A%20%20%20%20%20%20%20%20%20%20%20%20%20%20%20%20%7D%0A%20%20%20%20%20%20%20%20%20%20%20%20%29.addTo%28map_a591deab366e42a98cfe33158d8d9737%29%3B%0A%20%20%20%20%20%20%20%20%0A%20%20%20%20%0A%0A%20%20%20%20%20%20%20%20%20%20%20%20%20%20%20%20var%20icon_8ef5bcecd52f4168baf3cddaf4ae0c8f%20%3D%20L.AwesomeMarkers.icon%28%7B%0A%20%20%20%20%20%20%20%20%20%20%20%20%20%20%20%20%20%20%20%20icon%3A%20%27info-sign%27%2C%0A%20%20%20%20%20%20%20%20%20%20%20%20%20%20%20%20%20%20%20%20iconColor%3A%20%27white%27%2C%0A%20%20%20%20%20%20%20%20%20%20%20%20%20%20%20%20%20%20%20%20markerColor%3A%20%27lightgreen%27%2C%0A%20%20%20%20%20%20%20%20%20%20%20%20%20%20%20%20%20%20%20%20prefix%3A%20%27glyphicon%27%2C%0A%20%20%20%20%20%20%20%20%20%20%20%20%20%20%20%20%20%20%20%20extraClasses%3A%20%27fa-rotate-0%27%0A%20%20%20%20%20%20%20%20%20%20%20%20%20%20%20%20%20%20%20%20%7D%29%3B%0A%20%20%20%20%20%20%20%20%20%20%20%20%20%20%20%20marker_51651ee429ca4e8f810a9a2d7cd2bd0f.setIcon%28icon_8ef5bcecd52f4168baf3cddaf4ae0c8f%29%3B%0A%20%20%20%20%20%20%20%20%20%20%20%20%0A%20%20%20%20%0A%20%20%20%20%20%20%20%20%20%20%20%20var%20popup_7ef1b5ce48224a74be2eff6c70beb78e%20%3D%20L.popup%28%7BmaxWidth%3A%20%27100%25%27%0A%20%20%20%20%20%20%20%20%20%20%20%20%0A%20%20%20%20%20%20%20%20%20%20%20%20%7D%29%3B%0A%0A%20%20%20%20%20%20%20%20%20%20%20%20%0A%20%20%20%20%20%20%20%20%20%20%20%20%20%20%20%20var%20html_15c6307f2f6d45178235a5b19b9c2e72%20%3D%20%24%28%60%3Cdiv%20id%3D%22html_15c6307f2f6d45178235a5b19b9c2e72%22%20style%3D%22width%3A%20100.0%25%3B%20height%3A%20100.0%25%3B%22%3ECity%2CCounty%3A%09Hamilton%2CBermuda%20Artist%3A%20Bo%20Burnham%3C/div%3E%60%29%5B0%5D%3B%0A%20%20%20%20%20%20%20%20%20%20%20%20%20%20%20%20popup_7ef1b5ce48224a74be2eff6c70beb78e.setContent%28html_15c6307f2f6d45178235a5b19b9c2e72%29%3B%0A%20%20%20%20%20%20%20%20%20%20%20%20%0A%0A%20%20%20%20%20%20%20%20%20%20%20%20marker_51651ee429ca4e8f810a9a2d7cd2bd0f.bindPopup%28popup_7ef1b5ce48224a74be2eff6c70beb78e%29%0A%20%20%20%20%20%20%20%20%20%20%20%20%3B%0A%0A%20%20%20%20%20%20%20%20%20%20%20%20%0A%20%20%20%20%20%20%20%20%0A%20%20%20%20%0A%20%20%20%20%20%20%20%20var%20marker_0aa3afa0ca7346738355e3a70730ac11%20%3D%20L.marker%28%0A%20%20%20%20%20%20%20%20%20%20%20%20%5B43.2567%2C%20-79.8692%5D%2C%0A%20%20%20%20%20%20%20%20%20%20%20%20%7B%0A%20%20%20%20%20%20%20%20%20%20%20%20%20%20%20%20icon%3A%20new%20L.Icon.Default%28%29%2C%0A%20%20%20%20%20%20%20%20%20%20%20%20%20%20%20%20%7D%0A%20%20%20%20%20%20%20%20%20%20%20%20%29.addTo%28map_a591deab366e42a98cfe33158d8d9737%29%3B%0A%20%20%20%20%20%20%20%20%0A%20%20%20%20%0A%0A%20%20%20%20%20%20%20%20%20%20%20%20%20%20%20%20var%20icon_5bcb7a0df4e24a7d84c63f7ba2def2f1%20%3D%20L.AwesomeMarkers.icon%28%7B%0A%20%20%20%20%20%20%20%20%20%20%20%20%20%20%20%20%20%20%20%20icon%3A%20%27info-sign%27%2C%0A%20%20%20%20%20%20%20%20%20%20%20%20%20%20%20%20%20%20%20%20iconColor%3A%20%27white%27%2C%0A%20%20%20%20%20%20%20%20%20%20%20%20%20%20%20%20%20%20%20%20markerColor%3A%20%27lightgreen%27%2C%0A%20%20%20%20%20%20%20%20%20%20%20%20%20%20%20%20%20%20%20%20prefix%3A%20%27glyphicon%27%2C%0A%20%20%20%20%20%20%20%20%20%20%20%20%20%20%20%20%20%20%20%20extraClasses%3A%20%27fa-rotate-0%27%0A%20%20%20%20%20%20%20%20%20%20%20%20%20%20%20%20%20%20%20%20%7D%29%3B%0A%20%20%20%20%20%20%20%20%20%20%20%20%20%20%20%20marker_0aa3afa0ca7346738355e3a70730ac11.setIcon%28icon_5bcb7a0df4e24a7d84c63f7ba2def2f1%29%3B%0A%20%20%20%20%20%20%20%20%20%20%20%20%0A%20%20%20%20%0A%20%20%20%20%20%20%20%20%20%20%20%20var%20popup_7a35edaddf8945429158030bde05b16c%20%3D%20L.popup%28%7BmaxWidth%3A%20%27100%25%27%0A%20%20%20%20%20%20%20%20%20%20%20%20%0A%20%20%20%20%20%20%20%20%20%20%20%20%7D%29%3B%0A%0A%20%20%20%20%20%20%20%20%20%20%20%20%0A%20%20%20%20%20%20%20%20%20%20%20%20%20%20%20%20var%20html_da9ea80aeca149ca993c6c230e74f1ec%20%3D%20%24%28%60%3Cdiv%20id%3D%22html_da9ea80aeca149ca993c6c230e74f1ec%22%20style%3D%22width%3A%20100.0%25%3B%20height%3A%20100.0%25%3B%22%3ECity%2CCounty%3A%09Hamilton%2CCanada%20Artist%3A%20Bo%20Burnham%3C/div%3E%60%29%5B0%5D%3B%0A%20%20%20%20%20%20%20%20%20%20%20%20%20%20%20%20popup_7a35edaddf8945429158030bde05b16c.setContent%28html_da9ea80aeca149ca993c6c230e74f1ec%29%3B%0A%20%20%20%20%20%20%20%20%20%20%20%20%0A%0A%20%20%20%20%20%20%20%20%20%20%20%20marker_0aa3afa0ca7346738355e3a70730ac11.bindPopup%28popup_7a35edaddf8945429158030bde05b16c%29%0A%20%20%20%20%20%20%20%20%20%20%20%20%3B%0A%0A%20%20%20%20%20%20%20%20%20%20%20%20%0A%20%20%20%20%20%20%20%20%0A%20%20%20%20%0A%20%20%20%20%20%20%20%20var%20marker_65702e29de894b4ead536fd64a75d40b%20%3D%20L.marker%28%0A%20%20%20%20%20%20%20%20%20%20%20%20%5B-37.7833%2C%20175.2833%5D%2C%0A%20%20%20%20%20%20%20%20%20%20%20%20%7B%0A%20%20%20%20%20%20%20%20%20%20%20%20%20%20%20%20icon%3A%20new%20L.Icon.Default%28%29%2C%0A%20%20%20%20%20%20%20%20%20%20%20%20%20%20%20%20%7D%0A%20%20%20%20%20%20%20%20%20%20%20%20%29.addTo%28map_a591deab366e42a98cfe33158d8d9737%29%3B%0A%20%20%20%20%20%20%20%20%0A%20%20%20%20%0A%0A%20%20%20%20%20%20%20%20%20%20%20%20%20%20%20%20var%20icon_2c13da603dc144e4950078ed1f1013f2%20%3D%20L.AwesomeMarkers.icon%28%7B%0A%20%20%20%20%20%20%20%20%20%20%20%20%20%20%20%20%20%20%20%20icon%3A%20%27info-sign%27%2C%0A%20%20%20%20%20%20%20%20%20%20%20%20%20%20%20%20%20%20%20%20iconColor%3A%20%27white%27%2C%0A%20%20%20%20%20%20%20%20%20%20%20%20%20%20%20%20%20%20%20%20markerColor%3A%20%27lightgreen%27%2C%0A%20%20%20%20%20%20%20%20%20%20%20%20%20%20%20%20%20%20%20%20prefix%3A%20%27glyphicon%27%2C%0A%20%20%20%20%20%20%20%20%20%20%20%20%20%20%20%20%20%20%20%20extraClasses%3A%20%27fa-rotate-0%27%0A%20%20%20%20%20%20%20%20%20%20%20%20%20%20%20%20%20%20%20%20%7D%29%3B%0A%20%20%20%20%20%20%20%20%20%20%20%20%20%20%20%20marker_65702e29de894b4ead536fd64a75d40b.setIcon%28icon_2c13da603dc144e4950078ed1f1013f2%29%3B%0A%20%20%20%20%20%20%20%20%20%20%20%20%0A%20%20%20%20%0A%20%20%20%20%20%20%20%20%20%20%20%20var%20popup_8a11fa6cd180413d919c6bf62e3aef2f%20%3D%20L.popup%28%7BmaxWidth%3A%20%27100%25%27%0A%20%20%20%20%20%20%20%20%20%20%20%20%0A%20%20%20%20%20%20%20%20%20%20%20%20%7D%29%3B%0A%0A%20%20%20%20%20%20%20%20%20%20%20%20%0A%20%20%20%20%20%20%20%20%20%20%20%20%20%20%20%20var%20html_5a2e328ab0dd4fb8a366eb348d2a3082%20%3D%20%24%28%60%3Cdiv%20id%3D%22html_5a2e328ab0dd4fb8a366eb348d2a3082%22%20style%3D%22width%3A%20100.0%25%3B%20height%3A%20100.0%25%3B%22%3ECity%2CCounty%3A%09Hamilton%2CNew%20Zealand%20Artist%3A%20Bo%20Burnham%3C/div%3E%60%29%5B0%5D%3B%0A%20%20%20%20%20%20%20%20%20%20%20%20%20%20%20%20popup_8a11fa6cd180413d919c6bf62e3aef2f.setContent%28html_5a2e328ab0dd4fb8a366eb348d2a3082%29%3B%0A%20%20%20%20%20%20%20%20%20%20%20%20%0A%0A%20%20%20%20%20%20%20%20%20%20%20%20marker_65702e29de894b4ead536fd64a75d40b.bindPopup%28popup_8a11fa6cd180413d919c6bf62e3aef2f%29%0A%20%20%20%20%20%20%20%20%20%20%20%20%3B%0A%0A%20%20%20%20%20%20%20%20%20%20%20%20%0A%20%20%20%20%20%20%20%20%0A%20%20%20%20%0A%20%20%20%20%20%20%20%20var%20marker_539008f83c69489c87b5c646e04268ce%20%3D%20L.marker%28%0A%20%20%20%20%20%20%20%20%20%20%20%20%5B55.777%2C%20-4.039%5D%2C%0A%20%20%20%20%20%20%20%20%20%20%20%20%7B%0A%20%20%20%20%20%20%20%20%20%20%20%20%20%20%20%20icon%3A%20new%20L.Icon.Default%28%29%2C%0A%20%20%20%20%20%20%20%20%20%20%20%20%20%20%20%20%7D%0A%20%20%20%20%20%20%20%20%20%20%20%20%29.addTo%28map_a591deab366e42a98cfe33158d8d9737%29%3B%0A%20%20%20%20%20%20%20%20%0A%20%20%20%20%0A%0A%20%20%20%20%20%20%20%20%20%20%20%20%20%20%20%20var%20icon_1d49a33597ee49ac85bd9677a54c9421%20%3D%20L.AwesomeMarkers.icon%28%7B%0A%20%20%20%20%20%20%20%20%20%20%20%20%20%20%20%20%20%20%20%20icon%3A%20%27info-sign%27%2C%0A%20%20%20%20%20%20%20%20%20%20%20%20%20%20%20%20%20%20%20%20iconColor%3A%20%27white%27%2C%0A%20%20%20%20%20%20%20%20%20%20%20%20%20%20%20%20%20%20%20%20markerColor%3A%20%27lightgreen%27%2C%0A%20%20%20%20%20%20%20%20%20%20%20%20%20%20%20%20%20%20%20%20prefix%3A%20%27glyphicon%27%2C%0A%20%20%20%20%20%20%20%20%20%20%20%20%20%20%20%20%20%20%20%20extraClasses%3A%20%27fa-rotate-0%27%0A%20%20%20%20%20%20%20%20%20%20%20%20%20%20%20%20%20%20%20%20%7D%29%3B%0A%20%20%20%20%20%20%20%20%20%20%20%20%20%20%20%20marker_539008f83c69489c87b5c646e04268ce.setIcon%28icon_1d49a33597ee49ac85bd9677a54c9421%29%3B%0A%20%20%20%20%20%20%20%20%20%20%20%20%0A%20%20%20%20%0A%20%20%20%20%20%20%20%20%20%20%20%20var%20popup_f699b1d0d5a2433b9d967eecd571265c%20%3D%20L.popup%28%7BmaxWidth%3A%20%27100%25%27%0A%20%20%20%20%20%20%20%20%20%20%20%20%0A%20%20%20%20%20%20%20%20%20%20%20%20%7D%29%3B%0A%0A%20%20%20%20%20%20%20%20%20%20%20%20%0A%20%20%20%20%20%20%20%20%20%20%20%20%20%20%20%20var%20html_3ae8e7e7cf25431885f7f16bdefd7b27%20%3D%20%24%28%60%3Cdiv%20id%3D%22html_3ae8e7e7cf25431885f7f16bdefd7b27%22%20style%3D%22width%3A%20100.0%25%3B%20height%3A%20100.0%25%3B%22%3ECity%2CCounty%3A%09Hamilton%2CUnited%20Kingdom%20Artist%3A%20Bo%20Burnham%3C/div%3E%60%29%5B0%5D%3B%0A%20%20%20%20%20%20%20%20%20%20%20%20%20%20%20%20popup_f699b1d0d5a2433b9d967eecd571265c.setContent%28html_3ae8e7e7cf25431885f7f16bdefd7b27%29%3B%0A%20%20%20%20%20%20%20%20%20%20%20%20%0A%0A%20%20%20%20%20%20%20%20%20%20%20%20marker_539008f83c69489c87b5c646e04268ce.bindPopup%28popup_f699b1d0d5a2433b9d967eecd571265c%29%0A%20%20%20%20%20%20%20%20%20%20%20%20%3B%0A%0A%20%20%20%20%20%20%20%20%20%20%20%20%0A%20%20%20%20%20%20%20%20%0A%20%20%20%20%0A%20%20%20%20%20%20%20%20var%20marker_9b303b514ad84e9ea1d0a64a4116e255%20%3D%20L.marker%28%0A%20%20%20%20%20%20%20%20%20%20%20%20%5B40.2046%2C%20-74.6765%5D%2C%0A%20%20%20%20%20%20%20%20%20%20%20%20%7B%0A%20%20%20%20%20%20%20%20%20%20%20%20%20%20%20%20icon%3A%20new%20L.Icon.Default%28%29%2C%0A%20%20%20%20%20%20%20%20%20%20%20%20%20%20%20%20%7D%0A%20%20%20%20%20%20%20%20%20%20%20%20%29.addTo%28map_a591deab366e42a98cfe33158d8d9737%29%3B%0A%20%20%20%20%20%20%20%20%0A%20%20%20%20%0A%0A%20%20%20%20%20%20%20%20%20%20%20%20%20%20%20%20var%20icon_bfc1b573b27c4c6eb8f5ebe24943b5f1%20%3D%20L.AwesomeMarkers.icon%28%7B%0A%20%20%20%20%20%20%20%20%20%20%20%20%20%20%20%20%20%20%20%20icon%3A%20%27info-sign%27%2C%0A%20%20%20%20%20%20%20%20%20%20%20%20%20%20%20%20%20%20%20%20iconColor%3A%20%27white%27%2C%0A%20%20%20%20%20%20%20%20%20%20%20%20%20%20%20%20%20%20%20%20markerColor%3A%20%27lightgreen%27%2C%0A%20%20%20%20%20%20%20%20%20%20%20%20%20%20%20%20%20%20%20%20prefix%3A%20%27glyphicon%27%2C%0A%20%20%20%20%20%20%20%20%20%20%20%20%20%20%20%20%20%20%20%20extraClasses%3A%20%27fa-rotate-0%27%0A%20%20%20%20%20%20%20%20%20%20%20%20%20%20%20%20%20%20%20%20%7D%29%3B%0A%20%20%20%20%20%20%20%20%20%20%20%20%20%20%20%20marker_9b303b514ad84e9ea1d0a64a4116e255.setIcon%28icon_bfc1b573b27c4c6eb8f5ebe24943b5f1%29%3B%0A%20%20%20%20%20%20%20%20%20%20%20%20%0A%20%20%20%20%0A%20%20%20%20%20%20%20%20%20%20%20%20var%20popup_c24e5f504b034bfaa853411d42b54a67%20%3D%20L.popup%28%7BmaxWidth%3A%20%27100%25%27%0A%20%20%20%20%20%20%20%20%20%20%20%20%0A%20%20%20%20%20%20%20%20%20%20%20%20%7D%29%3B%0A%0A%20%20%20%20%20%20%20%20%20%20%20%20%0A%20%20%20%20%20%20%20%20%20%20%20%20%20%20%20%20var%20html_a9f018b6e47f4078afd4576d48a30739%20%3D%20%24%28%60%3Cdiv%20id%3D%22html_a9f018b6e47f4078afd4576d48a30739%22%20style%3D%22width%3A%20100.0%25%3B%20height%3A%20100.0%25%3B%22%3ECity%2CCounty%3A%09Hamilton%2CUnited%20States%20Artist%3A%20Bo%20Burnham%3C/div%3E%60%29%5B0%5D%3B%0A%20%20%20%20%20%20%20%20%20%20%20%20%20%20%20%20popup_c24e5f504b034bfaa853411d42b54a67.setContent%28html_a9f018b6e47f4078afd4576d48a30739%29%3B%0A%20%20%20%20%20%20%20%20%20%20%20%20%0A%0A%20%20%20%20%20%20%20%20%20%20%20%20marker_9b303b514ad84e9ea1d0a64a4116e255.bindPopup%28popup_c24e5f504b034bfaa853411d42b54a67%29%0A%20%20%20%20%20%20%20%20%20%20%20%20%3B%0A%0A%20%20%20%20%20%20%20%20%20%20%20%20%0A%20%20%20%20%20%20%20%20%0A%20%20%20%20%0A%20%20%20%20%20%20%20%20var%20marker_fbc6cf88649b45358d096aa84d5ff4b4%20%3D%20L.marker%28%0A%20%20%20%20%20%20%20%20%20%20%20%20%5B39.3938%2C%20-84.5653%5D%2C%0A%20%20%20%20%20%20%20%20%20%20%20%20%7B%0A%20%20%20%20%20%20%20%20%20%20%20%20%20%20%20%20icon%3A%20new%20L.Icon.Default%28%29%2C%0A%20%20%20%20%20%20%20%20%20%20%20%20%20%20%20%20%7D%0A%20%20%20%20%20%20%20%20%20%20%20%20%29.addTo%28map_a591deab366e42a98cfe33158d8d9737%29%3B%0A%20%20%20%20%20%20%20%20%0A%20%20%20%20%0A%0A%20%20%20%20%20%20%20%20%20%20%20%20%20%20%20%20var%20icon_93501fd33045413ebffe481e96a009d4%20%3D%20L.AwesomeMarkers.icon%28%7B%0A%20%20%20%20%20%20%20%20%20%20%20%20%20%20%20%20%20%20%20%20icon%3A%20%27info-sign%27%2C%0A%20%20%20%20%20%20%20%20%20%20%20%20%20%20%20%20%20%20%20%20iconColor%3A%20%27white%27%2C%0A%20%20%20%20%20%20%20%20%20%20%20%20%20%20%20%20%20%20%20%20markerColor%3A%20%27lightgreen%27%2C%0A%20%20%20%20%20%20%20%20%20%20%20%20%20%20%20%20%20%20%20%20prefix%3A%20%27glyphicon%27%2C%0A%20%20%20%20%20%20%20%20%20%20%20%20%20%20%20%20%20%20%20%20extraClasses%3A%20%27fa-rotate-0%27%0A%20%20%20%20%20%20%20%20%20%20%20%20%20%20%20%20%20%20%20%20%7D%29%3B%0A%20%20%20%20%20%20%20%20%20%20%20%20%20%20%20%20marker_fbc6cf88649b45358d096aa84d5ff4b4.setIcon%28icon_93501fd33045413ebffe481e96a009d4%29%3B%0A%20%20%20%20%20%20%20%20%20%20%20%20%0A%20%20%20%20%0A%20%20%20%20%20%20%20%20%20%20%20%20var%20popup_83a7ca9d328f4e9a9c0ef06d9e987bdb%20%3D%20L.popup%28%7BmaxWidth%3A%20%27100%25%27%0A%20%20%20%20%20%20%20%20%20%20%20%20%0A%20%20%20%20%20%20%20%20%20%20%20%20%7D%29%3B%0A%0A%20%20%20%20%20%20%20%20%20%20%20%20%0A%20%20%20%20%20%20%20%20%20%20%20%20%20%20%20%20var%20html_c0e0a0b8209f45148610e933af557453%20%3D%20%24%28%60%3Cdiv%20id%3D%22html_c0e0a0b8209f45148610e933af557453%22%20style%3D%22width%3A%20100.0%25%3B%20height%3A%20100.0%25%3B%22%3ECity%2CCounty%3A%09Hamilton%2CUnited%20States%20Artist%3A%20Bo%20Burnham%3C/div%3E%60%29%5B0%5D%3B%0A%20%20%20%20%20%20%20%20%20%20%20%20%20%20%20%20popup_83a7ca9d328f4e9a9c0ef06d9e987bdb.setContent%28html_c0e0a0b8209f45148610e933af557453%29%3B%0A%20%20%20%20%20%20%20%20%20%20%20%20%0A%0A%20%20%20%20%20%20%20%20%20%20%20%20marker_fbc6cf88649b45358d096aa84d5ff4b4.bindPopup%28popup_83a7ca9d328f4e9a9c0ef06d9e987bdb%29%0A%20%20%20%20%20%20%20%20%20%20%20%20%3B%0A%0A%20%20%20%20%20%20%20%20%20%20%20%20%0A%20%20%20%20%20%20%20%20%0A%20%20%20%20%0A%20%20%20%20%20%20%20%20var%20marker_118456406b2f4f138cc4fd370b3a0f7a%20%3D%20L.marker%28%0A%20%20%20%20%20%20%20%20%20%20%20%20%5B39.9432%2C%20-77.7327%5D%2C%0A%20%20%20%20%20%20%20%20%20%20%20%20%7B%0A%20%20%20%20%20%20%20%20%20%20%20%20%20%20%20%20icon%3A%20new%20L.Icon.Default%28%29%2C%0A%20%20%20%20%20%20%20%20%20%20%20%20%20%20%20%20%7D%0A%20%20%20%20%20%20%20%20%20%20%20%20%29.addTo%28map_a591deab366e42a98cfe33158d8d9737%29%3B%0A%20%20%20%20%20%20%20%20%0A%20%20%20%20%0A%0A%20%20%20%20%20%20%20%20%20%20%20%20%20%20%20%20var%20icon_ce3480e4ce8d4575bff646d51c048e0f%20%3D%20L.AwesomeMarkers.icon%28%7B%0A%20%20%20%20%20%20%20%20%20%20%20%20%20%20%20%20%20%20%20%20icon%3A%20%27info-sign%27%2C%0A%20%20%20%20%20%20%20%20%20%20%20%20%20%20%20%20%20%20%20%20iconColor%3A%20%27white%27%2C%0A%20%20%20%20%20%20%20%20%20%20%20%20%20%20%20%20%20%20%20%20markerColor%3A%20%27lightgreen%27%2C%0A%20%20%20%20%20%20%20%20%20%20%20%20%20%20%20%20%20%20%20%20prefix%3A%20%27glyphicon%27%2C%0A%20%20%20%20%20%20%20%20%20%20%20%20%20%20%20%20%20%20%20%20extraClasses%3A%20%27fa-rotate-0%27%0A%20%20%20%20%20%20%20%20%20%20%20%20%20%20%20%20%20%20%20%20%7D%29%3B%0A%20%20%20%20%20%20%20%20%20%20%20%20%20%20%20%20marker_118456406b2f4f138cc4fd370b3a0f7a.setIcon%28icon_ce3480e4ce8d4575bff646d51c048e0f%29%3B%0A%20%20%20%20%20%20%20%20%20%20%20%20%0A%20%20%20%20%0A%20%20%20%20%20%20%20%20%20%20%20%20var%20popup_a52ff011d8b247cd8e4b288f3f6d4061%20%3D%20L.popup%28%7BmaxWidth%3A%20%27100%25%27%0A%20%20%20%20%20%20%20%20%20%20%20%20%0A%20%20%20%20%20%20%20%20%20%20%20%20%7D%29%3B%0A%0A%20%20%20%20%20%20%20%20%20%20%20%20%0A%20%20%20%20%20%20%20%20%20%20%20%20%20%20%20%20var%20html_8ae61050525546169bf6d7abda74ad53%20%3D%20%24%28%60%3Cdiv%20id%3D%22html_8ae61050525546169bf6d7abda74ad53%22%20style%3D%22width%3A%20100.0%25%3B%20height%3A%20100.0%25%3B%22%3ECity%2CCounty%3A%09Hamilton%2CUnited%20States%20Artist%3A%20Bo%20Burnham%3C/div%3E%60%29%5B0%5D%3B%0A%20%20%20%20%20%20%20%20%20%20%20%20%20%20%20%20popup_a52ff011d8b247cd8e4b288f3f6d4061.setContent%28html_8ae61050525546169bf6d7abda74ad53%29%3B%0A%20%20%20%20%20%20%20%20%20%20%20%20%0A%0A%20%20%20%20%20%20%20%20%20%20%20%20marker_118456406b2f4f138cc4fd370b3a0f7a.bindPopup%28popup_a52ff011d8b247cd8e4b288f3f6d4061%29%0A%20%20%20%20%20%20%20%20%20%20%20%20%3B%0A%0A%20%20%20%20%20%20%20%20%20%20%20%20%0A%20%20%20%20%20%20%20%20%0A%20%20%20%20%0A%20%20%20%20%20%20%20%20var%20marker_fe631b2c85c845f3b4e59256c76cfe9f%20%3D%20L.marker%28%0A%20%20%20%20%20%20%20%20%20%20%20%20%5B-37.7333%2C%20142.0167%5D%2C%0A%20%20%20%20%20%20%20%20%20%20%20%20%7B%0A%20%20%20%20%20%20%20%20%20%20%20%20%20%20%20%20icon%3A%20new%20L.Icon.Default%28%29%2C%0A%20%20%20%20%20%20%20%20%20%20%20%20%20%20%20%20%7D%0A%20%20%20%20%20%20%20%20%20%20%20%20%29.addTo%28map_a591deab366e42a98cfe33158d8d9737%29%3B%0A%20%20%20%20%20%20%20%20%0A%20%20%20%20%0A%0A%20%20%20%20%20%20%20%20%20%20%20%20%20%20%20%20var%20icon_53ee2ff3d5f641a8b63520135769b673%20%3D%20L.AwesomeMarkers.icon%28%7B%0A%20%20%20%20%20%20%20%20%20%20%20%20%20%20%20%20%20%20%20%20icon%3A%20%27info-sign%27%2C%0A%20%20%20%20%20%20%20%20%20%20%20%20%20%20%20%20%20%20%20%20iconColor%3A%20%27white%27%2C%0A%20%20%20%20%20%20%20%20%20%20%20%20%20%20%20%20%20%20%20%20markerColor%3A%20%27lightgreen%27%2C%0A%20%20%20%20%20%20%20%20%20%20%20%20%20%20%20%20%20%20%20%20prefix%3A%20%27glyphicon%27%2C%0A%20%20%20%20%20%20%20%20%20%20%20%20%20%20%20%20%20%20%20%20extraClasses%3A%20%27fa-rotate-0%27%0A%20%20%20%20%20%20%20%20%20%20%20%20%20%20%20%20%20%20%20%20%7D%29%3B%0A%20%20%20%20%20%20%20%20%20%20%20%20%20%20%20%20marker_fe631b2c85c845f3b4e59256c76cfe9f.setIcon%28icon_53ee2ff3d5f641a8b63520135769b673%29%3B%0A%20%20%20%20%20%20%20%20%20%20%20%20%0A%20%20%20%20%0A%20%20%20%20%20%20%20%20%20%20%20%20var%20popup_90ff3b62947546efa7f9a2612a8de595%20%3D%20L.popup%28%7BmaxWidth%3A%20%27100%25%27%0A%20%20%20%20%20%20%20%20%20%20%20%20%0A%20%20%20%20%20%20%20%20%20%20%20%20%7D%29%3B%0A%0A%20%20%20%20%20%20%20%20%20%20%20%20%0A%20%20%20%20%20%20%20%20%20%20%20%20%20%20%20%20var%20html_6dc0b872a80d45c8a4b7d8d7e7d4198f%20%3D%20%24%28%60%3Cdiv%20id%3D%22html_6dc0b872a80d45c8a4b7d8d7e7d4198f%22%20style%3D%22width%3A%20100.0%25%3B%20height%3A%20100.0%25%3B%22%3ECity%2CCounty%3A%09Hamilton%2CAustralia%20Artist%3A%20Bo%20Burnham%3C/div%3E%60%29%5B0%5D%3B%0A%20%20%20%20%20%20%20%20%20%20%20%20%20%20%20%20popup_90ff3b62947546efa7f9a2612a8de595.setContent%28html_6dc0b872a80d45c8a4b7d8d7e7d4198f%29%3B%0A%20%20%20%20%20%20%20%20%20%20%20%20%0A%0A%20%20%20%20%20%20%20%20%20%20%20%20marker_fe631b2c85c845f3b4e59256c76cfe9f.bindPopup%28popup_90ff3b62947546efa7f9a2612a8de595%29%0A%20%20%20%20%20%20%20%20%20%20%20%20%3B%0A%0A%20%20%20%20%20%20%20%20%20%20%20%20%0A%20%20%20%20%20%20%20%20%0A%20%20%20%20%0A%20%20%20%20%20%20%20%20var%20marker_c787527647f647559de4ec2006544d5a%20%3D%20L.marker%28%0A%20%20%20%20%20%20%20%20%20%20%20%20%5B40.9333%2C%20-75.2844%5D%2C%0A%20%20%20%20%20%20%20%20%20%20%20%20%7B%0A%20%20%20%20%20%20%20%20%20%20%20%20%20%20%20%20icon%3A%20new%20L.Icon.Default%28%29%2C%0A%20%20%20%20%20%20%20%20%20%20%20%20%20%20%20%20%7D%0A%20%20%20%20%20%20%20%20%20%20%20%20%29.addTo%28map_a591deab366e42a98cfe33158d8d9737%29%3B%0A%20%20%20%20%20%20%20%20%0A%20%20%20%20%0A%0A%20%20%20%20%20%20%20%20%20%20%20%20%20%20%20%20var%20icon_b2e795023f244c8897649ec5284c5a99%20%3D%20L.AwesomeMarkers.icon%28%7B%0A%20%20%20%20%20%20%20%20%20%20%20%20%20%20%20%20%20%20%20%20icon%3A%20%27info-sign%27%2C%0A%20%20%20%20%20%20%20%20%20%20%20%20%20%20%20%20%20%20%20%20iconColor%3A%20%27white%27%2C%0A%20%20%20%20%20%20%20%20%20%20%20%20%20%20%20%20%20%20%20%20markerColor%3A%20%27lightgreen%27%2C%0A%20%20%20%20%20%20%20%20%20%20%20%20%20%20%20%20%20%20%20%20prefix%3A%20%27glyphicon%27%2C%0A%20%20%20%20%20%20%20%20%20%20%20%20%20%20%20%20%20%20%20%20extraClasses%3A%20%27fa-rotate-0%27%0A%20%20%20%20%20%20%20%20%20%20%20%20%20%20%20%20%20%20%20%20%7D%29%3B%0A%20%20%20%20%20%20%20%20%20%20%20%20%20%20%20%20marker_c787527647f647559de4ec2006544d5a.setIcon%28icon_b2e795023f244c8897649ec5284c5a99%29%3B%0A%20%20%20%20%20%20%20%20%20%20%20%20%0A%20%20%20%20%0A%20%20%20%20%20%20%20%20%20%20%20%20var%20popup_56475b305dce4730bcc928a9899b0b71%20%3D%20L.popup%28%7BmaxWidth%3A%20%27100%25%27%0A%20%20%20%20%20%20%20%20%20%20%20%20%0A%20%20%20%20%20%20%20%20%20%20%20%20%7D%29%3B%0A%0A%20%20%20%20%20%20%20%20%20%20%20%20%0A%20%20%20%20%20%20%20%20%20%20%20%20%20%20%20%20var%20html_f5ae8fbe282e4b01adf5c90994e6b5cd%20%3D%20%24%28%60%3Cdiv%20id%3D%22html_f5ae8fbe282e4b01adf5c90994e6b5cd%22%20style%3D%22width%3A%20100.0%25%3B%20height%3A%20100.0%25%3B%22%3ECity%2CCounty%3A%09Hamilton%2CUnited%20States%20Artist%3A%20Bo%20Burnham%3C/div%3E%60%29%5B0%5D%3B%0A%20%20%20%20%20%20%20%20%20%20%20%20%20%20%20%20popup_56475b305dce4730bcc928a9899b0b71.setContent%28html_f5ae8fbe282e4b01adf5c90994e6b5cd%29%3B%0A%20%20%20%20%20%20%20%20%20%20%20%20%0A%0A%20%20%20%20%20%20%20%20%20%20%20%20marker_c787527647f647559de4ec2006544d5a.bindPopup%28popup_56475b305dce4730bcc928a9899b0b71%29%0A%20%20%20%20%20%20%20%20%20%20%20%20%3B%0A%0A%20%20%20%20%20%20%20%20%20%20%20%20%0A%20%20%20%20%20%20%20%20%0A%20%20%20%20%0A%20%20%20%20%20%20%20%20var%20marker_3e3dccd90b834ff5bbd0de9e969552ad%20%3D%20L.marker%28%0A%20%20%20%20%20%20%20%20%20%20%20%20%5B42.6267%2C%20-70.858%5D%2C%0A%20%20%20%20%20%20%20%20%20%20%20%20%7B%0A%20%20%20%20%20%20%20%20%20%20%20%20%20%20%20%20icon%3A%20new%20L.Icon.Default%28%29%2C%0A%20%20%20%20%20%20%20%20%20%20%20%20%20%20%20%20%7D%0A%20%20%20%20%20%20%20%20%20%20%20%20%29.addTo%28map_a591deab366e42a98cfe33158d8d9737%29%3B%0A%20%20%20%20%20%20%20%20%0A%20%20%20%20%0A%0A%20%20%20%20%20%20%20%20%20%20%20%20%20%20%20%20var%20icon_387b9901e62d45a49fd95dd55dddc9dd%20%3D%20L.AwesomeMarkers.icon%28%7B%0A%20%20%20%20%20%20%20%20%20%20%20%20%20%20%20%20%20%20%20%20icon%3A%20%27info-sign%27%2C%0A%20%20%20%20%20%20%20%20%20%20%20%20%20%20%20%20%20%20%20%20iconColor%3A%20%27white%27%2C%0A%20%20%20%20%20%20%20%20%20%20%20%20%20%20%20%20%20%20%20%20markerColor%3A%20%27lightgreen%27%2C%0A%20%20%20%20%20%20%20%20%20%20%20%20%20%20%20%20%20%20%20%20prefix%3A%20%27glyphicon%27%2C%0A%20%20%20%20%20%20%20%20%20%20%20%20%20%20%20%20%20%20%20%20extraClasses%3A%20%27fa-rotate-0%27%0A%20%20%20%20%20%20%20%20%20%20%20%20%20%20%20%20%20%20%20%20%7D%29%3B%0A%20%20%20%20%20%20%20%20%20%20%20%20%20%20%20%20marker_3e3dccd90b834ff5bbd0de9e969552ad.setIcon%28icon_387b9901e62d45a49fd95dd55dddc9dd%29%3B%0A%20%20%20%20%20%20%20%20%20%20%20%20%0A%20%20%20%20%0A%20%20%20%20%20%20%20%20%20%20%20%20var%20popup_7e17c1d1d3ff49c0ab8f3beec8d88150%20%3D%20L.popup%28%7BmaxWidth%3A%20%27100%25%27%0A%20%20%20%20%20%20%20%20%20%20%20%20%0A%20%20%20%20%20%20%20%20%20%20%20%20%7D%29%3B%0A%0A%20%20%20%20%20%20%20%20%20%20%20%20%0A%20%20%20%20%20%20%20%20%20%20%20%20%20%20%20%20var%20html_40becc2592624bd58382249904b06aec%20%3D%20%24%28%60%3Cdiv%20id%3D%22html_40becc2592624bd58382249904b06aec%22%20style%3D%22width%3A%20100.0%25%3B%20height%3A%20100.0%25%3B%22%3ECity%2CCounty%3A%09Hamilton%2CUnited%20States%20Artist%3A%20Bo%20Burnham%3C/div%3E%60%29%5B0%5D%3B%0A%20%20%20%20%20%20%20%20%20%20%20%20%20%20%20%20popup_7e17c1d1d3ff49c0ab8f3beec8d88150.setContent%28html_40becc2592624bd58382249904b06aec%29%3B%0A%20%20%20%20%20%20%20%20%20%20%20%20%0A%0A%20%20%20%20%20%20%20%20%20%20%20%20marker_3e3dccd90b834ff5bbd0de9e969552ad.bindPopup%28popup_7e17c1d1d3ff49c0ab8f3beec8d88150%29%0A%20%20%20%20%20%20%20%20%20%20%20%20%3B%0A%0A%20%20%20%20%20%20%20%20%20%20%20%20%0A%20%20%20%20%20%20%20%20%0A%20%20%20%20%0A%20%20%20%20%20%20%20%20var%20marker_9f57bd34144f47a5911c55e56c9eacfd%20%3D%20L.marker%28%0A%20%20%20%20%20%20%20%20%20%20%20%20%5B46.2527%2C%20-114.1598%5D%2C%0A%20%20%20%20%20%20%20%20%20%20%20%20%7B%0A%20%20%20%20%20%20%20%20%20%20%20%20%20%20%20%20icon%3A%20new%20L.Icon.Default%28%29%2C%0A%20%20%20%20%20%20%20%20%20%20%20%20%20%20%20%20%7D%0A%20%20%20%20%20%20%20%20%20%20%20%20%29.addTo%28map_a591deab366e42a98cfe33158d8d9737%29%3B%0A%20%20%20%20%20%20%20%20%0A%20%20%20%20%0A%0A%20%20%20%20%20%20%20%20%20%20%20%20%20%20%20%20var%20icon_3d0ee0a534e64027bdc10f9629f95cfe%20%3D%20L.AwesomeMarkers.icon%28%7B%0A%20%20%20%20%20%20%20%20%20%20%20%20%20%20%20%20%20%20%20%20icon%3A%20%27info-sign%27%2C%0A%20%20%20%20%20%20%20%20%20%20%20%20%20%20%20%20%20%20%20%20iconColor%3A%20%27white%27%2C%0A%20%20%20%20%20%20%20%20%20%20%20%20%20%20%20%20%20%20%20%20markerColor%3A%20%27lightgreen%27%2C%0A%20%20%20%20%20%20%20%20%20%20%20%20%20%20%20%20%20%20%20%20prefix%3A%20%27glyphicon%27%2C%0A%20%20%20%20%20%20%20%20%20%20%20%20%20%20%20%20%20%20%20%20extraClasses%3A%20%27fa-rotate-0%27%0A%20%20%20%20%20%20%20%20%20%20%20%20%20%20%20%20%20%20%20%20%7D%29%3B%0A%20%20%20%20%20%20%20%20%20%20%20%20%20%20%20%20marker_9f57bd34144f47a5911c55e56c9eacfd.setIcon%28icon_3d0ee0a534e64027bdc10f9629f95cfe%29%3B%0A%20%20%20%20%20%20%20%20%20%20%20%20%0A%20%20%20%20%0A%20%20%20%20%20%20%20%20%20%20%20%20var%20popup_9d94919778d442b3867bb23c63b1f643%20%3D%20L.popup%28%7BmaxWidth%3A%20%27100%25%27%0A%20%20%20%20%20%20%20%20%20%20%20%20%0A%20%20%20%20%20%20%20%20%20%20%20%20%7D%29%3B%0A%0A%20%20%20%20%20%20%20%20%20%20%20%20%0A%20%20%20%20%20%20%20%20%20%20%20%20%20%20%20%20var%20html_94a8227d04c84c47bf978aa45edab10d%20%3D%20%24%28%60%3Cdiv%20id%3D%22html_94a8227d04c84c47bf978aa45edab10d%22%20style%3D%22width%3A%20100.0%25%3B%20height%3A%20100.0%25%3B%22%3ECity%2CCounty%3A%09Hamilton%2CUnited%20States%20Artist%3A%20Bo%20Burnham%3C/div%3E%60%29%5B0%5D%3B%0A%20%20%20%20%20%20%20%20%20%20%20%20%20%20%20%20popup_9d94919778d442b3867bb23c63b1f643.setContent%28html_94a8227d04c84c47bf978aa45edab10d%29%3B%0A%20%20%20%20%20%20%20%20%20%20%20%20%0A%0A%20%20%20%20%20%20%20%20%20%20%20%20marker_9f57bd34144f47a5911c55e56c9eacfd.bindPopup%28popup_9d94919778d442b3867bb23c63b1f643%29%0A%20%20%20%20%20%20%20%20%20%20%20%20%3B%0A%0A%20%20%20%20%20%20%20%20%20%20%20%20%0A%20%20%20%20%20%20%20%20%0A%20%20%20%20%0A%20%20%20%20%20%20%20%20var%20marker_1c714a2dff694929bdbd80162ffe1fd0%20%3D%20L.marker%28%0A%20%20%20%20%20%20%20%20%20%20%20%20%5B34.1346%2C%20-87.9755%5D%2C%0A%20%20%20%20%20%20%20%20%20%20%20%20%7B%0A%20%20%20%20%20%20%20%20%20%20%20%20%20%20%20%20icon%3A%20new%20L.Icon.Default%28%29%2C%0A%20%20%20%20%20%20%20%20%20%20%20%20%20%20%20%20%7D%0A%20%20%20%20%20%20%20%20%20%20%20%20%29.addTo%28map_a591deab366e42a98cfe33158d8d9737%29%3B%0A%20%20%20%20%20%20%20%20%0A%20%20%20%20%0A%0A%20%20%20%20%20%20%20%20%20%20%20%20%20%20%20%20var%20icon_9ee64283c1b54ea1bb95cf29f7b7554d%20%3D%20L.AwesomeMarkers.icon%28%7B%0A%20%20%20%20%20%20%20%20%20%20%20%20%20%20%20%20%20%20%20%20icon%3A%20%27info-sign%27%2C%0A%20%20%20%20%20%20%20%20%20%20%20%20%20%20%20%20%20%20%20%20iconColor%3A%20%27white%27%2C%0A%20%20%20%20%20%20%20%20%20%20%20%20%20%20%20%20%20%20%20%20markerColor%3A%20%27lightgreen%27%2C%0A%20%20%20%20%20%20%20%20%20%20%20%20%20%20%20%20%20%20%20%20prefix%3A%20%27glyphicon%27%2C%0A%20%20%20%20%20%20%20%20%20%20%20%20%20%20%20%20%20%20%20%20extraClasses%3A%20%27fa-rotate-0%27%0A%20%20%20%20%20%20%20%20%20%20%20%20%20%20%20%20%20%20%20%20%7D%29%3B%0A%20%20%20%20%20%20%20%20%20%20%20%20%20%20%20%20marker_1c714a2dff694929bdbd80162ffe1fd0.setIcon%28icon_9ee64283c1b54ea1bb95cf29f7b7554d%29%3B%0A%20%20%20%20%20%20%20%20%20%20%20%20%0A%20%20%20%20%0A%20%20%20%20%20%20%20%20%20%20%20%20var%20popup_9ee4d2fe133a426eb96585109615ee2e%20%3D%20L.popup%28%7BmaxWidth%3A%20%27100%25%27%0A%20%20%20%20%20%20%20%20%20%20%20%20%0A%20%20%20%20%20%20%20%20%20%20%20%20%7D%29%3B%0A%0A%20%20%20%20%20%20%20%20%20%20%20%20%0A%20%20%20%20%20%20%20%20%20%20%20%20%20%20%20%20var%20html_907df561826d4074b7a963199cbd792d%20%3D%20%24%28%60%3Cdiv%20id%3D%22html_907df561826d4074b7a963199cbd792d%22%20style%3D%22width%3A%20100.0%25%3B%20height%3A%20100.0%25%3B%22%3ECity%2CCounty%3A%09Hamilton%2CUnited%20States%20Artist%3A%20Bo%20Burnham%3C/div%3E%60%29%5B0%5D%3B%0A%20%20%20%20%20%20%20%20%20%20%20%20%20%20%20%20popup_9ee4d2fe133a426eb96585109615ee2e.setContent%28html_907df561826d4074b7a963199cbd792d%29%3B%0A%20%20%20%20%20%20%20%20%20%20%20%20%0A%0A%20%20%20%20%20%20%20%20%20%20%20%20marker_1c714a2dff694929bdbd80162ffe1fd0.bindPopup%28popup_9ee4d2fe133a426eb96585109615ee2e%29%0A%20%20%20%20%20%20%20%20%20%20%20%20%3B%0A%0A%20%20%20%20%20%20%20%20%20%20%20%20%0A%20%20%20%20%20%20%20%20%0A%20%20%20%20%0A%20%20%20%20%20%20%20%20var%20marker_a48cb78005a84e1ca17344a87f269907%20%3D%20L.marker%28%0A%20%20%20%20%20%20%20%20%20%20%20%20%5B42.7897%2C%20-75.494%5D%2C%0A%20%20%20%20%20%20%20%20%20%20%20%20%7B%0A%20%20%20%20%20%20%20%20%20%20%20%20%20%20%20%20icon%3A%20new%20L.Icon.Default%28%29%2C%0A%20%20%20%20%20%20%20%20%20%20%20%20%20%20%20%20%7D%0A%20%20%20%20%20%20%20%20%20%20%20%20%29.addTo%28map_a591deab366e42a98cfe33158d8d9737%29%3B%0A%20%20%20%20%20%20%20%20%0A%20%20%20%20%0A%0A%20%20%20%20%20%20%20%20%20%20%20%20%20%20%20%20var%20icon_6f74643e415d42da9fc068d6b2566085%20%3D%20L.AwesomeMarkers.icon%28%7B%0A%20%20%20%20%20%20%20%20%20%20%20%20%20%20%20%20%20%20%20%20icon%3A%20%27info-sign%27%2C%0A%20%20%20%20%20%20%20%20%20%20%20%20%20%20%20%20%20%20%20%20iconColor%3A%20%27white%27%2C%0A%20%20%20%20%20%20%20%20%20%20%20%20%20%20%20%20%20%20%20%20markerColor%3A%20%27lightgreen%27%2C%0A%20%20%20%20%20%20%20%20%20%20%20%20%20%20%20%20%20%20%20%20prefix%3A%20%27glyphicon%27%2C%0A%20%20%20%20%20%20%20%20%20%20%20%20%20%20%20%20%20%20%20%20extraClasses%3A%20%27fa-rotate-0%27%0A%20%20%20%20%20%20%20%20%20%20%20%20%20%20%20%20%20%20%20%20%7D%29%3B%0A%20%20%20%20%20%20%20%20%20%20%20%20%20%20%20%20marker_a48cb78005a84e1ca17344a87f269907.setIcon%28icon_6f74643e415d42da9fc068d6b2566085%29%3B%0A%20%20%20%20%20%20%20%20%20%20%20%20%0A%20%20%20%20%0A%20%20%20%20%20%20%20%20%20%20%20%20var%20popup_32909824ca8b47e3adf2d11b0e9893be%20%3D%20L.popup%28%7BmaxWidth%3A%20%27100%25%27%0A%20%20%20%20%20%20%20%20%20%20%20%20%0A%20%20%20%20%20%20%20%20%20%20%20%20%7D%29%3B%0A%0A%20%20%20%20%20%20%20%20%20%20%20%20%0A%20%20%20%20%20%20%20%20%20%20%20%20%20%20%20%20var%20html_e627a36c3006424182441dc47481f0cf%20%3D%20%24%28%60%3Cdiv%20id%3D%22html_e627a36c3006424182441dc47481f0cf%22%20style%3D%22width%3A%20100.0%25%3B%20height%3A%20100.0%25%3B%22%3ECity%2CCounty%3A%09Hamilton%2CUnited%20States%20Artist%3A%20Bo%20Burnham%3C/div%3E%60%29%5B0%5D%3B%0A%20%20%20%20%20%20%20%20%20%20%20%20%20%20%20%20popup_32909824ca8b47e3adf2d11b0e9893be.setContent%28html_e627a36c3006424182441dc47481f0cf%29%3B%0A%20%20%20%20%20%20%20%20%20%20%20%20%0A%0A%20%20%20%20%20%20%20%20%20%20%20%20marker_a48cb78005a84e1ca17344a87f269907.bindPopup%28popup_32909824ca8b47e3adf2d11b0e9893be%29%0A%20%20%20%20%20%20%20%20%20%20%20%20%3B%0A%0A%20%20%20%20%20%20%20%20%20%20%20%20%0A%20%20%20%20%20%20%20%20%0A%3C/script%3E onload=\"this.contentDocument.open();this.contentDocument.write(    decodeURIComponent(this.getAttribute('data-html')));this.contentDocument.close();\" allowfullscreen webkitallowfullscreen mozallowfullscreen></iframe></div></div>"
            ],
            "text/plain": [
              "<folium.folium.Map at 0x7f3d9fb18dd0>"
            ]
          },
          "metadata": {},
          "execution_count": 15
        }
      ]
    },
    {
      "cell_type": "code",
      "source": [
        "text = 'olivia o\\'brien artist'\n",
        "\n",
        "url = 'https://google.com/search?q=' + text\n",
        "    \n",
        "  # Fetch the URL data using requests.get(url),\n",
        "  # store it in a variable, request_result.\n",
        "request_result=requests.get( url )\n",
        "    \n",
        "  # Creating soup from the fetched request\n",
        "soup = bs4.BeautifulSoup(request_result.text,\n",
        "                          \"html.parser\")\n",
        "\n",
        "  # Finding temperature in Celsius.\n",
        "  # The temperature is stored inside the class \"BNeawe\". \n",
        "origin = soup.find_all(\"span\" , class_=\"XLloXe AP7Wnd\")\n",
        "\n",
        "location_pattern = re.compile(r'(([A-Z][a-z]*\\s*)+)\\s*,\\s*([A-Z][a-z]*)')\n",
        "  #city = origin.split(sep=',')[0]\n",
        "\n",
        "for text in origin:\n",
        "  text = text.text\n",
        "  location = re.search(location_pattern,text)\n",
        "  if location is not None:\n",
        "    print(location.group())"
      ],
      "metadata": {
        "id": "LiduBcuEwcUU"
      },
      "execution_count": null,
      "outputs": []
    },
    {
      "cell_type": "code",
      "source": [
        "()"
      ],
      "metadata": {
        "id": "lKl8oC48xK_i"
      },
      "execution_count": null,
      "outputs": []
    },
    {
      "cell_type": "code",
      "source": [
        "get_artist_location('olivia o\\'brien') "
      ],
      "metadata": {
        "id": "Fw0FamcGrkqI"
      },
      "execution_count": null,
      "outputs": []
    },
    {
      "cell_type": "code",
      "source": [
        "get_artist_location('blackbear') "
      ],
      "metadata": {
        "id": "BlZVAENsrFDI"
      },
      "execution_count": null,
      "outputs": []
    },
    {
      "cell_type": "code",
      "source": [
        "location_pd"
      ],
      "metadata": {
        "id": "eQZH8S8prair"
      },
      "execution_count": null,
      "outputs": []
    },
    {
      "cell_type": "markdown",
      "metadata": {
        "id": "gfvkeKSxOQN5"
      },
      "source": [
        "# Spotify API Setup * Exploratory purposes only *"
      ]
    },
    {
      "cell_type": "code",
      "metadata": {
        "id": "0AYfTOmpM-Qm",
        "colab": {
          "base_uri": "https://localhost:8080/"
        },
        "outputId": "624e59fc-a4d2-4e08-cb50-346a7982f0ec"
      },
      "source": [
        "!pip install spotipy --upgrade"
      ],
      "execution_count": 23,
      "outputs": [
        {
          "output_type": "stream",
          "name": "stdout",
          "text": [
            "Requirement already satisfied: spotipy in /usr/local/lib/python3.7/dist-packages (2.19.0)\n",
            "Requirement already satisfied: six>=1.15.0 in /usr/local/lib/python3.7/dist-packages (from spotipy) (1.15.0)\n",
            "Requirement already satisfied: urllib3>=1.26.0 in /usr/local/lib/python3.7/dist-packages (from spotipy) (1.26.7)\n",
            "Requirement already satisfied: requests>=2.25.0 in /usr/local/lib/python3.7/dist-packages (from spotipy) (2.26.0)\n",
            "Requirement already satisfied: certifi>=2017.4.17 in /usr/local/lib/python3.7/dist-packages (from requests>=2.25.0->spotipy) (2021.10.8)\n",
            "Requirement already satisfied: charset-normalizer~=2.0.0 in /usr/local/lib/python3.7/dist-packages (from requests>=2.25.0->spotipy) (2.0.8)\n",
            "Requirement already satisfied: idna<4,>=2.5 in /usr/local/lib/python3.7/dist-packages (from requests>=2.25.0->spotipy) (2.10)\n"
          ]
        }
      ]
    },
    {
      "cell_type": "code",
      "source": [
        "!pip install colab-env --upgrade"
      ],
      "metadata": {
        "colab": {
          "base_uri": "https://localhost:8080/"
        },
        "id": "abGdjyKm079X",
        "outputId": "f33fc692-0196-44af-881b-4c6225097130"
      },
      "execution_count": 24,
      "outputs": [
        {
          "output_type": "stream",
          "name": "stdout",
          "text": [
            "Requirement already satisfied: colab-env in /usr/local/lib/python3.7/dist-packages (0.2.0)\n",
            "Requirement already satisfied: python-dotenv<1.0,>=0.10.0 in /usr/local/lib/python3.7/dist-packages (from colab-env) (0.19.2)\n"
          ]
        }
      ]
    },
    {
      "cell_type": "code",
      "source": [
        "import colab_env"
      ],
      "metadata": {
        "id": "CLcrYPJV1C6J"
      },
      "execution_count": 25,
      "outputs": []
    },
    {
      "cell_type": "code",
      "metadata": {
        "id": "dCvblbz7rTKl"
      },
      "source": [
        "import os\n",
        "\n",
        "# Get environment variables for Spotipy API access\n",
        "CLIENT_ID = os.getenv(\"SPOTIPY_CLIENT_ID\")\n",
        "SECRET_ID = os.getenv(\"SPOTIPY_CLIENT_SECRET\")"
      ],
      "execution_count": 26,
      "outputs": []
    },
    {
      "cell_type": "code",
      "metadata": {
        "id": "cpyOIKLKOO10"
      },
      "source": [
        "import spotipy\n",
        "from spotipy.oauth2 import SpotifyClientCredentials\n",
        "\n",
        "auth_manager = SpotifyClientCredentials()\n",
        "\n",
        "sp = spotipy.Spotify(auth_manager=auth_manager)"
      ],
      "execution_count": 27,
      "outputs": []
    },
    {
      "cell_type": "code",
      "metadata": {
        "id": "GOyMwgUgw5rP"
      },
      "source": [
        "def "
      ],
      "execution_count": null,
      "outputs": []
    },
    {
      "cell_type": "code",
      "metadata": {
        "id": "0NjgiFvHXbvZ"
      },
      "source": [
        "results = sp.search('artist:Drake', limit=1)"
      ],
      "execution_count": 6,
      "outputs": []
    },
    {
      "cell_type": "code",
      "metadata": {
        "id": "nUZR8td1ZiRF"
      },
      "source": [
        ""
      ],
      "execution_count": null,
      "outputs": []
    },
    {
      "cell_type": "code",
      "metadata": {
        "id": "D5IVBOLQZVXf"
      },
      "source": [
        "hi = sp.search('I Might Need Security', limit=1)"
      ],
      "execution_count": null,
      "outputs": []
    },
    {
      "cell_type": "code",
      "metadata": {
        "id": "66V4R2BNanQE",
        "colab": {
          "base_uri": "https://localhost:8080/"
        },
        "outputId": "3e909e32-e052-4b01-f715-92301f209eff"
      },
      "source": [
        "audio_F = sp.audio_features(tracks=['3EApebexZ7YqDIqw2EMTDh'])\n",
        "\n",
        "duration, dance, speechiness, valence = audio_F[0]['duration_ms'], audio_F[0]['danceability'], audio_F[0]['speechiness'], audio_F[0]['valence']\n",
        "\n",
        "print(duration, dance, speechiness, valence)"
      ],
      "execution_count": 28,
      "outputs": [
        {
          "output_type": "stream",
          "name": "stdout",
          "text": [
            "240640 0.514 0.408 0.287\n"
          ]
        }
      ]
    },
    {
      "cell_type": "code",
      "metadata": {
        "id": "2x48pmGnaKbx"
      },
      "source": [
        "hi"
      ],
      "execution_count": null,
      "outputs": []
    },
    {
      "cell_type": "code",
      "metadata": {
        "id": "XvkiA3EjZ0SB"
      },
      "source": [
        "hi['tracks']['items'][0]['duration_ms']"
      ],
      "execution_count": null,
      "outputs": []
    },
    {
      "cell_type": "code",
      "metadata": {
        "id": "qzsY5It-X_2P"
      },
      "source": [
        "(results['tracks']['items'][0]['album']['artists'][0]['id']"
      ],
      "execution_count": null,
      "outputs": []
    },
    {
      "cell_type": "code",
      "metadata": {
        "id": "QVB-NKP9YtzU"
      },
      "source": [
        "sp.artist('1anyVhU62p31KFi8MEzkbf')"
      ],
      "execution_count": null,
      "outputs": []
    },
    {
      "cell_type": "code",
      "metadata": {
        "id": "u7cuNcJAMmoN"
      },
      "source": [
        ""
      ],
      "execution_count": null,
      "outputs": []
    },
    {
      "cell_type": "code",
      "source": [
        ""
      ],
      "metadata": {
        "id": "3YEEYGf-IQls"
      },
      "execution_count": null,
      "outputs": []
    },
    {
      "cell_type": "markdown",
      "metadata": {
        "id": "bzGWAz2JcTVS"
      },
      "source": [
        "# P2 Listening History * Exploratory purposes only *"
      ]
    },
    {
      "cell_type": "code",
      "metadata": {
        "id": "i5hREB0dI9it"
      },
      "source": [
        "p2_listening_history1, p2_listening_history2, p2_listening_history3 = pd.read_json('StreamingHistory0.json'), pd.read_json('StreamingHistory1.json'), pd.read_json('StreamingHistory2.json')\n",
        "\n",
        "p2_listening_history1"
      ],
      "execution_count": null,
      "outputs": []
    },
    {
      "cell_type": "code",
      "metadata": {
        "id": "oe-4Cne6XtOa"
      },
      "source": [
        "p2_listening_history2"
      ],
      "execution_count": null,
      "outputs": []
    },
    {
      "cell_type": "code",
      "metadata": {
        "id": "TDRTYqOwYNgY"
      },
      "source": [
        "p2_listening_history3"
      ],
      "execution_count": null,
      "outputs": []
    },
    {
      "cell_type": "code",
      "metadata": {
        "id": "09nAFd7_Ykdn"
      },
      "source": [
        "# Concatenate listening history dataframes into single dataframe for analysis\n",
        "p2_listening_history = pd.concat([p2_listening_history1, p2_listening_history2, p2_listening_history3])\n",
        "\n",
        "print(f'The length of the first dataframe:\\t{len(p2_listening_history1)}\\nThe length of the second dataframe:\\t{len(p2_listening_history2)}\\nThe length of the third dataframe:\\t{len(p2_listening_history3)}\\n\\tLength of new dataframe:\\t{len(p2_listening_history)}')"
      ],
      "execution_count": null,
      "outputs": []
    },
    {
      "cell_type": "code",
      "metadata": {
        "id": "6uDPO1AxZEEY"
      },
      "source": [
        "p2_listening_history.dtypes"
      ],
      "execution_count": null,
      "outputs": []
    },
    {
      "cell_type": "code",
      "metadata": {
        "id": "59UDbf4FZdQ2"
      },
      "source": [
        "# Change endtime to datetime datatype\n",
        "p2_listening_history['endTime'] = pd.to_datetime(p2_listening_history['endTime'])\n",
        "\n",
        "# Set index of dataframe to datetime column\n",
        "p2_listening_history.set_index('endTime', inplace=True)"
      ],
      "execution_count": null,
      "outputs": []
    },
    {
      "cell_type": "code",
      "metadata": {
        "id": "KJxRDgsUaCP2"
      },
      "source": [
        "# Add columns for seconds and minutes played\n",
        "p2_listening_history['secPlayed'], p2_listening_history['minPlayed'] = p2_listening_history['msPlayed'] / (1000), p2_listening_history['msPlayed'] / (60*1000)\n",
        "\n",
        "p2_listening_history"
      ],
      "execution_count": null,
      "outputs": []
    },
    {
      "cell_type": "code",
      "metadata": {
        "id": "XKCjdTgvgmzu"
      },
      "source": [
        "p2_listening_history.dtypes"
      ],
      "execution_count": null,
      "outputs": []
    },
    {
      "cell_type": "code",
      "metadata": {
        "id": "mQ61cyescg8F"
      },
      "source": [
        "p2_listening_history.trackName.value_counts()"
      ],
      "execution_count": null,
      "outputs": []
    },
    {
      "cell_type": "code",
      "metadata": {
        "id": "QPtxro2xTQlx"
      },
      "source": [
        "p2_listening_history['minPlayed'].min()"
      ],
      "execution_count": null,
      "outputs": []
    },
    {
      "cell_type": "code",
      "metadata": {
        "id": "tgd2FdiOcrrp"
      },
      "source": [
        "p2_listening_history.groupby(by=['trackName','artistName','minPlayed'])['minPlayed'].sum().sort_values(ascending=False)[:20]"
      ],
      "execution_count": null,
      "outputs": []
    },
    {
      "cell_type": "code",
      "metadata": {
        "id": "wlkhQEUfdVup"
      },
      "source": [
        "p2_listening_history.groupby(by='artistName')['minPlayed'].sum().sort_values(ascending=False)[:10]"
      ],
      "execution_count": null,
      "outputs": []
    },
    {
      "cell_type": "code",
      "metadata": {
        "id": "MbL98ULUF3I7"
      },
      "source": [
        ""
      ],
      "execution_count": null,
      "outputs": []
    },
    {
      "cell_type": "code",
      "metadata": {
        "id": "JT378IGyeyE6"
      },
      "source": [
        "top_song = p2_listening_history[p2_listening_history['trackName']== \"Take Kare (feat. Lil Baby & Lil Durk)\"].resample('W')['minPlayed']\n",
        "\n",
        "top_song.plot()"
      ],
      "execution_count": null,
      "outputs": []
    },
    {
      "cell_type": "code",
      "metadata": {
        "id": "q7mv2qwCmLVT"
      },
      "source": [
        "p2_listening_history[p2_listening_history['trackName']== \"What’s Next\"].resample('W')['minPlayed'].plot()"
      ],
      "execution_count": null,
      "outputs": []
    },
    {
      "cell_type": "code",
      "metadata": {
        "id": "jn_NRvmalpa4"
      },
      "source": [
        "p2_listening_history[p2_listening_history['trackName']== \"Take Kare (feat. Lil Baby & Lil Durk)\"]"
      ],
      "execution_count": null,
      "outputs": []
    },
    {
      "cell_type": "code",
      "metadata": {
        "id": "Hbo6dG3cfq8p"
      },
      "source": [
        "p2_listening_history[p2_listening_history['trackName']== \"Take Kare (feat. Lil Baby & Lil Durk)\"]['minPlayed'].plot()"
      ],
      "execution_count": null,
      "outputs": []
    },
    {
      "cell_type": "code",
      "metadata": {
        "id": "sbzm3lacuDJC"
      },
      "source": [
        ""
      ],
      "execution_count": null,
      "outputs": []
    },
    {
      "cell_type": "markdown",
      "metadata": {
        "id": "YLaZZjM1jaXz"
      },
      "source": [
        "# P3 Listening History * Exploratory purposes only *"
      ]
    },
    {
      "cell_type": "code",
      "metadata": {
        "id": "n7n_N2UdjfiQ"
      },
      "source": [
        "# Import listening history\n",
        "p3_history = pd.read_json('p2_listening history.json')\n",
        "\n",
        "p3_history.head()"
      ],
      "execution_count": null,
      "outputs": []
    },
    {
      "cell_type": "code",
      "metadata": {
        "id": "8i5JCvtlkTuZ"
      },
      "source": [
        "p3_history['artistName'].value_counts()"
      ],
      "execution_count": null,
      "outputs": []
    },
    {
      "cell_type": "code",
      "metadata": {
        "id": "12-Gfo1tkjj3"
      },
      "source": [
        "p3_history.dtypes"
      ],
      "execution_count": null,
      "outputs": []
    },
    {
      "cell_type": "code",
      "metadata": {
        "id": "yCsXKeyJknsU"
      },
      "source": [
        "p3_history['endTime'] = pd.to_datetime(p3_history['endTime'])\n",
        "\n",
        "p3_history.set_index('endTime', inplace=True)\n",
        "\n",
        "p3_history.head()"
      ],
      "execution_count": null,
      "outputs": []
    },
    {
      "cell_type": "code",
      "metadata": {
        "id": "ZplOU3KDlfiK"
      },
      "source": [
        "p3_history['secPlayed'], p3_history['minPlayed'] = p3_history['msPlayed'] / 1000 , p3_history['msPlayed'] / (1000*60)\n",
        "\n",
        "p3_history"
      ],
      "execution_count": null,
      "outputs": []
    },
    {
      "cell_type": "code",
      "metadata": {
        "id": "Bfocg3Ebk-gE"
      },
      "source": [
        "p3_history.groupby('artistName')['minPlayed'].sum().sort_values(ascending=False)[:10]"
      ],
      "execution_count": null,
      "outputs": []
    },
    {
      "cell_type": "code",
      "metadata": {
        "id": "JVOZN1c3xtBM"
      },
      "source": [
        "p3_history['minPlayed'].sum()"
      ],
      "execution_count": null,
      "outputs": []
    },
    {
      "cell_type": "code",
      "metadata": {
        "id": "y7NQr3DHybpE"
      },
      "source": [
        "p3_vamp = p3_history[p3_history['artistName']=='Vampire Weekend'].resample('D')['minPlayed'].sum()\n",
        "\n",
        "p3_vamp.plot(color='#1DB964')"
      ],
      "execution_count": null,
      "outputs": []
    },
    {
      "cell_type": "code",
      "metadata": {
        "id": "d18zEH2asaxV"
      },
      "source": [
        "p3_top = p3_history[p3_history['artistName']=='Cage The Elephant']\n",
        "\n",
        "p3_top"
      ],
      "execution_count": null,
      "outputs": []
    },
    {
      "cell_type": "code",
      "metadata": {
        "id": "k0yEzE-lsra-"
      },
      "source": [
        "ax = p3_history[p3_history['artistName']=='Lost Frequencies'].resample('D')['minPlayed'].sum().plot(color='#1DB964')\n",
        "\n",
        "p3_top.resample('D')['minPlayed'].sum().plot(ax=ax, color='white')\n",
        "\n",
        "p3_vamp.plot(ax=ax, color='orange')\n",
        "\n",
        "ax.legend(['Lost Frequencies', 'Cage The Elephant', 'Vampire Weekend'], facecolor='white')\n",
        "ax.set_ylabel('minutes listened per day')"
      ],
      "execution_count": null,
      "outputs": []
    },
    {
      "cell_type": "code",
      "metadata": {
        "id": "0Blh3w2Bl-li"
      },
      "source": [
        "p3_history['minPlayed'].sum()"
      ],
      "execution_count": null,
      "outputs": []
    },
    {
      "cell_type": "code",
      "metadata": {
        "id": "ym_IQ4B5mPU9"
      },
      "source": [
        "len(p3_history)"
      ],
      "execution_count": null,
      "outputs": []
    },
    {
      "cell_type": "code",
      "metadata": {
        "id": "qZNFnHqZoARi"
      },
      "source": [
        "p3_history"
      ],
      "execution_count": null,
      "outputs": []
    },
    {
      "cell_type": "code",
      "metadata": {
        "id": "IHx8N5LImRIl"
      },
      "source": [
        "p3_total_listening = p3_history.resample('D').sum()\n",
        "\n",
        "p3_total_listening"
      ],
      "execution_count": null,
      "outputs": []
    },
    {
      "cell_type": "code",
      "metadata": {
        "id": "-LSlfPOsrV3M"
      },
      "source": [
        "p3_listening = p3_history.resample('D')"
      ],
      "execution_count": null,
      "outputs": []
    },
    {
      "cell_type": "code",
      "metadata": {
        "id": "ByIuXVW8rZj7"
      },
      "source": [
        "p3_listening.head()"
      ],
      "execution_count": null,
      "outputs": []
    },
    {
      "cell_type": "code",
      "metadata": {
        "id": "EpfxyTVgoJQT"
      },
      "source": [
        "p3_total_listening.plot(color='#1DB964')"
      ],
      "execution_count": null,
      "outputs": []
    },
    {
      "cell_type": "markdown",
      "source": [
        "\n",
        "\n",
        "# Discussion\n",
        "\n",
        "- Would like to explore the skipping behavior\n",
        "- "
      ],
      "metadata": {
        "id": "LKvTcjG543Jj"
      }
    }
  ]
}